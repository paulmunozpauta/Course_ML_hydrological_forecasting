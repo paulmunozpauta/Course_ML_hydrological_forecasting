{
 "cells": [
  {
   "cell_type": "markdown",
   "metadata": {},
   "source": [
    "<div style=\"text-align:center;\"><img style=\"width: 30%;\" src=\"static/imgs/Logo_course.png\"></div>\n",
    "\n",
    "# Chapter 1. Introduction to Machine Learning\n",
    "\n",
    "In this session, we will:\n",
    "\n",
    "- Define what Machine Learning (ML) is.\n",
    "- Understand why we should use ML.\n",
    "- Explore applications of ML.\n",
    "- Learn about the types of ML algorithms.\n",
    "- Compare Supervised Learning versus Unsupervised Learning.\n",
    "- Compare Online Learning versus Batch Learning.\n",
    "- Differentiate Instance-Based Learning versus Model-Based Learning.\n",
    "- Discuss ML challenges for streamflow and climate forecasting."
   ]
  },
  {
   "cell_type": "markdown",
   "metadata": {},
   "source": [
    "## What is Machine Learning?\n",
    "\n",
    "Machine Learning (ML) is the art and science of programming computers to learn from data.\n",
    "\n",
    "> [Arthur Samuel] ML is the field of study that gives computers the ability to learn without being explicitly programmed.\n",
    "\n",
    "Something more formal:\n",
    "\n",
    "> [Tom Mitchell] A computer program is said to learn from experience $E$ with respect to some task $T$ and some performance measure $P$, if its performance on $T$, as measured by $P$, improves with experience $E$.\n",
    "\n",
    "In hydrology:\n",
    "\n",
    "> Machine Learning (ML) is a branch of artificial intelligence that focuses on developing algorithms and statistical models that enable computers to learn and make predictions or decisions based on data.\n",
    "\n",
    "> ML is a subfield of artificial intelligence that develops algorithms and models capable of extracting patterns and making predictions from data, without being explicitly programmed for a specific task."
   ]
  },
  {
   "cell_type": "markdown",
   "metadata": {},
   "source": [
    "## Why Use Machine Learning?\n",
    "\n",
    "When we build systems that do not rely on machine learning, we generally follow these steps:\n",
    "\n",
    "1. Conceptualization (we create rules).\n",
    "2. Write an algorithm.\n",
    "3. If the algorithm works well, we implement it. If not, we return to step 1.\n",
    "\n",
    "However, if the problem is complex, we are likely to end up with a long list of rules that are difficult to follow and challenging to apply to other similar problems. A machine learning system would be much shorter, easier to maintain, and, in many cases, more accurate.\n",
    "\n",
    "With ML, we can simply train an algorithm on a large dataset and then inspect the algorithm's `feature importance` to better understand the relationship between the data and the problem. This process is known as data mining."
   ]
  },
  {
   "cell_type": "markdown",
   "metadata": {},
   "source": [
    "## Applications of Machine Learning:\n",
    "\n",
    "ML has numerous applications, and here are some of the most notable in hydrology and climatology:\n",
    "\n",
    "- `Image Classification`: Typically performed using convolutional neural networks (CNNs).\n",
    "\n",
    "> In hydrology, this could be applied to classify satellite images to detect geographic features and weather conditions.\n",
    "\n",
    "- `Semantic Segmentation`: The algorithm is trained to classify each pixel in an image, such as detecting brain tumors.\n",
    "\n",
    "> In hydrology, it could be used to identify specific geographic features in satellite images.\n",
    "\n",
    "- `Natural Language Processing` (NLP): Specifically, text classification, which can be learned using RNNs, CNNs, or Transformers.\n",
    "\n",
    "> In weather forecasting, this could be used to analyze and classify weather reports and climate-related news.\n",
    "\n",
    "- Chatbots: Involve many NLP tasks, such as Natural Language Understanding (NLU) and Question Answering.\n",
    "\n",
    "> In hydrology, they could be used for monitoring systems and early warning applications.\n",
    "\n",
    "- `Forecasting Future Revenues`: A regression task that can be approached using various algorithms such as:\n",
    "  - Linear Regression\n",
    "  - Polynomial Regression\n",
    "  - Support Vector Machines (SVMs)\n",
    "  - Random Forests\n",
    "  - Neural Networks\n",
    "  \n",
    "> In hydrology, this could be applied to forecast river flow rates and water levels.\n",
    "\n",
    "- `Voice Recognition`: This task involves recognizing incoming audio signals using RNNs, CNNs, or Transformers.\n",
    "\n",
    "> In climate applications, it could be used to transcribe field observations.\n",
    "\n",
    "- `Fraud Detection`: Can be solved using supervised learning (classification) or unsupervised learning (anomaly detection).\n",
    "\n",
    "> In hydrological applications, it could detect anomalies in flood monitoring sensor data.\n",
    "\n",
    "- `Clustering`: Segmenting customers based on their purchases to design more effective targeted marketing campaigns.\n",
    "\n",
    "> In hydrology, this could be applied to segment geographic regions with similar weather patterns.\n",
    "\n",
    "- `Dimensionality Reduction`: Useful for visualizing high-dimensional data and cluster analysis. Algorithms like `PCA` or `T-SNE` can be used.\n",
    "\n",
    "> In climate applications, this could help visualize data from multiple climate variables.\n",
    "\n",
    "- `Recommendation Systems`: Inputting a customer’s purchase sequence (for example) into a neural network to predict their next purchase.\n",
    "\n",
    "> In hydrology, this could be used to recommend flood mitigation measures based on historical patterns of flood events."
   ]
  },
  {
   "cell_type": "markdown",
   "metadata": {},
   "source": [
    "## Types of Machine Learning Systems\n",
    "\n",
    "Machine learning (ML) algorithms can be classified based on the level of supervision they receive during training.\n",
    "\n",
    "There are 4 main types of ML algorithms:\n",
    "\n",
    "### Supervised Learning\n",
    "\n",
    "In supervised learning, the training dataset provided to the algorithm contains the desired targets/labels/predictions. Most supervised learning tasks fall into two categories: Classification and Regression.\n",
    "\n",
    "With classification, we aim to predict discrete values. Some examples include:\n",
    "\n",
    "- **Precipitation Event Classification**: Using classification to predict whether a precipitation event will be rain, a storm, or heavy rain. This is crucial for flood management and monitoring extreme weather events.\n",
    "- **Water Quality Classification**: Classification algorithms can help determine whether water is potable based on contaminant levels and the presence of harmful microorganisms.\n",
    "- **Flood Risk Classification**: Classification models can evaluate flood risk in specific areas based on variables like topography, river flow, and precipitation.\n",
    "- **Climate Type Classification**: Classification models can group geographic areas based on their climate patterns, such as tropical, subtropical, or arid climates.\n",
    "\n",
    "On the other hand, regression deals with continuous target values. Examples include:\n",
    "\n",
    "- **River Flow Prediction**: Regression is used to predict river flow based on historical precipitation, temperature, and geographic characteristics.\n",
    "- **Groundwater Level Modeling**: Regression models can predict groundwater levels based on recharge, extraction, and other hydrological variables.\n",
    "- **Evapotranspiration Prediction**: Regression is used to predict the amount of water that evaporates and transpires based on solar radiation, temperature, and humidity.\n",
    "- **Temperature Regression**: Regression is used to predict daily maximum and minimum temperatures based on historical weather data, such as solar radiation, altitude, and latitude.\n",
    "- **Precipitation Prediction**: Regression algorithms can predict the amount of precipitation in a region based on prior climate data, such as wind patterns and sea temperatures.\n",
    "\n",
    "Some regression-based models are also used for classification, such as `Logistic Regression`, which outputs a probability $\\in [0,1]$. Popular supervised learning algorithms include:\n",
    "\n",
    "- K-Nearest Neighbors\n",
    "- Linear Regression\n",
    "- Logistic Regression\n",
    "- Decision Trees and Random Forests\n",
    "- Neural Networks\n",
    "- Naive Bayes\n",
    "\n",
    "### Unsupervised Learning\n",
    "\n",
    "In unsupervised learning, the data has no labels, and the system tries to learn without a teacher by finding internal structure within the dataset.\n",
    "\n",
    "Some unsupervised learning algorithms include:\n",
    "\n",
    "- **Clustering**:\n",
    "  - **K-Means**:\n",
    "    > K-Means can group geographic regions based on similar climate patterns. This can help identify areas with comparable climates and facilitate agricultural planning and water resource management.\n",
    "  - **DBSCAN**:\n",
    "    > DBSCAN can identify areas of high concentration of heavy rainfall events in a dataset of precipitation records, which is crucial for identifying flood-prone zones.\n",
    "  - **Hierarchical Clustering**:\n",
    "    > Hierarchical clustering organizes geographic regions into a tree of clusters based on climate similarities. This helps classify and understand climate patterns at different spatial scales.\n",
    "\n",
    "- **Anomaly Detection**:\n",
    "  - **One-Class SVM**:\n",
    "    > One-Class SVM detects anomalies in river water level time series, identifying unusual events like flash floods or severe droughts.\n",
    "  - **Isolation Forest**:\n",
    "    > Isolation Forest identifies outliers in climate datasets, which could indicate extreme weather events, such as exceptional heatwaves or extreme cold events.\n",
    "  - **Autoencoders**:\n",
    "    > Autoencoders detect anomalous patterns in water quality records, identifying unusual changes in water composition that could signal contamination issues.\n",
    "\n",
    "- **Dimensionality Reduction**: The goal is to compress data without losing too much information (e.g., combining highly correlated features).\n",
    "  - **Principal Component Analysis (PCA)**:\n",
    "    > PCA is commonly used to reduce the dimensionality of multivariate climate data, simplifying the analysis of complex climate patterns and visualizing data.\n",
    "  - **Kernel PCA**:\n",
    "    > Kernel PCA reduces the dimensionality of climate data using nonlinear kernel functions, useful for highly nonlinear climate datasets like global temperature patterns.\n",
    "  - **T-SNE**:\n",
    "    > T-SNE is used to visualize river flow time series data in a two-dimensional space, making it easier to identify temporal patterns and trends in hydrological data.\n",
    "\n",
    "- **Association Rule Learning**:\n",
    "  - **Apriori**:\n",
    "    > Apriori can uncover interesting associations between climate variables, such as the relationship between temperature and relative humidity across different regions.\n",
    "  - **Eclat**:\n",
    "    > Eclat identifies relationships in hydrogeological data, such as the association between soil permeability and aquifer recharge in specific areas.\n",
    "\n",
    "### Semi-Supervised Learning\n",
    "\n",
    "In semi-supervised learning, we have partially labeled data. The goal is to use unlabeled data around the labeled data to help solve the task. Most semi-supervised learning algorithms combine supervised and unsupervised approaches.\n",
    "\n",
    "For example, in a flood prediction project for a specific watershed:\n",
    "- **Labeled Data**: Past flood and non-flood events labeled based on water level records at monitoring stations.\n",
    "- **Unlabeled Data**: Most collected data remains unlabeled and corresponds to conditions where flood occurrence is unknown.\n",
    "- **Supervised Learning Model**: Initially trains on labeled data to predict floods, providing reasonable but limited performance due to insufficient labeled data.\n",
    "- **Incorporating Unlabeled Data**: Unlabeled data is integrated into the training process, allowing the model to learn additional patterns and trends in pre-flood conditions.\n",
    "- **Improved Predictions**: The model becomes more accurate in flood prediction, even under previously unseen conditions.\n",
    "- **Real-Time Flood Alerts**: The improved model powers a real-time flood early warning system, delivering alerts based on continuous monitoring data, even when new data is unlabeled.\n",
    "\n",
    "### Reinforcement Learning\n",
    "\n",
    "An agent observes the environment, selects an action, receives a reward, and updates its policy. This approach is used in applications like games and robot control.\n",
    "\n",
    "Examples:\n",
    "- **Reservoir Management**: A reinforcement learning agent observes precipitation and temperature conditions and selects actions (e.g., release or retain water). The reward is based on water distribution efficiency and flood prevention.\n",
    "- **Storm Prediction**: In climatology, a reinforcement learning agent observes real-time weather data and predicts storm intensity and impact. Rewards are linked to prediction accuracy.\n",
    "- **Flood Control**: In hydrology, reinforcement learning agents operate gates and dams to manage river flow and prevent flooding, receiving rewards for maintaining safe water levels.\n",
    "- **Renewable Energy Optimization**: A reinforcement learning agent manages wind or solar energy production based on weather conditions, maximizing efficiency and profitability.\n",
    "\n",
    "### Batch Learning vs. Online Learning\n",
    "\n",
    "- **Batch Learning**: Models are trained on all available data at once, then deployed to make predictions without being updated with new data. Suitable for static historical datasets.\n",
    "\n",
    "Example:\n",
    "> Historical water levels and precipitation data are used to train a flood prediction model once. The model is deployed for real-time predictions but cannot update with new data.\n",
    "\n",
    "- **Online Learning**: Models are trained incrementally as data arrives, adapting to new information over time. Suitable for systems receiving continuous data streams.\n",
    "\n",
    "Example:\n",
    "> A weather forecasting model continuously updates its predictions with real-time temperature, humidity, and pressure measurements. This ensures forecasts adapt to changing weather conditions.\n",
    "\n",
    "### Instance-Based vs. Model-Based Learning\n",
    "\n",
    "- **Instance-Based Learning**: Predictions are made by comparing new data points to historical data based on similarity.\n",
    "\n",
    "Example:\n",
    "> For water quality monitoring, new measurements are compared to historical data from similar conditions (e.g., geography, climate) to predict quality.\n",
    "\n",
    "- **Model-Based Learning**: Predictions are made using a trained model that captures complex relationships within the data.\n",
    "\n",
    "Example:\n",
    "> A climate prediction model uses variables like temperature, humidity, and pressure to forecast future weather patterns, relying on learned relationships rather than direct comparisons to historical data."
   ]
  },
  {
   "cell_type": "code",
   "execution_count": 1,
   "metadata": {
    "scrolled": true
   },
   "outputs": [
    {
     "ename": "ModuleNotFoundError",
     "evalue": "No module named 'seaborn'",
     "output_type": "error",
     "traceback": [
      "\u001b[0;31m---------------------------------------------------------------------------\u001b[0m",
      "\u001b[0;31mModuleNotFoundError\u001b[0m                       Traceback (most recent call last)",
      "\u001b[0;32m/var/folders/6q/09n4mmx55m524flqgkjplznm0000gn/T/ipykernel_64953/2858795856.py\u001b[0m in \u001b[0;36m<module>\u001b[0;34m\u001b[0m\n\u001b[1;32m      2\u001b[0m \u001b[0;32mimport\u001b[0m \u001b[0mpandas\u001b[0m \u001b[0;32mas\u001b[0m \u001b[0mpd\u001b[0m\u001b[0;34m\u001b[0m\u001b[0;34m\u001b[0m\u001b[0m\n\u001b[1;32m      3\u001b[0m \u001b[0;32mimport\u001b[0m \u001b[0mmatplotlib\u001b[0m\u001b[0;34m.\u001b[0m\u001b[0mpyplot\u001b[0m \u001b[0;32mas\u001b[0m \u001b[0mplt\u001b[0m\u001b[0;34m\u001b[0m\u001b[0;34m\u001b[0m\u001b[0m\n\u001b[0;32m----> 4\u001b[0;31m \u001b[0;32mimport\u001b[0m \u001b[0mseaborn\u001b[0m \u001b[0;32mas\u001b[0m \u001b[0msns\u001b[0m\u001b[0;34m\u001b[0m\u001b[0;34m\u001b[0m\u001b[0m\n\u001b[0m\u001b[1;32m      5\u001b[0m \u001b[0;32mimport\u001b[0m \u001b[0msklearn\u001b[0m\u001b[0;34m.\u001b[0m\u001b[0mlinear_model\u001b[0m\u001b[0;34m\u001b[0m\u001b[0;34m\u001b[0m\u001b[0m\n\u001b[1;32m      6\u001b[0m \u001b[0;32mimport\u001b[0m \u001b[0mmatplotlib\u001b[0m\u001b[0;34m.\u001b[0m\u001b[0mdates\u001b[0m \u001b[0;32mas\u001b[0m \u001b[0mmdates\u001b[0m\u001b[0;34m\u001b[0m\u001b[0;34m\u001b[0m\u001b[0m\n",
      "\u001b[0;31mModuleNotFoundError\u001b[0m: No module named 'seaborn'"
     ]
    }
   ],
   "source": [
    "import os\n",
    "import pandas as pd\n",
    "import matplotlib.pyplot as plt\n",
    "import seaborn as sns\n",
    "import sklearn.linear_model\n",
    "import matplotlib.dates as mdates"
   ]
  },
  {
   "cell_type": "markdown",
   "metadata": {},
   "source": [
    "Leer datos de precipitación"
   ]
  },
  {
   "cell_type": "code",
   "execution_count": 6,
   "metadata": {},
   "outputs": [
    {
     "name": "stdout",
     "output_type": "stream",
     "text": [
      "/Users/paul/Documents/GitHub/ML_hydrological_forecasting/notebooks\n"
     ]
    }
   ],
   "source": [
    "directorio_datos = os.getcwd()\n",
    "print(directorio_datos)\n"
   ]
  },
  {
   "cell_type": "code",
   "execution_count": 7,
   "metadata": {},
   "outputs": [
    {
     "name": "stdout",
     "output_type": "stream",
     "text": [
      "/Users/paul/Documents/GitHub/ML_hydrological_forecasting/notebooks/data/Caudal_horario.xlsx\n"
     ]
    }
   ],
   "source": [
    "data_path = os.path.join(directorio_datos, \"data/Caudal_horario.xlsx\")\n",
    "print(data_path)"
   ]
  },
  {
   "cell_type": "code",
   "execution_count": 8,
   "metadata": {},
   "outputs": [
    {
     "ename": "FileNotFoundError",
     "evalue": "[Errno 2] No such file or directory: '/Users/paul/Documents/GitHub/ML_hydrological_forecasting/notebooks/data/Caudal_horario.xlsx'",
     "output_type": "error",
     "traceback": [
      "\u001b[0;31m---------------------------------------------------------------------------\u001b[0m",
      "\u001b[0;31mFileNotFoundError\u001b[0m                         Traceback (most recent call last)",
      "\u001b[0;32m/var/folders/6q/09n4mmx55m524flqgkjplznm0000gn/T/ipykernel_61370/1656450234.py\u001b[0m in \u001b[0;36m<module>\u001b[0;34m\u001b[0m\n\u001b[0;32m----> 1\u001b[0;31m \u001b[0mcaudal_horario\u001b[0m \u001b[0;34m=\u001b[0m \u001b[0mpd\u001b[0m\u001b[0;34m.\u001b[0m\u001b[0mread_excel\u001b[0m\u001b[0;34m(\u001b[0m\u001b[0mdata_path\u001b[0m\u001b[0;34m)\u001b[0m\u001b[0;34m\u001b[0m\u001b[0;34m\u001b[0m\u001b[0m\n\u001b[0m",
      "\u001b[0;32m~/opt/anaconda3/envs/IUPWARE/lib/python3.7/site-packages/pandas/util/_decorators.py\u001b[0m in \u001b[0;36mwrapper\u001b[0;34m(*args, **kwargs)\u001b[0m\n\u001b[1;32m    309\u001b[0m                     \u001b[0mstacklevel\u001b[0m\u001b[0;34m=\u001b[0m\u001b[0mstacklevel\u001b[0m\u001b[0;34m,\u001b[0m\u001b[0;34m\u001b[0m\u001b[0;34m\u001b[0m\u001b[0m\n\u001b[1;32m    310\u001b[0m                 )\n\u001b[0;32m--> 311\u001b[0;31m             \u001b[0;32mreturn\u001b[0m \u001b[0mfunc\u001b[0m\u001b[0;34m(\u001b[0m\u001b[0;34m*\u001b[0m\u001b[0margs\u001b[0m\u001b[0;34m,\u001b[0m \u001b[0;34m**\u001b[0m\u001b[0mkwargs\u001b[0m\u001b[0;34m)\u001b[0m\u001b[0;34m\u001b[0m\u001b[0;34m\u001b[0m\u001b[0m\n\u001b[0m\u001b[1;32m    312\u001b[0m \u001b[0;34m\u001b[0m\u001b[0m\n\u001b[1;32m    313\u001b[0m         \u001b[0;32mreturn\u001b[0m \u001b[0mwrapper\u001b[0m\u001b[0;34m\u001b[0m\u001b[0;34m\u001b[0m\u001b[0m\n",
      "\u001b[0;32m~/opt/anaconda3/envs/IUPWARE/lib/python3.7/site-packages/pandas/io/excel/_base.py\u001b[0m in \u001b[0;36mread_excel\u001b[0;34m(io, sheet_name, header, names, index_col, usecols, squeeze, dtype, engine, converters, true_values, false_values, skiprows, nrows, na_values, keep_default_na, na_filter, verbose, parse_dates, date_parser, thousands, comment, skipfooter, convert_float, mangle_dupe_cols, storage_options)\u001b[0m\n\u001b[1;32m    362\u001b[0m     \u001b[0;32mif\u001b[0m \u001b[0;32mnot\u001b[0m \u001b[0misinstance\u001b[0m\u001b[0;34m(\u001b[0m\u001b[0mio\u001b[0m\u001b[0;34m,\u001b[0m \u001b[0mExcelFile\u001b[0m\u001b[0;34m)\u001b[0m\u001b[0;34m:\u001b[0m\u001b[0;34m\u001b[0m\u001b[0;34m\u001b[0m\u001b[0m\n\u001b[1;32m    363\u001b[0m         \u001b[0mshould_close\u001b[0m \u001b[0;34m=\u001b[0m \u001b[0;32mTrue\u001b[0m\u001b[0;34m\u001b[0m\u001b[0;34m\u001b[0m\u001b[0m\n\u001b[0;32m--> 364\u001b[0;31m         \u001b[0mio\u001b[0m \u001b[0;34m=\u001b[0m \u001b[0mExcelFile\u001b[0m\u001b[0;34m(\u001b[0m\u001b[0mio\u001b[0m\u001b[0;34m,\u001b[0m \u001b[0mstorage_options\u001b[0m\u001b[0;34m=\u001b[0m\u001b[0mstorage_options\u001b[0m\u001b[0;34m,\u001b[0m \u001b[0mengine\u001b[0m\u001b[0;34m=\u001b[0m\u001b[0mengine\u001b[0m\u001b[0;34m)\u001b[0m\u001b[0;34m\u001b[0m\u001b[0;34m\u001b[0m\u001b[0m\n\u001b[0m\u001b[1;32m    365\u001b[0m     \u001b[0;32melif\u001b[0m \u001b[0mengine\u001b[0m \u001b[0;32mand\u001b[0m \u001b[0mengine\u001b[0m \u001b[0;34m!=\u001b[0m \u001b[0mio\u001b[0m\u001b[0;34m.\u001b[0m\u001b[0mengine\u001b[0m\u001b[0;34m:\u001b[0m\u001b[0;34m\u001b[0m\u001b[0;34m\u001b[0m\u001b[0m\n\u001b[1;32m    366\u001b[0m         raise ValueError(\n",
      "\u001b[0;32m~/opt/anaconda3/envs/IUPWARE/lib/python3.7/site-packages/pandas/io/excel/_base.py\u001b[0m in \u001b[0;36m__init__\u001b[0;34m(self, path_or_buffer, engine, storage_options)\u001b[0m\n\u001b[1;32m   1190\u001b[0m             \u001b[0;32melse\u001b[0m\u001b[0;34m:\u001b[0m\u001b[0;34m\u001b[0m\u001b[0;34m\u001b[0m\u001b[0m\n\u001b[1;32m   1191\u001b[0m                 ext = inspect_excel_format(\n\u001b[0;32m-> 1192\u001b[0;31m                     \u001b[0mcontent_or_path\u001b[0m\u001b[0;34m=\u001b[0m\u001b[0mpath_or_buffer\u001b[0m\u001b[0;34m,\u001b[0m \u001b[0mstorage_options\u001b[0m\u001b[0;34m=\u001b[0m\u001b[0mstorage_options\u001b[0m\u001b[0;34m\u001b[0m\u001b[0;34m\u001b[0m\u001b[0m\n\u001b[0m\u001b[1;32m   1193\u001b[0m                 )\n\u001b[1;32m   1194\u001b[0m                 \u001b[0;32mif\u001b[0m \u001b[0mext\u001b[0m \u001b[0;32mis\u001b[0m \u001b[0;32mNone\u001b[0m\u001b[0;34m:\u001b[0m\u001b[0;34m\u001b[0m\u001b[0;34m\u001b[0m\u001b[0m\n",
      "\u001b[0;32m~/opt/anaconda3/envs/IUPWARE/lib/python3.7/site-packages/pandas/io/excel/_base.py\u001b[0m in \u001b[0;36minspect_excel_format\u001b[0;34m(content_or_path, storage_options)\u001b[0m\n\u001b[1;32m   1069\u001b[0m \u001b[0;34m\u001b[0m\u001b[0m\n\u001b[1;32m   1070\u001b[0m     with get_handle(\n\u001b[0;32m-> 1071\u001b[0;31m         \u001b[0mcontent_or_path\u001b[0m\u001b[0;34m,\u001b[0m \u001b[0;34m\"rb\"\u001b[0m\u001b[0;34m,\u001b[0m \u001b[0mstorage_options\u001b[0m\u001b[0;34m=\u001b[0m\u001b[0mstorage_options\u001b[0m\u001b[0;34m,\u001b[0m \u001b[0mis_text\u001b[0m\u001b[0;34m=\u001b[0m\u001b[0;32mFalse\u001b[0m\u001b[0;34m\u001b[0m\u001b[0;34m\u001b[0m\u001b[0m\n\u001b[0m\u001b[1;32m   1072\u001b[0m     ) as handle:\n\u001b[1;32m   1073\u001b[0m         \u001b[0mstream\u001b[0m \u001b[0;34m=\u001b[0m \u001b[0mhandle\u001b[0m\u001b[0;34m.\u001b[0m\u001b[0mhandle\u001b[0m\u001b[0;34m\u001b[0m\u001b[0;34m\u001b[0m\u001b[0m\n",
      "\u001b[0;32m~/opt/anaconda3/envs/IUPWARE/lib/python3.7/site-packages/pandas/io/common.py\u001b[0m in \u001b[0;36mget_handle\u001b[0;34m(path_or_buf, mode, encoding, compression, memory_map, is_text, errors, storage_options)\u001b[0m\n\u001b[1;32m    709\u001b[0m         \u001b[0;32melse\u001b[0m\u001b[0;34m:\u001b[0m\u001b[0;34m\u001b[0m\u001b[0;34m\u001b[0m\u001b[0m\n\u001b[1;32m    710\u001b[0m             \u001b[0;31m# Binary mode\u001b[0m\u001b[0;34m\u001b[0m\u001b[0;34m\u001b[0m\u001b[0;34m\u001b[0m\u001b[0m\n\u001b[0;32m--> 711\u001b[0;31m             \u001b[0mhandle\u001b[0m \u001b[0;34m=\u001b[0m \u001b[0mopen\u001b[0m\u001b[0;34m(\u001b[0m\u001b[0mhandle\u001b[0m\u001b[0;34m,\u001b[0m \u001b[0mioargs\u001b[0m\u001b[0;34m.\u001b[0m\u001b[0mmode\u001b[0m\u001b[0;34m)\u001b[0m\u001b[0;34m\u001b[0m\u001b[0;34m\u001b[0m\u001b[0m\n\u001b[0m\u001b[1;32m    712\u001b[0m         \u001b[0mhandles\u001b[0m\u001b[0;34m.\u001b[0m\u001b[0mappend\u001b[0m\u001b[0;34m(\u001b[0m\u001b[0mhandle\u001b[0m\u001b[0;34m)\u001b[0m\u001b[0;34m\u001b[0m\u001b[0;34m\u001b[0m\u001b[0m\n\u001b[1;32m    713\u001b[0m \u001b[0;34m\u001b[0m\u001b[0m\n",
      "\u001b[0;31mFileNotFoundError\u001b[0m: [Errno 2] No such file or directory: '/Users/paul/Documents/GitHub/ML_hydrological_forecasting/notebooks/data/Caudal_horario.xlsx'"
     ]
    }
   ],
   "source": [
    "caudal_horario = pd.read_excel(data_path)"
   ]
  },
  {
   "cell_type": "code",
   "execution_count": null,
   "metadata": {},
   "outputs": [],
   "source": [
    "caudal_horario.head(5)"
   ]
  },
  {
   "cell_type": "code",
   "execution_count": 61,
   "metadata": {},
   "outputs": [],
   "source": [
    "caudal_horario['Fecha'] = caudal_horario.Fecha.apply(lambda x: pd.to_datetime(x,dayfirst=False))\n",
    "caudal_horario.set_index(caudal_horario['Fecha'],inplace=True)\n",
    "caudal_horario = caudal_horario.drop(columns=['Fecha'])\n"
   ]
  },
  {
   "cell_type": "code",
   "execution_count": null,
   "metadata": {},
   "outputs": [],
   "source": [
    "caudal_horario['Caudal (m3/s)'] = pd.to_numeric(caudal_horario['Caudal (m3/s)'], errors='coerce')\n",
    "caudal_horario"
   ]
  },
  {
   "cell_type": "code",
   "execution_count": null,
   "metadata": {},
   "outputs": [],
   "source": [
    "caudal_horario.plot()"
   ]
  },
  {
   "cell_type": "code",
   "execution_count": null,
   "metadata": {
    "scrolled": false
   },
   "outputs": [],
   "source": [
    "fig, ax = plt.subplots()\n",
    "caudal_horario.plot(ax=ax)\n",
    "plt.ylabel('Caudal ($m^3/s$)')\n",
    "plt.legend().set_visible(False)\n",
    "plt.savefig(os.path.join(directorio_datos+'/data/Figuras', 'plot.jpg'), format='jpg', dpi =300)\n"
   ]
  },
  {
   "cell_type": "code",
   "execution_count": null,
   "metadata": {},
   "outputs": [],
   "source": [
    "data_path = os.path.join(directorio_datos, \"data/Precipitación_horaria.csv\")\n",
    "print(data_path)\n",
    "pcp_horaria = pd.read_csv(data_path)\n",
    "pcp_horaria"
   ]
  },
  {
   "cell_type": "code",
   "execution_count": null,
   "metadata": {},
   "outputs": [],
   "source": [
    "pcp_horaria = pcp_horaria.rename(columns={'Date_yy/mm/dd_hh:mm:ss': 'Fecha'})\n",
    "pcp_horaria['Fecha'] = pcp_horaria.Fecha.apply(lambda x: pd.to_datetime(x,dayfirst=False))\n",
    "pcp_horaria = pcp_horaria.drop(columns=['Cumulated_precipitation_Texas_mm'])\n",
    "pcp_horaria"
   ]
  },
  {
   "cell_type": "code",
   "execution_count": null,
   "metadata": {},
   "outputs": [],
   "source": [
    "pcp_horaria.set_index(pcp_horaria['Fecha'],inplace=True)\n",
    "pcp_horaria = pcp_horaria.drop(columns=['Fecha'])\n",
    "pcp_horaria['tip_corrected_mm'] = pd.to_numeric(pcp_horaria['tip_corrected_mm'], errors='coerce')\n",
    "pcp_horaria = pcp_horaria.sort_index()\n",
    "pcp_horaria.head(6)"
   ]
  },
  {
   "cell_type": "code",
   "execution_count": null,
   "metadata": {},
   "outputs": [],
   "source": [
    "fig, ax = plt.subplots()\n",
    "pcp_horaria.plot(ax=ax)\n",
    "plt.ylabel('Precipitación horaria ($mm$)')\n",
    "plt.legend().set_visible(False)\n",
    "#plt.savefig(os.path.join(directorio_datos+'/data/Figuras', 'plot.jpg'), format='jpg', dpi =300)"
   ]
  },
  {
   "cell_type": "code",
   "execution_count": null,
   "metadata": {},
   "outputs": [],
   "source": [
    "fig, ax = plt.subplots()\n",
    "pcp_horaria['2020'].cumsum().plot(ax=ax)\n",
    "plt.ylabel('Precipitación acumulada ($mm$)')\n",
    "plt.legend().set_visible(False)\n",
    "#plt.savefig(os.path.join(directorio_datos+'/data/Figuras', 'plot.jpg'), format='jpg', dpi =300)\n"
   ]
  },
  {
   "cell_type": "code",
   "execution_count": null,
   "metadata": {},
   "outputs": [],
   "source": [
    "caudal_horario.index = caudal_horario.index.round(freq='H')\n",
    "pcp_horaria.index = pcp_horaria.index.round(freq='H')\n",
    "datos_pcp_caudal = pd.concat([caudal_horario, pcp_horaria],axis=1, join='outer')\n",
    "datos_pcp_caudal"
   ]
  },
  {
   "cell_type": "code",
   "execution_count": null,
   "metadata": {},
   "outputs": [],
   "source": [
    "start_analysis='2018'\n",
    "end_analysis='2020'\n",
    "fig,ax = plt.subplots()\n",
    "plt.ylim(ymax=300)\n",
    "ax2 = ax.twinx()\n",
    "plt.ylim(ymax=50)\n",
    "ax.plot(datos_pcp_caudal['Caudal (m3/s)'][start_analysis:end_analysis],color='red',label='Caudal')\n",
    "ax2.plot(datos_pcp_caudal['tip_corrected_mm'][start_analysis:end_analysis],color='blue',label='Precipitación')\n",
    "plt.gca().invert_yaxis()\n",
    "ax.legend(loc=(0.05,0.55))\n",
    "ax2.legend(loc=(0.4,0.55))\n",
    "ax.set_ylabel('Caudal ($m^3/s$)')\n",
    "ax2.set_ylabel('Precipitación (mm)')\n",
    "ax2.set_xlabel('Fecha')\n",
    "ax.xaxis.set_major_locator(mdates.YearLocator())\n",
    "ax.xaxis.set_minor_locator(mdates.MonthLocator())\n",
    "ax.xaxis.set_major_formatter(mdates.DateFormatter('%Y'))\n",
    "# Rotate x-axis labels for better visibility\n",
    "plt.xticks(rotation=45)\n",
    "#fig.savefig(os.path.join(r'/Users/paul/Google Drive/iDRHICA_Monitoreo/ANÁLISIS_PRECIPITACIÓN-CAUDAL/QUINUAS/CHIRIMACHAY', 'Precipitación-caudal_2020'+'.eps'), format='eps')\n",
    "plt.show()\n",
    "plt.close(fig)"
   ]
  },
  {
   "cell_type": "code",
   "execution_count": 278,
   "metadata": {},
   "outputs": [],
   "source": [
    "# Select a Linear Model\n",
    "datos_pcp_caudal = datos_pcp_caudal.dropna()\n",
    "X = datos_pcp_caudal['tip_corrected_mm'][datos_pcp_caudal['tip_corrected_mm']>0].to_numpy()\n",
    "X_reshaped = X.reshape(-1, 1)\n",
    "Y = datos_pcp_caudal['Caudal (m3/s)'][datos_pcp_caudal['tip_corrected_mm']>0].to_numpy()\n",
    "Y_reshaped = Y.reshape(-1, 1)\n",
    "model = sklearn.linear_model.LinearRegression()"
   ]
  },
  {
   "cell_type": "code",
   "execution_count": null,
   "metadata": {},
   "outputs": [],
   "source": [
    "# Train the Model\n",
    "\n",
    "model.fit(X_reshaped,Y_reshaped )"
   ]
  },
  {
   "cell_type": "code",
   "execution_count": null,
   "metadata": {},
   "outputs": [],
   "source": [
    "X_new = [[20]]  # Cyprus GDP per capita\n",
    "print(model.predict(X_new))"
   ]
  },
  {
   "cell_type": "code",
   "execution_count": 290,
   "metadata": {},
   "outputs": [],
   "source": [
    "# let's visualize our model, because it's a linear one, we can plot it using two points\n",
    "X = [[0], [20]]\n",
    "y_hat = model.predict(X)"
   ]
  },
  {
   "cell_type": "code",
   "execution_count": null,
   "metadata": {},
   "outputs": [],
   "source": [
    "# Visualize Data\n",
    "datos_pcp_caudal[datos_pcp_caudal['tip_corrected_mm']>0].plot(kind='scatter', x='tip_corrected_mm', y='Caudal (m3/s)', xlim=(0, 20), ylim=(0,200))\n",
    "plt.plot(X, y_hat, c='red')\n",
    "plt.show()"
   ]
  },
  {
   "cell_type": "markdown",
   "metadata": {},
   "source": [
    "En resumen, seguimos los siguientes pasos para implementar un algoritmo de machine learning:\n",
    "\n",
    "1. Estudiamos los datos, procesamiento de la información.\n",
    "2. Seleccionamos el modelo.\n",
    "3. Entrenamos el modelo.\n",
    "4. Realizamos inferencias utilizando el modelo."
   ]
  },
  {
   "cell_type": "markdown",
   "metadata": {},
   "source": [
    "### Principales desafíos de ML para pronóstico de caudales y clima\n",
    "\n",
    "Los dos problemas principales son:\n",
    "\n",
    "1. Tener datos de mala calidad.\n",
    "2. Seleccionar un algoritmo de aprendizaje inadecuado.\n",
    "\n",
    "#### Datos\n",
    "\n",
    "- Se ha demostrado que muchos algoritmos, desde los más simples hasta los más complejos, tienen un rendimiento relativamente similar cuando se les proporciona suficientes datos.\n",
    "- SE sugiere entonces mayor esfuerzo en desarrollo de algoritmos de ML o en ingeniería de características (feature engineering).\n",
    "- El conjunto de datos de entrenamiento también puede no ser representativo del conjunto de datos. Esto represenfra un problema para generalizar de manera efectiva. Si, por ejemplo, el conjunto de entrenamiento es demasiado pequeño, tendremos ruido de muestreo. Incluso muestras grandes pueden no ser representativas si el método de muestreo está defectuoso, esto se llama **sesgo de muestreo**.\n",
    "- Los datos hidrológicos y climáticos pueden variar significativamente a lo largo del tiempo y el espacio. La selección de la escala adecuada para el modelado es crucial.\n",
    "- Los datos de baja calidad también pueden ser un gran desafío. La precisión de los datos de precipitación, temperaturas, caudales, y otros parámetros es esencial. Datos inexactos pueden llevar a resultados incorrectos y decisiones erróneas (sobre todo si las mediciones de la variable target son de mala calidad!).\n",
    "- Si los datos de entrenamiento están llenos de valores atípicos (extremos), errores y ruido, será más difícil para el algoritmo detectar los patrones subyacentes, lo que resultará en un mal modelo. Así mismo, los registros de estaciones meteorológicas o hidrológicas pueden tener valores faltantes o errores de medición. Es necesario abordar estos problemas de manera efectiva.\n",
    "- Además, los conjuntos de datos pueden contener características (predictores) irrelevantes. Nuestro sistema solo aprenderá si los datos contienen muchas características relevantes y no muchas irrelevantes. Una parte crítica del éxito de un proyecto de aprendizaje automático es lo que se llama **ingeniería de características** o la creación de características que producirían un modelo de calidad.\n",
    "\n",
    "##### Selección de Características y Feature Engineering\n",
    "\n",
    "La selección de características y la ingeniería de características (feature engineering) adquieren una importancia adicional:\n",
    "\n",
    "- **Relevancia Climática e Hidrológica:** Identificar las características climáticas y hidrológicas más relevantes es crucial para modelar correctamente fenómenos como las precipitaciones, caudales de ríos y cambio climático.\n",
    "\n",
    "- **Inclusión de Variables Específicas:** Variables como la altitud, tipo de suelo, vegetación y características topográficas pueden ser fundamentales en hidrología y climatología.\n",
    "\n",
    "#### Sobreajuste (Overfitting)\n",
    "\n",
    "El sobreajuste significa que el modelo de ML funciona bien en los datos de entrenamiento pero falla al generalizar con los datos de prueba.\n",
    "\n",
    "Modelos complejos como las redes neuronales profundas tienden a memorizar el ruido de los datos de entrenamiento o incluso la muestra de datos en sí si es lo suficientemente pequeña. Podemos hacer lo siguiente para mitigar el sobreajuste:\n",
    "\n",
    "- Seleccionar un modelo con menos pesos/parámetros para limitar su capacidad predictiva para que solo pueda utilizar los patrones más fuertes presentes.\n",
    "- Recopilar más datos de entrenamiento.\n",
    "- Reducir el ruido en los datos de entrenamiento corrigiendo errores y eliminando valores atípicos.\n",
    "\n",
    "Restringir un modelo y combatir el sobreajuste se llama **regularización**. Si tomamos el ejemplo de un solo modelo de regresión lineal ($f(x)=ax+b$), tiene dos grados de libertad (2 parámetros). Si permitimos que el algoritmo cambie libremente los valores de un parámetro pero tenga un intervalo establecido alrededor del parámetro 2, tendrá entre 1 y 2 grados de libertad. Queremos un buen equilibrio entre mantener el modelo lo más simple posible mientras le damos la capacidad de capturar patrones fuera de los datos de entrenamiento.\n",
    "\n",
    "La regularización se puede controlar utilizando los hiperparámetros del modelo, que describen cómo debe aprender el modelo. Consideraciones en desarrollo de modelos de caudal y clima:\n",
    "\n",
    "- **Sobreajuste en Series Temporales:** Es común que los modelos se sobreajusten a las series temporales debido a la complejidad de los patrones climáticos e hidrológicos. Se debe prestar especial atención a la selección de modelos y técnicas de regularización.\n",
    "\n",
    "- **Incertidumbre Climática y Hidrológica:** Los fenómenos climáticos y hidrológicos están sujetos a incertidumbre inherente. Los modelos deben ser capaces de capturar y cuantificar esta incertidumbre.\n",
    "\n",
    "#### Subajuste (Underfitting)\n",
    "\n",
    "El subajuste es lo opuesto al sobreajuste. Ocurre cuando el modelo es demasiado simple para capturar la estructura subyacente de los datos de entrenamiento. Algunas soluciones:\n",
    "- Podemos seleccionar un modelo más potente, con más parámetros.\n",
    "- Alimentamos mejores características al algoritmo de aprendizaje (ingeniería de características).\n",
    "- Reducimos las restricciones en el modelo (reducir la regularización).\n",
    "\n",
    "#### Transferencia de Conocimiento \n",
    "\n",
    "En hidrología y climatología, la transferencia de conocimiento entre regiones o escalas temporales es crucial:\n",
    "\n",
    "- **Transferencia de Modelos Climáticos:** Adaptar modelos climáticos entrenados en una región a otra puede requerir técnicas avanzadas para ajustar y validar los resultados.\n",
    "\n",
    "- **Extrapolación Climática:** Prever el comportamiento climático futuro a partir de datos históricos es un desafío importante que requiere técnicas de modelado robustas.\n",
    "\n",
    "#### Adaptación al Cambio Climático\n",
    "\n",
    "En el contexto del cambio climático, es fundamental:\n",
    "\n",
    "- **Incorporación de Escenarios Climáticos Futuros:** Los modelos deben ser capaces de integrar proyecciones climáticas para proporcionar predicciones precisas en un contexto de cambio.\n",
    "\n",
    "- **Evaluación de Impactos Hidrológicos:** Los modelos deben ser capaces de evaluar los posibles cambios en los patrones de precipitación y caudales, y cómo estos afectarán a los sistemas hidrológicos."
   ]
  },
  {
   "cell_type": "markdown",
   "metadata": {},
   "source": [
    "### Prueba y Validación\n",
    "\n",
    "La prueba y validación de modelos de ML es de suma importancia para asegurar su precisión y fiabilidad en la predicción de fenómenos climáticos e hidrológicos.\n",
    "\n",
    "Podemos evaluar nuestro modelo dividiendo los datos en dos conjuntos: el conjunto de **entrenamiento** y el conjunto de **prueba**. Solo nos importa el error fuera del entrenamiento, o error de generalización, ya que es representativo del rendimiento del modelo en un entorno de producción.\n",
    "\n",
    "Si nuestro error de entrenamiento es bajo pero el error de prueba es alto, esto significa que el modelo está sobreajustando. Es común usar el **70%** de los datos para entrenamiento y el 30% restante para pruebas, pero depende del tamaño del conjunto de datos original. Cuanto más grande sea, menos porcentaje podemos tomar como conjunto de pruebas. ¿Y en Hidrología?\n",
    "\n",
    "Si ajustamos los parámetros de regularización en el conjunto de pruebas, estamos sobreajustando a este conjunto, por lo que necesitamos otro conjunto de datos para la sintonización de hiperparámetros, este conjunto de datos se suele llamar el conjunto de **validación**. El conjunto de validación debe reservarse del conjunto de entrenamiento. Después de realizar la sintonización de hiperparámetros utilizando el conjunto de validación, entrenamos el modelo en el conjunto de entrenamiento completo (con validación) y evaluamos en el conjunto de pruebas.\n",
    "\n",
    "Una solución simple pero computacionalmente costosa para reservar un conjunto de validación grande es realizar una validación cruzada repetida. Su inconveniente es que tenemos que entrenar el modelo N veces. Tanto el conjunto de validación como el conjunto de pruebas deben ser lo más representativos posible de los datos que utilizaremos en producción. ¿K-fold cross validation?\n",
    "\n",
    "\n",
    "Algunas consideraciones:\n",
    "\n",
    "### División de Datos\n",
    "\n",
    "Para evaluar y validar modelos en hidrología y climatología, es esencial dividir los datos en conjuntos de entrenamiento y prueba de manera cuidadosa. Se deben selecionar **conjuntos representativos** considerando que los patrones climáticos e hidrológicos pueden variar ampliamente según la ubicación y el período de tiempo. Es fundamental asegurarse de que los conjuntos de entrenamiento y prueba sean representativos de las condiciones reales de la región de interés.\n",
    "\n",
    "### Validación Cruzada\n",
    "\n",
    "Los datos pueden ser limitados y valiosos, y dada la variabilidad espacial y temporal en datos climáticos e hidrológicos, la validación cruzada puede proporcionar una evaluación más robusta del rendimiento del modelo al abordar diferentes condiciones y ubicaciones.\n",
    "\n",
    "### Consideraciones sobre el Ruido y los Patrones\n",
    "\n",
    "Dado que los datos climáticos e hidrológicos pueden estar sujetos a una variedad de fuentes de ruido, como fluctuaciones estacionales o eventos extremos, es importante que los modelos sean capaces de capturar patrones relevantes mientras descartan el ruido. ¿Descomposición de señales?\n",
    "\n",
    "### Supuestos del Modelo\n",
    "\n",
    "Los modelos a menudo se basan en supuestos específicos sobre la relación entre las variables. Por ejemplo, un modelo de regresión lineal puede asumir una relación lineal entre las variables, lo que puede no siempre reflejar la complejidad de los fenómenos climáticos e hidrológicos."
   ]
  },
  {
   "cell_type": "code",
   "execution_count": null,
   "metadata": {},
   "outputs": [],
   "source": []
  }
 ],
 "metadata": {
  "kernelspec": {
   "display_name": "Python 3 (ipykernel)",
   "language": "python",
   "name": "python3"
  },
  "language_info": {
   "codemirror_mode": {
    "name": "ipython",
    "version": 3
   },
   "file_extension": ".py",
   "mimetype": "text/x-python",
   "name": "python",
   "nbconvert_exporter": "python",
   "pygments_lexer": "ipython3",
   "version": "3.7.16"
  }
 },
 "nbformat": 4,
 "nbformat_minor": 4
}
