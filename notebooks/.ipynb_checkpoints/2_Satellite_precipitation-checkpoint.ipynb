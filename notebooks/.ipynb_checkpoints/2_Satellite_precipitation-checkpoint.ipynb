{
 "cells": [
  {
   "cell_type": "markdown",
   "metadata": {},
   "source": [
    "<div style=\"text-align:center;\">\n",
    "    <img style=\"width: 30%;\" src=\"static/imgs/Logo_course.png\">\n",
    "    <p style=\"margin-top:10px;\">paul.andres.munoz@gmail.com<br>paul.munoz@vub.be</p>\n",
    "</div>"
   ]
  },
  {
   "cell_type": "markdown",
   "metadata": {},
   "source": [
    "# Unit 2: Download and processing of satellite precipitation data"
   ]
  },
  {
   "cell_type": "markdown",
   "metadata": {},
   "source": [
    "In this session, we will:\n",
    "\n",
    "- Access PERSIANN and IMERG data repositories\n",
    "- Download satellite precipitation images\n",
    "- Open and georeference satellite precipitation images\n",
    "- Data manipulation and information generation\n",
    "- Visualization"
   ]
  },
  {
   "cell_type": "markdown",
   "metadata": {},
   "source": [
    "# Software for accessing free satellite data repositories"
   ]
  },
  {
   "cell_type": "markdown",
   "metadata": {},
   "source": [
    "<div style=\"text-align:center;\"><img style=\"width: 100%;\" src=\"static/imgs/FileZilla_download.png\"></div>"
   ]
  },
  {
   "cell_type": "markdown",
   "metadata": {},
   "source": [
    "## Start FileZilla"
   ]
  },
  {
   "cell_type": "markdown",
   "metadata": {},
   "source": [
    "<div style=\"text-align:center;\"><img style=\"width: 100%;\" src=\"static/imgs/FileZilla.png\"></div>"
   ]
  },
  {
   "cell_type": "markdown",
   "metadata": {},
   "source": [
    "# PERSIANN Data Source"
   ]
  },
  {
   "cell_type": "markdown",
   "metadata": {},
   "source": [
    "<div style=\"text-align:center;\"><img style=\"width: 100%;\" src=\"static/imgs/PERSIANN_head.png\"></div>"
   ]
  },
  {
   "cell_type": "markdown",
   "metadata": {},
   "source": [
    "Website: http://chrs.web.uci.edu"
   ]
  },
  {
   "cell_type": "markdown",
   "metadata": {},
   "source": [
    "Subproductos disponibles:\n",
    "- PERSIANN\n",
    "- PERSIAN-CCS\n",
    "- PERSIANN-CDR\n",
    "- PERSIANN IDR"
   ]
  },
  {
   "cell_type": "markdown",
   "metadata": {},
   "source": [
    "Vamos a centrarnos en el subproducto con la resolución espacial/temporal más fina, PERSIANN-CCS.\n",
    "\n",
    "**PERSIANN-CCS** utiliza imágenes de satélite para entender las nubes y predecir la precipitación en todo el mundo. Fue creado en la Universidad de California, Irvine.\n",
    "\n",
    "El principio de estimación de precipitación es muy detallado, analiza qué tan alto está una nube y cuánta área cubre. A diferencia de otros métodos, PERSIANN-CCS puede identificar nubes individuales y decirnos más sobre ellas. Esto nos ayuda a saber cuánta precipitación está cayendo en diferentes partes. Toda esta información está disponible en tiempo real y se puede descargar fácilmente."
   ]
  },
  {
   "cell_type": "markdown",
   "metadata": {},
   "source": [
    "En resumen:\n",
    "\n",
    "  - Período de Datos: 2003 - presente.\n",
    "  - Cobertura: Desde 60°S hasta 60°N.\n",
    "  - Resolución: 0.04° x 0.04°, $~$ pixel de 4.4 x 4.4 km\n",
    "  - Datos disponibles: cada 1 hora, cada 3 horas, cada 6 horas, diaria, mensual, anual\n",
    "  - Latencia: Tiempo real."
   ]
  },
  {
   "cell_type": "markdown",
   "metadata": {},
   "source": [
    "## Conectarse al repositorio de datos PERSIANN"
   ]
  },
  {
   "cell_type": "markdown",
   "metadata": {},
   "source": [
    "Ingresamos la siguiente infromación"
   ]
  },
  {
   "cell_type": "markdown",
   "metadata": {},
   "source": [
    "**Protocol:** FTP - File Transfer Protocol\n",
    "\n",
    "**Host:** persiann.eng.uci.edu\n",
    "\n",
    "**Logon type:** Anonymus"
   ]
  },
  {
   "cell_type": "markdown",
   "metadata": {},
   "source": [
    "<div style=\"text-align:center;\"><img style=\"width: 60%;\" src=\"static/imgs/FTP_PERSIANN.png\"></div>"
   ]
  },
  {
   "cell_type": "markdown",
   "metadata": {},
   "source": [
    "Al conectarse, tenemos acceso remoto a la carpeta de datos de PERSIANN"
   ]
  },
  {
   "cell_type": "markdown",
   "metadata": {},
   "source": [
    "<div style=\"text-align:center;\"><img style=\"width: 100%;\" src=\"static/imgs/Filezilla_PERSIANN_CCS.png\"></div>"
   ]
  },
  {
   "cell_type": "markdown",
   "metadata": {},
   "source": [
    "## Descargar información del repositorio de PERSIANN-CCS"
   ]
  },
  {
   "cell_type": "markdown",
   "metadata": {},
   "source": [
    "Click derecho en la carpeta/archivo que queremos descargar en la carpeta local"
   ]
  },
  {
   "cell_type": "markdown",
   "metadata": {},
   "source": [
    "<div style=\"text-align:center;\"><img style=\"width: 100%;\" src=\"static/imgs/Filezilla_local.png\"></div>"
   ]
  },
  {
   "cell_type": "markdown",
   "metadata": {},
   "source": [
    "Ya tenemos archivos de precipitación PERSIANN-CCS"
   ]
  },
  {
   "cell_type": "markdown",
   "metadata": {},
   "source": [
    "## Visualizar datos en la plataforma\n",
    "\n",
    "Accedemos a la plataforma de visualización de datos mediante el siguiente link:\n",
    "\n",
    "https://chrsdata.eng.uci.edu"
   ]
  },
  {
   "cell_type": "markdown",
   "metadata": {},
   "source": [
    "## Abrir un archivo de precipitación"
   ]
  },
  {
   "cell_type": "markdown",
   "metadata": {},
   "source": [
    "Importar librerías necesarias"
   ]
  },
  {
   "cell_type": "markdown",
   "metadata": {},
   "source": [
    "Instalar librería adicional **descartes**:"
   ]
  },
  {
   "cell_type": "code",
   "execution_count": 1,
   "metadata": {
    "scrolled": true
   },
   "outputs": [
    {
     "name": "stdout",
     "output_type": "stream",
     "text": [
      "Collecting descartes\n",
      "  Using cached descartes-1.1.0-py3-none-any.whl (5.8 kB)\n",
      "Requirement already satisfied: matplotlib in /Users/paul/opt/anaconda3/envs/INAMHI_forecasting/lib/python3.7/site-packages (from descartes) (3.5.3)\n",
      "Requirement already satisfied: pyparsing>=2.2.1 in /Users/paul/opt/anaconda3/envs/INAMHI_forecasting/lib/python3.7/site-packages (from matplotlib->descartes) (3.0.9)\n",
      "Requirement already satisfied: cycler>=0.10 in /Users/paul/opt/anaconda3/envs/INAMHI_forecasting/lib/python3.7/site-packages (from matplotlib->descartes) (0.11.0)\n",
      "Requirement already satisfied: numpy>=1.17 in /Users/paul/opt/anaconda3/envs/INAMHI_forecasting/lib/python3.7/site-packages (from matplotlib->descartes) (1.21.5)\n",
      "Requirement already satisfied: pillow>=6.2.0 in /Users/paul/opt/anaconda3/envs/INAMHI_forecasting/lib/python3.7/site-packages (from matplotlib->descartes) (9.4.0)\n",
      "Requirement already satisfied: python-dateutil>=2.7 in /Users/paul/opt/anaconda3/envs/INAMHI_forecasting/lib/python3.7/site-packages (from matplotlib->descartes) (2.8.2)\n",
      "Requirement already satisfied: fonttools>=4.22.0 in /Users/paul/opt/anaconda3/envs/INAMHI_forecasting/lib/python3.7/site-packages (from matplotlib->descartes) (4.25.0)\n",
      "Requirement already satisfied: packaging>=20.0 in /Users/paul/opt/anaconda3/envs/INAMHI_forecasting/lib/python3.7/site-packages (from matplotlib->descartes) (22.0)\n",
      "Requirement already satisfied: kiwisolver>=1.0.1 in /Users/paul/opt/anaconda3/envs/INAMHI_forecasting/lib/python3.7/site-packages (from matplotlib->descartes) (1.4.4)\n",
      "Requirement already satisfied: typing-extensions in /Users/paul/opt/anaconda3/envs/INAMHI_forecasting/lib/python3.7/site-packages (from kiwisolver>=1.0.1->matplotlib->descartes) (4.4.0)\n",
      "Requirement already satisfied: six>=1.5 in /Users/paul/opt/anaconda3/envs/INAMHI_forecasting/lib/python3.7/site-packages (from python-dateutil>=2.7->matplotlib->descartes) (1.16.0)\n",
      "Installing collected packages: descartes\n",
      "Successfully installed descartes-1.1.0\n"
     ]
    }
   ],
   "source": [
    "import sys\n",
    "!{sys.executable} -m pip install descartes"
   ]
  },
  {
   "cell_type": "markdown",
   "metadata": {},
   "source": [
    "Ahora cargamos todas las librerías necesarias y ejecutamos una función que luego servirá para definir las fechas:"
   ]
  },
  {
   "cell_type": "code",
   "execution_count": 2,
   "metadata": {
    "scrolled": true
   },
   "outputs": [],
   "source": [
    "import gzip\n",
    "import pickle\n",
    "import numpy as np\n",
    "from shapely.geometry import mapping\n",
    "import geopandas as gpd\n",
    "import os\n",
    "import glob\n",
    "import rasterio\n",
    "import rioxarray\n",
    "import xarray as xr\n",
    "import matplotlib.pyplot as plt\n",
    "from datetime import datetime, timedelta\n",
    "import datetime\n",
    "import calendar\n",
    "import cartopy.crs as ccrs\n",
    "import rioxarray\n",
    "import pandas as pd\n",
    "from scipy import signal\n",
    "import pickle\n",
    "import h5py\n",
    "globe_proj = ccrs.PlateCarree()\n",
    "def JulianDate_to_MMDDYYY(y,jd):\n",
    "    month = 1\n",
    "    day = 0\n",
    "    while jd - calendar.monthrange(y,month)[1] > 0 and month <= 12:\n",
    "        jd = jd - calendar.monthrange(y,month)[1]\n",
    "        month = month + 1\n",
    "    return jd, month\n",
    "\n",
    "def getLine(data, line_no):\n",
    "    n = 0\n",
    "    lastPos = -1\n",
    "    for i in range(0, len(data) - 1):\n",
    "        if data[i] == \"\\n\":\n",
    "            n = n + 1\n",
    "            if n == line_no:\n",
    "                return data[lastPos + 1:i]\n",
    "            else:\n",
    "                lastPos = i;\n",
    "\n",
    "    if(n == line_no - 1):\n",
    "        return data[lastPos + 1:]\n",
    "    return \"\""
   ]
  },
  {
   "cell_type": "markdown",
   "metadata": {},
   "source": [
    "Definir carpeta del proyecto"
   ]
  },
  {
   "cell_type": "code",
   "execution_count": 3,
   "metadata": {},
   "outputs": [
    {
     "data": {
      "text/plain": [
       "'/Users/paul/Documents/PNUD/Clases/2_Martes_17_octubre'"
      ]
     },
     "execution_count": 3,
     "metadata": {},
     "output_type": "execute_result"
    }
   ],
   "source": [
    "folder = os.getcwd()\n",
    "folder"
   ]
  },
  {
   "cell_type": "code",
   "execution_count": 4,
   "metadata": {},
   "outputs": [
    {
     "data": {
      "text/plain": [
       "'/Users/paul/Documents/PNUD/Clases/2_Martes_17_octubre/data/PERSIANN-CCS/Hourly/Global/2023/'"
      ]
     },
     "execution_count": 4,
     "metadata": {},
     "output_type": "execute_result"
    }
   ],
   "source": [
    "folder_files= folder+'/data/PERSIANN-CCS/Hourly/Global/2023/'\n",
    "folder_files"
   ]
  },
  {
   "cell_type": "markdown",
   "metadata": {},
   "source": [
    "Definir el nombre de un archivo para su lectura"
   ]
  },
  {
   "cell_type": "code",
   "execution_count": 29,
   "metadata": {},
   "outputs": [
    {
     "data": {
      "text/plain": [
       "'/Users/paul/Documents/PNUD/Clases/2_Martes_17_octubre/data/PERSIANN-CCS/Hourly/Global/2023/rgccs1h2301500.bin.gz'"
      ]
     },
     "execution_count": 29,
     "metadata": {},
     "output_type": "execute_result"
    }
   ],
   "source": [
    "item=folder_files+'rgccs1h2301500.bin.gz'\n",
    "item"
   ]
  },
  {
   "cell_type": "markdown",
   "metadata": {},
   "source": [
    "Lectura del archivo"
   ]
  },
  {
   "cell_type": "code",
   "execution_count": 30,
   "metadata": {},
   "outputs": [],
   "source": [
    "f = gzip.GzipFile(item)\n",
    "file_content = f.read()\n",
    "data = np.frombuffer(file_content, dtype=np.dtype('>h')).astype(float) \n",
    "data = data.reshape((3000,9000))\n",
    "data_1 = data[:,4500:]\n",
    "data_2 = data[:,:4500]\n",
    "data = np.hstack((data_1,data_2))\n",
    "data= data/100\n",
    "data[data < 0] = np.nan\n",
    "data = np.flipud(data)"
   ]
  },
  {
   "cell_type": "code",
   "execution_count": 31,
   "metadata": {},
   "outputs": [
    {
     "data": {
      "text/plain": [
       "array([[nan, nan, nan, ..., nan, nan, nan],\n",
       "       [nan, nan, nan, ..., nan, nan, nan],\n",
       "       [nan, nan, nan, ..., nan, nan, nan],\n",
       "       ...,\n",
       "       [ 0.,  0.,  0., ...,  0.,  0.,  0.],\n",
       "       [nan, nan, nan, ..., nan, nan, nan],\n",
       "       [nan, nan, nan, ..., nan, nan, nan]])"
      ]
     },
     "execution_count": 31,
     "metadata": {},
     "output_type": "execute_result"
    }
   ],
   "source": [
    "data"
   ]
  },
  {
   "cell_type": "markdown",
   "metadata": {},
   "source": [
    "Georeferenciar la matriz de datos"
   ]
  },
  {
   "cell_type": "code",
   "execution_count": 32,
   "metadata": {},
   "outputs": [
    {
     "data": {
      "text/html": [
       "<div><svg style=\"position: absolute; width: 0; height: 0; overflow: hidden\">\n",
       "<defs>\n",
       "<symbol id=\"icon-database\" viewBox=\"0 0 32 32\">\n",
       "<path d=\"M16 0c-8.837 0-16 2.239-16 5v4c0 2.761 7.163 5 16 5s16-2.239 16-5v-4c0-2.761-7.163-5-16-5z\"></path>\n",
       "<path d=\"M16 17c-8.837 0-16-2.239-16-5v6c0 2.761 7.163 5 16 5s16-2.239 16-5v-6c0 2.761-7.163 5-16 5z\"></path>\n",
       "<path d=\"M16 26c-8.837 0-16-2.239-16-5v6c0 2.761 7.163 5 16 5s16-2.239 16-5v-6c0 2.761-7.163 5-16 5z\"></path>\n",
       "</symbol>\n",
       "<symbol id=\"icon-file-text2\" viewBox=\"0 0 32 32\">\n",
       "<path d=\"M28.681 7.159c-0.694-0.947-1.662-2.053-2.724-3.116s-2.169-2.030-3.116-2.724c-1.612-1.182-2.393-1.319-2.841-1.319h-15.5c-1.378 0-2.5 1.121-2.5 2.5v27c0 1.378 1.122 2.5 2.5 2.5h23c1.378 0 2.5-1.122 2.5-2.5v-19.5c0-0.448-0.137-1.23-1.319-2.841zM24.543 5.457c0.959 0.959 1.712 1.825 2.268 2.543h-4.811v-4.811c0.718 0.556 1.584 1.309 2.543 2.268zM28 29.5c0 0.271-0.229 0.5-0.5 0.5h-23c-0.271 0-0.5-0.229-0.5-0.5v-27c0-0.271 0.229-0.5 0.5-0.5 0 0 15.499-0 15.5 0v7c0 0.552 0.448 1 1 1h7v19.5z\"></path>\n",
       "<path d=\"M23 26h-14c-0.552 0-1-0.448-1-1s0.448-1 1-1h14c0.552 0 1 0.448 1 1s-0.448 1-1 1z\"></path>\n",
       "<path d=\"M23 22h-14c-0.552 0-1-0.448-1-1s0.448-1 1-1h14c0.552 0 1 0.448 1 1s-0.448 1-1 1z\"></path>\n",
       "<path d=\"M23 18h-14c-0.552 0-1-0.448-1-1s0.448-1 1-1h14c0.552 0 1 0.448 1 1s-0.448 1-1 1z\"></path>\n",
       "</symbol>\n",
       "</defs>\n",
       "</svg>\n",
       "<style>/* CSS stylesheet for displaying xarray objects in jupyterlab.\n",
       " *\n",
       " */\n",
       "\n",
       ":root {\n",
       "  --xr-font-color0: var(--jp-content-font-color0, rgba(0, 0, 0, 1));\n",
       "  --xr-font-color2: var(--jp-content-font-color2, rgba(0, 0, 0, 0.54));\n",
       "  --xr-font-color3: var(--jp-content-font-color3, rgba(0, 0, 0, 0.38));\n",
       "  --xr-border-color: var(--jp-border-color2, #e0e0e0);\n",
       "  --xr-disabled-color: var(--jp-layout-color3, #bdbdbd);\n",
       "  --xr-background-color: var(--jp-layout-color0, white);\n",
       "  --xr-background-color-row-even: var(--jp-layout-color1, white);\n",
       "  --xr-background-color-row-odd: var(--jp-layout-color2, #eeeeee);\n",
       "}\n",
       "\n",
       "html[theme=dark],\n",
       "body.vscode-dark {\n",
       "  --xr-font-color0: rgba(255, 255, 255, 1);\n",
       "  --xr-font-color2: rgba(255, 255, 255, 0.54);\n",
       "  --xr-font-color3: rgba(255, 255, 255, 0.38);\n",
       "  --xr-border-color: #1F1F1F;\n",
       "  --xr-disabled-color: #515151;\n",
       "  --xr-background-color: #111111;\n",
       "  --xr-background-color-row-even: #111111;\n",
       "  --xr-background-color-row-odd: #313131;\n",
       "}\n",
       "\n",
       ".xr-wrap {\n",
       "  display: block;\n",
       "  min-width: 300px;\n",
       "  max-width: 700px;\n",
       "}\n",
       "\n",
       ".xr-text-repr-fallback {\n",
       "  /* fallback to plain text repr when CSS is not injected (untrusted notebook) */\n",
       "  display: none;\n",
       "}\n",
       "\n",
       ".xr-header {\n",
       "  padding-top: 6px;\n",
       "  padding-bottom: 6px;\n",
       "  margin-bottom: 4px;\n",
       "  border-bottom: solid 1px var(--xr-border-color);\n",
       "}\n",
       "\n",
       ".xr-header > div,\n",
       ".xr-header > ul {\n",
       "  display: inline;\n",
       "  margin-top: 0;\n",
       "  margin-bottom: 0;\n",
       "}\n",
       "\n",
       ".xr-obj-type,\n",
       ".xr-array-name {\n",
       "  margin-left: 2px;\n",
       "  margin-right: 10px;\n",
       "}\n",
       "\n",
       ".xr-obj-type {\n",
       "  color: var(--xr-font-color2);\n",
       "}\n",
       "\n",
       ".xr-sections {\n",
       "  padding-left: 0 !important;\n",
       "  display: grid;\n",
       "  grid-template-columns: 150px auto auto 1fr 20px 20px;\n",
       "}\n",
       "\n",
       ".xr-section-item {\n",
       "  display: contents;\n",
       "}\n",
       "\n",
       ".xr-section-item input {\n",
       "  display: none;\n",
       "}\n",
       "\n",
       ".xr-section-item input + label {\n",
       "  color: var(--xr-disabled-color);\n",
       "}\n",
       "\n",
       ".xr-section-item input:enabled + label {\n",
       "  cursor: pointer;\n",
       "  color: var(--xr-font-color2);\n",
       "}\n",
       "\n",
       ".xr-section-item input:enabled + label:hover {\n",
       "  color: var(--xr-font-color0);\n",
       "}\n",
       "\n",
       ".xr-section-summary {\n",
       "  grid-column: 1;\n",
       "  color: var(--xr-font-color2);\n",
       "  font-weight: 500;\n",
       "}\n",
       "\n",
       ".xr-section-summary > span {\n",
       "  display: inline-block;\n",
       "  padding-left: 0.5em;\n",
       "}\n",
       "\n",
       ".xr-section-summary-in:disabled + label {\n",
       "  color: var(--xr-font-color2);\n",
       "}\n",
       "\n",
       ".xr-section-summary-in + label:before {\n",
       "  display: inline-block;\n",
       "  content: '►';\n",
       "  font-size: 11px;\n",
       "  width: 15px;\n",
       "  text-align: center;\n",
       "}\n",
       "\n",
       ".xr-section-summary-in:disabled + label:before {\n",
       "  color: var(--xr-disabled-color);\n",
       "}\n",
       "\n",
       ".xr-section-summary-in:checked + label:before {\n",
       "  content: '▼';\n",
       "}\n",
       "\n",
       ".xr-section-summary-in:checked + label > span {\n",
       "  display: none;\n",
       "}\n",
       "\n",
       ".xr-section-summary,\n",
       ".xr-section-inline-details {\n",
       "  padding-top: 4px;\n",
       "  padding-bottom: 4px;\n",
       "}\n",
       "\n",
       ".xr-section-inline-details {\n",
       "  grid-column: 2 / -1;\n",
       "}\n",
       "\n",
       ".xr-section-details {\n",
       "  display: none;\n",
       "  grid-column: 1 / -1;\n",
       "  margin-bottom: 5px;\n",
       "}\n",
       "\n",
       ".xr-section-summary-in:checked ~ .xr-section-details {\n",
       "  display: contents;\n",
       "}\n",
       "\n",
       ".xr-array-wrap {\n",
       "  grid-column: 1 / -1;\n",
       "  display: grid;\n",
       "  grid-template-columns: 20px auto;\n",
       "}\n",
       "\n",
       ".xr-array-wrap > label {\n",
       "  grid-column: 1;\n",
       "  vertical-align: top;\n",
       "}\n",
       "\n",
       ".xr-preview {\n",
       "  color: var(--xr-font-color3);\n",
       "}\n",
       "\n",
       ".xr-array-preview,\n",
       ".xr-array-data {\n",
       "  padding: 0 5px !important;\n",
       "  grid-column: 2;\n",
       "}\n",
       "\n",
       ".xr-array-data,\n",
       ".xr-array-in:checked ~ .xr-array-preview {\n",
       "  display: none;\n",
       "}\n",
       "\n",
       ".xr-array-in:checked ~ .xr-array-data,\n",
       ".xr-array-preview {\n",
       "  display: inline-block;\n",
       "}\n",
       "\n",
       ".xr-dim-list {\n",
       "  display: inline-block !important;\n",
       "  list-style: none;\n",
       "  padding: 0 !important;\n",
       "  margin: 0;\n",
       "}\n",
       "\n",
       ".xr-dim-list li {\n",
       "  display: inline-block;\n",
       "  padding: 0;\n",
       "  margin: 0;\n",
       "}\n",
       "\n",
       ".xr-dim-list:before {\n",
       "  content: '(';\n",
       "}\n",
       "\n",
       ".xr-dim-list:after {\n",
       "  content: ')';\n",
       "}\n",
       "\n",
       ".xr-dim-list li:not(:last-child):after {\n",
       "  content: ',';\n",
       "  padding-right: 5px;\n",
       "}\n",
       "\n",
       ".xr-has-index {\n",
       "  font-weight: bold;\n",
       "}\n",
       "\n",
       ".xr-var-list,\n",
       ".xr-var-item {\n",
       "  display: contents;\n",
       "}\n",
       "\n",
       ".xr-var-item > div,\n",
       ".xr-var-item label,\n",
       ".xr-var-item > .xr-var-name span {\n",
       "  background-color: var(--xr-background-color-row-even);\n",
       "  margin-bottom: 0;\n",
       "}\n",
       "\n",
       ".xr-var-item > .xr-var-name:hover span {\n",
       "  padding-right: 5px;\n",
       "}\n",
       "\n",
       ".xr-var-list > li:nth-child(odd) > div,\n",
       ".xr-var-list > li:nth-child(odd) > label,\n",
       ".xr-var-list > li:nth-child(odd) > .xr-var-name span {\n",
       "  background-color: var(--xr-background-color-row-odd);\n",
       "}\n",
       "\n",
       ".xr-var-name {\n",
       "  grid-column: 1;\n",
       "}\n",
       "\n",
       ".xr-var-dims {\n",
       "  grid-column: 2;\n",
       "}\n",
       "\n",
       ".xr-var-dtype {\n",
       "  grid-column: 3;\n",
       "  text-align: right;\n",
       "  color: var(--xr-font-color2);\n",
       "}\n",
       "\n",
       ".xr-var-preview {\n",
       "  grid-column: 4;\n",
       "}\n",
       "\n",
       ".xr-var-name,\n",
       ".xr-var-dims,\n",
       ".xr-var-dtype,\n",
       ".xr-preview,\n",
       ".xr-attrs dt {\n",
       "  white-space: nowrap;\n",
       "  overflow: hidden;\n",
       "  text-overflow: ellipsis;\n",
       "  padding-right: 10px;\n",
       "}\n",
       "\n",
       ".xr-var-name:hover,\n",
       ".xr-var-dims:hover,\n",
       ".xr-var-dtype:hover,\n",
       ".xr-attrs dt:hover {\n",
       "  overflow: visible;\n",
       "  width: auto;\n",
       "  z-index: 1;\n",
       "}\n",
       "\n",
       ".xr-var-attrs,\n",
       ".xr-var-data {\n",
       "  display: none;\n",
       "  background-color: var(--xr-background-color) !important;\n",
       "  padding-bottom: 5px !important;\n",
       "}\n",
       "\n",
       ".xr-var-attrs-in:checked ~ .xr-var-attrs,\n",
       ".xr-var-data-in:checked ~ .xr-var-data {\n",
       "  display: block;\n",
       "}\n",
       "\n",
       ".xr-var-data > table {\n",
       "  float: right;\n",
       "}\n",
       "\n",
       ".xr-var-name span,\n",
       ".xr-var-data,\n",
       ".xr-attrs {\n",
       "  padding-left: 25px !important;\n",
       "}\n",
       "\n",
       ".xr-attrs,\n",
       ".xr-var-attrs,\n",
       ".xr-var-data {\n",
       "  grid-column: 1 / -1;\n",
       "}\n",
       "\n",
       "dl.xr-attrs {\n",
       "  padding: 0;\n",
       "  margin: 0;\n",
       "  display: grid;\n",
       "  grid-template-columns: 125px auto;\n",
       "}\n",
       "\n",
       ".xr-attrs dt,\n",
       ".xr-attrs dd {\n",
       "  padding: 0;\n",
       "  margin: 0;\n",
       "  float: left;\n",
       "  padding-right: 10px;\n",
       "  width: auto;\n",
       "}\n",
       "\n",
       ".xr-attrs dt {\n",
       "  font-weight: normal;\n",
       "  grid-column: 1;\n",
       "}\n",
       "\n",
       ".xr-attrs dt:hover span {\n",
       "  display: inline-block;\n",
       "  background: var(--xr-background-color);\n",
       "  padding-right: 10px;\n",
       "}\n",
       "\n",
       ".xr-attrs dd {\n",
       "  grid-column: 2;\n",
       "  white-space: pre-wrap;\n",
       "  word-break: break-all;\n",
       "}\n",
       "\n",
       ".xr-icon-database,\n",
       ".xr-icon-file-text2 {\n",
       "  display: inline-block;\n",
       "  vertical-align: middle;\n",
       "  width: 1em;\n",
       "  height: 1.5em !important;\n",
       "  stroke-width: 0;\n",
       "  stroke: currentColor;\n",
       "  fill: currentColor;\n",
       "}\n",
       "</style><pre class='xr-text-repr-fallback'>&lt;xarray.DataArray (lat: 3000, lon: 9000)&gt;\n",
       "array([[nan, nan, nan, ..., nan, nan, nan],\n",
       "       [nan, nan, nan, ..., nan, nan, nan],\n",
       "       [nan, nan, nan, ..., nan, nan, nan],\n",
       "       ...,\n",
       "       [ 0.,  0.,  0., ...,  0.,  0.,  0.],\n",
       "       [nan, nan, nan, ..., nan, nan, nan],\n",
       "       [nan, nan, nan, ..., nan, nan, nan]])\n",
       "Coordinates:\n",
       "  * lat      (lat) float64 60.0 59.96 59.92 59.88 ... -59.88 -59.92 -59.96\n",
       "  * lon      (lon) float64 -180.0 -180.0 -179.9 -179.9 ... 179.9 179.9 180.0</pre><div class='xr-wrap' hidden><div class='xr-header'><div class='xr-obj-type'>xarray.DataArray</div><div class='xr-array-name'></div><ul class='xr-dim-list'><li><span class='xr-has-index'>lat</span>: 3000</li><li><span class='xr-has-index'>lon</span>: 9000</li></ul></div><ul class='xr-sections'><li class='xr-section-item'><div class='xr-array-wrap'><input id='section-e6b7d28d-e7aa-4b4e-a846-c9110f11586a' class='xr-array-in' type='checkbox' checked><label for='section-e6b7d28d-e7aa-4b4e-a846-c9110f11586a' title='Show/hide data repr'><svg class='icon xr-icon-database'><use xlink:href='#icon-database'></use></svg></label><div class='xr-array-preview xr-preview'><span>nan nan nan nan nan nan nan nan ... nan nan nan nan nan nan nan nan</span></div><div class='xr-array-data'><pre>array([[nan, nan, nan, ..., nan, nan, nan],\n",
       "       [nan, nan, nan, ..., nan, nan, nan],\n",
       "       [nan, nan, nan, ..., nan, nan, nan],\n",
       "       ...,\n",
       "       [ 0.,  0.,  0., ...,  0.,  0.,  0.],\n",
       "       [nan, nan, nan, ..., nan, nan, nan],\n",
       "       [nan, nan, nan, ..., nan, nan, nan]])</pre></div></div></li><li class='xr-section-item'><input id='section-68bf2541-d449-41b8-be98-9deeae35a07f' class='xr-section-summary-in' type='checkbox'  checked><label for='section-68bf2541-d449-41b8-be98-9deeae35a07f' class='xr-section-summary' >Coordinates: <span>(2)</span></label><div class='xr-section-inline-details'></div><div class='xr-section-details'><ul class='xr-var-list'><li class='xr-var-item'><div class='xr-var-name'><span class='xr-has-index'>lat</span></div><div class='xr-var-dims'>(lat)</div><div class='xr-var-dtype'>float64</div><div class='xr-var-preview xr-preview'>60.0 59.96 59.92 ... -59.92 -59.96</div><input id='attrs-eef82045-990c-4c6a-86e6-757dccaff260' class='xr-var-attrs-in' type='checkbox' disabled><label for='attrs-eef82045-990c-4c6a-86e6-757dccaff260' title='Show/Hide attributes'><svg class='icon xr-icon-file-text2'><use xlink:href='#icon-file-text2'></use></svg></label><input id='data-02e1da16-4cd9-4850-93c5-ed0affa98d7f' class='xr-var-data-in' type='checkbox'><label for='data-02e1da16-4cd9-4850-93c5-ed0affa98d7f' title='Show/Hide data repr'><svg class='icon xr-icon-database'><use xlink:href='#icon-database'></use></svg></label><div class='xr-var-attrs'><dl class='xr-attrs'></dl></div><div class='xr-var-data'><pre>array([ 60.  ,  59.96,  59.92, ..., -59.88, -59.92, -59.96])</pre></div></li><li class='xr-var-item'><div class='xr-var-name'><span class='xr-has-index'>lon</span></div><div class='xr-var-dims'>(lon)</div><div class='xr-var-dtype'>float64</div><div class='xr-var-preview xr-preview'>-180.0 -180.0 ... 179.9 180.0</div><input id='attrs-0683776c-2037-4476-8697-bf20d5d627f6' class='xr-var-attrs-in' type='checkbox' disabled><label for='attrs-0683776c-2037-4476-8697-bf20d5d627f6' title='Show/Hide attributes'><svg class='icon xr-icon-file-text2'><use xlink:href='#icon-file-text2'></use></svg></label><input id='data-68919edd-7f98-4817-9082-56361160c01d' class='xr-var-data-in' type='checkbox'><label for='data-68919edd-7f98-4817-9082-56361160c01d' title='Show/Hide data repr'><svg class='icon xr-icon-database'><use xlink:href='#icon-database'></use></svg></label><div class='xr-var-attrs'><dl class='xr-attrs'></dl></div><div class='xr-var-data'><pre>array([-180.  , -179.96, -179.92, ...,  179.88,  179.92,  179.96])</pre></div></li></ul></div></li><li class='xr-section-item'><input id='section-3a96553d-bb63-449a-a4b7-69b2ecf3781f' class='xr-section-summary-in' type='checkbox' disabled ><label for='section-3a96553d-bb63-449a-a4b7-69b2ecf3781f' class='xr-section-summary'  title='Expand/collapse section'>Attributes: <span>(0)</span></label><div class='xr-section-inline-details'></div><div class='xr-section-details'><dl class='xr-attrs'></dl></div></li></ul></div></div>"
      ],
      "text/plain": [
       "<xarray.DataArray (lat: 3000, lon: 9000)>\n",
       "array([[nan, nan, nan, ..., nan, nan, nan],\n",
       "       [nan, nan, nan, ..., nan, nan, nan],\n",
       "       [nan, nan, nan, ..., nan, nan, nan],\n",
       "       ...,\n",
       "       [ 0.,  0.,  0., ...,  0.,  0.,  0.],\n",
       "       [nan, nan, nan, ..., nan, nan, nan],\n",
       "       [nan, nan, nan, ..., nan, nan, nan]])\n",
       "Coordinates:\n",
       "  * lat      (lat) float64 60.0 59.96 59.92 59.88 ... -59.88 -59.92 -59.96\n",
       "  * lon      (lon) float64 -180.0 -180.0 -179.9 -179.9 ... 179.9 179.9 180.0"
      ]
     },
     "execution_count": 32,
     "metadata": {},
     "output_type": "execute_result"
    }
   ],
   "source": [
    "lon=np.arange(-180,180,0.04)\n",
    "lat=np.arange(60,-60,-0.04)\n",
    "data = xr.DataArray(data=data, dims=[\"lat\", \"lon\"], coords=[lat,lon])\n",
    "data.rio.set_spatial_dims(x_dim=\"lon\", y_dim=\"lat\", inplace=True)\n",
    "data"
   ]
  },
  {
   "cell_type": "markdown",
   "metadata": {},
   "source": [
    "Graficar el archivo de precipitación global georeferenciado"
   ]
  },
  {
   "cell_type": "code",
   "execution_count": null,
   "metadata": {},
   "outputs": [],
   "source": []
  },
  {
   "cell_type": "code",
   "execution_count": 33,
   "metadata": {
    "scrolled": true
   },
   "outputs": [
    {
     "data": {
      "image/png": "[encoded data removed]",
      "text/plain": [
       "<Figure size 1080x2160 with 2 Axes>"
      ]
     },
     "metadata": {
      "needs_background": "light"
     },
     "output_type": "display_data"
    }
   ],
   "source": [
    "world = gpd.read_file(gpd.datasets.get_path('naturalearth_lowres'))\n",
    "ax = world.boundary.plot(figsize=(15, 30), color='white', linewidth=0.5)\n",
    "plt.imshow(data, cmap='cividis', vmin=0.1, vmax=80, extent=[-180, 180, -90, 90])\n",
    "ax.set_aspect('equal')\n",
    "plt.title(\"Precipitación Global PERSIANN-CCS\")\n",
    "plt.colorbar(label='Precipitación (mm)', orientation='horizontal')\n",
    "plt.xlabel(\"Longitude\")\n",
    "plt.ylabel(\"Latitude\")\n",
    "plt.show()"
   ]
  },
  {
   "cell_type": "markdown",
   "metadata": {},
   "source": [
    "Extraer estadísticas básicas de los datos:"
   ]
  },
  {
   "cell_type": "code",
   "execution_count": 34,
   "metadata": {},
   "outputs": [
    {
     "name": "stdout",
     "output_type": "stream",
     "text": [
      "Precipitación máxima =  78.73 mm\n",
      "Precipitación promedio =  0.11433396293872454 mm\n",
      "Precipitación mínima =  0.0 mm\n"
     ]
    }
   ],
   "source": [
    "print('Precipitación máxima = ',data.max().values,'mm')\n",
    "print('Precipitación promedio = ',data.mean().values,'mm')\n",
    "print('Precipitación mínima = ',data.min().values,'mm')"
   ]
  },
  {
   "cell_type": "markdown",
   "metadata": {},
   "source": [
    "Cargar el shapefile de una cuenca hidrográfica.\n",
    "- Por ejemplo la cuenca del río Tomebamba."
   ]
  },
  {
   "cell_type": "code",
   "execution_count": 35,
   "metadata": {},
   "outputs": [],
   "source": [
    "data.rio.write_crs(\"epsg:4326\", inplace=True)     \n",
    "tomebamba_shp = gpd.read_file(folder+'/Shapefiles/Tomebamba.shp')"
   ]
  },
  {
   "cell_type": "markdown",
   "metadata": {},
   "source": [
    "Mostrar la cuenca"
   ]
  },
  {
   "cell_type": "code",
   "execution_count": 36,
   "metadata": {},
   "outputs": [
    {
     "data": {
      "text/plain": [
       "<AxesSubplot:>"
      ]
     },
     "execution_count": 36,
     "metadata": {},
     "output_type": "execute_result"
    },
    {
     "data": {
      "image/png": "[encoded data removed]",
      "text/plain": [
       "<Figure size 432x288 with 1 Axes>"
      ]
     },
     "metadata": {
      "needs_background": "light"
     },
     "output_type": "display_data"
    }
   ],
   "source": [
    "tomebamba_shp.plot()"
   ]
  },
  {
   "cell_type": "markdown",
   "metadata": {},
   "source": [
    "Recortar la información de precipitación global a la cuenca del Tomebamba"
   ]
  },
  {
   "cell_type": "code",
   "execution_count": 37,
   "metadata": {},
   "outputs": [],
   "source": [
    "data_tomebamba = data.rio.clip(tomebamba_shp.geometry.apply(mapping),tomebamba_shp.crs,all_touched=True)"
   ]
  },
  {
   "cell_type": "markdown",
   "metadata": {},
   "source": [
    "Mostrar la precipitación de la cuenca del río Tomebamba"
   ]
  },
  {
   "cell_type": "code",
   "execution_count": 38,
   "metadata": {},
   "outputs": [
    {
     "data": {
      "image/png": "[encoded data removed]",
      "text/plain": [
       "<Figure size 576x576 with 2 Axes>"
      ]
     },
     "metadata": {
      "needs_background": "light"
     },
     "output_type": "display_data"
    }
   ],
   "source": [
    "fig = plt.subplots(figsize=(8,8))\n",
    "plt.imshow(data_tomebamba,cmap='cividis',vmin=0.1,vmax=10)\n",
    "plt.title(\"Precipitación Global PERSIANN-CCS\")\n",
    "plt.colorbar(label='Precipitación (mm)')\n",
    "plt.xlabel(\"Longitude\")\n",
    "plt.ylabel(\"Latitude\")\n",
    "plt.show()"
   ]
  },
  {
   "cell_type": "markdown",
   "metadata": {},
   "source": [
    "Estadísticos básicos de la precipitación para la cuenca del río Tomebamba:"
   ]
  },
  {
   "cell_type": "code",
   "execution_count": 39,
   "metadata": {},
   "outputs": [
    {
     "name": "stdout",
     "output_type": "stream",
     "text": [
      "Precipitación máxima =  0.0 mm\n",
      "Precipitación promedio =  0.0 mm\n",
      "Precipitación mínima =  0.0 mm\n"
     ]
    }
   ],
   "source": [
    "print('Precipitación máxima = ',data_tomebamba.max().values,'mm')\n",
    "print('Precipitación promedio = ',data_tomebamba.mean().values,'mm')\n",
    "print('Precipitación mínima = ',data_tomebamba.min().values,'mm')"
   ]
  },
  {
   "cell_type": "markdown",
   "metadata": {},
   "source": [
    "Ahora, para otra cuenca hidrográfica:\n",
    "- Cuenca del río Esmeraldas"
   ]
  },
  {
   "cell_type": "code",
   "execution_count": 40,
   "metadata": {},
   "outputs": [
    {
     "data": {
      "text/plain": [
       "<AxesSubplot:>"
      ]
     },
     "execution_count": 40,
     "metadata": {},
     "output_type": "execute_result"
    },
    {
     "data": {
      "image/png": "[encoded data removed]",
      "text/plain": [
       "<Figure size 432x288 with 1 Axes>"
      ]
     },
     "metadata": {
      "needs_background": "light"
     },
     "output_type": "display_data"
    }
   ],
   "source": [
    "esmeraldas_shp = gpd.read_file(folder+'/Shapefiles/Cuenca_H0172_esmeraldas_1.geojson')\n",
    "esmeraldas_shp.plot()"
   ]
  },
  {
   "cell_type": "markdown",
   "metadata": {},
   "source": [
    "Recortar la información de precipitación global a la cuenca del río Esmeraldas"
   ]
  },
  {
   "cell_type": "code",
   "execution_count": 41,
   "metadata": {
    "scrolled": true
   },
   "outputs": [],
   "source": [
    "data_esmeraldas = data.rio.clip(esmeraldas_shp.geometry.apply(mapping),esmeraldas_shp.crs,all_touched=True)"
   ]
  },
  {
   "cell_type": "markdown",
   "metadata": {},
   "source": [
    "Mostrar la precipitación en la cuenca"
   ]
  },
  {
   "cell_type": "code",
   "execution_count": 47,
   "metadata": {},
   "outputs": [
    {
     "data": {
      "image/png": "[encoded data removed]",
      "text/plain": [
       "<Figure size 576x576 with 2 Axes>"
      ]
     },
     "metadata": {
      "needs_background": "light"
     },
     "output_type": "display_data"
    }
   ],
   "source": [
    "fig = plt.subplots(figsize=(8,8))\n",
    "plt.imshow(data_esmeraldas,cmap='cividis',vmin=0.1,vmax=33)\n",
    "plt.title(\"Precipitación Global PERSIANN-CCS\")\n",
    "plt.colorbar(label='Precipitación (mm)')\n",
    "plt.xlabel(\"Longitude\")\n",
    "plt.ylabel(\"Latitude\")\n",
    "plt.show()"
   ]
  },
  {
   "cell_type": "markdown",
   "metadata": {},
   "source": [
    "Estadísticos básicos de la precipitación en la cuenca del río Esmeraldas"
   ]
  },
  {
   "cell_type": "code",
   "execution_count": 43,
   "metadata": {},
   "outputs": [
    {
     "name": "stdout",
     "output_type": "stream",
     "text": [
      "Precipitación máxima =  32.19 mm\n",
      "Precipitación promedio =  6.167428571428572 mm\n",
      "Precipitación mínima =  0.53 mm\n"
     ]
    }
   ],
   "source": [
    "print('Precipitación máxima = ',data_esmeraldas.max().values,'mm')\n",
    "print('Precipitación promedio = ',data_esmeraldas.mean().values,'mm')\n",
    "print('Precipitación mínima = ',data_esmeraldas.min().values,'mm')"
   ]
  },
  {
   "cell_type": "markdown",
   "metadata": {},
   "source": [
    "**Ahora leer todos los archivos de precipitación descargados**"
   ]
  },
  {
   "cell_type": "markdown",
   "metadata": {},
   "source": [
    "Crear una lista de archivos descargados"
   ]
  },
  {
   "cell_type": "code",
   "execution_count": 48,
   "metadata": {},
   "outputs": [],
   "source": [
    "folder_files\n",
    "file_extension = \"*.bin.gz\"  \n",
    "list_of_Files = glob.glob(os.path.join(folder_files, file_extension))\n",
    "list_of_Files = [file_name for file_name in list_of_Files if not file_name.startswith('.DS_Store')]\n",
    "list_of_Files.sort()"
   ]
  },
  {
   "cell_type": "markdown",
   "metadata": {},
   "source": [
    "Mostrar la lista"
   ]
  },
  {
   "cell_type": "code",
   "execution_count": 49,
   "metadata": {},
   "outputs": [
    {
     "data": {
      "text/plain": [
       "['/Users/paul/Documents/PNUD/Clases/2_Martes_17_octubre/data/PERSIANN-CCS/Hourly/Global/2023/rgccs1h2300100.bin.gz',\n",
       " '/Users/paul/Documents/PNUD/Clases/2_Martes_17_octubre/data/PERSIANN-CCS/Hourly/Global/2023/rgccs1h2300101.bin.gz',\n",
       " '/Users/paul/Documents/PNUD/Clases/2_Martes_17_octubre/data/PERSIANN-CCS/Hourly/Global/2023/rgccs1h2300102.bin.gz',\n",
       " '/Users/paul/Documents/PNUD/Clases/2_Martes_17_octubre/data/PERSIANN-CCS/Hourly/Global/2023/rgccs1h2300103.bin.gz',\n",
       " '/Users/paul/Documents/PNUD/Clases/2_Martes_17_octubre/data/PERSIANN-CCS/Hourly/Global/2023/rgccs1h2300104.bin.gz',\n",
       " '/Users/paul/Documents/PNUD/Clases/2_Martes_17_octubre/data/PERSIANN-CCS/Hourly/Global/2023/rgccs1h2300105.bin.gz',\n",
       " '/Users/paul/Documents/PNUD/Clases/2_Martes_17_octubre/data/PERSIANN-CCS/Hourly/Global/2023/rgccs1h2300106.bin.gz',\n",
       " '/Users/paul/Documents/PNUD/Clases/2_Martes_17_octubre/data/PERSIANN-CCS/Hourly/Global/2023/rgccs1h2300107.bin.gz',\n",
       " '/Users/paul/Documents/PNUD/Clases/2_Martes_17_octubre/data/PERSIANN-CCS/Hourly/Global/2023/rgccs1h2300108.bin.gz',\n",
       " '/Users/paul/Documents/PNUD/Clases/2_Martes_17_octubre/data/PERSIANN-CCS/Hourly/Global/2023/rgccs1h2300109.bin.gz']"
      ]
     },
     "execution_count": 49,
     "metadata": {},
     "output_type": "execute_result"
    }
   ],
   "source": [
    "list_of_Files[:10]"
   ]
  },
  {
   "cell_type": "markdown",
   "metadata": {},
   "source": [
    "Leer los archivos, uno por uno, y obtener la precipitación acumulada de los 15 primeros días de enero del 2023"
   ]
  },
  {
   "cell_type": "code",
   "execution_count": 50,
   "metadata": {},
   "outputs": [
    {
     "name": "stdout",
     "output_type": "stream",
     "text": [
      "1 out of 360\n",
      "2 out of 360\n",
      "3 out of 360\n",
      "4 out of 360\n",
      "5 out of 360\n",
      "6 out of 360\n",
      "7 out of 360\n",
      "8 out of 360\n",
      "9 out of 360\n",
      "10 out of 360\n",
      "11 out of 360\n",
      "12 out of 360\n",
      "13 out of 360\n",
      "14 out of 360\n",
      "15 out of 360\n",
      "16 out of 360\n",
      "17 out of 360\n",
      "18 out of 360\n",
      "19 out of 360\n",
      "20 out of 360\n",
      "21 out of 360\n",
      "22 out of 360\n",
      "23 out of 360\n",
      "24 out of 360\n",
      "25 out of 360\n",
      "26 out of 360\n",
      "27 out of 360\n",
      "28 out of 360\n",
      "29 out of 360\n",
      "30 out of 360\n",
      "31 out of 360\n",
      "32 out of 360\n",
      "33 out of 360\n",
      "34 out of 360\n",
      "35 out of 360\n",
      "36 out of 360\n",
      "37 out of 360\n",
      "38 out of 360\n",
      "39 out of 360\n",
      "40 out of 360\n",
      "41 out of 360\n",
      "42 out of 360\n",
      "43 out of 360\n",
      "44 out of 360\n",
      "45 out of 360\n",
      "46 out of 360\n",
      "47 out of 360\n",
      "48 out of 360\n",
      "49 out of 360\n",
      "50 out of 360\n",
      "51 out of 360\n",
      "52 out of 360\n",
      "53 out of 360\n",
      "54 out of 360\n",
      "55 out of 360\n",
      "56 out of 360\n",
      "57 out of 360\n",
      "58 out of 360\n",
      "59 out of 360\n",
      "60 out of 360\n",
      "61 out of 360\n",
      "62 out of 360\n",
      "63 out of 360\n",
      "64 out of 360\n",
      "65 out of 360\n",
      "66 out of 360\n",
      "67 out of 360\n",
      "68 out of 360\n",
      "69 out of 360\n",
      "70 out of 360\n",
      "71 out of 360\n",
      "72 out of 360\n",
      "73 out of 360\n",
      "74 out of 360\n",
      "75 out of 360\n",
      "76 out of 360\n",
      "77 out of 360\n",
      "78 out of 360\n",
      "79 out of 360\n",
      "80 out of 360\n",
      "81 out of 360\n",
      "82 out of 360\n",
      "83 out of 360\n",
      "84 out of 360\n",
      "85 out of 360\n",
      "86 out of 360\n",
      "87 out of 360\n",
      "88 out of 360\n",
      "89 out of 360\n",
      "90 out of 360\n",
      "91 out of 360\n",
      "92 out of 360\n",
      "93 out of 360\n",
      "94 out of 360\n",
      "95 out of 360\n",
      "96 out of 360\n",
      "97 out of 360\n",
      "98 out of 360\n",
      "99 out of 360\n",
      "100 out of 360\n",
      "101 out of 360\n",
      "102 out of 360\n",
      "103 out of 360\n",
      "104 out of 360\n",
      "105 out of 360\n",
      "106 out of 360\n",
      "107 out of 360\n",
      "108 out of 360\n",
      "109 out of 360\n",
      "110 out of 360\n",
      "111 out of 360\n",
      "112 out of 360\n",
      "113 out of 360\n",
      "114 out of 360\n",
      "115 out of 360\n",
      "116 out of 360\n",
      "117 out of 360\n",
      "118 out of 360\n",
      "119 out of 360\n",
      "120 out of 360\n",
      "121 out of 360\n",
      "122 out of 360\n",
      "123 out of 360\n",
      "124 out of 360\n",
      "125 out of 360\n",
      "126 out of 360\n",
      "127 out of 360\n",
      "128 out of 360\n",
      "129 out of 360\n",
      "130 out of 360\n",
      "131 out of 360\n",
      "132 out of 360\n",
      "133 out of 360\n",
      "134 out of 360\n",
      "135 out of 360\n",
      "136 out of 360\n",
      "137 out of 360\n",
      "138 out of 360\n",
      "139 out of 360\n",
      "140 out of 360\n",
      "141 out of 360\n",
      "142 out of 360\n",
      "143 out of 360\n",
      "144 out of 360\n",
      "145 out of 360\n",
      "146 out of 360\n",
      "147 out of 360\n",
      "148 out of 360\n",
      "149 out of 360\n",
      "150 out of 360\n",
      "151 out of 360\n",
      "152 out of 360\n",
      "153 out of 360\n",
      "154 out of 360\n",
      "155 out of 360\n",
      "156 out of 360\n",
      "157 out of 360\n",
      "158 out of 360\n",
      "159 out of 360\n",
      "160 out of 360\n",
      "161 out of 360\n",
      "162 out of 360\n",
      "163 out of 360\n",
      "164 out of 360\n",
      "165 out of 360\n",
      "166 out of 360\n",
      "167 out of 360\n",
      "168 out of 360\n",
      "169 out of 360\n",
      "170 out of 360\n",
      "171 out of 360\n",
      "172 out of 360\n",
      "173 out of 360\n",
      "174 out of 360\n",
      "175 out of 360\n",
      "176 out of 360\n",
      "177 out of 360\n",
      "178 out of 360\n",
      "179 out of 360\n",
      "180 out of 360\n",
      "181 out of 360\n",
      "182 out of 360\n",
      "183 out of 360\n",
      "184 out of 360\n",
      "185 out of 360\n",
      "186 out of 360\n",
      "187 out of 360\n",
      "188 out of 360\n",
      "189 out of 360\n",
      "190 out of 360\n",
      "191 out of 360\n",
      "192 out of 360\n",
      "193 out of 360\n",
      "194 out of 360\n",
      "195 out of 360\n",
      "196 out of 360\n",
      "197 out of 360\n",
      "198 out of 360\n",
      "199 out of 360\n",
      "200 out of 360\n",
      "201 out of 360\n",
      "202 out of 360\n",
      "203 out of 360\n",
      "204 out of 360\n",
      "205 out of 360\n",
      "206 out of 360\n",
      "207 out of 360\n",
      "208 out of 360\n",
      "209 out of 360\n",
      "210 out of 360\n",
      "211 out of 360\n",
      "212 out of 360\n",
      "213 out of 360\n",
      "214 out of 360\n",
      "215 out of 360\n",
      "216 out of 360\n",
      "217 out of 360\n",
      "218 out of 360\n",
      "219 out of 360\n",
      "220 out of 360\n",
      "221 out of 360\n",
      "222 out of 360\n",
      "223 out of 360\n",
      "224 out of 360\n",
      "225 out of 360\n",
      "226 out of 360\n",
      "227 out of 360\n",
      "228 out of 360\n",
      "229 out of 360\n",
      "230 out of 360\n",
      "231 out of 360\n",
      "232 out of 360\n",
      "233 out of 360\n",
      "234 out of 360\n",
      "235 out of 360\n",
      "236 out of 360\n",
      "237 out of 360\n",
      "238 out of 360\n",
      "239 out of 360\n",
      "240 out of 360\n",
      "241 out of 360\n",
      "242 out of 360\n",
      "243 out of 360\n",
      "244 out of 360\n",
      "245 out of 360\n",
      "246 out of 360\n",
      "247 out of 360\n",
      "248 out of 360\n",
      "249 out of 360\n",
      "250 out of 360\n",
      "251 out of 360\n",
      "252 out of 360\n",
      "253 out of 360\n",
      "254 out of 360\n",
      "255 out of 360\n",
      "256 out of 360\n",
      "257 out of 360\n",
      "258 out of 360\n",
      "259 out of 360\n",
      "260 out of 360\n",
      "261 out of 360\n",
      "262 out of 360\n",
      "263 out of 360\n",
      "264 out of 360\n",
      "265 out of 360\n",
      "266 out of 360\n",
      "267 out of 360\n",
      "268 out of 360\n",
      "269 out of 360\n",
      "270 out of 360\n",
      "271 out of 360\n",
      "272 out of 360\n",
      "273 out of 360\n",
      "274 out of 360\n",
      "275 out of 360\n",
      "276 out of 360\n",
      "277 out of 360\n",
      "278 out of 360\n",
      "279 out of 360\n",
      "280 out of 360\n",
      "281 out of 360\n",
      "282 out of 360\n",
      "283 out of 360\n",
      "284 out of 360\n",
      "285 out of 360\n",
      "286 out of 360\n",
      "287 out of 360\n",
      "288 out of 360\n",
      "289 out of 360\n",
      "290 out of 360\n",
      "291 out of 360\n",
      "292 out of 360\n",
      "293 out of 360\n",
      "294 out of 360\n",
      "295 out of 360\n",
      "296 out of 360\n",
      "297 out of 360\n",
      "298 out of 360\n",
      "299 out of 360\n",
      "300 out of 360\n",
      "301 out of 360\n",
      "302 out of 360\n",
      "303 out of 360\n",
      "304 out of 360\n",
      "305 out of 360\n",
      "306 out of 360\n",
      "307 out of 360\n",
      "308 out of 360\n",
      "309 out of 360\n",
      "310 out of 360\n",
      "311 out of 360\n",
      "312 out of 360\n",
      "313 out of 360\n",
      "314 out of 360\n",
      "315 out of 360\n",
      "316 out of 360\n",
      "317 out of 360\n",
      "318 out of 360\n",
      "319 out of 360\n",
      "320 out of 360\n",
      "321 out of 360\n",
      "322 out of 360\n",
      "323 out of 360\n",
      "324 out of 360\n",
      "325 out of 360\n",
      "326 out of 360\n",
      "327 out of 360\n",
      "328 out of 360\n",
      "329 out of 360\n",
      "330 out of 360\n",
      "331 out of 360\n",
      "332 out of 360\n",
      "333 out of 360\n",
      "334 out of 360\n",
      "335 out of 360\n",
      "336 out of 360\n",
      "337 out of 360\n",
      "338 out of 360\n",
      "339 out of 360\n",
      "340 out of 360\n",
      "341 out of 360\n",
      "342 out of 360\n",
      "343 out of 360\n",
      "344 out of 360\n",
      "345 out of 360\n",
      "346 out of 360\n",
      "347 out of 360\n",
      "348 out of 360\n",
      "349 out of 360\n",
      "350 out of 360\n",
      "351 out of 360\n",
      "352 out of 360\n",
      "353 out of 360\n",
      "354 out of 360\n",
      "355 out of 360\n",
      "356 out of 360\n",
      "357 out of 360\n",
      "358 out of 360\n",
      "359 out of 360\n",
      "360 out of 360\n"
     ]
    }
   ],
   "source": [
    "data_sum = xr.DataArray(data=np.empty((3000, 9000)), dims=[\"lat\", \"lon\"])\n",
    "for index, item in enumerate(list_of_Files):\n",
    "    print(index+1, 'out of', len(list_of_Files))\n",
    "    f=gzip.GzipFile(item)\n",
    "    try:\n",
    "        file_content = f.read()\n",
    "    except (IOError, EOFError) as e:\n",
    "        continue\n",
    "    data = np.frombuffer(file_content, dtype=np.dtype('>h')).astype(float)\n",
    "    data = data.reshape((3000,9000))\n",
    "    data_1 = data[:,4500:]\n",
    "    data_2 = data[:,:4500]\n",
    "    data = np.hstack((data_1,data_2))\n",
    "    data= data/100\n",
    "    data[data < 0] = np.nan \n",
    "    data = np.flipud(data)\n",
    "    data = xr.DataArray(data=data, dims=[\"lat\", \"lon\"], coords=[lat,lon])\n",
    "    data_sum+=data"
   ]
  },
  {
   "cell_type": "code",
   "execution_count": 51,
   "metadata": {},
   "outputs": [
    {
     "data": {
      "text/html": [
       "<div><svg style=\"position: absolute; width: 0; height: 0; overflow: hidden\">\n",
       "<defs>\n",
       "<symbol id=\"icon-database\" viewBox=\"0 0 32 32\">\n",
       "<path d=\"M16 0c-8.837 0-16 2.239-16 5v4c0 2.761 7.163 5 16 5s16-2.239 16-5v-4c0-2.761-7.163-5-16-5z\"></path>\n",
       "<path d=\"M16 17c-8.837 0-16-2.239-16-5v6c0 2.761 7.163 5 16 5s16-2.239 16-5v-6c0 2.761-7.163 5-16 5z\"></path>\n",
       "<path d=\"M16 26c-8.837 0-16-2.239-16-5v6c0 2.761 7.163 5 16 5s16-2.239 16-5v-6c0 2.761-7.163 5-16 5z\"></path>\n",
       "</symbol>\n",
       "<symbol id=\"icon-file-text2\" viewBox=\"0 0 32 32\">\n",
       "<path d=\"M28.681 7.159c-0.694-0.947-1.662-2.053-2.724-3.116s-2.169-2.030-3.116-2.724c-1.612-1.182-2.393-1.319-2.841-1.319h-15.5c-1.378 0-2.5 1.121-2.5 2.5v27c0 1.378 1.122 2.5 2.5 2.5h23c1.378 0 2.5-1.122 2.5-2.5v-19.5c0-0.448-0.137-1.23-1.319-2.841zM24.543 5.457c0.959 0.959 1.712 1.825 2.268 2.543h-4.811v-4.811c0.718 0.556 1.584 1.309 2.543 2.268zM28 29.5c0 0.271-0.229 0.5-0.5 0.5h-23c-0.271 0-0.5-0.229-0.5-0.5v-27c0-0.271 0.229-0.5 0.5-0.5 0 0 15.499-0 15.5 0v7c0 0.552 0.448 1 1 1h7v19.5z\"></path>\n",
       "<path d=\"M23 26h-14c-0.552 0-1-0.448-1-1s0.448-1 1-1h14c0.552 0 1 0.448 1 1s-0.448 1-1 1z\"></path>\n",
       "<path d=\"M23 22h-14c-0.552 0-1-0.448-1-1s0.448-1 1-1h14c0.552 0 1 0.448 1 1s-0.448 1-1 1z\"></path>\n",
       "<path d=\"M23 18h-14c-0.552 0-1-0.448-1-1s0.448-1 1-1h14c0.552 0 1 0.448 1 1s-0.448 1-1 1z\"></path>\n",
       "</symbol>\n",
       "</defs>\n",
       "</svg>\n",
       "<style>/* CSS stylesheet for displaying xarray objects in jupyterlab.\n",
       " *\n",
       " */\n",
       "\n",
       ":root {\n",
       "  --xr-font-color0: var(--jp-content-font-color0, rgba(0, 0, 0, 1));\n",
       "  --xr-font-color2: var(--jp-content-font-color2, rgba(0, 0, 0, 0.54));\n",
       "  --xr-font-color3: var(--jp-content-font-color3, rgba(0, 0, 0, 0.38));\n",
       "  --xr-border-color: var(--jp-border-color2, #e0e0e0);\n",
       "  --xr-disabled-color: var(--jp-layout-color3, #bdbdbd);\n",
       "  --xr-background-color: var(--jp-layout-color0, white);\n",
       "  --xr-background-color-row-even: var(--jp-layout-color1, white);\n",
       "  --xr-background-color-row-odd: var(--jp-layout-color2, #eeeeee);\n",
       "}\n",
       "\n",
       "html[theme=dark],\n",
       "body.vscode-dark {\n",
       "  --xr-font-color0: rgba(255, 255, 255, 1);\n",
       "  --xr-font-color2: rgba(255, 255, 255, 0.54);\n",
       "  --xr-font-color3: rgba(255, 255, 255, 0.38);\n",
       "  --xr-border-color: #1F1F1F;\n",
       "  --xr-disabled-color: #515151;\n",
       "  --xr-background-color: #111111;\n",
       "  --xr-background-color-row-even: #111111;\n",
       "  --xr-background-color-row-odd: #313131;\n",
       "}\n",
       "\n",
       ".xr-wrap {\n",
       "  display: block;\n",
       "  min-width: 300px;\n",
       "  max-width: 700px;\n",
       "}\n",
       "\n",
       ".xr-text-repr-fallback {\n",
       "  /* fallback to plain text repr when CSS is not injected (untrusted notebook) */\n",
       "  display: none;\n",
       "}\n",
       "\n",
       ".xr-header {\n",
       "  padding-top: 6px;\n",
       "  padding-bottom: 6px;\n",
       "  margin-bottom: 4px;\n",
       "  border-bottom: solid 1px var(--xr-border-color);\n",
       "}\n",
       "\n",
       ".xr-header > div,\n",
       ".xr-header > ul {\n",
       "  display: inline;\n",
       "  margin-top: 0;\n",
       "  margin-bottom: 0;\n",
       "}\n",
       "\n",
       ".xr-obj-type,\n",
       ".xr-array-name {\n",
       "  margin-left: 2px;\n",
       "  margin-right: 10px;\n",
       "}\n",
       "\n",
       ".xr-obj-type {\n",
       "  color: var(--xr-font-color2);\n",
       "}\n",
       "\n",
       ".xr-sections {\n",
       "  padding-left: 0 !important;\n",
       "  display: grid;\n",
       "  grid-template-columns: 150px auto auto 1fr 20px 20px;\n",
       "}\n",
       "\n",
       ".xr-section-item {\n",
       "  display: contents;\n",
       "}\n",
       "\n",
       ".xr-section-item input {\n",
       "  display: none;\n",
       "}\n",
       "\n",
       ".xr-section-item input + label {\n",
       "  color: var(--xr-disabled-color);\n",
       "}\n",
       "\n",
       ".xr-section-item input:enabled + label {\n",
       "  cursor: pointer;\n",
       "  color: var(--xr-font-color2);\n",
       "}\n",
       "\n",
       ".xr-section-item input:enabled + label:hover {\n",
       "  color: var(--xr-font-color0);\n",
       "}\n",
       "\n",
       ".xr-section-summary {\n",
       "  grid-column: 1;\n",
       "  color: var(--xr-font-color2);\n",
       "  font-weight: 500;\n",
       "}\n",
       "\n",
       ".xr-section-summary > span {\n",
       "  display: inline-block;\n",
       "  padding-left: 0.5em;\n",
       "}\n",
       "\n",
       ".xr-section-summary-in:disabled + label {\n",
       "  color: var(--xr-font-color2);\n",
       "}\n",
       "\n",
       ".xr-section-summary-in + label:before {\n",
       "  display: inline-block;\n",
       "  content: '►';\n",
       "  font-size: 11px;\n",
       "  width: 15px;\n",
       "  text-align: center;\n",
       "}\n",
       "\n",
       ".xr-section-summary-in:disabled + label:before {\n",
       "  color: var(--xr-disabled-color);\n",
       "}\n",
       "\n",
       ".xr-section-summary-in:checked + label:before {\n",
       "  content: '▼';\n",
       "}\n",
       "\n",
       ".xr-section-summary-in:checked + label > span {\n",
       "  display: none;\n",
       "}\n",
       "\n",
       ".xr-section-summary,\n",
       ".xr-section-inline-details {\n",
       "  padding-top: 4px;\n",
       "  padding-bottom: 4px;\n",
       "}\n",
       "\n",
       ".xr-section-inline-details {\n",
       "  grid-column: 2 / -1;\n",
       "}\n",
       "\n",
       ".xr-section-details {\n",
       "  display: none;\n",
       "  grid-column: 1 / -1;\n",
       "  margin-bottom: 5px;\n",
       "}\n",
       "\n",
       ".xr-section-summary-in:checked ~ .xr-section-details {\n",
       "  display: contents;\n",
       "}\n",
       "\n",
       ".xr-array-wrap {\n",
       "  grid-column: 1 / -1;\n",
       "  display: grid;\n",
       "  grid-template-columns: 20px auto;\n",
       "}\n",
       "\n",
       ".xr-array-wrap > label {\n",
       "  grid-column: 1;\n",
       "  vertical-align: top;\n",
       "}\n",
       "\n",
       ".xr-preview {\n",
       "  color: var(--xr-font-color3);\n",
       "}\n",
       "\n",
       ".xr-array-preview,\n",
       ".xr-array-data {\n",
       "  padding: 0 5px !important;\n",
       "  grid-column: 2;\n",
       "}\n",
       "\n",
       ".xr-array-data,\n",
       ".xr-array-in:checked ~ .xr-array-preview {\n",
       "  display: none;\n",
       "}\n",
       "\n",
       ".xr-array-in:checked ~ .xr-array-data,\n",
       ".xr-array-preview {\n",
       "  display: inline-block;\n",
       "}\n",
       "\n",
       ".xr-dim-list {\n",
       "  display: inline-block !important;\n",
       "  list-style: none;\n",
       "  padding: 0 !important;\n",
       "  margin: 0;\n",
       "}\n",
       "\n",
       ".xr-dim-list li {\n",
       "  display: inline-block;\n",
       "  padding: 0;\n",
       "  margin: 0;\n",
       "}\n",
       "\n",
       ".xr-dim-list:before {\n",
       "  content: '(';\n",
       "}\n",
       "\n",
       ".xr-dim-list:after {\n",
       "  content: ')';\n",
       "}\n",
       "\n",
       ".xr-dim-list li:not(:last-child):after {\n",
       "  content: ',';\n",
       "  padding-right: 5px;\n",
       "}\n",
       "\n",
       ".xr-has-index {\n",
       "  font-weight: bold;\n",
       "}\n",
       "\n",
       ".xr-var-list,\n",
       ".xr-var-item {\n",
       "  display: contents;\n",
       "}\n",
       "\n",
       ".xr-var-item > div,\n",
       ".xr-var-item label,\n",
       ".xr-var-item > .xr-var-name span {\n",
       "  background-color: var(--xr-background-color-row-even);\n",
       "  margin-bottom: 0;\n",
       "}\n",
       "\n",
       ".xr-var-item > .xr-var-name:hover span {\n",
       "  padding-right: 5px;\n",
       "}\n",
       "\n",
       ".xr-var-list > li:nth-child(odd) > div,\n",
       ".xr-var-list > li:nth-child(odd) > label,\n",
       ".xr-var-list > li:nth-child(odd) > .xr-var-name span {\n",
       "  background-color: var(--xr-background-color-row-odd);\n",
       "}\n",
       "\n",
       ".xr-var-name {\n",
       "  grid-column: 1;\n",
       "}\n",
       "\n",
       ".xr-var-dims {\n",
       "  grid-column: 2;\n",
       "}\n",
       "\n",
       ".xr-var-dtype {\n",
       "  grid-column: 3;\n",
       "  text-align: right;\n",
       "  color: var(--xr-font-color2);\n",
       "}\n",
       "\n",
       ".xr-var-preview {\n",
       "  grid-column: 4;\n",
       "}\n",
       "\n",
       ".xr-var-name,\n",
       ".xr-var-dims,\n",
       ".xr-var-dtype,\n",
       ".xr-preview,\n",
       ".xr-attrs dt {\n",
       "  white-space: nowrap;\n",
       "  overflow: hidden;\n",
       "  text-overflow: ellipsis;\n",
       "  padding-right: 10px;\n",
       "}\n",
       "\n",
       ".xr-var-name:hover,\n",
       ".xr-var-dims:hover,\n",
       ".xr-var-dtype:hover,\n",
       ".xr-attrs dt:hover {\n",
       "  overflow: visible;\n",
       "  width: auto;\n",
       "  z-index: 1;\n",
       "}\n",
       "\n",
       ".xr-var-attrs,\n",
       ".xr-var-data {\n",
       "  display: none;\n",
       "  background-color: var(--xr-background-color) !important;\n",
       "  padding-bottom: 5px !important;\n",
       "}\n",
       "\n",
       ".xr-var-attrs-in:checked ~ .xr-var-attrs,\n",
       ".xr-var-data-in:checked ~ .xr-var-data {\n",
       "  display: block;\n",
       "}\n",
       "\n",
       ".xr-var-data > table {\n",
       "  float: right;\n",
       "}\n",
       "\n",
       ".xr-var-name span,\n",
       ".xr-var-data,\n",
       ".xr-attrs {\n",
       "  padding-left: 25px !important;\n",
       "}\n",
       "\n",
       ".xr-attrs,\n",
       ".xr-var-attrs,\n",
       ".xr-var-data {\n",
       "  grid-column: 1 / -1;\n",
       "}\n",
       "\n",
       "dl.xr-attrs {\n",
       "  padding: 0;\n",
       "  margin: 0;\n",
       "  display: grid;\n",
       "  grid-template-columns: 125px auto;\n",
       "}\n",
       "\n",
       ".xr-attrs dt,\n",
       ".xr-attrs dd {\n",
       "  padding: 0;\n",
       "  margin: 0;\n",
       "  float: left;\n",
       "  padding-right: 10px;\n",
       "  width: auto;\n",
       "}\n",
       "\n",
       ".xr-attrs dt {\n",
       "  font-weight: normal;\n",
       "  grid-column: 1;\n",
       "}\n",
       "\n",
       ".xr-attrs dt:hover span {\n",
       "  display: inline-block;\n",
       "  background: var(--xr-background-color);\n",
       "  padding-right: 10px;\n",
       "}\n",
       "\n",
       ".xr-attrs dd {\n",
       "  grid-column: 2;\n",
       "  white-space: pre-wrap;\n",
       "  word-break: break-all;\n",
       "}\n",
       "\n",
       ".xr-icon-database,\n",
       ".xr-icon-file-text2 {\n",
       "  display: inline-block;\n",
       "  vertical-align: middle;\n",
       "  width: 1em;\n",
       "  height: 1.5em !important;\n",
       "  stroke-width: 0;\n",
       "  stroke: currentColor;\n",
       "  fill: currentColor;\n",
       "}\n",
       "</style><pre class='xr-text-repr-fallback'>&lt;xarray.DataArray (lat: 3000, lon: 9000)&gt;\n",
       "array([[nan, nan, nan, ..., nan, nan, nan],\n",
       "       [nan, nan, nan, ..., nan, nan, nan],\n",
       "       [nan, nan, nan, ..., nan, nan, nan],\n",
       "       ...,\n",
       "       [nan, nan, nan, ..., nan, nan, nan],\n",
       "       [nan, nan, nan, ..., nan, nan, nan],\n",
       "       [nan, nan, nan, ..., nan, nan, nan]])\n",
       "Coordinates:\n",
       "  * lat      (lat) float64 60.0 59.96 59.92 59.88 ... -59.88 -59.92 -59.96\n",
       "  * lon      (lon) float64 -180.0 -180.0 -179.9 -179.9 ... 179.9 179.9 180.0</pre><div class='xr-wrap' hidden><div class='xr-header'><div class='xr-obj-type'>xarray.DataArray</div><div class='xr-array-name'></div><ul class='xr-dim-list'><li><span class='xr-has-index'>lat</span>: 3000</li><li><span class='xr-has-index'>lon</span>: 9000</li></ul></div><ul class='xr-sections'><li class='xr-section-item'><div class='xr-array-wrap'><input id='section-cb7287ee-cb29-482c-a93e-800ec8f50884' class='xr-array-in' type='checkbox' checked><label for='section-cb7287ee-cb29-482c-a93e-800ec8f50884' title='Show/hide data repr'><svg class='icon xr-icon-database'><use xlink:href='#icon-database'></use></svg></label><div class='xr-array-preview xr-preview'><span>nan nan nan nan nan nan nan nan ... nan nan nan nan nan nan nan nan</span></div><div class='xr-array-data'><pre>array([[nan, nan, nan, ..., nan, nan, nan],\n",
       "       [nan, nan, nan, ..., nan, nan, nan],\n",
       "       [nan, nan, nan, ..., nan, nan, nan],\n",
       "       ...,\n",
       "       [nan, nan, nan, ..., nan, nan, nan],\n",
       "       [nan, nan, nan, ..., nan, nan, nan],\n",
       "       [nan, nan, nan, ..., nan, nan, nan]])</pre></div></div></li><li class='xr-section-item'><input id='section-c9147520-91e1-4dad-8888-9f3f4ded3716' class='xr-section-summary-in' type='checkbox'  checked><label for='section-c9147520-91e1-4dad-8888-9f3f4ded3716' class='xr-section-summary' >Coordinates: <span>(2)</span></label><div class='xr-section-inline-details'></div><div class='xr-section-details'><ul class='xr-var-list'><li class='xr-var-item'><div class='xr-var-name'><span class='xr-has-index'>lat</span></div><div class='xr-var-dims'>(lat)</div><div class='xr-var-dtype'>float64</div><div class='xr-var-preview xr-preview'>60.0 59.96 59.92 ... -59.92 -59.96</div><input id='attrs-9c3b2198-458a-483d-b713-a62622e70539' class='xr-var-attrs-in' type='checkbox' disabled><label for='attrs-9c3b2198-458a-483d-b713-a62622e70539' title='Show/Hide attributes'><svg class='icon xr-icon-file-text2'><use xlink:href='#icon-file-text2'></use></svg></label><input id='data-8d24c376-80f4-4f97-979c-94a60b2f967f' class='xr-var-data-in' type='checkbox'><label for='data-8d24c376-80f4-4f97-979c-94a60b2f967f' title='Show/Hide data repr'><svg class='icon xr-icon-database'><use xlink:href='#icon-database'></use></svg></label><div class='xr-var-attrs'><dl class='xr-attrs'></dl></div><div class='xr-var-data'><pre>array([ 60.  ,  59.96,  59.92, ..., -59.88, -59.92, -59.96])</pre></div></li><li class='xr-var-item'><div class='xr-var-name'><span class='xr-has-index'>lon</span></div><div class='xr-var-dims'>(lon)</div><div class='xr-var-dtype'>float64</div><div class='xr-var-preview xr-preview'>-180.0 -180.0 ... 179.9 180.0</div><input id='attrs-e068c81d-fc49-4087-8211-42ccc26b4ccf' class='xr-var-attrs-in' type='checkbox' disabled><label for='attrs-e068c81d-fc49-4087-8211-42ccc26b4ccf' title='Show/Hide attributes'><svg class='icon xr-icon-file-text2'><use xlink:href='#icon-file-text2'></use></svg></label><input id='data-fc9852fb-ba58-4eb0-82cb-07685c2947e0' class='xr-var-data-in' type='checkbox'><label for='data-fc9852fb-ba58-4eb0-82cb-07685c2947e0' title='Show/Hide data repr'><svg class='icon xr-icon-database'><use xlink:href='#icon-database'></use></svg></label><div class='xr-var-attrs'><dl class='xr-attrs'></dl></div><div class='xr-var-data'><pre>array([-180.  , -179.96, -179.92, ...,  179.88,  179.92,  179.96])</pre></div></li></ul></div></li><li class='xr-section-item'><input id='section-77e08a88-473c-4dfa-8023-5c71f58c9387' class='xr-section-summary-in' type='checkbox' disabled ><label for='section-77e08a88-473c-4dfa-8023-5c71f58c9387' class='xr-section-summary'  title='Expand/collapse section'>Attributes: <span>(0)</span></label><div class='xr-section-inline-details'></div><div class='xr-section-details'><dl class='xr-attrs'></dl></div></li></ul></div></div>"
      ],
      "text/plain": [
       "<xarray.DataArray (lat: 3000, lon: 9000)>\n",
       "array([[nan, nan, nan, ..., nan, nan, nan],\n",
       "       [nan, nan, nan, ..., nan, nan, nan],\n",
       "       [nan, nan, nan, ..., nan, nan, nan],\n",
       "       ...,\n",
       "       [nan, nan, nan, ..., nan, nan, nan],\n",
       "       [nan, nan, nan, ..., nan, nan, nan],\n",
       "       [nan, nan, nan, ..., nan, nan, nan]])\n",
       "Coordinates:\n",
       "  * lat      (lat) float64 60.0 59.96 59.92 59.88 ... -59.88 -59.92 -59.96\n",
       "  * lon      (lon) float64 -180.0 -180.0 -179.9 -179.9 ... 179.9 179.9 180.0"
      ]
     },
     "execution_count": 51,
     "metadata": {},
     "output_type": "execute_result"
    }
   ],
   "source": [
    "data_sum"
   ]
  },
  {
   "cell_type": "markdown",
   "metadata": {},
   "source": [
    "Recortar la precipitación satelital acumulada a la cuenca del Tomebamba y georeferenciar"
   ]
  },
  {
   "cell_type": "code",
   "execution_count": 52,
   "metadata": {},
   "outputs": [],
   "source": [
    "data_sum.rio.set_spatial_dims(x_dim=\"lon\", y_dim=\"lat\", inplace=True)\n",
    "data_sum.rio.write_crs(\"epsg:4326\", inplace=True)       \n",
    "data_tomebamba = data_sum.rio.clip(tomebamba_shp.geometry.apply(mapping),tomebamba_shp.crs,all_touched=True)"
   ]
  },
  {
   "cell_type": "markdown",
   "metadata": {},
   "source": [
    "Graficar y mostrar estadísticos básicos"
   ]
  },
  {
   "cell_type": "code",
   "execution_count": 53,
   "metadata": {},
   "outputs": [
    {
     "data": {
      "image/png": "[encoded data removed]",
      "text/plain": [
       "<Figure size 576x576 with 2 Axes>"
      ]
     },
     "metadata": {
      "needs_background": "light"
     },
     "output_type": "display_data"
    },
    {
     "name": "stdout",
     "output_type": "stream",
     "text": [
      "Precipitación máxima =  139.59 mm\n",
      "Precipitación promedio =  111.43148148148148 mm\n",
      "Precipitación mínima =  81.42000000000002 mm\n"
     ]
    }
   ],
   "source": [
    "fig = plt.subplots(figsize=(8,8))\n",
    "plt.imshow(data_tomebamba,cmap='cividis',vmin=0.1,vmax=150)\n",
    "plt.title(\"Precipitación Global PERSIANN-CCS\")\n",
    "plt.colorbar(label='Precipitación (mm)')\n",
    "plt.xlabel(\"Longitude\")\n",
    "plt.ylabel(\"Latitude\")\n",
    "plt.show()\n",
    "print('Precipitación máxima = ',data_tomebamba.max().values,'mm')\n",
    "print('Precipitación promedio = ',data_tomebamba.mean().values,'mm')\n",
    "print('Precipitación mínima = ',data_tomebamba.min().values,'mm')"
   ]
  },
  {
   "cell_type": "markdown",
   "metadata": {},
   "source": [
    "Ahora para la cuenca en Esmeraldas"
   ]
  },
  {
   "cell_type": "code",
   "execution_count": 54,
   "metadata": {},
   "outputs": [
    {
     "data": {
      "image/png": "[encoded data removed]",
      "text/plain": [
       "<Figure size 576x576 with 2 Axes>"
      ]
     },
     "metadata": {
      "needs_background": "light"
     },
     "output_type": "display_data"
    },
    {
     "name": "stdout",
     "output_type": "stream",
     "text": [
      "Precipitación máxima =  148.18999999999997 mm\n",
      "Precipitación promedio =  87.72428571428571 mm\n",
      "Precipitación mínima =  41.12 mm\n"
     ]
    }
   ],
   "source": [
    "data_esmeraldas = data_sum.rio.clip(esmeraldas_shp.geometry.apply(mapping),esmeraldas_shp.crs,all_touched=True)\n",
    "fig = plt.subplots(figsize=(8,8))\n",
    "plt.imshow(data_esmeraldas,cmap='cividis',vmin=0.1,vmax=150)\n",
    "plt.title(\"Precipitación Global PERSIANN-CCS\")\n",
    "plt.colorbar(label='Precipitación (mm)')\n",
    "plt.xlabel(\"Longitude\")\n",
    "plt.ylabel(\"Latitude\")\n",
    "plt.show()\n",
    "print('Precipitación máxima = ',data_esmeraldas.max().values,'mm')\n",
    "print('Precipitación promedio = ',data_esmeraldas.mean().values,'mm')\n",
    "print('Precipitación mínima = ',data_esmeraldas.min().values,'mm')"
   ]
  },
  {
   "cell_type": "markdown",
   "metadata": {},
   "source": [
    "Generar un dataframe con las series temporales de precipitación (de cada pixel).\n",
    "\n",
    "- Ejemplo en la cuenca del Tomebamba. Serie del 1 de enero de 2023."
   ]
  },
  {
   "cell_type": "code",
   "execution_count": 55,
   "metadata": {
    "scrolled": true
   },
   "outputs": [
    {
     "name": "stdout",
     "output_type": "stream",
     "text": [
      "1 out of 24\n",
      "2 out of 24\n",
      "3 out of 24\n",
      "4 out of 24\n",
      "5 out of 24\n",
      "6 out of 24\n",
      "7 out of 24\n",
      "8 out of 24\n",
      "9 out of 24\n",
      "10 out of 24\n",
      "11 out of 24\n",
      "12 out of 24\n",
      "13 out of 24\n",
      "14 out of 24\n",
      "15 out of 24\n",
      "16 out of 24\n",
      "17 out of 24\n",
      "18 out of 24\n",
      "19 out of 24\n",
      "20 out of 24\n",
      "21 out of 24\n",
      "22 out of 24\n",
      "23 out of 24\n",
      "24 out of 24\n"
     ]
    }
   ],
   "source": [
    "for index, item in enumerate(list_of_Files[:24]):\n",
    "    print(index+1, 'out of', len(list_of_Files[:24]))\n",
    "    f=gzip.GzipFile(item)\n",
    "    try:\n",
    "        file_content = f.read()\n",
    "    except (IOError, EOFError) as e:\n",
    "        continue\n",
    "    data = np.frombuffer(file_content, dtype=np.dtype('>h')).astype(float)  # Convert to float\n",
    "    data = data.reshape((3000,9000))\n",
    "    data_1 = data[:,4500:]\n",
    "    data_2 = data[:,:4500]\n",
    "    data = np.hstack((data_1,data_2))\n",
    "    data= data/100\n",
    "    data[data < 0] = np.nan  \n",
    "    data = np.flipud(data)\n",
    "    data = xr.DataArray(data=data, dims=[\"lat\", \"lon\"], coords=[lat,lon])\n",
    "    data.rio.set_spatial_dims(x_dim=\"lon\", y_dim=\"lat\", inplace=True)\n",
    "    data.rio.write_crs(\"epsg:4326\", inplace=True)       \n",
    "    data = data.rio.clip(tomebamba_shp.geometry.apply(mapping),tomebamba_shp.crs,all_touched=True)\n",
    "    data = data.values.flatten()\n",
    "    date_att = str(item)\n",
    "    year = int('20'+str(date_att[-14:-12]))\n",
    "    julian_day = int(str(date_att[-12:-9]))\n",
    "    day, month = JulianDate_to_MMDDYYY(year,julian_day)\n",
    "    hour = int(str(date_att[-9:-7]))\n",
    "    date = datetime.datetime(int(year), int(month), day, hour, 0, 0)\n",
    "    data = pd.DataFrame(data)\n",
    "    data = data.dropna() \n",
    "    data = data.T\n",
    "    data = data.set_index(pd.DatetimeIndex([date]))\n",
    "    if index==0:\n",
    "        dataset=data.copy()\n",
    "    else:       \n",
    "        dataset = dataset.append(data)"
   ]
  },
  {
   "cell_type": "markdown",
   "metadata": {},
   "source": [
    "Preprocesar la información y remover datos duplicados"
   ]
  },
  {
   "cell_type": "code",
   "execution_count": 57,
   "metadata": {},
   "outputs": [
    {
     "data": {
      "text/plain": [
       "(24, 27)"
      ]
     },
     "execution_count": 57,
     "metadata": {},
     "output_type": "execute_result"
    }
   ],
   "source": [
    "dataset.shape"
   ]
  },
  {
   "cell_type": "code",
   "execution_count": 56,
   "metadata": {},
   "outputs": [
    {
     "data": {
      "text/html": [
       "<div>\n",
       "<style scoped>\n",
       "    .dataframe tbody tr th:only-of-type {\n",
       "        vertical-align: middle;\n",
       "    }\n",
       "\n",
       "    .dataframe tbody tr th {\n",
       "        vertical-align: top;\n",
       "    }\n",
       "\n",
       "    .dataframe thead th {\n",
       "        text-align: right;\n",
       "    }\n",
       "</style>\n",
       "<table border=\"1\" class=\"dataframe\">\n",
       "  <thead>\n",
       "    <tr style=\"text-align: right;\">\n",
       "      <th></th>\n",
       "      <th>1</th>\n",
       "      <th>2</th>\n",
       "      <th>3</th>\n",
       "      <th>6</th>\n",
       "      <th>7</th>\n",
       "      <th>8</th>\n",
       "      <th>9</th>\n",
       "      <th>10</th>\n",
       "      <th>12</th>\n",
       "      <th>13</th>\n",
       "      <th>...</th>\n",
       "      <th>21</th>\n",
       "      <th>22</th>\n",
       "      <th>23</th>\n",
       "      <th>24</th>\n",
       "      <th>25</th>\n",
       "      <th>26</th>\n",
       "      <th>27</th>\n",
       "      <th>28</th>\n",
       "      <th>31</th>\n",
       "      <th>32</th>\n",
       "    </tr>\n",
       "  </thead>\n",
       "  <tbody>\n",
       "    <tr>\n",
       "      <th>2023-01-01 00:00:00</th>\n",
       "      <td>0.0</td>\n",
       "      <td>0.0</td>\n",
       "      <td>0.00</td>\n",
       "      <td>0.0</td>\n",
       "      <td>0.0</td>\n",
       "      <td>0.0</td>\n",
       "      <td>0.00</td>\n",
       "      <td>0.0</td>\n",
       "      <td>0.0</td>\n",
       "      <td>0.0</td>\n",
       "      <td>...</td>\n",
       "      <td>0.00</td>\n",
       "      <td>0.0</td>\n",
       "      <td>0.00</td>\n",
       "      <td>0.0</td>\n",
       "      <td>0.0</td>\n",
       "      <td>0.0</td>\n",
       "      <td>0.0</td>\n",
       "      <td>0.0</td>\n",
       "      <td>0.0</td>\n",
       "      <td>0.0</td>\n",
       "    </tr>\n",
       "    <tr>\n",
       "      <th>2023-01-01 01:00:00</th>\n",
       "      <td>0.0</td>\n",
       "      <td>0.0</td>\n",
       "      <td>0.00</td>\n",
       "      <td>0.0</td>\n",
       "      <td>0.0</td>\n",
       "      <td>0.0</td>\n",
       "      <td>0.00</td>\n",
       "      <td>0.0</td>\n",
       "      <td>0.0</td>\n",
       "      <td>0.0</td>\n",
       "      <td>...</td>\n",
       "      <td>0.00</td>\n",
       "      <td>0.0</td>\n",
       "      <td>0.00</td>\n",
       "      <td>0.0</td>\n",
       "      <td>0.0</td>\n",
       "      <td>0.0</td>\n",
       "      <td>0.0</td>\n",
       "      <td>0.0</td>\n",
       "      <td>0.0</td>\n",
       "      <td>0.0</td>\n",
       "    </tr>\n",
       "    <tr>\n",
       "      <th>2023-01-01 02:00:00</th>\n",
       "      <td>0.0</td>\n",
       "      <td>0.0</td>\n",
       "      <td>0.00</td>\n",
       "      <td>0.0</td>\n",
       "      <td>0.0</td>\n",
       "      <td>0.0</td>\n",
       "      <td>0.00</td>\n",
       "      <td>0.0</td>\n",
       "      <td>0.0</td>\n",
       "      <td>0.0</td>\n",
       "      <td>...</td>\n",
       "      <td>0.00</td>\n",
       "      <td>0.0</td>\n",
       "      <td>0.00</td>\n",
       "      <td>0.0</td>\n",
       "      <td>0.0</td>\n",
       "      <td>0.0</td>\n",
       "      <td>0.0</td>\n",
       "      <td>0.0</td>\n",
       "      <td>0.0</td>\n",
       "      <td>0.0</td>\n",
       "    </tr>\n",
       "    <tr>\n",
       "      <th>2023-01-01 03:00:00</th>\n",
       "      <td>0.0</td>\n",
       "      <td>0.0</td>\n",
       "      <td>0.00</td>\n",
       "      <td>0.0</td>\n",
       "      <td>0.0</td>\n",
       "      <td>0.0</td>\n",
       "      <td>0.00</td>\n",
       "      <td>0.0</td>\n",
       "      <td>0.0</td>\n",
       "      <td>0.0</td>\n",
       "      <td>...</td>\n",
       "      <td>0.00</td>\n",
       "      <td>0.0</td>\n",
       "      <td>0.00</td>\n",
       "      <td>0.0</td>\n",
       "      <td>0.0</td>\n",
       "      <td>0.0</td>\n",
       "      <td>0.0</td>\n",
       "      <td>0.0</td>\n",
       "      <td>0.0</td>\n",
       "      <td>0.0</td>\n",
       "    </tr>\n",
       "    <tr>\n",
       "      <th>2023-01-01 04:00:00</th>\n",
       "      <td>0.0</td>\n",
       "      <td>0.0</td>\n",
       "      <td>0.00</td>\n",
       "      <td>0.0</td>\n",
       "      <td>0.0</td>\n",
       "      <td>0.0</td>\n",
       "      <td>0.00</td>\n",
       "      <td>0.0</td>\n",
       "      <td>0.0</td>\n",
       "      <td>0.0</td>\n",
       "      <td>...</td>\n",
       "      <td>0.00</td>\n",
       "      <td>0.0</td>\n",
       "      <td>0.06</td>\n",
       "      <td>0.0</td>\n",
       "      <td>0.0</td>\n",
       "      <td>0.0</td>\n",
       "      <td>0.0</td>\n",
       "      <td>0.0</td>\n",
       "      <td>0.0</td>\n",
       "      <td>0.0</td>\n",
       "    </tr>\n",
       "    <tr>\n",
       "      <th>2023-01-01 05:00:00</th>\n",
       "      <td>0.0</td>\n",
       "      <td>0.0</td>\n",
       "      <td>0.26</td>\n",
       "      <td>0.0</td>\n",
       "      <td>0.0</td>\n",
       "      <td>0.0</td>\n",
       "      <td>2.57</td>\n",
       "      <td>0.0</td>\n",
       "      <td>0.0</td>\n",
       "      <td>0.0</td>\n",
       "      <td>...</td>\n",
       "      <td>0.09</td>\n",
       "      <td>0.0</td>\n",
       "      <td>0.00</td>\n",
       "      <td>0.0</td>\n",
       "      <td>0.0</td>\n",
       "      <td>0.0</td>\n",
       "      <td>0.0</td>\n",
       "      <td>0.0</td>\n",
       "      <td>0.0</td>\n",
       "      <td>0.0</td>\n",
       "    </tr>\n",
       "    <tr>\n",
       "      <th>2023-01-01 06:00:00</th>\n",
       "      <td>0.0</td>\n",
       "      <td>0.0</td>\n",
       "      <td>0.00</td>\n",
       "      <td>0.0</td>\n",
       "      <td>0.0</td>\n",
       "      <td>0.0</td>\n",
       "      <td>0.00</td>\n",
       "      <td>0.0</td>\n",
       "      <td>0.0</td>\n",
       "      <td>0.0</td>\n",
       "      <td>...</td>\n",
       "      <td>0.00</td>\n",
       "      <td>0.0</td>\n",
       "      <td>0.00</td>\n",
       "      <td>0.0</td>\n",
       "      <td>0.0</td>\n",
       "      <td>0.0</td>\n",
       "      <td>0.0</td>\n",
       "      <td>0.0</td>\n",
       "      <td>0.0</td>\n",
       "      <td>0.0</td>\n",
       "    </tr>\n",
       "    <tr>\n",
       "      <th>2023-01-01 07:00:00</th>\n",
       "      <td>0.0</td>\n",
       "      <td>0.0</td>\n",
       "      <td>0.00</td>\n",
       "      <td>0.0</td>\n",
       "      <td>0.0</td>\n",
       "      <td>0.0</td>\n",
       "      <td>0.00</td>\n",
       "      <td>0.0</td>\n",
       "      <td>0.0</td>\n",
       "      <td>0.0</td>\n",
       "      <td>...</td>\n",
       "      <td>0.00</td>\n",
       "      <td>0.0</td>\n",
       "      <td>0.00</td>\n",
       "      <td>0.0</td>\n",
       "      <td>0.0</td>\n",
       "      <td>0.0</td>\n",
       "      <td>0.0</td>\n",
       "      <td>0.0</td>\n",
       "      <td>0.0</td>\n",
       "      <td>0.0</td>\n",
       "    </tr>\n",
       "    <tr>\n",
       "      <th>2023-01-01 08:00:00</th>\n",
       "      <td>0.0</td>\n",
       "      <td>0.0</td>\n",
       "      <td>0.00</td>\n",
       "      <td>0.0</td>\n",
       "      <td>0.0</td>\n",
       "      <td>0.0</td>\n",
       "      <td>0.00</td>\n",
       "      <td>0.0</td>\n",
       "      <td>0.0</td>\n",
       "      <td>0.0</td>\n",
       "      <td>...</td>\n",
       "      <td>0.00</td>\n",
       "      <td>0.0</td>\n",
       "      <td>0.00</td>\n",
       "      <td>0.0</td>\n",
       "      <td>0.0</td>\n",
       "      <td>0.0</td>\n",
       "      <td>0.0</td>\n",
       "      <td>0.0</td>\n",
       "      <td>0.0</td>\n",
       "      <td>0.0</td>\n",
       "    </tr>\n",
       "    <tr>\n",
       "      <th>2023-01-01 09:00:00</th>\n",
       "      <td>0.0</td>\n",
       "      <td>0.0</td>\n",
       "      <td>0.00</td>\n",
       "      <td>0.0</td>\n",
       "      <td>0.0</td>\n",
       "      <td>0.0</td>\n",
       "      <td>0.00</td>\n",
       "      <td>0.0</td>\n",
       "      <td>0.0</td>\n",
       "      <td>0.0</td>\n",
       "      <td>...</td>\n",
       "      <td>0.00</td>\n",
       "      <td>0.0</td>\n",
       "      <td>0.00</td>\n",
       "      <td>0.0</td>\n",
       "      <td>0.0</td>\n",
       "      <td>0.0</td>\n",
       "      <td>0.0</td>\n",
       "      <td>0.0</td>\n",
       "      <td>0.0</td>\n",
       "      <td>0.0</td>\n",
       "    </tr>\n",
       "    <tr>\n",
       "      <th>2023-01-01 10:00:00</th>\n",
       "      <td>0.0</td>\n",
       "      <td>0.0</td>\n",
       "      <td>0.00</td>\n",
       "      <td>0.0</td>\n",
       "      <td>0.0</td>\n",
       "      <td>0.0</td>\n",
       "      <td>0.00</td>\n",
       "      <td>0.0</td>\n",
       "      <td>0.0</td>\n",
       "      <td>0.0</td>\n",
       "      <td>...</td>\n",
       "      <td>0.00</td>\n",
       "      <td>0.0</td>\n",
       "      <td>0.00</td>\n",
       "      <td>0.0</td>\n",
       "      <td>0.0</td>\n",
       "      <td>0.0</td>\n",
       "      <td>0.0</td>\n",
       "      <td>0.0</td>\n",
       "      <td>0.0</td>\n",
       "      <td>0.0</td>\n",
       "    </tr>\n",
       "    <tr>\n",
       "      <th>2023-01-01 11:00:00</th>\n",
       "      <td>0.0</td>\n",
       "      <td>0.0</td>\n",
       "      <td>0.00</td>\n",
       "      <td>0.0</td>\n",
       "      <td>0.0</td>\n",
       "      <td>0.0</td>\n",
       "      <td>0.00</td>\n",
       "      <td>0.0</td>\n",
       "      <td>0.0</td>\n",
       "      <td>0.0</td>\n",
       "      <td>...</td>\n",
       "      <td>0.00</td>\n",
       "      <td>0.0</td>\n",
       "      <td>0.00</td>\n",
       "      <td>0.0</td>\n",
       "      <td>0.0</td>\n",
       "      <td>0.0</td>\n",
       "      <td>0.0</td>\n",
       "      <td>0.0</td>\n",
       "      <td>0.0</td>\n",
       "      <td>0.0</td>\n",
       "    </tr>\n",
       "    <tr>\n",
       "      <th>2023-01-01 12:00:00</th>\n",
       "      <td>0.0</td>\n",
       "      <td>0.0</td>\n",
       "      <td>0.00</td>\n",
       "      <td>0.0</td>\n",
       "      <td>0.0</td>\n",
       "      <td>0.0</td>\n",
       "      <td>0.00</td>\n",
       "      <td>0.0</td>\n",
       "      <td>0.0</td>\n",
       "      <td>0.0</td>\n",
       "      <td>...</td>\n",
       "      <td>0.00</td>\n",
       "      <td>0.0</td>\n",
       "      <td>0.00</td>\n",
       "      <td>0.0</td>\n",
       "      <td>0.0</td>\n",
       "      <td>0.0</td>\n",
       "      <td>0.0</td>\n",
       "      <td>0.0</td>\n",
       "      <td>0.0</td>\n",
       "      <td>0.0</td>\n",
       "    </tr>\n",
       "    <tr>\n",
       "      <th>2023-01-01 13:00:00</th>\n",
       "      <td>0.0</td>\n",
       "      <td>0.0</td>\n",
       "      <td>0.00</td>\n",
       "      <td>0.0</td>\n",
       "      <td>0.0</td>\n",
       "      <td>0.0</td>\n",
       "      <td>0.00</td>\n",
       "      <td>0.0</td>\n",
       "      <td>0.0</td>\n",
       "      <td>0.0</td>\n",
       "      <td>...</td>\n",
       "      <td>0.00</td>\n",
       "      <td>0.0</td>\n",
       "      <td>0.00</td>\n",
       "      <td>0.0</td>\n",
       "      <td>0.0</td>\n",
       "      <td>0.0</td>\n",
       "      <td>0.0</td>\n",
       "      <td>0.0</td>\n",
       "      <td>0.0</td>\n",
       "      <td>0.0</td>\n",
       "    </tr>\n",
       "    <tr>\n",
       "      <th>2023-01-01 14:00:00</th>\n",
       "      <td>0.0</td>\n",
       "      <td>0.0</td>\n",
       "      <td>0.00</td>\n",
       "      <td>0.0</td>\n",
       "      <td>0.0</td>\n",
       "      <td>0.0</td>\n",
       "      <td>0.00</td>\n",
       "      <td>0.0</td>\n",
       "      <td>0.0</td>\n",
       "      <td>0.0</td>\n",
       "      <td>...</td>\n",
       "      <td>0.00</td>\n",
       "      <td>0.0</td>\n",
       "      <td>0.00</td>\n",
       "      <td>0.0</td>\n",
       "      <td>0.0</td>\n",
       "      <td>0.0</td>\n",
       "      <td>0.0</td>\n",
       "      <td>0.0</td>\n",
       "      <td>0.0</td>\n",
       "      <td>0.0</td>\n",
       "    </tr>\n",
       "    <tr>\n",
       "      <th>2023-01-01 15:00:00</th>\n",
       "      <td>0.0</td>\n",
       "      <td>0.0</td>\n",
       "      <td>0.00</td>\n",
       "      <td>0.0</td>\n",
       "      <td>0.0</td>\n",
       "      <td>0.0</td>\n",
       "      <td>0.00</td>\n",
       "      <td>0.0</td>\n",
       "      <td>0.0</td>\n",
       "      <td>0.0</td>\n",
       "      <td>...</td>\n",
       "      <td>0.00</td>\n",
       "      <td>0.0</td>\n",
       "      <td>0.00</td>\n",
       "      <td>0.0</td>\n",
       "      <td>0.0</td>\n",
       "      <td>0.0</td>\n",
       "      <td>0.0</td>\n",
       "      <td>0.0</td>\n",
       "      <td>0.0</td>\n",
       "      <td>0.0</td>\n",
       "    </tr>\n",
       "    <tr>\n",
       "      <th>2023-01-01 16:00:00</th>\n",
       "      <td>0.0</td>\n",
       "      <td>0.0</td>\n",
       "      <td>0.00</td>\n",
       "      <td>0.0</td>\n",
       "      <td>0.0</td>\n",
       "      <td>0.0</td>\n",
       "      <td>0.00</td>\n",
       "      <td>0.0</td>\n",
       "      <td>0.0</td>\n",
       "      <td>0.0</td>\n",
       "      <td>...</td>\n",
       "      <td>0.00</td>\n",
       "      <td>0.0</td>\n",
       "      <td>0.00</td>\n",
       "      <td>0.0</td>\n",
       "      <td>0.0</td>\n",
       "      <td>0.0</td>\n",
       "      <td>0.0</td>\n",
       "      <td>0.0</td>\n",
       "      <td>0.0</td>\n",
       "      <td>0.0</td>\n",
       "    </tr>\n",
       "    <tr>\n",
       "      <th>2023-01-01 17:00:00</th>\n",
       "      <td>0.0</td>\n",
       "      <td>0.0</td>\n",
       "      <td>0.00</td>\n",
       "      <td>0.0</td>\n",
       "      <td>0.0</td>\n",
       "      <td>0.0</td>\n",
       "      <td>0.00</td>\n",
       "      <td>0.0</td>\n",
       "      <td>0.0</td>\n",
       "      <td>0.0</td>\n",
       "      <td>...</td>\n",
       "      <td>0.00</td>\n",
       "      <td>0.0</td>\n",
       "      <td>0.00</td>\n",
       "      <td>0.0</td>\n",
       "      <td>0.0</td>\n",
       "      <td>0.0</td>\n",
       "      <td>0.0</td>\n",
       "      <td>0.0</td>\n",
       "      <td>0.0</td>\n",
       "      <td>0.0</td>\n",
       "    </tr>\n",
       "    <tr>\n",
       "      <th>2023-01-01 18:00:00</th>\n",
       "      <td>0.0</td>\n",
       "      <td>0.0</td>\n",
       "      <td>0.00</td>\n",
       "      <td>0.0</td>\n",
       "      <td>0.0</td>\n",
       "      <td>0.0</td>\n",
       "      <td>0.00</td>\n",
       "      <td>0.0</td>\n",
       "      <td>0.0</td>\n",
       "      <td>0.0</td>\n",
       "      <td>...</td>\n",
       "      <td>0.00</td>\n",
       "      <td>0.0</td>\n",
       "      <td>0.00</td>\n",
       "      <td>0.0</td>\n",
       "      <td>0.0</td>\n",
       "      <td>0.0</td>\n",
       "      <td>0.0</td>\n",
       "      <td>0.0</td>\n",
       "      <td>0.0</td>\n",
       "      <td>0.0</td>\n",
       "    </tr>\n",
       "    <tr>\n",
       "      <th>2023-01-01 19:00:00</th>\n",
       "      <td>0.0</td>\n",
       "      <td>0.0</td>\n",
       "      <td>0.00</td>\n",
       "      <td>0.0</td>\n",
       "      <td>0.0</td>\n",
       "      <td>0.0</td>\n",
       "      <td>0.00</td>\n",
       "      <td>0.0</td>\n",
       "      <td>0.0</td>\n",
       "      <td>0.0</td>\n",
       "      <td>...</td>\n",
       "      <td>0.00</td>\n",
       "      <td>0.0</td>\n",
       "      <td>0.00</td>\n",
       "      <td>0.0</td>\n",
       "      <td>0.0</td>\n",
       "      <td>0.0</td>\n",
       "      <td>0.0</td>\n",
       "      <td>0.0</td>\n",
       "      <td>0.0</td>\n",
       "      <td>0.0</td>\n",
       "    </tr>\n",
       "    <tr>\n",
       "      <th>2023-01-01 20:00:00</th>\n",
       "      <td>0.0</td>\n",
       "      <td>0.0</td>\n",
       "      <td>0.00</td>\n",
       "      <td>0.0</td>\n",
       "      <td>0.0</td>\n",
       "      <td>0.0</td>\n",
       "      <td>0.00</td>\n",
       "      <td>0.0</td>\n",
       "      <td>0.0</td>\n",
       "      <td>0.0</td>\n",
       "      <td>...</td>\n",
       "      <td>0.00</td>\n",
       "      <td>0.0</td>\n",
       "      <td>0.00</td>\n",
       "      <td>0.0</td>\n",
       "      <td>0.0</td>\n",
       "      <td>0.0</td>\n",
       "      <td>0.0</td>\n",
       "      <td>0.0</td>\n",
       "      <td>0.0</td>\n",
       "      <td>0.0</td>\n",
       "    </tr>\n",
       "    <tr>\n",
       "      <th>2023-01-01 21:00:00</th>\n",
       "      <td>0.0</td>\n",
       "      <td>0.0</td>\n",
       "      <td>0.00</td>\n",
       "      <td>0.0</td>\n",
       "      <td>0.0</td>\n",
       "      <td>0.0</td>\n",
       "      <td>0.00</td>\n",
       "      <td>0.0</td>\n",
       "      <td>0.0</td>\n",
       "      <td>0.0</td>\n",
       "      <td>...</td>\n",
       "      <td>0.00</td>\n",
       "      <td>0.0</td>\n",
       "      <td>0.00</td>\n",
       "      <td>0.0</td>\n",
       "      <td>0.0</td>\n",
       "      <td>0.0</td>\n",
       "      <td>0.0</td>\n",
       "      <td>0.0</td>\n",
       "      <td>0.0</td>\n",
       "      <td>0.0</td>\n",
       "    </tr>\n",
       "    <tr>\n",
       "      <th>2023-01-01 22:00:00</th>\n",
       "      <td>0.0</td>\n",
       "      <td>0.0</td>\n",
       "      <td>0.00</td>\n",
       "      <td>0.0</td>\n",
       "      <td>0.0</td>\n",
       "      <td>0.0</td>\n",
       "      <td>0.00</td>\n",
       "      <td>0.0</td>\n",
       "      <td>0.0</td>\n",
       "      <td>0.0</td>\n",
       "      <td>...</td>\n",
       "      <td>0.00</td>\n",
       "      <td>0.0</td>\n",
       "      <td>0.00</td>\n",
       "      <td>0.0</td>\n",
       "      <td>0.0</td>\n",
       "      <td>0.0</td>\n",
       "      <td>0.0</td>\n",
       "      <td>0.0</td>\n",
       "      <td>0.0</td>\n",
       "      <td>0.0</td>\n",
       "    </tr>\n",
       "    <tr>\n",
       "      <th>2023-01-01 23:00:00</th>\n",
       "      <td>0.0</td>\n",
       "      <td>0.0</td>\n",
       "      <td>0.00</td>\n",
       "      <td>0.0</td>\n",
       "      <td>0.0</td>\n",
       "      <td>0.0</td>\n",
       "      <td>0.00</td>\n",
       "      <td>0.0</td>\n",
       "      <td>0.0</td>\n",
       "      <td>0.0</td>\n",
       "      <td>...</td>\n",
       "      <td>0.00</td>\n",
       "      <td>0.0</td>\n",
       "      <td>0.00</td>\n",
       "      <td>0.0</td>\n",
       "      <td>0.0</td>\n",
       "      <td>0.0</td>\n",
       "      <td>0.0</td>\n",
       "      <td>0.0</td>\n",
       "      <td>0.0</td>\n",
       "      <td>0.0</td>\n",
       "    </tr>\n",
       "  </tbody>\n",
       "</table>\n",
       "<p>24 rows × 27 columns</p>\n",
       "</div>"
      ],
      "text/plain": [
       "                      1    2     3    6    7    8     9    10   12   13  ...  \\\n",
       "2023-01-01 00:00:00  0.0  0.0  0.00  0.0  0.0  0.0  0.00  0.0  0.0  0.0  ...   \n",
       "2023-01-01 01:00:00  0.0  0.0  0.00  0.0  0.0  0.0  0.00  0.0  0.0  0.0  ...   \n",
       "2023-01-01 02:00:00  0.0  0.0  0.00  0.0  0.0  0.0  0.00  0.0  0.0  0.0  ...   \n",
       "2023-01-01 03:00:00  0.0  0.0  0.00  0.0  0.0  0.0  0.00  0.0  0.0  0.0  ...   \n",
       "2023-01-01 04:00:00  0.0  0.0  0.00  0.0  0.0  0.0  0.00  0.0  0.0  0.0  ...   \n",
       "2023-01-01 05:00:00  0.0  0.0  0.26  0.0  0.0  0.0  2.57  0.0  0.0  0.0  ...   \n",
       "2023-01-01 06:00:00  0.0  0.0  0.00  0.0  0.0  0.0  0.00  0.0  0.0  0.0  ...   \n",
       "2023-01-01 07:00:00  0.0  0.0  0.00  0.0  0.0  0.0  0.00  0.0  0.0  0.0  ...   \n",
       "2023-01-01 08:00:00  0.0  0.0  0.00  0.0  0.0  0.0  0.00  0.0  0.0  0.0  ...   \n",
       "2023-01-01 09:00:00  0.0  0.0  0.00  0.0  0.0  0.0  0.00  0.0  0.0  0.0  ...   \n",
       "2023-01-01 10:00:00  0.0  0.0  0.00  0.0  0.0  0.0  0.00  0.0  0.0  0.0  ...   \n",
       "2023-01-01 11:00:00  0.0  0.0  0.00  0.0  0.0  0.0  0.00  0.0  0.0  0.0  ...   \n",
       "2023-01-01 12:00:00  0.0  0.0  0.00  0.0  0.0  0.0  0.00  0.0  0.0  0.0  ...   \n",
       "2023-01-01 13:00:00  0.0  0.0  0.00  0.0  0.0  0.0  0.00  0.0  0.0  0.0  ...   \n",
       "2023-01-01 14:00:00  0.0  0.0  0.00  0.0  0.0  0.0  0.00  0.0  0.0  0.0  ...   \n",
       "2023-01-01 15:00:00  0.0  0.0  0.00  0.0  0.0  0.0  0.00  0.0  0.0  0.0  ...   \n",
       "2023-01-01 16:00:00  0.0  0.0  0.00  0.0  0.0  0.0  0.00  0.0  0.0  0.0  ...   \n",
       "2023-01-01 17:00:00  0.0  0.0  0.00  0.0  0.0  0.0  0.00  0.0  0.0  0.0  ...   \n",
       "2023-01-01 18:00:00  0.0  0.0  0.00  0.0  0.0  0.0  0.00  0.0  0.0  0.0  ...   \n",
       "2023-01-01 19:00:00  0.0  0.0  0.00  0.0  0.0  0.0  0.00  0.0  0.0  0.0  ...   \n",
       "2023-01-01 20:00:00  0.0  0.0  0.00  0.0  0.0  0.0  0.00  0.0  0.0  0.0  ...   \n",
       "2023-01-01 21:00:00  0.0  0.0  0.00  0.0  0.0  0.0  0.00  0.0  0.0  0.0  ...   \n",
       "2023-01-01 22:00:00  0.0  0.0  0.00  0.0  0.0  0.0  0.00  0.0  0.0  0.0  ...   \n",
       "2023-01-01 23:00:00  0.0  0.0  0.00  0.0  0.0  0.0  0.00  0.0  0.0  0.0  ...   \n",
       "\n",
       "                       21   22    23   24   25   26   27   28   31   32  \n",
       "2023-01-01 00:00:00  0.00  0.0  0.00  0.0  0.0  0.0  0.0  0.0  0.0  0.0  \n",
       "2023-01-01 01:00:00  0.00  0.0  0.00  0.0  0.0  0.0  0.0  0.0  0.0  0.0  \n",
       "2023-01-01 02:00:00  0.00  0.0  0.00  0.0  0.0  0.0  0.0  0.0  0.0  0.0  \n",
       "2023-01-01 03:00:00  0.00  0.0  0.00  0.0  0.0  0.0  0.0  0.0  0.0  0.0  \n",
       "2023-01-01 04:00:00  0.00  0.0  0.06  0.0  0.0  0.0  0.0  0.0  0.0  0.0  \n",
       "2023-01-01 05:00:00  0.09  0.0  0.00  0.0  0.0  0.0  0.0  0.0  0.0  0.0  \n",
       "2023-01-01 06:00:00  0.00  0.0  0.00  0.0  0.0  0.0  0.0  0.0  0.0  0.0  \n",
       "2023-01-01 07:00:00  0.00  0.0  0.00  0.0  0.0  0.0  0.0  0.0  0.0  0.0  \n",
       "2023-01-01 08:00:00  0.00  0.0  0.00  0.0  0.0  0.0  0.0  0.0  0.0  0.0  \n",
       "2023-01-01 09:00:00  0.00  0.0  0.00  0.0  0.0  0.0  0.0  0.0  0.0  0.0  \n",
       "2023-01-01 10:00:00  0.00  0.0  0.00  0.0  0.0  0.0  0.0  0.0  0.0  0.0  \n",
       "2023-01-01 11:00:00  0.00  0.0  0.00  0.0  0.0  0.0  0.0  0.0  0.0  0.0  \n",
       "2023-01-01 12:00:00  0.00  0.0  0.00  0.0  0.0  0.0  0.0  0.0  0.0  0.0  \n",
       "2023-01-01 13:00:00  0.00  0.0  0.00  0.0  0.0  0.0  0.0  0.0  0.0  0.0  \n",
       "2023-01-01 14:00:00  0.00  0.0  0.00  0.0  0.0  0.0  0.0  0.0  0.0  0.0  \n",
       "2023-01-01 15:00:00  0.00  0.0  0.00  0.0  0.0  0.0  0.0  0.0  0.0  0.0  \n",
       "2023-01-01 16:00:00  0.00  0.0  0.00  0.0  0.0  0.0  0.0  0.0  0.0  0.0  \n",
       "2023-01-01 17:00:00  0.00  0.0  0.00  0.0  0.0  0.0  0.0  0.0  0.0  0.0  \n",
       "2023-01-01 18:00:00  0.00  0.0  0.00  0.0  0.0  0.0  0.0  0.0  0.0  0.0  \n",
       "2023-01-01 19:00:00  0.00  0.0  0.00  0.0  0.0  0.0  0.0  0.0  0.0  0.0  \n",
       "2023-01-01 20:00:00  0.00  0.0  0.00  0.0  0.0  0.0  0.0  0.0  0.0  0.0  \n",
       "2023-01-01 21:00:00  0.00  0.0  0.00  0.0  0.0  0.0  0.0  0.0  0.0  0.0  \n",
       "2023-01-01 22:00:00  0.00  0.0  0.00  0.0  0.0  0.0  0.0  0.0  0.0  0.0  \n",
       "2023-01-01 23:00:00  0.00  0.0  0.00  0.0  0.0  0.0  0.0  0.0  0.0  0.0  \n",
       "\n",
       "[24 rows x 27 columns]"
      ]
     },
     "execution_count": 56,
     "metadata": {},
     "output_type": "execute_result"
    }
   ],
   "source": [
    "dataset = dataset.sort_index()\n",
    "dataset = dataset[~dataset.index.duplicated(keep='first')]\n",
    "dataset"
   ]
  },
  {
   "cell_type": "markdown",
   "metadata": {},
   "source": [
    "Exportar esta información en formato **csv**"
   ]
  },
  {
   "cell_type": "code",
   "execution_count": 58,
   "metadata": {},
   "outputs": [],
   "source": [
    "dataset.to_csv(folder_files+\"PERSIANN-CCS_UTC_Tomebamba.csv\", index=True)"
   ]
  },
  {
   "cell_type": "markdown",
   "metadata": {},
   "source": [
    "Graficar la precipitación satelital extraída "
   ]
  },
  {
   "cell_type": "code",
   "execution_count": 59,
   "metadata": {},
   "outputs": [
    {
     "data": {
      "image/png": "[encoded data removed]",
      "text/plain": [
       "<Figure size 1440x360 with 1 Axes>"
      ]
     },
     "metadata": {
      "needs_background": "light"
     },
     "output_type": "display_data"
    }
   ],
   "source": [
    "fig, ax = plt.subplots(figsize=(20,5))\n",
    "dataset.plot(kind='bar', ax=ax)\n",
    "ax.legend(title='Legend Title')\n",
    "plt.ylabel('Precipitation_satellite (mm)')\n",
    "plt.legend(loc='upper center', bbox_to_anchor=(0.5, -0.6), ncol=6)\n",
    "plt.show()"
   ]
  },
  {
   "cell_type": "markdown",
   "metadata": {},
   "source": [
    "Calcular y graficar la precipitación acumulada"
   ]
  },
  {
   "cell_type": "code",
   "execution_count": 60,
   "metadata": {},
   "outputs": [
    {
     "data": {
      "image/png": "[encoded data removed]",
      "text/plain": [
       "<Figure size 1440x360 with 1 Axes>"
      ]
     },
     "metadata": {
      "needs_background": "light"
     },
     "output_type": "display_data"
    }
   ],
   "source": [
    "fig, ax = plt.subplots(figsize=(20,5))\n",
    "dataset.cumsum().plot(ax=ax)\n",
    "ax.legend(title='Legend Title')\n",
    "plt.ylabel('Precipitation_satellite (mm)')\n",
    "plt.legend(loc='upper center', bbox_to_anchor=(0.5, -0.3), ncol=6)\n",
    "plt.show()"
   ]
  },
  {
   "cell_type": "markdown",
   "metadata": {},
   "source": [
    "# Fuentes de datos IMERG"
   ]
  },
  {
   "cell_type": "markdown",
   "metadata": {},
   "source": [
    "Página web: https://gpm.nasa.gov/data/imerg\n",
    "\n",
    "Subproductos disponibles:\n",
    "- Early Run\n",
    "- Late Run\n",
    "- Final Run\n",
    "\n",
    "Vamos a centrarnos en el subproducto con la resolución espacial/temporal más fina, IMERG-Early Run.\n"
   ]
  },
  {
   "cell_type": "markdown",
   "metadata": {},
   "source": [
    "## Registro previo para descargar datos IMERG"
   ]
  },
  {
   "cell_type": "markdown",
   "metadata": {},
   "source": [
    "Registrarse en el siguiente link:"
   ]
  },
  {
   "cell_type": "markdown",
   "metadata": {},
   "source": [
    "https://registration.pps.eosdis.nasa.gov/registration/newContact.html"
   ]
  },
  {
   "cell_type": "markdown",
   "metadata": {},
   "source": [
    "<div style=\"text-align:center;\"><img style=\"width: 100%;\" src=\"static/imgs/IMERG_registration.png\"></div>\n"
   ]
  },
  {
   "cell_type": "markdown",
   "metadata": {},
   "source": [
    "Una vez registrados, confirmamos desde el correo electrónico."
   ]
  },
  {
   "cell_type": "markdown",
   "metadata": {},
   "source": [
    "## Conectarse al repositorio de datos IMERG"
   ]
  },
  {
   "cell_type": "markdown",
   "metadata": {},
   "source": [
    "Ingresamos la siguiente información:\n",
    "\n",
    "- **Protocol:** FTP - File Transfer Protocol\n",
    "\n",
    "- **Host:** jsimpsonftps.pps.eosdis.nasa.gov\n",
    "\n",
    "- **Logon type:** Normal, ingresar usuario y contraseña"
   ]
  },
  {
   "cell_type": "markdown",
   "metadata": {},
   "source": [
    "<div style=\"text-align:center;\"><img style=\"width: 100%;\" src=\"static/imgs/IMERG_FTP.png\"></div>"
   ]
  },
  {
   "cell_type": "markdown",
   "metadata": {},
   "source": [
    "Al conectarse, tenemos acceso remoto a la carpeta de datos de IMERG"
   ]
  },
  {
   "cell_type": "markdown",
   "metadata": {},
   "source": [
    "<div style=\"text-align:center;\"><img style=\"width: 100%;\" src=\"static/imgs/IMERG_server.png\"></div>"
   ]
  },
  {
   "cell_type": "markdown",
   "metadata": {},
   "source": [
    "## Descargar información del repositorio de IMERG-Early Run"
   ]
  },
  {
   "cell_type": "markdown",
   "metadata": {},
   "source": [
    "Click derecho en la carpeta/archivo que queremos descargar en la carpeta local."
   ]
  },
  {
   "cell_type": "markdown",
   "metadata": {},
   "source": [
    "## Abrir un archivo de precipitación de IMERG"
   ]
  },
  {
   "cell_type": "markdown",
   "metadata": {},
   "source": [
    "Definr carpeta de datos IMERG-ER"
   ]
  },
  {
   "cell_type": "code",
   "execution_count": 62,
   "metadata": {},
   "outputs": [
    {
     "data": {
      "text/plain": [
       "'/Users/paul/Documents/PNUD/Clases/2_Martes_17_octubre/data/IMERG-ER/Hourly/Global/202301/'"
      ]
     },
     "execution_count": 62,
     "metadata": {},
     "output_type": "execute_result"
    }
   ],
   "source": [
    "folder = os.getcwd()\n",
    "folder_files= folder+'/data/IMERG-ER/Hourly/Global/202301/'\n",
    "folder_files"
   ]
  },
  {
   "cell_type": "markdown",
   "metadata": {},
   "source": [
    "Crear una lista con archivos de precipitación del 31 de enero de 2023"
   ]
  },
  {
   "cell_type": "code",
   "execution_count": 63,
   "metadata": {},
   "outputs": [],
   "source": [
    "list_of_Files = glob.glob(folder_files + '/*H5')\n",
    "list_of_Files.sort()"
   ]
  },
  {
   "cell_type": "markdown",
   "metadata": {},
   "source": [
    "Mostrar la lista "
   ]
  },
  {
   "cell_type": "code",
   "execution_count": 64,
   "metadata": {},
   "outputs": [
    {
     "data": {
      "text/plain": [
       "['/Users/paul/Documents/PNUD/Clases/2_Martes_17_octubre/data/IMERG-ER/Hourly/Global/202301/3B-HHR-E.MS.MRG.3IMERG.20230131-S000000-E002959.0000.V06C.RT-H5',\n",
       " '/Users/paul/Documents/PNUD/Clases/2_Martes_17_octubre/data/IMERG-ER/Hourly/Global/202301/3B-HHR-E.MS.MRG.3IMERG.20230131-S003000-E005959.0030.V06C.RT-H5',\n",
       " '/Users/paul/Documents/PNUD/Clases/2_Martes_17_octubre/data/IMERG-ER/Hourly/Global/202301/3B-HHR-E.MS.MRG.3IMERG.20230131-S010000-E012959.0060.V06C.RT-H5',\n",
       " '/Users/paul/Documents/PNUD/Clases/2_Martes_17_octubre/data/IMERG-ER/Hourly/Global/202301/3B-HHR-E.MS.MRG.3IMERG.20230131-S013000-E015959.0090.V06C.RT-H5',\n",
       " '/Users/paul/Documents/PNUD/Clases/2_Martes_17_octubre/data/IMERG-ER/Hourly/Global/202301/3B-HHR-E.MS.MRG.3IMERG.20230131-S020000-E022959.0120.V06C.RT-H5',\n",
       " '/Users/paul/Documents/PNUD/Clases/2_Martes_17_octubre/data/IMERG-ER/Hourly/Global/202301/3B-HHR-E.MS.MRG.3IMERG.20230131-S023000-E025959.0150.V06C.RT-H5',\n",
       " '/Users/paul/Documents/PNUD/Clases/2_Martes_17_octubre/data/IMERG-ER/Hourly/Global/202301/3B-HHR-E.MS.MRG.3IMERG.20230131-S030000-E032959.0180.V06C.RT-H5',\n",
       " '/Users/paul/Documents/PNUD/Clases/2_Martes_17_octubre/data/IMERG-ER/Hourly/Global/202301/3B-HHR-E.MS.MRG.3IMERG.20230131-S033000-E035959.0210.V06C.RT-H5',\n",
       " '/Users/paul/Documents/PNUD/Clases/2_Martes_17_octubre/data/IMERG-ER/Hourly/Global/202301/3B-HHR-E.MS.MRG.3IMERG.20230131-S040000-E042959.0240.V06C.RT-H5',\n",
       " '/Users/paul/Documents/PNUD/Clases/2_Martes_17_octubre/data/IMERG-ER/Hourly/Global/202301/3B-HHR-E.MS.MRG.3IMERG.20230131-S043000-E045959.0270.V06C.RT-H5',\n",
       " '/Users/paul/Documents/PNUD/Clases/2_Martes_17_octubre/data/IMERG-ER/Hourly/Global/202301/3B-HHR-E.MS.MRG.3IMERG.20230131-S050000-E052959.0300.V06C.RT-H5',\n",
       " '/Users/paul/Documents/PNUD/Clases/2_Martes_17_octubre/data/IMERG-ER/Hourly/Global/202301/3B-HHR-E.MS.MRG.3IMERG.20230131-S053000-E055959.0330.V06C.RT-H5',\n",
       " '/Users/paul/Documents/PNUD/Clases/2_Martes_17_octubre/data/IMERG-ER/Hourly/Global/202301/3B-HHR-E.MS.MRG.3IMERG.20230131-S060000-E062959.0360.V06C.RT-H5',\n",
       " '/Users/paul/Documents/PNUD/Clases/2_Martes_17_octubre/data/IMERG-ER/Hourly/Global/202301/3B-HHR-E.MS.MRG.3IMERG.20230131-S063000-E065959.0390.V06C.RT-H5',\n",
       " '/Users/paul/Documents/PNUD/Clases/2_Martes_17_octubre/data/IMERG-ER/Hourly/Global/202301/3B-HHR-E.MS.MRG.3IMERG.20230131-S070000-E072959.0420.V06C.RT-H5',\n",
       " '/Users/paul/Documents/PNUD/Clases/2_Martes_17_octubre/data/IMERG-ER/Hourly/Global/202301/3B-HHR-E.MS.MRG.3IMERG.20230131-S073000-E075959.0450.V06C.RT-H5',\n",
       " '/Users/paul/Documents/PNUD/Clases/2_Martes_17_octubre/data/IMERG-ER/Hourly/Global/202301/3B-HHR-E.MS.MRG.3IMERG.20230131-S080000-E082959.0480.V06C.RT-H5',\n",
       " '/Users/paul/Documents/PNUD/Clases/2_Martes_17_octubre/data/IMERG-ER/Hourly/Global/202301/3B-HHR-E.MS.MRG.3IMERG.20230131-S083000-E085959.0510.V06C.RT-H5',\n",
       " '/Users/paul/Documents/PNUD/Clases/2_Martes_17_octubre/data/IMERG-ER/Hourly/Global/202301/3B-HHR-E.MS.MRG.3IMERG.20230131-S090000-E092959.0540.V06C.RT-H5',\n",
       " '/Users/paul/Documents/PNUD/Clases/2_Martes_17_octubre/data/IMERG-ER/Hourly/Global/202301/3B-HHR-E.MS.MRG.3IMERG.20230131-S093000-E095959.0570.V06C.RT-H5',\n",
       " '/Users/paul/Documents/PNUD/Clases/2_Martes_17_octubre/data/IMERG-ER/Hourly/Global/202301/3B-HHR-E.MS.MRG.3IMERG.20230131-S100000-E102959.0600.V06C.RT-H5',\n",
       " '/Users/paul/Documents/PNUD/Clases/2_Martes_17_octubre/data/IMERG-ER/Hourly/Global/202301/3B-HHR-E.MS.MRG.3IMERG.20230131-S103000-E105959.0630.V06C.RT-H5',\n",
       " '/Users/paul/Documents/PNUD/Clases/2_Martes_17_octubre/data/IMERG-ER/Hourly/Global/202301/3B-HHR-E.MS.MRG.3IMERG.20230131-S110000-E112959.0660.V06C.RT-H5',\n",
       " '/Users/paul/Documents/PNUD/Clases/2_Martes_17_octubre/data/IMERG-ER/Hourly/Global/202301/3B-HHR-E.MS.MRG.3IMERG.20230131-S113000-E115959.0690.V06C.RT-H5',\n",
       " '/Users/paul/Documents/PNUD/Clases/2_Martes_17_octubre/data/IMERG-ER/Hourly/Global/202301/3B-HHR-E.MS.MRG.3IMERG.20230131-S120000-E122959.0720.V06C.RT-H5',\n",
       " '/Users/paul/Documents/PNUD/Clases/2_Martes_17_octubre/data/IMERG-ER/Hourly/Global/202301/3B-HHR-E.MS.MRG.3IMERG.20230131-S123000-E125959.0750.V06C.RT-H5',\n",
       " '/Users/paul/Documents/PNUD/Clases/2_Martes_17_octubre/data/IMERG-ER/Hourly/Global/202301/3B-HHR-E.MS.MRG.3IMERG.20230131-S130000-E132959.0780.V06C.RT-H5',\n",
       " '/Users/paul/Documents/PNUD/Clases/2_Martes_17_octubre/data/IMERG-ER/Hourly/Global/202301/3B-HHR-E.MS.MRG.3IMERG.20230131-S133000-E135959.0810.V06C.RT-H5',\n",
       " '/Users/paul/Documents/PNUD/Clases/2_Martes_17_octubre/data/IMERG-ER/Hourly/Global/202301/3B-HHR-E.MS.MRG.3IMERG.20230131-S140000-E142959.0840.V06C.RT-H5',\n",
       " '/Users/paul/Documents/PNUD/Clases/2_Martes_17_octubre/data/IMERG-ER/Hourly/Global/202301/3B-HHR-E.MS.MRG.3IMERG.20230131-S143000-E145959.0870.V06C.RT-H5',\n",
       " '/Users/paul/Documents/PNUD/Clases/2_Martes_17_octubre/data/IMERG-ER/Hourly/Global/202301/3B-HHR-E.MS.MRG.3IMERG.20230131-S150000-E152959.0900.V06C.RT-H5',\n",
       " '/Users/paul/Documents/PNUD/Clases/2_Martes_17_octubre/data/IMERG-ER/Hourly/Global/202301/3B-HHR-E.MS.MRG.3IMERG.20230131-S153000-E155959.0930.V06C.RT-H5',\n",
       " '/Users/paul/Documents/PNUD/Clases/2_Martes_17_octubre/data/IMERG-ER/Hourly/Global/202301/3B-HHR-E.MS.MRG.3IMERG.20230131-S160000-E162959.0960.V06C.RT-H5',\n",
       " '/Users/paul/Documents/PNUD/Clases/2_Martes_17_octubre/data/IMERG-ER/Hourly/Global/202301/3B-HHR-E.MS.MRG.3IMERG.20230131-S163000-E165959.0990.V06C.RT-H5',\n",
       " '/Users/paul/Documents/PNUD/Clases/2_Martes_17_octubre/data/IMERG-ER/Hourly/Global/202301/3B-HHR-E.MS.MRG.3IMERG.20230131-S170000-E172959.1020.V06C.RT-H5',\n",
       " '/Users/paul/Documents/PNUD/Clases/2_Martes_17_octubre/data/IMERG-ER/Hourly/Global/202301/3B-HHR-E.MS.MRG.3IMERG.20230131-S173000-E175959.1050.V06C.RT-H5',\n",
       " '/Users/paul/Documents/PNUD/Clases/2_Martes_17_octubre/data/IMERG-ER/Hourly/Global/202301/3B-HHR-E.MS.MRG.3IMERG.20230131-S180000-E182959.1080.V06C.RT-H5',\n",
       " '/Users/paul/Documents/PNUD/Clases/2_Martes_17_octubre/data/IMERG-ER/Hourly/Global/202301/3B-HHR-E.MS.MRG.3IMERG.20230131-S183000-E185959.1110.V06C.RT-H5',\n",
       " '/Users/paul/Documents/PNUD/Clases/2_Martes_17_octubre/data/IMERG-ER/Hourly/Global/202301/3B-HHR-E.MS.MRG.3IMERG.20230131-S190000-E192959.1140.V06C.RT-H5',\n",
       " '/Users/paul/Documents/PNUD/Clases/2_Martes_17_octubre/data/IMERG-ER/Hourly/Global/202301/3B-HHR-E.MS.MRG.3IMERG.20230131-S193000-E195959.1170.V06C.RT-H5',\n",
       " '/Users/paul/Documents/PNUD/Clases/2_Martes_17_octubre/data/IMERG-ER/Hourly/Global/202301/3B-HHR-E.MS.MRG.3IMERG.20230131-S200000-E202959.1200.V06C.RT-H5',\n",
       " '/Users/paul/Documents/PNUD/Clases/2_Martes_17_octubre/data/IMERG-ER/Hourly/Global/202301/3B-HHR-E.MS.MRG.3IMERG.20230131-S203000-E205959.1230.V06C.RT-H5',\n",
       " '/Users/paul/Documents/PNUD/Clases/2_Martes_17_octubre/data/IMERG-ER/Hourly/Global/202301/3B-HHR-E.MS.MRG.3IMERG.20230131-S210000-E212959.1260.V06C.RT-H5',\n",
       " '/Users/paul/Documents/PNUD/Clases/2_Martes_17_octubre/data/IMERG-ER/Hourly/Global/202301/3B-HHR-E.MS.MRG.3IMERG.20230131-S213000-E215959.1290.V06C.RT-H5',\n",
       " '/Users/paul/Documents/PNUD/Clases/2_Martes_17_octubre/data/IMERG-ER/Hourly/Global/202301/3B-HHR-E.MS.MRG.3IMERG.20230131-S220000-E222959.1320.V06C.RT-H5',\n",
       " '/Users/paul/Documents/PNUD/Clases/2_Martes_17_octubre/data/IMERG-ER/Hourly/Global/202301/3B-HHR-E.MS.MRG.3IMERG.20230131-S223000-E225959.1350.V06C.RT-H5',\n",
       " '/Users/paul/Documents/PNUD/Clases/2_Martes_17_octubre/data/IMERG-ER/Hourly/Global/202301/3B-HHR-E.MS.MRG.3IMERG.20230131-S230000-E232959.1380.V06C.RT-H5',\n",
       " '/Users/paul/Documents/PNUD/Clases/2_Martes_17_octubre/data/IMERG-ER/Hourly/Global/202301/3B-HHR-E.MS.MRG.3IMERG.20230131-S233000-E235959.1410.V06C.RT-H5']"
      ]
     },
     "execution_count": 64,
     "metadata": {},
     "output_type": "execute_result"
    }
   ],
   "source": [
    "list_of_Files"
   ]
  },
  {
   "cell_type": "markdown",
   "metadata": {},
   "source": [
    "Definir la ruta de un archivo para su lectura"
   ]
  },
  {
   "cell_type": "code",
   "execution_count": 65,
   "metadata": {},
   "outputs": [
    {
     "data": {
      "text/plain": [
       "'/Users/paul/Documents/PNUD/Clases/2_Martes_17_octubre/data/IMERG-ER/Hourly/Global/202301/3B-HHR-E.MS.MRG.3IMERG.20230131-S000000-E002959.0000.V06C.RT-H5'"
      ]
     },
     "execution_count": 65,
     "metadata": {},
     "output_type": "execute_result"
    }
   ],
   "source": [
    "item=folder_files+'3B-HHR-E.MS.MRG.3IMERG.20230131-S000000-E002959.0000.V06C.RT-H5'\n",
    "item"
   ]
  },
  {
   "cell_type": "markdown",
   "metadata": {},
   "source": [
    "Abrir archivo de precipitación"
   ]
  },
  {
   "cell_type": "code",
   "execution_count": 66,
   "metadata": {},
   "outputs": [],
   "source": [
    "data = h5py.File( item, 'r' )\n",
    "precip = data['/Grid/precipitationCal'][:]\n",
    "precip = np.flip( precip[0,:,:].transpose(), axis=0 )"
   ]
  },
  {
   "cell_type": "markdown",
   "metadata": {},
   "source": [
    "Mostrar matriz de datos leída"
   ]
  },
  {
   "cell_type": "code",
   "execution_count": 67,
   "metadata": {},
   "outputs": [
    {
     "data": {
      "text/plain": [
       "array([[    0. ,     0. ,     0. , ...,     0. ,     0. ,     0. ],\n",
       "       [    0. ,     0. ,     0. , ...,     0. ,     0. ,     0. ],\n",
       "       [    0. , -9999.9, -9999.9, ..., -9999.9, -9999.9, -9999.9],\n",
       "       ...,\n",
       "       [-9999.9, -9999.9, -9999.9, ..., -9999.9, -9999.9, -9999.9],\n",
       "       [-9999.9, -9999.9, -9999.9, ..., -9999.9, -9999.9, -9999.9],\n",
       "       [-9999.9, -9999.9, -9999.9, ..., -9999.9, -9999.9, -9999.9]],\n",
       "      dtype=float32)"
      ]
     },
     "execution_count": 67,
     "metadata": {},
     "output_type": "execute_result"
    }
   ],
   "source": [
    "precip"
   ]
  },
  {
   "cell_type": "markdown",
   "metadata": {},
   "source": [
    "Estadísticos básicos"
   ]
  },
  {
   "cell_type": "code",
   "execution_count": 68,
   "metadata": {},
   "outputs": [
    {
     "name": "stdout",
     "output_type": "stream",
     "text": [
      "Precipitación máxima =  77.89 mm\n",
      "Precipitación promedio =  -2579.9229 mm\n",
      "Precipitación mínima =  -9999.9 mm\n"
     ]
    }
   ],
   "source": [
    "print('Precipitación máxima = ',precip.max(),'mm')\n",
    "print('Precipitación promedio = ',precip.mean(),'mm')\n",
    "print('Precipitación mínima = ',precip.min(),'mm')"
   ]
  },
  {
   "cell_type": "markdown",
   "metadata": {},
   "source": [
    "Mostrar la información de precipitación global"
   ]
  },
  {
   "cell_type": "code",
   "execution_count": 70,
   "metadata": {},
   "outputs": [
    {
     "data": {
      "image/png": "[encoded data removed]",
      "text/plain": [
       "<Figure size 720x720 with 2 Axes>"
      ]
     },
     "metadata": {
      "needs_background": "light"
     },
     "output_type": "display_data"
    }
   ],
   "source": [
    "fig, ax = plt.subplots(figsize=(10, 10))\n",
    "im = ax.imshow(precip, vmin=-1, vmax=80, extent=[-180, 180, -90, 90])\n",
    "cbar = plt.colorbar(im, orientation='horizontal')\n",
    "cbar.set_label('millimeters/hour')\n",
    "for lon in np.arange(-90, 90+1, 90):\n",
    "    plt.plot((lon, lon), (-90, +90), color=\"black\", linewidth=1)\n",
    "for lat in np.arange(-60, 60+1, 30):\n",
    "    plt.plot((-180, +180), (lat, lat), color=\"black\", linewidth=1)\n",
    "plt.show()"
   ]
  },
  {
   "cell_type": "markdown",
   "metadata": {},
   "source": [
    "Georeferenciar y recortar la precipitación global para la cuenca del río Tomebamba"
   ]
  },
  {
   "cell_type": "code",
   "execution_count": 71,
   "metadata": {},
   "outputs": [
    {
     "data": {
      "text/plain": [
       "array([[    0. ,     0. ,     0. , ...,     0. ,     0. ,     0. ],\n",
       "       [    0. ,     0. ,     0. , ...,     0. ,     0. ,     0. ],\n",
       "       [    0. , -9999.9, -9999.9, ..., -9999.9, -9999.9, -9999.9],\n",
       "       ...,\n",
       "       [-9999.9, -9999.9, -9999.9, ..., -9999.9, -9999.9, -9999.9],\n",
       "       [-9999.9, -9999.9, -9999.9, ..., -9999.9, -9999.9, -9999.9],\n",
       "       [-9999.9, -9999.9, -9999.9, ..., -9999.9, -9999.9, -9999.9]],\n",
       "      dtype=float32)"
      ]
     },
     "execution_count": 71,
     "metadata": {},
     "output_type": "execute_result"
    }
   ],
   "source": [
    "precip"
   ]
  },
  {
   "cell_type": "code",
   "execution_count": 72,
   "metadata": {},
   "outputs": [],
   "source": [
    "lat = data['/Grid/lat'][:]\n",
    "lon = data['/Grid/lon'][:]\n",
    "tomebamba_shp = gpd.read_file(folder+'/Shapefiles/Tomebamba.shp')\n",
    "data = xr.DataArray(data=precip, dims=[\"lat\", \"lon\"], coords=[lat,lon])\n",
    "data.rio.set_spatial_dims(x_dim=\"lon\", y_dim=\"lat\", inplace=True)\n",
    "data.rio.write_crs(\"epsg:4326\", inplace=True)       \n",
    "data_tomebamba= data.rio.clip(tomebamba_shp.geometry.apply(mapping),tomebamba_shp.crs,all_touched=True)"
   ]
  },
  {
   "cell_type": "markdown",
   "metadata": {},
   "source": [
    "Graficar la precipitación para la cuenca del Tomebamba"
   ]
  },
  {
   "cell_type": "code",
   "execution_count": 73,
   "metadata": {},
   "outputs": [
    {
     "data": {
      "image/png": "[encoded data removed]",
      "text/plain": [
       "<Figure size 576x576 with 2 Axes>"
      ]
     },
     "metadata": {
      "needs_background": "light"
     },
     "output_type": "display_data"
    }
   ],
   "source": [
    "fig = plt.subplots(figsize=(8,8))\n",
    "data_tomebamba.plot(cmap='cividis',vmin=0,vmax=0.01)\n",
    "plt.title(\"Precipitación Global IMERG-ER\")\n",
    "plt.xlabel(\"Longitude\")\n",
    "plt.ylabel(\"Latitude\")\n",
    "plt.show()"
   ]
  },
  {
   "cell_type": "markdown",
   "metadata": {},
   "source": [
    "Estadísticos básicos"
   ]
  },
  {
   "cell_type": "code",
   "execution_count": 74,
   "metadata": {},
   "outputs": [
    {
     "name": "stdout",
     "output_type": "stream",
     "text": [
      "Precipitación máxima =  0.09930741786956787 mm\n",
      "Precipitación promedio =  0.050089043 mm\n",
      "Precipitación mínima =  0.007170210126787424 mm\n"
     ]
    }
   ],
   "source": [
    "print('Precipitación máxima = ',data_tomebamba.max().values,'mm')\n",
    "print('Precipitación promedio = ',data_tomebamba.mean().values,'mm')\n",
    "print('Precipitación mínima = ',data_tomebamba.min().values,'mm')"
   ]
  },
  {
   "cell_type": "markdown",
   "metadata": {},
   "source": [
    "Ahora para la cuenca en Esmeraldas"
   ]
  },
  {
   "cell_type": "code",
   "execution_count": 75,
   "metadata": {},
   "outputs": [
    {
     "data": {
      "image/png": "[encoded data removed]",
      "text/plain": [
       "<Figure size 576x576 with 2 Axes>"
      ]
     },
     "metadata": {
      "needs_background": "light"
     },
     "output_type": "display_data"
    },
    {
     "name": "stdout",
     "output_type": "stream",
     "text": [
      "Precipitación máxima =  4.086399078369141 mm\n",
      "Precipitación promedio =  0.6110221 mm\n",
      "Precipitación mínima =  0.0 mm\n"
     ]
    }
   ],
   "source": [
    "esmeraldas_shp = gpd.read_file(folder+'/Shapefiles/Cuenca_H0172_esmeraldas_1.geojson')\n",
    "data_esmeraldas = data.rio.clip(esmeraldas_shp.geometry.apply(mapping),esmeraldas_shp.crs,all_touched=True)\n",
    "fig = plt.subplots(figsize=(8,8))\n",
    "data_esmeraldas.plot(cmap='cividis',vmin=0,vmax=5)\n",
    "plt.title(\"Precipitación Global IMERG-ER\")\n",
    "plt.xlabel(\"Longitude\")\n",
    "plt.ylabel(\"Latitude\")\n",
    "plt.show()\n",
    "print('Precipitación máxima = ',data_esmeraldas.max().values,'mm')\n",
    "print('Precipitación promedio = ',data_esmeraldas.mean().values,'mm')\n",
    "print('Precipitación mínima = ',data_esmeraldas.min().values,'mm')"
   ]
  },
  {
   "cell_type": "markdown",
   "metadata": {},
   "source": [
    "Leer y procesar todos los archivos IMERG-ER"
   ]
  },
  {
   "cell_type": "markdown",
   "metadata": {},
   "source": [
    "Mostrar la lista"
   ]
  },
  {
   "cell_type": "code",
   "execution_count": 76,
   "metadata": {},
   "outputs": [
    {
     "data": {
      "text/plain": [
       "['/Users/paul/Documents/PNUD/Clases/2_Martes_17_octubre/data/IMERG-ER/Hourly/Global/202301/3B-HHR-E.MS.MRG.3IMERG.20230131-S000000-E002959.0000.V06C.RT-H5',\n",
       " '/Users/paul/Documents/PNUD/Clases/2_Martes_17_octubre/data/IMERG-ER/Hourly/Global/202301/3B-HHR-E.MS.MRG.3IMERG.20230131-S003000-E005959.0030.V06C.RT-H5',\n",
       " '/Users/paul/Documents/PNUD/Clases/2_Martes_17_octubre/data/IMERG-ER/Hourly/Global/202301/3B-HHR-E.MS.MRG.3IMERG.20230131-S010000-E012959.0060.V06C.RT-H5',\n",
       " '/Users/paul/Documents/PNUD/Clases/2_Martes_17_octubre/data/IMERG-ER/Hourly/Global/202301/3B-HHR-E.MS.MRG.3IMERG.20230131-S013000-E015959.0090.V06C.RT-H5',\n",
       " '/Users/paul/Documents/PNUD/Clases/2_Martes_17_octubre/data/IMERG-ER/Hourly/Global/202301/3B-HHR-E.MS.MRG.3IMERG.20230131-S020000-E022959.0120.V06C.RT-H5',\n",
       " '/Users/paul/Documents/PNUD/Clases/2_Martes_17_octubre/data/IMERG-ER/Hourly/Global/202301/3B-HHR-E.MS.MRG.3IMERG.20230131-S023000-E025959.0150.V06C.RT-H5',\n",
       " '/Users/paul/Documents/PNUD/Clases/2_Martes_17_octubre/data/IMERG-ER/Hourly/Global/202301/3B-HHR-E.MS.MRG.3IMERG.20230131-S030000-E032959.0180.V06C.RT-H5',\n",
       " '/Users/paul/Documents/PNUD/Clases/2_Martes_17_octubre/data/IMERG-ER/Hourly/Global/202301/3B-HHR-E.MS.MRG.3IMERG.20230131-S033000-E035959.0210.V06C.RT-H5',\n",
       " '/Users/paul/Documents/PNUD/Clases/2_Martes_17_octubre/data/IMERG-ER/Hourly/Global/202301/3B-HHR-E.MS.MRG.3IMERG.20230131-S040000-E042959.0240.V06C.RT-H5',\n",
       " '/Users/paul/Documents/PNUD/Clases/2_Martes_17_octubre/data/IMERG-ER/Hourly/Global/202301/3B-HHR-E.MS.MRG.3IMERG.20230131-S043000-E045959.0270.V06C.RT-H5',\n",
       " '/Users/paul/Documents/PNUD/Clases/2_Martes_17_octubre/data/IMERG-ER/Hourly/Global/202301/3B-HHR-E.MS.MRG.3IMERG.20230131-S050000-E052959.0300.V06C.RT-H5',\n",
       " '/Users/paul/Documents/PNUD/Clases/2_Martes_17_octubre/data/IMERG-ER/Hourly/Global/202301/3B-HHR-E.MS.MRG.3IMERG.20230131-S053000-E055959.0330.V06C.RT-H5',\n",
       " '/Users/paul/Documents/PNUD/Clases/2_Martes_17_octubre/data/IMERG-ER/Hourly/Global/202301/3B-HHR-E.MS.MRG.3IMERG.20230131-S060000-E062959.0360.V06C.RT-H5',\n",
       " '/Users/paul/Documents/PNUD/Clases/2_Martes_17_octubre/data/IMERG-ER/Hourly/Global/202301/3B-HHR-E.MS.MRG.3IMERG.20230131-S063000-E065959.0390.V06C.RT-H5',\n",
       " '/Users/paul/Documents/PNUD/Clases/2_Martes_17_octubre/data/IMERG-ER/Hourly/Global/202301/3B-HHR-E.MS.MRG.3IMERG.20230131-S070000-E072959.0420.V06C.RT-H5',\n",
       " '/Users/paul/Documents/PNUD/Clases/2_Martes_17_octubre/data/IMERG-ER/Hourly/Global/202301/3B-HHR-E.MS.MRG.3IMERG.20230131-S073000-E075959.0450.V06C.RT-H5',\n",
       " '/Users/paul/Documents/PNUD/Clases/2_Martes_17_octubre/data/IMERG-ER/Hourly/Global/202301/3B-HHR-E.MS.MRG.3IMERG.20230131-S080000-E082959.0480.V06C.RT-H5',\n",
       " '/Users/paul/Documents/PNUD/Clases/2_Martes_17_octubre/data/IMERG-ER/Hourly/Global/202301/3B-HHR-E.MS.MRG.3IMERG.20230131-S083000-E085959.0510.V06C.RT-H5',\n",
       " '/Users/paul/Documents/PNUD/Clases/2_Martes_17_octubre/data/IMERG-ER/Hourly/Global/202301/3B-HHR-E.MS.MRG.3IMERG.20230131-S090000-E092959.0540.V06C.RT-H5',\n",
       " '/Users/paul/Documents/PNUD/Clases/2_Martes_17_octubre/data/IMERG-ER/Hourly/Global/202301/3B-HHR-E.MS.MRG.3IMERG.20230131-S093000-E095959.0570.V06C.RT-H5',\n",
       " '/Users/paul/Documents/PNUD/Clases/2_Martes_17_octubre/data/IMERG-ER/Hourly/Global/202301/3B-HHR-E.MS.MRG.3IMERG.20230131-S100000-E102959.0600.V06C.RT-H5',\n",
       " '/Users/paul/Documents/PNUD/Clases/2_Martes_17_octubre/data/IMERG-ER/Hourly/Global/202301/3B-HHR-E.MS.MRG.3IMERG.20230131-S103000-E105959.0630.V06C.RT-H5',\n",
       " '/Users/paul/Documents/PNUD/Clases/2_Martes_17_octubre/data/IMERG-ER/Hourly/Global/202301/3B-HHR-E.MS.MRG.3IMERG.20230131-S110000-E112959.0660.V06C.RT-H5',\n",
       " '/Users/paul/Documents/PNUD/Clases/2_Martes_17_octubre/data/IMERG-ER/Hourly/Global/202301/3B-HHR-E.MS.MRG.3IMERG.20230131-S113000-E115959.0690.V06C.RT-H5',\n",
       " '/Users/paul/Documents/PNUD/Clases/2_Martes_17_octubre/data/IMERG-ER/Hourly/Global/202301/3B-HHR-E.MS.MRG.3IMERG.20230131-S120000-E122959.0720.V06C.RT-H5',\n",
       " '/Users/paul/Documents/PNUD/Clases/2_Martes_17_octubre/data/IMERG-ER/Hourly/Global/202301/3B-HHR-E.MS.MRG.3IMERG.20230131-S123000-E125959.0750.V06C.RT-H5',\n",
       " '/Users/paul/Documents/PNUD/Clases/2_Martes_17_octubre/data/IMERG-ER/Hourly/Global/202301/3B-HHR-E.MS.MRG.3IMERG.20230131-S130000-E132959.0780.V06C.RT-H5',\n",
       " '/Users/paul/Documents/PNUD/Clases/2_Martes_17_octubre/data/IMERG-ER/Hourly/Global/202301/3B-HHR-E.MS.MRG.3IMERG.20230131-S133000-E135959.0810.V06C.RT-H5',\n",
       " '/Users/paul/Documents/PNUD/Clases/2_Martes_17_octubre/data/IMERG-ER/Hourly/Global/202301/3B-HHR-E.MS.MRG.3IMERG.20230131-S140000-E142959.0840.V06C.RT-H5',\n",
       " '/Users/paul/Documents/PNUD/Clases/2_Martes_17_octubre/data/IMERG-ER/Hourly/Global/202301/3B-HHR-E.MS.MRG.3IMERG.20230131-S143000-E145959.0870.V06C.RT-H5',\n",
       " '/Users/paul/Documents/PNUD/Clases/2_Martes_17_octubre/data/IMERG-ER/Hourly/Global/202301/3B-HHR-E.MS.MRG.3IMERG.20230131-S150000-E152959.0900.V06C.RT-H5',\n",
       " '/Users/paul/Documents/PNUD/Clases/2_Martes_17_octubre/data/IMERG-ER/Hourly/Global/202301/3B-HHR-E.MS.MRG.3IMERG.20230131-S153000-E155959.0930.V06C.RT-H5',\n",
       " '/Users/paul/Documents/PNUD/Clases/2_Martes_17_octubre/data/IMERG-ER/Hourly/Global/202301/3B-HHR-E.MS.MRG.3IMERG.20230131-S160000-E162959.0960.V06C.RT-H5',\n",
       " '/Users/paul/Documents/PNUD/Clases/2_Martes_17_octubre/data/IMERG-ER/Hourly/Global/202301/3B-HHR-E.MS.MRG.3IMERG.20230131-S163000-E165959.0990.V06C.RT-H5',\n",
       " '/Users/paul/Documents/PNUD/Clases/2_Martes_17_octubre/data/IMERG-ER/Hourly/Global/202301/3B-HHR-E.MS.MRG.3IMERG.20230131-S170000-E172959.1020.V06C.RT-H5',\n",
       " '/Users/paul/Documents/PNUD/Clases/2_Martes_17_octubre/data/IMERG-ER/Hourly/Global/202301/3B-HHR-E.MS.MRG.3IMERG.20230131-S173000-E175959.1050.V06C.RT-H5',\n",
       " '/Users/paul/Documents/PNUD/Clases/2_Martes_17_octubre/data/IMERG-ER/Hourly/Global/202301/3B-HHR-E.MS.MRG.3IMERG.20230131-S180000-E182959.1080.V06C.RT-H5',\n",
       " '/Users/paul/Documents/PNUD/Clases/2_Martes_17_octubre/data/IMERG-ER/Hourly/Global/202301/3B-HHR-E.MS.MRG.3IMERG.20230131-S183000-E185959.1110.V06C.RT-H5',\n",
       " '/Users/paul/Documents/PNUD/Clases/2_Martes_17_octubre/data/IMERG-ER/Hourly/Global/202301/3B-HHR-E.MS.MRG.3IMERG.20230131-S190000-E192959.1140.V06C.RT-H5',\n",
       " '/Users/paul/Documents/PNUD/Clases/2_Martes_17_octubre/data/IMERG-ER/Hourly/Global/202301/3B-HHR-E.MS.MRG.3IMERG.20230131-S193000-E195959.1170.V06C.RT-H5',\n",
       " '/Users/paul/Documents/PNUD/Clases/2_Martes_17_octubre/data/IMERG-ER/Hourly/Global/202301/3B-HHR-E.MS.MRG.3IMERG.20230131-S200000-E202959.1200.V06C.RT-H5',\n",
       " '/Users/paul/Documents/PNUD/Clases/2_Martes_17_octubre/data/IMERG-ER/Hourly/Global/202301/3B-HHR-E.MS.MRG.3IMERG.20230131-S203000-E205959.1230.V06C.RT-H5',\n",
       " '/Users/paul/Documents/PNUD/Clases/2_Martes_17_octubre/data/IMERG-ER/Hourly/Global/202301/3B-HHR-E.MS.MRG.3IMERG.20230131-S210000-E212959.1260.V06C.RT-H5',\n",
       " '/Users/paul/Documents/PNUD/Clases/2_Martes_17_octubre/data/IMERG-ER/Hourly/Global/202301/3B-HHR-E.MS.MRG.3IMERG.20230131-S213000-E215959.1290.V06C.RT-H5',\n",
       " '/Users/paul/Documents/PNUD/Clases/2_Martes_17_octubre/data/IMERG-ER/Hourly/Global/202301/3B-HHR-E.MS.MRG.3IMERG.20230131-S220000-E222959.1320.V06C.RT-H5',\n",
       " '/Users/paul/Documents/PNUD/Clases/2_Martes_17_octubre/data/IMERG-ER/Hourly/Global/202301/3B-HHR-E.MS.MRG.3IMERG.20230131-S223000-E225959.1350.V06C.RT-H5',\n",
       " '/Users/paul/Documents/PNUD/Clases/2_Martes_17_octubre/data/IMERG-ER/Hourly/Global/202301/3B-HHR-E.MS.MRG.3IMERG.20230131-S230000-E232959.1380.V06C.RT-H5',\n",
       " '/Users/paul/Documents/PNUD/Clases/2_Martes_17_octubre/data/IMERG-ER/Hourly/Global/202301/3B-HHR-E.MS.MRG.3IMERG.20230131-S233000-E235959.1410.V06C.RT-H5']"
      ]
     },
     "execution_count": 76,
     "metadata": {},
     "output_type": "execute_result"
    }
   ],
   "source": [
    "list_of_Files"
   ]
  },
  {
   "cell_type": "markdown",
   "metadata": {},
   "source": [
    "Acumular la precipitación"
   ]
  },
  {
   "cell_type": "code",
   "execution_count": 77,
   "metadata": {},
   "outputs": [
    {
     "name": "stdout",
     "output_type": "stream",
     "text": [
      "1 out of 48\n",
      "2 out of 48\n",
      "3 out of 48\n",
      "4 out of 48\n",
      "5 out of 48\n",
      "6 out of 48\n",
      "7 out of 48\n",
      "8 out of 48\n",
      "9 out of 48\n",
      "10 out of 48\n",
      "11 out of 48\n",
      "12 out of 48\n",
      "13 out of 48\n",
      "14 out of 48\n",
      "15 out of 48\n",
      "16 out of 48\n",
      "17 out of 48\n",
      "18 out of 48\n",
      "19 out of 48\n",
      "20 out of 48\n",
      "21 out of 48\n",
      "22 out of 48\n",
      "23 out of 48\n",
      "24 out of 48\n",
      "25 out of 48\n",
      "26 out of 48\n",
      "27 out of 48\n",
      "28 out of 48\n",
      "29 out of 48\n",
      "30 out of 48\n",
      "31 out of 48\n",
      "32 out of 48\n",
      "33 out of 48\n",
      "34 out of 48\n",
      "35 out of 48\n",
      "36 out of 48\n",
      "37 out of 48\n",
      "38 out of 48\n",
      "39 out of 48\n",
      "40 out of 48\n",
      "41 out of 48\n",
      "42 out of 48\n",
      "43 out of 48\n",
      "44 out of 48\n",
      "45 out of 48\n",
      "46 out of 48\n",
      "47 out of 48\n",
      "48 out of 48\n"
     ]
    }
   ],
   "source": [
    "data_sum = xr.DataArray(data=np.empty((1800, 3600)), dims=[\"lat\", \"lon\"])\n",
    "for index, item in enumerate(list_of_Files):\n",
    "    print(index+1, 'out of', len(list_of_Files))\n",
    "    try:\n",
    "        data = h5py.File(item, 'r')        \n",
    "        precip = data['/Grid/precipitationCal'][:]\n",
    "        precip[precip < 0] = np.nan \n",
    "        precip = np.flip(precip[0,:,:].transpose(), axis=0) \n",
    "        theLats = data['Grid/lat'][:]\n",
    "        theLons = data['Grid/lon'][:]\n",
    "        x, y = np.meshgrid(theLons, theLats)\n",
    "        \n",
    "        precip = xr.DataArray(precip, dims=('lat', 'lon'), coords={'lat' : theLats, 'lon' : theLons})\n",
    "        \n",
    "        data_sum += precip\n",
    "        \n",
    "        data.close()\n",
    "        \n",
    "    except (IOError, EOFError) as e:\n",
    "        continue"
   ]
  },
  {
   "cell_type": "markdown",
   "metadata": {},
   "source": [
    "Graficar la información de precipitación acumulada del 31 de enero de 2023"
   ]
  },
  {
   "cell_type": "code",
   "execution_count": 78,
   "metadata": {},
   "outputs": [
    {
     "data": {
      "image/png": "[encoded data removed]",
      "text/plain": [
       "<Figure size 720x720 with 2 Axes>"
      ]
     },
     "metadata": {
      "needs_background": "light"
     },
     "output_type": "display_data"
    }
   ],
   "source": [
    "fig, ax = plt.subplots(figsize=(10, 10))\n",
    "im = ax.imshow(data_sum, vmin=-1, vmax=1400, extent=[-180, 180, -90, 90])\n",
    "cbar = plt.colorbar(im, orientation='horizontal')\n",
    "cbar.set_label('millimeters/hour')\n",
    "\n",
    "for lon in np.arange(-90, 90+1, 90):\n",
    "    plt.plot((lon, lon), (-90, +90), color=\"black\", linewidth=1)\n",
    "for lat in np.arange(-60, 60+1, 30):\n",
    "    plt.plot((-180, +180), (lat, lat), color=\"black\", linewidth=1)\n",
    "\n",
    "plt.show()"
   ]
  },
  {
   "cell_type": "markdown",
   "metadata": {},
   "source": [
    "Recortar esa información para la cuenca del Tomebamba"
   ]
  },
  {
   "cell_type": "code",
   "execution_count": 79,
   "metadata": {},
   "outputs": [
    {
     "data": {
      "text/html": [
       "<div><svg style=\"position: absolute; width: 0; height: 0; overflow: hidden\">\n",
       "<defs>\n",
       "<symbol id=\"icon-database\" viewBox=\"0 0 32 32\">\n",
       "<path d=\"M16 0c-8.837 0-16 2.239-16 5v4c0 2.761 7.163 5 16 5s16-2.239 16-5v-4c0-2.761-7.163-5-16-5z\"></path>\n",
       "<path d=\"M16 17c-8.837 0-16-2.239-16-5v6c0 2.761 7.163 5 16 5s16-2.239 16-5v-6c0 2.761-7.163 5-16 5z\"></path>\n",
       "<path d=\"M16 26c-8.837 0-16-2.239-16-5v6c0 2.761 7.163 5 16 5s16-2.239 16-5v-6c0 2.761-7.163 5-16 5z\"></path>\n",
       "</symbol>\n",
       "<symbol id=\"icon-file-text2\" viewBox=\"0 0 32 32\">\n",
       "<path d=\"M28.681 7.159c-0.694-0.947-1.662-2.053-2.724-3.116s-2.169-2.030-3.116-2.724c-1.612-1.182-2.393-1.319-2.841-1.319h-15.5c-1.378 0-2.5 1.121-2.5 2.5v27c0 1.378 1.122 2.5 2.5 2.5h23c1.378 0 2.5-1.122 2.5-2.5v-19.5c0-0.448-0.137-1.23-1.319-2.841zM24.543 5.457c0.959 0.959 1.712 1.825 2.268 2.543h-4.811v-4.811c0.718 0.556 1.584 1.309 2.543 2.268zM28 29.5c0 0.271-0.229 0.5-0.5 0.5h-23c-0.271 0-0.5-0.229-0.5-0.5v-27c0-0.271 0.229-0.5 0.5-0.5 0 0 15.499-0 15.5 0v7c0 0.552 0.448 1 1 1h7v19.5z\"></path>\n",
       "<path d=\"M23 26h-14c-0.552 0-1-0.448-1-1s0.448-1 1-1h14c0.552 0 1 0.448 1 1s-0.448 1-1 1z\"></path>\n",
       "<path d=\"M23 22h-14c-0.552 0-1-0.448-1-1s0.448-1 1-1h14c0.552 0 1 0.448 1 1s-0.448 1-1 1z\"></path>\n",
       "<path d=\"M23 18h-14c-0.552 0-1-0.448-1-1s0.448-1 1-1h14c0.552 0 1 0.448 1 1s-0.448 1-1 1z\"></path>\n",
       "</symbol>\n",
       "</defs>\n",
       "</svg>\n",
       "<style>/* CSS stylesheet for displaying xarray objects in jupyterlab.\n",
       " *\n",
       " */\n",
       "\n",
       ":root {\n",
       "  --xr-font-color0: var(--jp-content-font-color0, rgba(0, 0, 0, 1));\n",
       "  --xr-font-color2: var(--jp-content-font-color2, rgba(0, 0, 0, 0.54));\n",
       "  --xr-font-color3: var(--jp-content-font-color3, rgba(0, 0, 0, 0.38));\n",
       "  --xr-border-color: var(--jp-border-color2, #e0e0e0);\n",
       "  --xr-disabled-color: var(--jp-layout-color3, #bdbdbd);\n",
       "  --xr-background-color: var(--jp-layout-color0, white);\n",
       "  --xr-background-color-row-even: var(--jp-layout-color1, white);\n",
       "  --xr-background-color-row-odd: var(--jp-layout-color2, #eeeeee);\n",
       "}\n",
       "\n",
       "html[theme=dark],\n",
       "body.vscode-dark {\n",
       "  --xr-font-color0: rgba(255, 255, 255, 1);\n",
       "  --xr-font-color2: rgba(255, 255, 255, 0.54);\n",
       "  --xr-font-color3: rgba(255, 255, 255, 0.38);\n",
       "  --xr-border-color: #1F1F1F;\n",
       "  --xr-disabled-color: #515151;\n",
       "  --xr-background-color: #111111;\n",
       "  --xr-background-color-row-even: #111111;\n",
       "  --xr-background-color-row-odd: #313131;\n",
       "}\n",
       "\n",
       ".xr-wrap {\n",
       "  display: block;\n",
       "  min-width: 300px;\n",
       "  max-width: 700px;\n",
       "}\n",
       "\n",
       ".xr-text-repr-fallback {\n",
       "  /* fallback to plain text repr when CSS is not injected (untrusted notebook) */\n",
       "  display: none;\n",
       "}\n",
       "\n",
       ".xr-header {\n",
       "  padding-top: 6px;\n",
       "  padding-bottom: 6px;\n",
       "  margin-bottom: 4px;\n",
       "  border-bottom: solid 1px var(--xr-border-color);\n",
       "}\n",
       "\n",
       ".xr-header > div,\n",
       ".xr-header > ul {\n",
       "  display: inline;\n",
       "  margin-top: 0;\n",
       "  margin-bottom: 0;\n",
       "}\n",
       "\n",
       ".xr-obj-type,\n",
       ".xr-array-name {\n",
       "  margin-left: 2px;\n",
       "  margin-right: 10px;\n",
       "}\n",
       "\n",
       ".xr-obj-type {\n",
       "  color: var(--xr-font-color2);\n",
       "}\n",
       "\n",
       ".xr-sections {\n",
       "  padding-left: 0 !important;\n",
       "  display: grid;\n",
       "  grid-template-columns: 150px auto auto 1fr 20px 20px;\n",
       "}\n",
       "\n",
       ".xr-section-item {\n",
       "  display: contents;\n",
       "}\n",
       "\n",
       ".xr-section-item input {\n",
       "  display: none;\n",
       "}\n",
       "\n",
       ".xr-section-item input + label {\n",
       "  color: var(--xr-disabled-color);\n",
       "}\n",
       "\n",
       ".xr-section-item input:enabled + label {\n",
       "  cursor: pointer;\n",
       "  color: var(--xr-font-color2);\n",
       "}\n",
       "\n",
       ".xr-section-item input:enabled + label:hover {\n",
       "  color: var(--xr-font-color0);\n",
       "}\n",
       "\n",
       ".xr-section-summary {\n",
       "  grid-column: 1;\n",
       "  color: var(--xr-font-color2);\n",
       "  font-weight: 500;\n",
       "}\n",
       "\n",
       ".xr-section-summary > span {\n",
       "  display: inline-block;\n",
       "  padding-left: 0.5em;\n",
       "}\n",
       "\n",
       ".xr-section-summary-in:disabled + label {\n",
       "  color: var(--xr-font-color2);\n",
       "}\n",
       "\n",
       ".xr-section-summary-in + label:before {\n",
       "  display: inline-block;\n",
       "  content: '►';\n",
       "  font-size: 11px;\n",
       "  width: 15px;\n",
       "  text-align: center;\n",
       "}\n",
       "\n",
       ".xr-section-summary-in:disabled + label:before {\n",
       "  color: var(--xr-disabled-color);\n",
       "}\n",
       "\n",
       ".xr-section-summary-in:checked + label:before {\n",
       "  content: '▼';\n",
       "}\n",
       "\n",
       ".xr-section-summary-in:checked + label > span {\n",
       "  display: none;\n",
       "}\n",
       "\n",
       ".xr-section-summary,\n",
       ".xr-section-inline-details {\n",
       "  padding-top: 4px;\n",
       "  padding-bottom: 4px;\n",
       "}\n",
       "\n",
       ".xr-section-inline-details {\n",
       "  grid-column: 2 / -1;\n",
       "}\n",
       "\n",
       ".xr-section-details {\n",
       "  display: none;\n",
       "  grid-column: 1 / -1;\n",
       "  margin-bottom: 5px;\n",
       "}\n",
       "\n",
       ".xr-section-summary-in:checked ~ .xr-section-details {\n",
       "  display: contents;\n",
       "}\n",
       "\n",
       ".xr-array-wrap {\n",
       "  grid-column: 1 / -1;\n",
       "  display: grid;\n",
       "  grid-template-columns: 20px auto;\n",
       "}\n",
       "\n",
       ".xr-array-wrap > label {\n",
       "  grid-column: 1;\n",
       "  vertical-align: top;\n",
       "}\n",
       "\n",
       ".xr-preview {\n",
       "  color: var(--xr-font-color3);\n",
       "}\n",
       "\n",
       ".xr-array-preview,\n",
       ".xr-array-data {\n",
       "  padding: 0 5px !important;\n",
       "  grid-column: 2;\n",
       "}\n",
       "\n",
       ".xr-array-data,\n",
       ".xr-array-in:checked ~ .xr-array-preview {\n",
       "  display: none;\n",
       "}\n",
       "\n",
       ".xr-array-in:checked ~ .xr-array-data,\n",
       ".xr-array-preview {\n",
       "  display: inline-block;\n",
       "}\n",
       "\n",
       ".xr-dim-list {\n",
       "  display: inline-block !important;\n",
       "  list-style: none;\n",
       "  padding: 0 !important;\n",
       "  margin: 0;\n",
       "}\n",
       "\n",
       ".xr-dim-list li {\n",
       "  display: inline-block;\n",
       "  padding: 0;\n",
       "  margin: 0;\n",
       "}\n",
       "\n",
       ".xr-dim-list:before {\n",
       "  content: '(';\n",
       "}\n",
       "\n",
       ".xr-dim-list:after {\n",
       "  content: ')';\n",
       "}\n",
       "\n",
       ".xr-dim-list li:not(:last-child):after {\n",
       "  content: ',';\n",
       "  padding-right: 5px;\n",
       "}\n",
       "\n",
       ".xr-has-index {\n",
       "  font-weight: bold;\n",
       "}\n",
       "\n",
       ".xr-var-list,\n",
       ".xr-var-item {\n",
       "  display: contents;\n",
       "}\n",
       "\n",
       ".xr-var-item > div,\n",
       ".xr-var-item label,\n",
       ".xr-var-item > .xr-var-name span {\n",
       "  background-color: var(--xr-background-color-row-even);\n",
       "  margin-bottom: 0;\n",
       "}\n",
       "\n",
       ".xr-var-item > .xr-var-name:hover span {\n",
       "  padding-right: 5px;\n",
       "}\n",
       "\n",
       ".xr-var-list > li:nth-child(odd) > div,\n",
       ".xr-var-list > li:nth-child(odd) > label,\n",
       ".xr-var-list > li:nth-child(odd) > .xr-var-name span {\n",
       "  background-color: var(--xr-background-color-row-odd);\n",
       "}\n",
       "\n",
       ".xr-var-name {\n",
       "  grid-column: 1;\n",
       "}\n",
       "\n",
       ".xr-var-dims {\n",
       "  grid-column: 2;\n",
       "}\n",
       "\n",
       ".xr-var-dtype {\n",
       "  grid-column: 3;\n",
       "  text-align: right;\n",
       "  color: var(--xr-font-color2);\n",
       "}\n",
       "\n",
       ".xr-var-preview {\n",
       "  grid-column: 4;\n",
       "}\n",
       "\n",
       ".xr-var-name,\n",
       ".xr-var-dims,\n",
       ".xr-var-dtype,\n",
       ".xr-preview,\n",
       ".xr-attrs dt {\n",
       "  white-space: nowrap;\n",
       "  overflow: hidden;\n",
       "  text-overflow: ellipsis;\n",
       "  padding-right: 10px;\n",
       "}\n",
       "\n",
       ".xr-var-name:hover,\n",
       ".xr-var-dims:hover,\n",
       ".xr-var-dtype:hover,\n",
       ".xr-attrs dt:hover {\n",
       "  overflow: visible;\n",
       "  width: auto;\n",
       "  z-index: 1;\n",
       "}\n",
       "\n",
       ".xr-var-attrs,\n",
       ".xr-var-data {\n",
       "  display: none;\n",
       "  background-color: var(--xr-background-color) !important;\n",
       "  padding-bottom: 5px !important;\n",
       "}\n",
       "\n",
       ".xr-var-attrs-in:checked ~ .xr-var-attrs,\n",
       ".xr-var-data-in:checked ~ .xr-var-data {\n",
       "  display: block;\n",
       "}\n",
       "\n",
       ".xr-var-data > table {\n",
       "  float: right;\n",
       "}\n",
       "\n",
       ".xr-var-name span,\n",
       ".xr-var-data,\n",
       ".xr-attrs {\n",
       "  padding-left: 25px !important;\n",
       "}\n",
       "\n",
       ".xr-attrs,\n",
       ".xr-var-attrs,\n",
       ".xr-var-data {\n",
       "  grid-column: 1 / -1;\n",
       "}\n",
       "\n",
       "dl.xr-attrs {\n",
       "  padding: 0;\n",
       "  margin: 0;\n",
       "  display: grid;\n",
       "  grid-template-columns: 125px auto;\n",
       "}\n",
       "\n",
       ".xr-attrs dt,\n",
       ".xr-attrs dd {\n",
       "  padding: 0;\n",
       "  margin: 0;\n",
       "  float: left;\n",
       "  padding-right: 10px;\n",
       "  width: auto;\n",
       "}\n",
       "\n",
       ".xr-attrs dt {\n",
       "  font-weight: normal;\n",
       "  grid-column: 1;\n",
       "}\n",
       "\n",
       ".xr-attrs dt:hover span {\n",
       "  display: inline-block;\n",
       "  background: var(--xr-background-color);\n",
       "  padding-right: 10px;\n",
       "}\n",
       "\n",
       ".xr-attrs dd {\n",
       "  grid-column: 2;\n",
       "  white-space: pre-wrap;\n",
       "  word-break: break-all;\n",
       "}\n",
       "\n",
       ".xr-icon-database,\n",
       ".xr-icon-file-text2 {\n",
       "  display: inline-block;\n",
       "  vertical-align: middle;\n",
       "  width: 1em;\n",
       "  height: 1.5em !important;\n",
       "  stroke-width: 0;\n",
       "  stroke: currentColor;\n",
       "  fill: currentColor;\n",
       "}\n",
       "</style><pre class='xr-text-repr-fallback'>&lt;xarray.DataArray (lat: 3, lon: 3)&gt;\n",
       "array([[        nan, 15.43885659,         nan],\n",
       "       [ 8.32326977,  9.09369504,  8.29173989],\n",
       "       [ 5.1493402 ,  6.15480427,  4.62113877]])\n",
       "Coordinates:\n",
       "  * lat          (lat) float64 -2.95 -2.85 -2.75\n",
       "  * lon          (lon) float64 -79.25 -79.15 -79.05\n",
       "    spatial_ref  int64 0</pre><div class='xr-wrap' hidden><div class='xr-header'><div class='xr-obj-type'>xarray.DataArray</div><div class='xr-array-name'></div><ul class='xr-dim-list'><li><span class='xr-has-index'>lat</span>: 3</li><li><span class='xr-has-index'>lon</span>: 3</li></ul></div><ul class='xr-sections'><li class='xr-section-item'><div class='xr-array-wrap'><input id='section-b47d0c33-417b-4fc6-a8c0-48cefbd2ee83' class='xr-array-in' type='checkbox' checked><label for='section-b47d0c33-417b-4fc6-a8c0-48cefbd2ee83' title='Show/hide data repr'><svg class='icon xr-icon-database'><use xlink:href='#icon-database'></use></svg></label><div class='xr-array-preview xr-preview'><span>nan 15.44 nan 8.323 9.094 8.292 5.149 6.155 4.621</span></div><div class='xr-array-data'><pre>array([[        nan, 15.43885659,         nan],\n",
       "       [ 8.32326977,  9.09369504,  8.29173989],\n",
       "       [ 5.1493402 ,  6.15480427,  4.62113877]])</pre></div></div></li><li class='xr-section-item'><input id='section-47c162c7-7a5b-421b-8dbf-f8c9cf38f8c3' class='xr-section-summary-in' type='checkbox'  checked><label for='section-47c162c7-7a5b-421b-8dbf-f8c9cf38f8c3' class='xr-section-summary' >Coordinates: <span>(3)</span></label><div class='xr-section-inline-details'></div><div class='xr-section-details'><ul class='xr-var-list'><li class='xr-var-item'><div class='xr-var-name'><span class='xr-has-index'>lat</span></div><div class='xr-var-dims'>(lat)</div><div class='xr-var-dtype'>float64</div><div class='xr-var-preview xr-preview'>-2.95 -2.85 -2.75</div><input id='attrs-c9ce995b-7e33-40ce-b48d-21802826c90b' class='xr-var-attrs-in' type='checkbox' ><label for='attrs-c9ce995b-7e33-40ce-b48d-21802826c90b' title='Show/Hide attributes'><svg class='icon xr-icon-file-text2'><use xlink:href='#icon-file-text2'></use></svg></label><input id='data-c2ed724d-5e5a-411b-95dc-1fcd51f5a439' class='xr-var-data-in' type='checkbox'><label for='data-c2ed724d-5e5a-411b-95dc-1fcd51f5a439' title='Show/Hide data repr'><svg class='icon xr-icon-database'><use xlink:href='#icon-database'></use></svg></label><div class='xr-var-attrs'><dl class='xr-attrs'><dt><span>axis :</span></dt><dd>Y</dd><dt><span>long_name :</span></dt><dd>latitude</dd><dt><span>standard_name :</span></dt><dd>latitude</dd><dt><span>units :</span></dt><dd>degrees_north</dd></dl></div><div class='xr-var-data'><pre>array([-2.95, -2.85, -2.75])</pre></div></li><li class='xr-var-item'><div class='xr-var-name'><span class='xr-has-index'>lon</span></div><div class='xr-var-dims'>(lon)</div><div class='xr-var-dtype'>float64</div><div class='xr-var-preview xr-preview'>-79.25 -79.15 -79.05</div><input id='attrs-484d12d6-c069-4d40-85c1-78bb3c451798' class='xr-var-attrs-in' type='checkbox' ><label for='attrs-484d12d6-c069-4d40-85c1-78bb3c451798' title='Show/Hide attributes'><svg class='icon xr-icon-file-text2'><use xlink:href='#icon-file-text2'></use></svg></label><input id='data-ac2159c2-f3fe-48d3-a84b-e00e2fbf7177' class='xr-var-data-in' type='checkbox'><label for='data-ac2159c2-f3fe-48d3-a84b-e00e2fbf7177' title='Show/Hide data repr'><svg class='icon xr-icon-database'><use xlink:href='#icon-database'></use></svg></label><div class='xr-var-attrs'><dl class='xr-attrs'><dt><span>axis :</span></dt><dd>X</dd><dt><span>long_name :</span></dt><dd>longitude</dd><dt><span>standard_name :</span></dt><dd>longitude</dd><dt><span>units :</span></dt><dd>degrees_east</dd></dl></div><div class='xr-var-data'><pre>array([-79.25    , -79.150002, -79.050003])</pre></div></li><li class='xr-var-item'><div class='xr-var-name'><span>spatial_ref</span></div><div class='xr-var-dims'>()</div><div class='xr-var-dtype'>int64</div><div class='xr-var-preview xr-preview'>0</div><input id='attrs-3a070a77-2e58-4118-a84e-f29edf1682e8' class='xr-var-attrs-in' type='checkbox' ><label for='attrs-3a070a77-2e58-4118-a84e-f29edf1682e8' title='Show/Hide attributes'><svg class='icon xr-icon-file-text2'><use xlink:href='#icon-file-text2'></use></svg></label><input id='data-6919d850-9935-4369-b66a-2adc3eb2a912' class='xr-var-data-in' type='checkbox'><label for='data-6919d850-9935-4369-b66a-2adc3eb2a912' title='Show/Hide data repr'><svg class='icon xr-icon-database'><use xlink:href='#icon-database'></use></svg></label><div class='xr-var-attrs'><dl class='xr-attrs'><dt><span>crs_wkt :</span></dt><dd>GEOGCS[&quot;WGS 84&quot;,DATUM[&quot;WGS_1984&quot;,SPHEROID[&quot;WGS 84&quot;,6378137,298.257223563,AUTHORITY[&quot;EPSG&quot;,&quot;7030&quot;]],AUTHORITY[&quot;EPSG&quot;,&quot;6326&quot;]],PRIMEM[&quot;Greenwich&quot;,0,AUTHORITY[&quot;EPSG&quot;,&quot;8901&quot;]],UNIT[&quot;degree&quot;,0.0174532925199433,AUTHORITY[&quot;EPSG&quot;,&quot;9122&quot;]],AXIS[&quot;Latitude&quot;,NORTH],AXIS[&quot;Longitude&quot;,EAST],AUTHORITY[&quot;EPSG&quot;,&quot;4326&quot;]]</dd><dt><span>geographic_crs_name :</span></dt><dd>WGS 84</dd><dt><span>grid_mapping_name :</span></dt><dd>latitude_longitude</dd><dt><span>horizontal_datum_name :</span></dt><dd>WGS84</dd><dt><span>spatial_ref :</span></dt><dd>GEOGCS[&quot;WGS 84&quot;,DATUM[&quot;WGS_1984&quot;,SPHEROID[&quot;WGS 84&quot;,6378137,298.257223563,AUTHORITY[&quot;EPSG&quot;,&quot;7030&quot;]],AUTHORITY[&quot;EPSG&quot;,&quot;6326&quot;]],PRIMEM[&quot;Greenwich&quot;,0,AUTHORITY[&quot;EPSG&quot;,&quot;8901&quot;]],UNIT[&quot;degree&quot;,0.0174532925199433,AUTHORITY[&quot;EPSG&quot;,&quot;9122&quot;]],AXIS[&quot;Latitude&quot;,NORTH],AXIS[&quot;Longitude&quot;,EAST],AUTHORITY[&quot;EPSG&quot;,&quot;4326&quot;]]</dd><dt><span>GeoTransform :</span></dt><dd>-79.29999923706055 0.09999847412109375 0.0 -3.0000000596046448 0.0 0.10000002384185791</dd></dl></div><div class='xr-var-data'><pre>array(0)</pre></div></li></ul></div></li><li class='xr-section-item'><input id='section-dc2effd0-df3b-43ae-b1b8-4d2832ee002f' class='xr-section-summary-in' type='checkbox' disabled ><label for='section-dc2effd0-df3b-43ae-b1b8-4d2832ee002f' class='xr-section-summary'  title='Expand/collapse section'>Attributes: <span>(0)</span></label><div class='xr-section-inline-details'></div><div class='xr-section-details'><dl class='xr-attrs'></dl></div></li></ul></div></div>"
      ],
      "text/plain": [
       "<xarray.DataArray (lat: 3, lon: 3)>\n",
       "array([[        nan, 15.43885659,         nan],\n",
       "       [ 8.32326977,  9.09369504,  8.29173989],\n",
       "       [ 5.1493402 ,  6.15480427,  4.62113877]])\n",
       "Coordinates:\n",
       "  * lat          (lat) float64 -2.95 -2.85 -2.75\n",
       "  * lon          (lon) float64 -79.25 -79.15 -79.05\n",
       "    spatial_ref  int64 0"
      ]
     },
     "execution_count": 79,
     "metadata": {},
     "output_type": "execute_result"
    }
   ],
   "source": [
    "data_sum.rio.set_spatial_dims(x_dim=\"lon\", y_dim=\"lat\", inplace=True)\n",
    "data_sum.rio.write_crs(\"epsg:4326\", inplace=True)   \n",
    "data_sum_tomebamba= data_sum.rio.clip(tomebamba_shp.geometry.apply(mapping),tomebamba_shp.crs,all_touched=True)\n",
    "data_sum_tomebamba"
   ]
  },
  {
   "cell_type": "code",
   "execution_count": 80,
   "metadata": {},
   "outputs": [
    {
     "data": {
      "image/png": "[encoded data removed]",
      "text/plain": [
       "<Figure size 576x576 with 2 Axes>"
      ]
     },
     "metadata": {
      "needs_background": "light"
     },
     "output_type": "display_data"
    },
    {
     "name": "stdout",
     "output_type": "stream",
     "text": [
      "Precipitación máxima =  15.438856594264507 mm\n",
      "Precipitación promedio =  8.153263505681284 mm\n",
      "Precipitación mínima =  4.621138773858547 mm\n"
     ]
    }
   ],
   "source": [
    "fig = plt.subplots(figsize=(8,8))\n",
    "data_sum_tomebamba.plot(cmap='cividis',vmin=0,vmax=16)\n",
    "plt.title(\"Precipitación Global IMERG-ER\")\n",
    "plt.xlabel(\"Longitude\")\n",
    "plt.ylabel(\"Latitude\")\n",
    "plt.show()\n",
    "print('Precipitación máxima = ',data_sum_tomebamba.max().values,'mm')\n",
    "print('Precipitación promedio = ',data_sum_tomebamba.mean().values,'mm')\n",
    "print('Precipitación mínima = ',data_sum_tomebamba.min().values,'mm')"
   ]
  },
  {
   "cell_type": "markdown",
   "metadata": {},
   "source": [
    "Ahora para la cuenca en Esmeraldas"
   ]
  },
  {
   "cell_type": "code",
   "execution_count": 81,
   "metadata": {},
   "outputs": [
    {
     "data": {
      "image/png": "[encoded data removed]",
      "text/plain": [
       "<Figure size 576x576 with 2 Axes>"
      ]
     },
     "metadata": {
      "needs_background": "light"
     },
     "output_type": "display_data"
    },
    {
     "name": "stdout",
     "output_type": "stream",
     "text": [
      "Precipitación máxima =  8.14799827337265 mm\n",
      "Precipitación promedio =  2.533955109616121 mm\n",
      "Precipitación mínima =  0.0 mm\n"
     ]
    }
   ],
   "source": [
    "data_sum = xr.DataArray(data_sum, dims=('lat', 'lon'), coords={'lat' : theLats, 'lon' : theLons})\n",
    "data_sum.rio.set_spatial_dims(x_dim=\"lon\", y_dim=\"lat\", inplace=True)\n",
    "data_sum.rio.write_crs(\"epsg:4326\", inplace=True)   \n",
    "data_sum_esmeraldas= data_sum.rio.clip(esmeraldas_shp.geometry.apply(mapping),esmeraldas_shp.crs,all_touched=True)\n",
    "fig = plt.subplots(figsize=(8,8))\n",
    "data_sum_esmeraldas.plot(cmap='cividis',vmin=0,vmax=9)\n",
    "plt.title(\"Precipitación Global IMERG-ER\")\n",
    "plt.xlabel(\"Longitude\")\n",
    "plt.ylabel(\"Latitude\")\n",
    "plt.show()\n",
    "print('Precipitación máxima = ',data_sum_esmeraldas.max().values,'mm')\n",
    "print('Precipitación promedio = ',data_sum_esmeraldas.mean().values,'mm')\n",
    "print('Precipitación mínima = ',data_sum_esmeraldas.min().values,'mm')"
   ]
  },
  {
   "cell_type": "markdown",
   "metadata": {},
   "source": [
    "Generación de base de datos con las series temporales (pixeles) de precipitación en la cuenca del Tomebamba"
   ]
  },
  {
   "cell_type": "code",
   "execution_count": 82,
   "metadata": {},
   "outputs": [
    {
     "name": "stdout",
     "output_type": "stream",
     "text": [
      "1 out of 48\n",
      "2 out of 48\n",
      "3 out of 48\n",
      "4 out of 48\n",
      "5 out of 48\n",
      "6 out of 48\n",
      "7 out of 48\n",
      "8 out of 48\n",
      "9 out of 48\n",
      "10 out of 48\n",
      "11 out of 48\n",
      "12 out of 48\n",
      "13 out of 48\n",
      "14 out of 48\n",
      "15 out of 48\n",
      "16 out of 48\n",
      "17 out of 48\n",
      "18 out of 48\n",
      "19 out of 48\n",
      "20 out of 48\n",
      "21 out of 48\n",
      "22 out of 48\n",
      "23 out of 48\n",
      "24 out of 48\n",
      "25 out of 48\n",
      "26 out of 48\n",
      "27 out of 48\n",
      "28 out of 48\n",
      "29 out of 48\n",
      "30 out of 48\n",
      "31 out of 48\n",
      "32 out of 48\n",
      "33 out of 48\n",
      "34 out of 48\n",
      "35 out of 48\n",
      "36 out of 48\n",
      "37 out of 48\n",
      "38 out of 48\n",
      "39 out of 48\n",
      "40 out of 48\n",
      "41 out of 48\n",
      "42 out of 48\n",
      "43 out of 48\n",
      "44 out of 48\n",
      "45 out of 48\n",
      "46 out of 48\n",
      "47 out of 48\n",
      "48 out of 48\n"
     ]
    }
   ],
   "source": [
    "for index, item in enumerate(list_of_Files):\n",
    "    print(index+1, 'out of',len(list_of_Files))\n",
    "    try:\n",
    "        data = h5py.File(item, 'r')\n",
    "    except (IOError, EOFError) as e:    \n",
    "        continue\n",
    "    precip = data['/Grid/precipitationCal'][:]\n",
    "    precip[precip < 0] = np.nan \n",
    "    precip = np.flip( precip[0,:,:].transpose(), axis=0)\n",
    "    precip = xr.DataArray(precip, dims=('lat', 'lon'), coords={'lat' : theLats, 'lon' : theLons})\n",
    "    precip.rio.set_spatial_dims(x_dim=\"lon\", y_dim=\"lat\", inplace=True)\n",
    "    precip.rio.write_crs(\"epsg:4326\", inplace=True)   \n",
    "    precip= precip.rio.clip(tomebamba_shp.geometry.apply(mapping),tomebamba_shp.crs,all_touched=True)  \n",
    "    precip = precip.values.flatten()\n",
    "    year = int(item[-40:-36])\n",
    "    month = int(item[-36:-34])\n",
    "    day = int(item[-34:-32])\n",
    "    hour = int(item[-22:-20])\n",
    "    minute = int(item[-20:-18])\n",
    "    date = datetime.datetime(year, month, day, hour, minute, 0)\n",
    "    data = pd.DataFrame(precip)\n",
    "    data = data.dropna()\n",
    "    data = data.T\n",
    "    data.set_index(pd.DatetimeIndex([date]),inplace=True)\n",
    "    if index==0:\n",
    "        dataset=data.copy()\n",
    "    else:       \n",
    "        dataset = dataset.append(data)\n",
    "\n",
    "dataset = dataset.resample('H',label='right',closed='right').sum() #nan = 0\n"
   ]
  },
  {
   "cell_type": "markdown",
   "metadata": {},
   "source": [
    "Mostrar el dataframe"
   ]
  },
  {
   "cell_type": "code",
   "execution_count": 83,
   "metadata": {},
   "outputs": [
    {
     "data": {
      "text/html": [
       "<div>\n",
       "<style scoped>\n",
       "    .dataframe tbody tr th:only-of-type {\n",
       "        vertical-align: middle;\n",
       "    }\n",
       "\n",
       "    .dataframe tbody tr th {\n",
       "        vertical-align: top;\n",
       "    }\n",
       "\n",
       "    .dataframe thead th {\n",
       "        text-align: right;\n",
       "    }\n",
       "</style>\n",
       "<table border=\"1\" class=\"dataframe\">\n",
       "  <thead>\n",
       "    <tr style=\"text-align: right;\">\n",
       "      <th></th>\n",
       "      <th>1</th>\n",
       "      <th>3</th>\n",
       "      <th>4</th>\n",
       "      <th>5</th>\n",
       "      <th>6</th>\n",
       "      <th>7</th>\n",
       "      <th>8</th>\n",
       "    </tr>\n",
       "  </thead>\n",
       "  <tbody>\n",
       "    <tr>\n",
       "      <th>2023-01-31 01:00:00</th>\n",
       "      <td>0.148423</td>\n",
       "      <td>0.198615</td>\n",
       "      <td>0.126196</td>\n",
       "      <td>0.014340</td>\n",
       "      <td>0.096081</td>\n",
       "      <td>0.094647</td>\n",
       "      <td>0.022945</td>\n",
       "    </tr>\n",
       "    <tr>\n",
       "      <th>2023-01-31 02:00:00</th>\n",
       "      <td>0.074212</td>\n",
       "      <td>0.099307</td>\n",
       "      <td>0.063098</td>\n",
       "      <td>0.007170</td>\n",
       "      <td>0.048040</td>\n",
       "      <td>0.047323</td>\n",
       "      <td>0.011472</td>\n",
       "    </tr>\n",
       "    <tr>\n",
       "      <th>2023-01-31 03:00:00</th>\n",
       "      <td>0.000000</td>\n",
       "      <td>0.000000</td>\n",
       "      <td>0.000000</td>\n",
       "      <td>0.000000</td>\n",
       "      <td>0.010000</td>\n",
       "      <td>0.010000</td>\n",
       "      <td>0.000000</td>\n",
       "    </tr>\n",
       "    <tr>\n",
       "      <th>2023-01-31 04:00:00</th>\n",
       "      <td>0.000000</td>\n",
       "      <td>0.000000</td>\n",
       "      <td>0.000000</td>\n",
       "      <td>0.000000</td>\n",
       "      <td>0.016658</td>\n",
       "      <td>0.016658</td>\n",
       "      <td>0.000000</td>\n",
       "    </tr>\n",
       "    <tr>\n",
       "      <th>2023-01-31 05:00:00</th>\n",
       "      <td>0.000000</td>\n",
       "      <td>0.000000</td>\n",
       "      <td>0.000000</td>\n",
       "      <td>0.000000</td>\n",
       "      <td>0.009997</td>\n",
       "      <td>0.009997</td>\n",
       "      <td>0.000000</td>\n",
       "    </tr>\n",
       "    <tr>\n",
       "      <th>2023-01-31 06:00:00</th>\n",
       "      <td>0.000000</td>\n",
       "      <td>0.000000</td>\n",
       "      <td>0.000000</td>\n",
       "      <td>0.040000</td>\n",
       "      <td>0.180000</td>\n",
       "      <td>0.020000</td>\n",
       "      <td>0.040000</td>\n",
       "    </tr>\n",
       "    <tr>\n",
       "      <th>2023-01-31 07:00:00</th>\n",
       "      <td>0.000000</td>\n",
       "      <td>0.010000</td>\n",
       "      <td>0.000000</td>\n",
       "      <td>0.014525</td>\n",
       "      <td>0.085364</td>\n",
       "      <td>0.007263</td>\n",
       "      <td>0.014525</td>\n",
       "    </tr>\n",
       "    <tr>\n",
       "      <th>2023-01-31 08:00:00</th>\n",
       "      <td>0.000000</td>\n",
       "      <td>0.016658</td>\n",
       "      <td>0.000000</td>\n",
       "      <td>0.000000</td>\n",
       "      <td>0.033315</td>\n",
       "      <td>0.000000</td>\n",
       "      <td>0.000000</td>\n",
       "    </tr>\n",
       "    <tr>\n",
       "      <th>2023-01-31 09:00:00</th>\n",
       "      <td>0.000000</td>\n",
       "      <td>0.009997</td>\n",
       "      <td>0.000000</td>\n",
       "      <td>0.000000</td>\n",
       "      <td>0.019993</td>\n",
       "      <td>0.000000</td>\n",
       "      <td>0.000000</td>\n",
       "    </tr>\n",
       "    <tr>\n",
       "      <th>2023-01-31 10:00:00</th>\n",
       "      <td>0.000000</td>\n",
       "      <td>0.006834</td>\n",
       "      <td>0.000000</td>\n",
       "      <td>0.000000</td>\n",
       "      <td>0.013667</td>\n",
       "      <td>0.000000</td>\n",
       "      <td>0.000000</td>\n",
       "    </tr>\n",
       "    <tr>\n",
       "      <th>2023-01-31 11:00:00</th>\n",
       "      <td>0.000000</td>\n",
       "      <td>0.005782</td>\n",
       "      <td>0.000000</td>\n",
       "      <td>0.000000</td>\n",
       "      <td>0.011565</td>\n",
       "      <td>0.000000</td>\n",
       "      <td>0.000000</td>\n",
       "    </tr>\n",
       "    <tr>\n",
       "      <th>2023-01-31 12:00:00</th>\n",
       "      <td>9.772061</td>\n",
       "      <td>0.313686</td>\n",
       "      <td>2.423244</td>\n",
       "      <td>3.186477</td>\n",
       "      <td>0.027528</td>\n",
       "      <td>0.185772</td>\n",
       "      <td>0.269332</td>\n",
       "    </tr>\n",
       "    <tr>\n",
       "      <th>2023-01-31 13:00:00</th>\n",
       "      <td>3.527432</td>\n",
       "      <td>4.562464</td>\n",
       "      <td>4.674892</td>\n",
       "      <td>3.139474</td>\n",
       "      <td>3.504762</td>\n",
       "      <td>4.614833</td>\n",
       "      <td>3.213708</td>\n",
       "    </tr>\n",
       "    <tr>\n",
       "      <th>2023-01-31 14:00:00</th>\n",
       "      <td>0.000000</td>\n",
       "      <td>0.001348</td>\n",
       "      <td>0.000000</td>\n",
       "      <td>0.000000</td>\n",
       "      <td>0.280982</td>\n",
       "      <td>0.273436</td>\n",
       "      <td>0.110792</td>\n",
       "    </tr>\n",
       "    <tr>\n",
       "      <th>2023-01-31 15:00:00</th>\n",
       "      <td>0.960000</td>\n",
       "      <td>1.620000</td>\n",
       "      <td>0.980000</td>\n",
       "      <td>1.020000</td>\n",
       "      <td>0.420000</td>\n",
       "      <td>0.440000</td>\n",
       "      <td>0.460000</td>\n",
       "    </tr>\n",
       "    <tr>\n",
       "      <th>2023-01-31 16:00:00</th>\n",
       "      <td>0.440000</td>\n",
       "      <td>0.680000</td>\n",
       "      <td>0.380000</td>\n",
       "      <td>0.400000</td>\n",
       "      <td>0.180000</td>\n",
       "      <td>0.200000</td>\n",
       "      <td>0.220000</td>\n",
       "    </tr>\n",
       "    <tr>\n",
       "      <th>2023-01-31 17:00:00</th>\n",
       "      <td>0.270373</td>\n",
       "      <td>0.417849</td>\n",
       "      <td>0.233504</td>\n",
       "      <td>0.245794</td>\n",
       "      <td>0.110607</td>\n",
       "      <td>0.122897</td>\n",
       "      <td>0.135187</td>\n",
       "    </tr>\n",
       "    <tr>\n",
       "      <th>2023-01-31 18:00:00</th>\n",
       "      <td>0.171187</td>\n",
       "      <td>0.264561</td>\n",
       "      <td>0.147843</td>\n",
       "      <td>0.155624</td>\n",
       "      <td>0.070031</td>\n",
       "      <td>0.077812</td>\n",
       "      <td>0.085593</td>\n",
       "    </tr>\n",
       "    <tr>\n",
       "      <th>2023-01-31 19:00:00</th>\n",
       "      <td>0.075169</td>\n",
       "      <td>0.116170</td>\n",
       "      <td>0.064918</td>\n",
       "      <td>0.068335</td>\n",
       "      <td>0.030751</td>\n",
       "      <td>0.034168</td>\n",
       "      <td>0.037584</td>\n",
       "    </tr>\n",
       "    <tr>\n",
       "      <th>2023-01-31 20:00:00</th>\n",
       "      <td>0.000000</td>\n",
       "      <td>0.000000</td>\n",
       "      <td>0.000000</td>\n",
       "      <td>0.000000</td>\n",
       "      <td>0.000000</td>\n",
       "      <td>0.000000</td>\n",
       "      <td>0.000000</td>\n",
       "    </tr>\n",
       "    <tr>\n",
       "      <th>2023-01-31 21:00:00</th>\n",
       "      <td>0.000000</td>\n",
       "      <td>0.000000</td>\n",
       "      <td>0.000000</td>\n",
       "      <td>0.000000</td>\n",
       "      <td>0.000000</td>\n",
       "      <td>0.000000</td>\n",
       "      <td>0.000000</td>\n",
       "    </tr>\n",
       "    <tr>\n",
       "      <th>2023-01-31 22:00:00</th>\n",
       "      <td>0.000000</td>\n",
       "      <td>0.000000</td>\n",
       "      <td>0.000000</td>\n",
       "      <td>0.000000</td>\n",
       "      <td>0.000000</td>\n",
       "      <td>0.000000</td>\n",
       "      <td>0.000000</td>\n",
       "    </tr>\n",
       "    <tr>\n",
       "      <th>2023-01-31 23:00:00</th>\n",
       "      <td>0.000000</td>\n",
       "      <td>0.000000</td>\n",
       "      <td>0.000000</td>\n",
       "      <td>0.000000</td>\n",
       "      <td>0.000000</td>\n",
       "      <td>0.000000</td>\n",
       "      <td>0.000000</td>\n",
       "    </tr>\n",
       "    <tr>\n",
       "      <th>2023-02-01 00:00:00</th>\n",
       "      <td>0.000000</td>\n",
       "      <td>0.000000</td>\n",
       "      <td>0.000000</td>\n",
       "      <td>0.000000</td>\n",
       "      <td>0.000000</td>\n",
       "      <td>0.000000</td>\n",
       "      <td>0.000000</td>\n",
       "    </tr>\n",
       "  </tbody>\n",
       "</table>\n",
       "</div>"
      ],
      "text/plain": [
       "                            1         3         4         5         6  \\\n",
       "2023-01-31 01:00:00  0.148423  0.198615  0.126196  0.014340  0.096081   \n",
       "2023-01-31 02:00:00  0.074212  0.099307  0.063098  0.007170  0.048040   \n",
       "2023-01-31 03:00:00  0.000000  0.000000  0.000000  0.000000  0.010000   \n",
       "2023-01-31 04:00:00  0.000000  0.000000  0.000000  0.000000  0.016658   \n",
       "2023-01-31 05:00:00  0.000000  0.000000  0.000000  0.000000  0.009997   \n",
       "2023-01-31 06:00:00  0.000000  0.000000  0.000000  0.040000  0.180000   \n",
       "2023-01-31 07:00:00  0.000000  0.010000  0.000000  0.014525  0.085364   \n",
       "2023-01-31 08:00:00  0.000000  0.016658  0.000000  0.000000  0.033315   \n",
       "2023-01-31 09:00:00  0.000000  0.009997  0.000000  0.000000  0.019993   \n",
       "2023-01-31 10:00:00  0.000000  0.006834  0.000000  0.000000  0.013667   \n",
       "2023-01-31 11:00:00  0.000000  0.005782  0.000000  0.000000  0.011565   \n",
       "2023-01-31 12:00:00  9.772061  0.313686  2.423244  3.186477  0.027528   \n",
       "2023-01-31 13:00:00  3.527432  4.562464  4.674892  3.139474  3.504762   \n",
       "2023-01-31 14:00:00  0.000000  0.001348  0.000000  0.000000  0.280982   \n",
       "2023-01-31 15:00:00  0.960000  1.620000  0.980000  1.020000  0.420000   \n",
       "2023-01-31 16:00:00  0.440000  0.680000  0.380000  0.400000  0.180000   \n",
       "2023-01-31 17:00:00  0.270373  0.417849  0.233504  0.245794  0.110607   \n",
       "2023-01-31 18:00:00  0.171187  0.264561  0.147843  0.155624  0.070031   \n",
       "2023-01-31 19:00:00  0.075169  0.116170  0.064918  0.068335  0.030751   \n",
       "2023-01-31 20:00:00  0.000000  0.000000  0.000000  0.000000  0.000000   \n",
       "2023-01-31 21:00:00  0.000000  0.000000  0.000000  0.000000  0.000000   \n",
       "2023-01-31 22:00:00  0.000000  0.000000  0.000000  0.000000  0.000000   \n",
       "2023-01-31 23:00:00  0.000000  0.000000  0.000000  0.000000  0.000000   \n",
       "2023-02-01 00:00:00  0.000000  0.000000  0.000000  0.000000  0.000000   \n",
       "\n",
       "                            7         8  \n",
       "2023-01-31 01:00:00  0.094647  0.022945  \n",
       "2023-01-31 02:00:00  0.047323  0.011472  \n",
       "2023-01-31 03:00:00  0.010000  0.000000  \n",
       "2023-01-31 04:00:00  0.016658  0.000000  \n",
       "2023-01-31 05:00:00  0.009997  0.000000  \n",
       "2023-01-31 06:00:00  0.020000  0.040000  \n",
       "2023-01-31 07:00:00  0.007263  0.014525  \n",
       "2023-01-31 08:00:00  0.000000  0.000000  \n",
       "2023-01-31 09:00:00  0.000000  0.000000  \n",
       "2023-01-31 10:00:00  0.000000  0.000000  \n",
       "2023-01-31 11:00:00  0.000000  0.000000  \n",
       "2023-01-31 12:00:00  0.185772  0.269332  \n",
       "2023-01-31 13:00:00  4.614833  3.213708  \n",
       "2023-01-31 14:00:00  0.273436  0.110792  \n",
       "2023-01-31 15:00:00  0.440000  0.460000  \n",
       "2023-01-31 16:00:00  0.200000  0.220000  \n",
       "2023-01-31 17:00:00  0.122897  0.135187  \n",
       "2023-01-31 18:00:00  0.077812  0.085593  \n",
       "2023-01-31 19:00:00  0.034168  0.037584  \n",
       "2023-01-31 20:00:00  0.000000  0.000000  \n",
       "2023-01-31 21:00:00  0.000000  0.000000  \n",
       "2023-01-31 22:00:00  0.000000  0.000000  \n",
       "2023-01-31 23:00:00  0.000000  0.000000  \n",
       "2023-02-01 00:00:00  0.000000  0.000000  "
      ]
     },
     "execution_count": 83,
     "metadata": {},
     "output_type": "execute_result"
    }
   ],
   "source": [
    "dataset"
   ]
  },
  {
   "cell_type": "markdown",
   "metadata": {},
   "source": [
    "Exportar el dataframe"
   ]
  },
  {
   "cell_type": "code",
   "execution_count": 84,
   "metadata": {},
   "outputs": [],
   "source": [
    "dataset.to_csv(folder_files+\"IMERG-ER_UTC_Tomebamba.csv\", index=True)  "
   ]
  },
  {
   "cell_type": "markdown",
   "metadata": {},
   "source": [
    "Graficar las series de precipitación"
   ]
  },
  {
   "cell_type": "code",
   "execution_count": 85,
   "metadata": {},
   "outputs": [
    {
     "data": {
      "image/png": "[encoded data removed]",
      "text/plain": [
       "<Figure size 1440x360 with 1 Axes>"
      ]
     },
     "metadata": {
      "needs_background": "light"
     },
     "output_type": "display_data"
    }
   ],
   "source": [
    "fig, ax = plt.subplots(figsize=(20,5))\n",
    "dataset.plot(kind='bar', ax=ax)\n",
    "ax.legend(title='Legend Title')\n",
    "plt.ylabel('Precipitation_satellite (mm)')\n",
    "plt.legend(loc='upper center', bbox_to_anchor=(0.5, -0.6), ncol=7)\n",
    "plt.show()"
   ]
  },
  {
   "cell_type": "markdown",
   "metadata": {},
   "source": [
    "Graficar la precipitación acumulada"
   ]
  },
  {
   "cell_type": "code",
   "execution_count": 86,
   "metadata": {},
   "outputs": [
    {
     "data": {
      "image/png": "[encoded data removed]",
      "text/plain": [
       "<Figure size 1440x360 with 1 Axes>"
      ]
     },
     "metadata": {
      "needs_background": "light"
     },
     "output_type": "display_data"
    }
   ],
   "source": [
    "fig, ax = plt.subplots(figsize=(20,5))\n",
    "dataset.cumsum().plot( ax=ax)\n",
    "ax.legend(title='Legend Title')\n",
    "plt.ylabel('Precipitation_satellite (mm)')\n",
    "plt.legend(loc='upper center', bbox_to_anchor=(0.5, -0.6), ncol=7)\n",
    "plt.show()"
   ]
  },
  {
   "cell_type": "markdown",
   "metadata": {},
   "source": [
    "Lo mismo para la cuenca de Esmeraldas"
   ]
  },
  {
   "cell_type": "code",
   "execution_count": 87,
   "metadata": {},
   "outputs": [
    {
     "name": "stdout",
     "output_type": "stream",
     "text": [
      "1 out of 48\n",
      "2 out of 48\n",
      "3 out of 48\n",
      "4 out of 48\n",
      "5 out of 48\n",
      "6 out of 48\n",
      "7 out of 48\n",
      "8 out of 48\n",
      "9 out of 48\n",
      "10 out of 48\n",
      "11 out of 48\n",
      "12 out of 48\n",
      "13 out of 48\n",
      "14 out of 48\n",
      "15 out of 48\n",
      "16 out of 48\n",
      "17 out of 48\n",
      "18 out of 48\n",
      "19 out of 48\n",
      "20 out of 48\n",
      "21 out of 48\n",
      "22 out of 48\n",
      "23 out of 48\n",
      "24 out of 48\n",
      "25 out of 48\n",
      "26 out of 48\n",
      "27 out of 48\n",
      "28 out of 48\n",
      "29 out of 48\n",
      "30 out of 48\n",
      "31 out of 48\n",
      "32 out of 48\n",
      "33 out of 48\n",
      "34 out of 48\n",
      "35 out of 48\n",
      "36 out of 48\n",
      "37 out of 48\n",
      "38 out of 48\n",
      "39 out of 48\n",
      "40 out of 48\n",
      "41 out of 48\n",
      "42 out of 48\n",
      "43 out of 48\n",
      "44 out of 48\n",
      "45 out of 48\n",
      "46 out of 48\n",
      "47 out of 48\n",
      "48 out of 48\n"
     ]
    }
   ],
   "source": [
    "for index, item in enumerate(list_of_Files):\n",
    "    print(index+1, 'out of',len(list_of_Files))\n",
    "    try:\n",
    "        data = h5py.File(item, 'r')\n",
    "    except (IOError, EOFError) as e:    \n",
    "        continue\n",
    "    precip = data['/Grid/precipitationCal'][:]\n",
    "    precip[precip < 0] = np.nan \n",
    "    precip = np.flip( precip[0,:,:].transpose(), axis=0)\n",
    "    precip = xr.DataArray(precip, dims=('lat', 'lon'), coords={'lat' : theLats, 'lon' : theLons})\n",
    "    precip.rio.set_spatial_dims(x_dim=\"lon\", y_dim=\"lat\", inplace=True)\n",
    "    precip.rio.write_crs(\"epsg:4326\", inplace=True)   \n",
    "    precip= precip.rio.clip(esmeraldas_shp.geometry.apply(mapping),esmeraldas_shp.crs,all_touched=True)  \n",
    "    precip = precip.values.flatten()\n",
    "    year = int(item[-40:-36])\n",
    "    month = int(item[-36:-34])\n",
    "    day = int(item[-34:-32])\n",
    "    hour = int(item[-22:-20])\n",
    "    minute = int(item[-20:-18])\n",
    "    date = datetime.datetime(year, month, day, hour, minute, 0)\n",
    "    data = pd.DataFrame(precip)\n",
    "    data = data.dropna()\n",
    "    data = data.T\n",
    "    data.set_index(pd.DatetimeIndex([date]),inplace=True)\n",
    "    if index==0:\n",
    "        dataset=data.copy()\n",
    "    else:       \n",
    "        dataset = dataset.append(data)\n",
    "\n",
    "dataset = dataset.resample('H',label='right',closed='right').sum() \n"
   ]
  },
  {
   "cell_type": "markdown",
   "metadata": {},
   "source": [
    "Mostrar el dataframe"
   ]
  },
  {
   "cell_type": "code",
   "execution_count": 88,
   "metadata": {},
   "outputs": [
    {
     "data": {
      "text/html": [
       "<div>\n",
       "<style scoped>\n",
       "    .dataframe tbody tr th:only-of-type {\n",
       "        vertical-align: middle;\n",
       "    }\n",
       "\n",
       "    .dataframe tbody tr th {\n",
       "        vertical-align: top;\n",
       "    }\n",
       "\n",
       "    .dataframe thead th {\n",
       "        text-align: right;\n",
       "    }\n",
       "</style>\n",
       "<table border=\"1\" class=\"dataframe\">\n",
       "  <thead>\n",
       "    <tr style=\"text-align: right;\">\n",
       "      <th></th>\n",
       "      <th>1</th>\n",
       "      <th>3</th>\n",
       "      <th>4</th>\n",
       "      <th>5</th>\n",
       "      <th>6</th>\n",
       "      <th>7</th>\n",
       "      <th>8</th>\n",
       "      <th>10</th>\n",
       "      <th>11</th>\n",
       "    </tr>\n",
       "  </thead>\n",
       "  <tbody>\n",
       "    <tr>\n",
       "      <th>2023-01-31 01:00:00</th>\n",
       "      <td>6.686399</td>\n",
       "      <td>5.629199</td>\n",
       "      <td>2.3996</td>\n",
       "      <td>0.2956</td>\n",
       "      <td>0.770000</td>\n",
       "      <td>0.2796</td>\n",
       "      <td>0.0316</td>\n",
       "      <td>0.0000</td>\n",
       "      <td>0.0</td>\n",
       "    </tr>\n",
       "    <tr>\n",
       "      <th>2023-01-31 02:00:00</th>\n",
       "      <td>0.038400</td>\n",
       "      <td>2.518800</td>\n",
       "      <td>0.3160</td>\n",
       "      <td>0.0000</td>\n",
       "      <td>3.309999</td>\n",
       "      <td>0.4632</td>\n",
       "      <td>0.0000</td>\n",
       "      <td>0.0672</td>\n",
       "      <td>0.0</td>\n",
       "    </tr>\n",
       "    <tr>\n",
       "      <th>2023-01-31 03:00:00</th>\n",
       "      <td>0.000000</td>\n",
       "      <td>0.000000</td>\n",
       "      <td>0.0000</td>\n",
       "      <td>0.0000</td>\n",
       "      <td>0.000000</td>\n",
       "      <td>0.0000</td>\n",
       "      <td>0.0000</td>\n",
       "      <td>0.0000</td>\n",
       "      <td>0.0</td>\n",
       "    </tr>\n",
       "    <tr>\n",
       "      <th>2023-01-31 04:00:00</th>\n",
       "      <td>0.000000</td>\n",
       "      <td>0.000000</td>\n",
       "      <td>0.0000</td>\n",
       "      <td>0.0000</td>\n",
       "      <td>0.000000</td>\n",
       "      <td>0.0000</td>\n",
       "      <td>0.0000</td>\n",
       "      <td>0.0000</td>\n",
       "      <td>0.0</td>\n",
       "    </tr>\n",
       "    <tr>\n",
       "      <th>2023-01-31 05:00:00</th>\n",
       "      <td>0.000000</td>\n",
       "      <td>0.000000</td>\n",
       "      <td>0.0000</td>\n",
       "      <td>0.0000</td>\n",
       "      <td>0.000000</td>\n",
       "      <td>0.0000</td>\n",
       "      <td>0.0000</td>\n",
       "      <td>0.0000</td>\n",
       "      <td>0.0</td>\n",
       "    </tr>\n",
       "    <tr>\n",
       "      <th>2023-01-31 06:00:00</th>\n",
       "      <td>0.000000</td>\n",
       "      <td>0.000000</td>\n",
       "      <td>0.0000</td>\n",
       "      <td>0.0000</td>\n",
       "      <td>0.000000</td>\n",
       "      <td>0.0000</td>\n",
       "      <td>0.0000</td>\n",
       "      <td>0.0000</td>\n",
       "      <td>0.0</td>\n",
       "    </tr>\n",
       "    <tr>\n",
       "      <th>2023-01-31 07:00:00</th>\n",
       "      <td>0.000000</td>\n",
       "      <td>0.000000</td>\n",
       "      <td>0.0000</td>\n",
       "      <td>0.0000</td>\n",
       "      <td>0.000000</td>\n",
       "      <td>0.0000</td>\n",
       "      <td>0.0000</td>\n",
       "      <td>0.0000</td>\n",
       "      <td>0.0</td>\n",
       "    </tr>\n",
       "    <tr>\n",
       "      <th>2023-01-31 08:00:00</th>\n",
       "      <td>0.000000</td>\n",
       "      <td>0.000000</td>\n",
       "      <td>0.0000</td>\n",
       "      <td>0.0000</td>\n",
       "      <td>0.000000</td>\n",
       "      <td>0.0000</td>\n",
       "      <td>0.0000</td>\n",
       "      <td>0.0000</td>\n",
       "      <td>0.0</td>\n",
       "    </tr>\n",
       "    <tr>\n",
       "      <th>2023-01-31 09:00:00</th>\n",
       "      <td>0.000000</td>\n",
       "      <td>0.000000</td>\n",
       "      <td>0.0000</td>\n",
       "      <td>0.0000</td>\n",
       "      <td>0.000000</td>\n",
       "      <td>0.0000</td>\n",
       "      <td>0.0000</td>\n",
       "      <td>0.0000</td>\n",
       "      <td>0.0</td>\n",
       "    </tr>\n",
       "    <tr>\n",
       "      <th>2023-01-31 10:00:00</th>\n",
       "      <td>0.000000</td>\n",
       "      <td>0.000000</td>\n",
       "      <td>0.0000</td>\n",
       "      <td>0.0000</td>\n",
       "      <td>0.000000</td>\n",
       "      <td>0.0000</td>\n",
       "      <td>0.0000</td>\n",
       "      <td>0.0000</td>\n",
       "      <td>0.0</td>\n",
       "    </tr>\n",
       "    <tr>\n",
       "      <th>2023-01-31 11:00:00</th>\n",
       "      <td>0.000000</td>\n",
       "      <td>0.000000</td>\n",
       "      <td>0.0000</td>\n",
       "      <td>0.0000</td>\n",
       "      <td>0.000000</td>\n",
       "      <td>0.0000</td>\n",
       "      <td>0.0000</td>\n",
       "      <td>0.0000</td>\n",
       "      <td>0.0</td>\n",
       "    </tr>\n",
       "    <tr>\n",
       "      <th>2023-01-31 12:00:00</th>\n",
       "      <td>0.000000</td>\n",
       "      <td>0.000000</td>\n",
       "      <td>0.0000</td>\n",
       "      <td>0.0000</td>\n",
       "      <td>0.000000</td>\n",
       "      <td>0.0000</td>\n",
       "      <td>0.0000</td>\n",
       "      <td>0.0000</td>\n",
       "      <td>0.0</td>\n",
       "    </tr>\n",
       "    <tr>\n",
       "      <th>2023-01-31 13:00:00</th>\n",
       "      <td>0.000000</td>\n",
       "      <td>0.000000</td>\n",
       "      <td>0.0000</td>\n",
       "      <td>0.0000</td>\n",
       "      <td>0.000000</td>\n",
       "      <td>0.0000</td>\n",
       "      <td>0.0000</td>\n",
       "      <td>0.0000</td>\n",
       "      <td>0.0</td>\n",
       "    </tr>\n",
       "    <tr>\n",
       "      <th>2023-01-31 14:00:00</th>\n",
       "      <td>0.000000</td>\n",
       "      <td>0.000000</td>\n",
       "      <td>0.0000</td>\n",
       "      <td>0.0000</td>\n",
       "      <td>0.000000</td>\n",
       "      <td>0.0000</td>\n",
       "      <td>0.0000</td>\n",
       "      <td>0.0000</td>\n",
       "      <td>0.0</td>\n",
       "    </tr>\n",
       "    <tr>\n",
       "      <th>2023-01-31 15:00:00</th>\n",
       "      <td>0.000000</td>\n",
       "      <td>0.000000</td>\n",
       "      <td>0.0000</td>\n",
       "      <td>0.0000</td>\n",
       "      <td>0.000000</td>\n",
       "      <td>0.0000</td>\n",
       "      <td>0.0000</td>\n",
       "      <td>0.0000</td>\n",
       "      <td>0.0</td>\n",
       "    </tr>\n",
       "    <tr>\n",
       "      <th>2023-01-31 16:00:00</th>\n",
       "      <td>0.000000</td>\n",
       "      <td>0.000000</td>\n",
       "      <td>0.0000</td>\n",
       "      <td>0.0000</td>\n",
       "      <td>0.000000</td>\n",
       "      <td>0.0000</td>\n",
       "      <td>0.0000</td>\n",
       "      <td>0.0000</td>\n",
       "      <td>0.0</td>\n",
       "    </tr>\n",
       "    <tr>\n",
       "      <th>2023-01-31 17:00:00</th>\n",
       "      <td>0.000000</td>\n",
       "      <td>0.000000</td>\n",
       "      <td>0.0000</td>\n",
       "      <td>0.0000</td>\n",
       "      <td>0.000000</td>\n",
       "      <td>0.0000</td>\n",
       "      <td>0.0000</td>\n",
       "      <td>0.0000</td>\n",
       "      <td>0.0</td>\n",
       "    </tr>\n",
       "    <tr>\n",
       "      <th>2023-01-31 18:00:00</th>\n",
       "      <td>0.000000</td>\n",
       "      <td>0.000000</td>\n",
       "      <td>0.0000</td>\n",
       "      <td>0.0000</td>\n",
       "      <td>0.000000</td>\n",
       "      <td>0.0000</td>\n",
       "      <td>0.0000</td>\n",
       "      <td>0.0000</td>\n",
       "      <td>0.0</td>\n",
       "    </tr>\n",
       "    <tr>\n",
       "      <th>2023-01-31 19:00:00</th>\n",
       "      <td>0.000000</td>\n",
       "      <td>0.000000</td>\n",
       "      <td>0.0000</td>\n",
       "      <td>0.0000</td>\n",
       "      <td>0.000000</td>\n",
       "      <td>0.0000</td>\n",
       "      <td>0.0000</td>\n",
       "      <td>0.0000</td>\n",
       "      <td>0.0</td>\n",
       "    </tr>\n",
       "    <tr>\n",
       "      <th>2023-01-31 20:00:00</th>\n",
       "      <td>0.000000</td>\n",
       "      <td>0.000000</td>\n",
       "      <td>0.0000</td>\n",
       "      <td>0.0000</td>\n",
       "      <td>0.000000</td>\n",
       "      <td>0.0000</td>\n",
       "      <td>0.0000</td>\n",
       "      <td>0.0000</td>\n",
       "      <td>0.0</td>\n",
       "    </tr>\n",
       "    <tr>\n",
       "      <th>2023-01-31 21:00:00</th>\n",
       "      <td>0.000000</td>\n",
       "      <td>0.000000</td>\n",
       "      <td>0.0000</td>\n",
       "      <td>0.0000</td>\n",
       "      <td>0.000000</td>\n",
       "      <td>0.0000</td>\n",
       "      <td>0.0000</td>\n",
       "      <td>0.0000</td>\n",
       "      <td>0.0</td>\n",
       "    </tr>\n",
       "    <tr>\n",
       "      <th>2023-01-31 22:00:00</th>\n",
       "      <td>0.000000</td>\n",
       "      <td>0.000000</td>\n",
       "      <td>0.0000</td>\n",
       "      <td>0.0000</td>\n",
       "      <td>0.000000</td>\n",
       "      <td>0.0000</td>\n",
       "      <td>0.0000</td>\n",
       "      <td>0.0000</td>\n",
       "      <td>0.0</td>\n",
       "    </tr>\n",
       "    <tr>\n",
       "      <th>2023-01-31 23:00:00</th>\n",
       "      <td>0.000000</td>\n",
       "      <td>0.000000</td>\n",
       "      <td>0.0000</td>\n",
       "      <td>0.0000</td>\n",
       "      <td>0.000000</td>\n",
       "      <td>0.0000</td>\n",
       "      <td>0.0000</td>\n",
       "      <td>0.0000</td>\n",
       "      <td>0.0</td>\n",
       "    </tr>\n",
       "    <tr>\n",
       "      <th>2023-02-01 00:00:00</th>\n",
       "      <td>0.000000</td>\n",
       "      <td>0.000000</td>\n",
       "      <td>0.0000</td>\n",
       "      <td>0.0000</td>\n",
       "      <td>0.000000</td>\n",
       "      <td>0.0000</td>\n",
       "      <td>0.0000</td>\n",
       "      <td>0.0000</td>\n",
       "      <td>0.0</td>\n",
       "    </tr>\n",
       "  </tbody>\n",
       "</table>\n",
       "</div>"
      ],
      "text/plain": [
       "                           1         3       4       5         6       7   \\\n",
       "2023-01-31 01:00:00  6.686399  5.629199  2.3996  0.2956  0.770000  0.2796   \n",
       "2023-01-31 02:00:00  0.038400  2.518800  0.3160  0.0000  3.309999  0.4632   \n",
       "2023-01-31 03:00:00  0.000000  0.000000  0.0000  0.0000  0.000000  0.0000   \n",
       "2023-01-31 04:00:00  0.000000  0.000000  0.0000  0.0000  0.000000  0.0000   \n",
       "2023-01-31 05:00:00  0.000000  0.000000  0.0000  0.0000  0.000000  0.0000   \n",
       "2023-01-31 06:00:00  0.000000  0.000000  0.0000  0.0000  0.000000  0.0000   \n",
       "2023-01-31 07:00:00  0.000000  0.000000  0.0000  0.0000  0.000000  0.0000   \n",
       "2023-01-31 08:00:00  0.000000  0.000000  0.0000  0.0000  0.000000  0.0000   \n",
       "2023-01-31 09:00:00  0.000000  0.000000  0.0000  0.0000  0.000000  0.0000   \n",
       "2023-01-31 10:00:00  0.000000  0.000000  0.0000  0.0000  0.000000  0.0000   \n",
       "2023-01-31 11:00:00  0.000000  0.000000  0.0000  0.0000  0.000000  0.0000   \n",
       "2023-01-31 12:00:00  0.000000  0.000000  0.0000  0.0000  0.000000  0.0000   \n",
       "2023-01-31 13:00:00  0.000000  0.000000  0.0000  0.0000  0.000000  0.0000   \n",
       "2023-01-31 14:00:00  0.000000  0.000000  0.0000  0.0000  0.000000  0.0000   \n",
       "2023-01-31 15:00:00  0.000000  0.000000  0.0000  0.0000  0.000000  0.0000   \n",
       "2023-01-31 16:00:00  0.000000  0.000000  0.0000  0.0000  0.000000  0.0000   \n",
       "2023-01-31 17:00:00  0.000000  0.000000  0.0000  0.0000  0.000000  0.0000   \n",
       "2023-01-31 18:00:00  0.000000  0.000000  0.0000  0.0000  0.000000  0.0000   \n",
       "2023-01-31 19:00:00  0.000000  0.000000  0.0000  0.0000  0.000000  0.0000   \n",
       "2023-01-31 20:00:00  0.000000  0.000000  0.0000  0.0000  0.000000  0.0000   \n",
       "2023-01-31 21:00:00  0.000000  0.000000  0.0000  0.0000  0.000000  0.0000   \n",
       "2023-01-31 22:00:00  0.000000  0.000000  0.0000  0.0000  0.000000  0.0000   \n",
       "2023-01-31 23:00:00  0.000000  0.000000  0.0000  0.0000  0.000000  0.0000   \n",
       "2023-02-01 00:00:00  0.000000  0.000000  0.0000  0.0000  0.000000  0.0000   \n",
       "\n",
       "                         8       10   11  \n",
       "2023-01-31 01:00:00  0.0316  0.0000  0.0  \n",
       "2023-01-31 02:00:00  0.0000  0.0672  0.0  \n",
       "2023-01-31 03:00:00  0.0000  0.0000  0.0  \n",
       "2023-01-31 04:00:00  0.0000  0.0000  0.0  \n",
       "2023-01-31 05:00:00  0.0000  0.0000  0.0  \n",
       "2023-01-31 06:00:00  0.0000  0.0000  0.0  \n",
       "2023-01-31 07:00:00  0.0000  0.0000  0.0  \n",
       "2023-01-31 08:00:00  0.0000  0.0000  0.0  \n",
       "2023-01-31 09:00:00  0.0000  0.0000  0.0  \n",
       "2023-01-31 10:00:00  0.0000  0.0000  0.0  \n",
       "2023-01-31 11:00:00  0.0000  0.0000  0.0  \n",
       "2023-01-31 12:00:00  0.0000  0.0000  0.0  \n",
       "2023-01-31 13:00:00  0.0000  0.0000  0.0  \n",
       "2023-01-31 14:00:00  0.0000  0.0000  0.0  \n",
       "2023-01-31 15:00:00  0.0000  0.0000  0.0  \n",
       "2023-01-31 16:00:00  0.0000  0.0000  0.0  \n",
       "2023-01-31 17:00:00  0.0000  0.0000  0.0  \n",
       "2023-01-31 18:00:00  0.0000  0.0000  0.0  \n",
       "2023-01-31 19:00:00  0.0000  0.0000  0.0  \n",
       "2023-01-31 20:00:00  0.0000  0.0000  0.0  \n",
       "2023-01-31 21:00:00  0.0000  0.0000  0.0  \n",
       "2023-01-31 22:00:00  0.0000  0.0000  0.0  \n",
       "2023-01-31 23:00:00  0.0000  0.0000  0.0  \n",
       "2023-02-01 00:00:00  0.0000  0.0000  0.0  "
      ]
     },
     "execution_count": 88,
     "metadata": {},
     "output_type": "execute_result"
    }
   ],
   "source": [
    "dataset"
   ]
  },
  {
   "cell_type": "markdown",
   "metadata": {},
   "source": [
    "Exportar el dataframe"
   ]
  },
  {
   "cell_type": "code",
   "execution_count": 89,
   "metadata": {},
   "outputs": [],
   "source": [
    "dataset.to_csv(folder_files+\"IMERG-ER_UTC_Esmeraldas.csv\", index=True)  "
   ]
  },
  {
   "cell_type": "markdown",
   "metadata": {},
   "source": [
    "Graficar las series de precipitación"
   ]
  },
  {
   "cell_type": "code",
   "execution_count": 90,
   "metadata": {},
   "outputs": [
    {
     "data": {
      "image/png": "[encoded data removed]",
      "text/plain": [
       "<Figure size 1440x360 with 1 Axes>"
      ]
     },
     "metadata": {
      "needs_background": "light"
     },
     "output_type": "display_data"
    }
   ],
   "source": [
    "fig, ax = plt.subplots(figsize=(20,5))\n",
    "dataset.plot(kind='bar', ax=ax)\n",
    "ax.legend(title='Legend Title')\n",
    "plt.ylabel('Precipitation_satellite (mm)')\n",
    "plt.legend(loc='upper center', bbox_to_anchor=(0.5, -0.6), ncol=9)\n",
    "plt.show()"
   ]
  },
  {
   "cell_type": "markdown",
   "metadata": {},
   "source": [
    "Graficar precipitación acumulada"
   ]
  },
  {
   "cell_type": "code",
   "execution_count": 91,
   "metadata": {
    "scrolled": true
   },
   "outputs": [
    {
     "data": {
      "image/png": "[encoded data removed]",
      "text/plain": [
       "<Figure size 1440x360 with 1 Axes>"
      ]
     },
     "metadata": {
      "needs_background": "light"
     },
     "output_type": "display_data"
    }
   ],
   "source": [
    "fig, ax = plt.subplots(figsize=(20,5))\n",
    "dataset.cumsum().plot( ax=ax)\n",
    "ax.legend(title='Legend Title')\n",
    "plt.ylabel('Precipitation_satellite (mm)')\n",
    "plt.legend(loc='upper center', bbox_to_anchor=(0.5, -0.6), ncol=9)\n",
    "plt.show()"
   ]
  },
  {
   "cell_type": "markdown",
   "metadata": {},
   "source": [
    "FIN"
   ]
  },
  {
   "cell_type": "code",
   "execution_count": null,
   "metadata": {},
   "outputs": [],
   "source": []
  },
  {
   "cell_type": "code",
   "execution_count": null,
   "metadata": {},
   "outputs": [],
   "source": []
  }
 ],
 "metadata": {
  "kernelspec": {
   "display_name": "Python 3 (ipykernel)",
   "language": "python",
   "name": "python3"
  },
  "language_info": {
   "codemirror_mode": {
    "name": "ipython",
    "version": 3
   },
   "file_extension": ".py",
   "mimetype": "text/x-python",
   "name": "python",
   "nbconvert_exporter": "python",
   "pygments_lexer": "ipython3",
   "version": "3.7.16"
  }
 },
 "nbformat": 4,
 "nbformat_minor": 4
}
