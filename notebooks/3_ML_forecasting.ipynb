{
 "cells": [
  {
   "cell_type": "markdown",
   "id": "dcdb5c0d",
   "metadata": {},
   "source": [
    "<div style=\"text-align:center;\">\n",
    "    <img style=\"width: 30%;\" src=\"static/imgs/Logo_course.png\">\n",
    "    <p style=\"margin-top:10px;\">paul.andres.munoz@gmail.com<br>paul.munoz@vub.be</p>\n",
    "</div>\n",
    "    "
   ]
  },
  {
   "cell_type": "markdown",
   "id": "0e1ce37e",
   "metadata": {},
   "source": [
    "# Part 3: Development of hydrological forecasting models\n",
    "\n",
    "In this session, we will:\n",
    "   - Develop forecasting models for the mountain catchment"
   ]
  },
  {
   "cell_type": "markdown",
   "id": "ce59d2de",
   "metadata": {},
   "source": [
    "## Import Libraries"
   ]
  },
  {
   "cell_type": "code",
   "execution_count": 1,
   "id": "c7a8a96e",
   "metadata": {},
   "outputs": [],
   "source": [
    "import pickle\n",
    "import matplotlib.pyplot as plt\n",
    "import numpy as np\n",
    "import matplotlib.dates as dates\n",
    "import os\n",
    "import datetime\n",
    "import pandas as pd\n",
    "from sklearn.ensemble import RandomForestRegressor\n",
    "from sklearn.feature_selection import SelectFromModel\n",
    "from copy import deepcopy\n",
    "import seaborn as sns\n",
    "from sklearn.model_selection import GridSearchCV\n",
    "import itertools\n",
    "import random\n",
    "\n",
    "def lagged_dataset(arr, num_steps, additional_arr, new_num_steps):\n",
    "    num_columns = arr.shape[1]\n",
    "    modified_rows = []\n",
    "    excluded_data = []\n",
    "    for i in range(num_steps, arr.shape[0]):\n",
    "        prev_rows = arr[i - num_steps:i]\n",
    "        current_row = arr[i]\n",
    "        new_row = np.concatenate((prev_rows.flatten(), current_row))\n",
    "        modified_rows.append(new_row)\n",
    "    result_array = np.array(modified_rows)\n",
    "    # Slicing the result_array to match the number of rows in modified_additional_arr\n",
    "    if result_array.shape[0] > additional_arr.shape[0]:\n",
    "        result_array = result_array[result_array.shape[0] - additional_arr.shape[0]:]\n",
    "\n",
    "    modified_rows = []\n",
    "    for i in range(new_num_steps, additional_arr.shape[0]):\n",
    "        prev_rows = additional_arr[i - new_num_steps:i]\n",
    "        current_row = additional_arr[i]\n",
    "        excluded_data.append(current_row[-1])  # Store excluded data\n",
    "        new_row = np.concatenate((prev_rows.flatten(), current_row[:-1]))  # Exclude last column\n",
    "        modified_rows.append(new_row)\n",
    "\n",
    "    modified_additional_arr = np.array(modified_rows)\n",
    "\n",
    "    # Adjust dimensions by removing rows from result_array or modified_additional_arr\n",
    "    min_rows = min(result_array.shape[0], modified_additional_arr.shape[0])\n",
    "    result_array = result_array[-min_rows:]\n",
    "    modified_additional_arr = modified_additional_arr[-min_rows:]\n",
    "    excluded_data = np.array(excluded_data)[-min_rows:]\n",
    "\n",
    "    # Concatenate result_array and modified_additional_arr\n",
    "    final_result = np.concatenate((result_array, modified_additional_arr), axis=1)\n",
    "\n",
    "    return final_result, np.array(excluded_data)[:, None]\n",
    "\n",
    "def lagged_dataset_pron(arr, num_steps, additional_arr, new_num_steps, lead_time):\n",
    "    num_columns = arr.shape[1]\n",
    "    modified_rows = []\n",
    "    excluded_data = []\n",
    "\n",
    "    for i in range(num_steps, arr.shape[0]):\n",
    "        prev_rows = arr[i - num_steps:i]\n",
    "        current_row = arr[i]\n",
    "        new_row = np.concatenate((prev_rows.flatten(), current_row))\n",
    "        modified_rows.append(new_row)\n",
    "\n",
    "    result_array = np.array(modified_rows)\n",
    "\n",
    "    # Slicing the result_array to match the number of rows in modified_additional_arr\n",
    "    if result_array.shape[0] > additional_arr.shape[0]:\n",
    "        result_array = result_array[result_array.shape[0] - additional_arr.shape[0]:]\n",
    "\n",
    "    modified_rows = []\n",
    "    for i in range(new_num_steps, additional_arr.shape[0]):\n",
    "        prev_rows = additional_arr[i - new_num_steps:i]\n",
    "        current_row = additional_arr[i]\n",
    "        excluded_data.append(current_row[-1])  # Store excluded data\n",
    "        new_row = np.concatenate((prev_rows.flatten(), current_row))  # Include last column\n",
    "        modified_rows.append(new_row)\n",
    "\n",
    "    modified_additional_arr = np.array(modified_rows)\n",
    "\n",
    "    # Adjust dimensions by removing rows from result_array or modified_additional_arr\n",
    "    min_rows = min(result_array.shape[0], modified_additional_arr.shape[0])\n",
    "    result_array = result_array[-min_rows:]\n",
    "    modified_additional_arr = modified_additional_arr[-min_rows:]\n",
    "    excluded_data = np.array(excluded_data)[-min_rows:]\n",
    "\n",
    "    # Shift excluded_data by lead_time\n",
    "    excluded_data = excluded_data[lead_time:]\n",
    "\n",
    "    # Concatenate result_array and modified_additional_arr\n",
    "    final_result = np.concatenate((result_array, modified_additional_arr), axis=1)\n",
    "\n",
    "    # Resize final_result and excluded_data to have the same number of rows\n",
    "    min_rows = min(final_result.shape[0], excluded_data.shape[0])\n",
    "    final_result = final_result[:min_rows]\n",
    "    excluded_data = excluded_data[:min_rows]\n",
    "\n",
    "    return final_result, np.array(excluded_data)[:, None]\n",
    "\n",
    "\n",
    "def calculate_hydro_metrics(simulations, evaluation):\n",
    "    sim_mean = np.mean(simulations, axis=0, dtype=np.float64)\n",
    "    obs_mean = np.mean(evaluation, dtype=np.float64)\n",
    "\n",
    "    r_num = np.sum((simulations - sim_mean) * (evaluation - obs_mean),\n",
    "                   axis=0, dtype=np.float64)\n",
    "    r_den = np.sqrt(np.sum((simulations - sim_mean) ** 2,\n",
    "                           axis=0, dtype=np.float64)\n",
    "                    * np.sum((evaluation - obs_mean) ** 2,\n",
    "                             dtype=np.float64))\n",
    "    r = r_num / r_den\n",
    "    # calculate error in spread of flow alpha\n",
    "    alpha = np.std(simulations, axis=0) / np.std(evaluation, dtype=np.float64)\n",
    "    # calculate error in volume beta (bias of mean discharge)\n",
    "    beta = (np.sum(simulations, axis=0, dtype=np.float64)\n",
    "            / np.sum(evaluation, dtype=np.float64))\n",
    "    # calculate the Kling-Gupta Efficiency KGE\n",
    "    kge = 1 - np.sqrt((r - 1) ** 2 + (alpha - 1) ** 2 + (beta - 1) ** 2)\n",
    "    rmse = np.sqrt(np.mean((evaluation - simulations) ** 2,\n",
    "                            axis=0, dtype=np.float64))\n",
    "    pbias = (100 * np.sum(evaluation - simulations, axis=0, dtype=np.float64)\n",
    "              / np.sum(evaluation))\n",
    "    r2 = 1 - (np.sum((evaluation - simulations)**2) / np.sum((evaluation - np.mean(evaluation))**2))\n",
    "    return kge, rmse, pbias, r2\n",
    "np.random.seed(22)\n",
    "random.seed(22)"
   ]
  },
  {
   "cell_type": "markdown",
   "id": "785a3064",
   "metadata": {},
   "source": [
    "## Select project folder"
   ]
  },
  {
   "cell_type": "code",
   "execution_count": 2,
   "id": "85381a55",
   "metadata": {},
   "outputs": [
    {
     "data": {
      "text/plain": [
       "'/Users/paul/Documents/GitHub/ML_hydrological_forecasting/notebooks/data/'"
      ]
     },
     "execution_count": 2,
     "metadata": {},
     "output_type": "execute_result"
    }
   ],
   "source": [
    "folder = os.getcwd()+'/data/'\n",
    "folder"
   ]
  },
  {
   "cell_type": "markdown",
   "id": "b745e22b",
   "metadata": {},
   "source": [
    "## Import precipitation data"
   ]
  },
  {
   "cell_type": "markdown",
   "id": "a9f65ceb",
   "metadata": {},
   "source": [
    "### Satellite precipitation"
   ]
  },
  {
   "cell_type": "markdown",
   "id": "85e409de",
   "metadata": {},
   "source": [
    "Read data from the mountain catchment"
   ]
  },
  {
   "cell_type": "code",
   "execution_count": 7,
   "id": "9a895238",
   "metadata": {},
   "outputs": [],
   "source": [
    "# Import satellite precipitation data\n",
    "precipitation_satellite = pd.read_table(folder + 'PERSIANN-CCS_UTC_daily_catchment_1.csv', sep=',')\n",
    "# Rename columns\n",
    "precipitation_satellite.rename(columns={'Unnamed: 0': 'Date'}, inplace=True)\n",
    "# Convert the 'Date' column to datetime format\n",
    "precipitation_satellite['Date'] = precipitation_satellite['Date'].apply(lambda x: pd.to_datetime(x, dayfirst=True))\n",
    "# Set 'Date' as the index\n",
    "precipitation_satellite.set_index(precipitation_satellite['Date'], inplace=True)\n",
    "# Drop the redundant 'Date' column (updated for future pandas versions)\n",
    "precipitation_satellite = precipitation_satellite.drop(labels='Date', axis=1)"
   ]
  },
  {
   "cell_type": "code",
   "execution_count": 8,
   "id": "e4be9d91",
   "metadata": {},
   "outputs": [
    {
     "data": {
      "text/html": [
       "<div>\n",
       "<style scoped>\n",
       "    .dataframe tbody tr th:only-of-type {\n",
       "        vertical-align: middle;\n",
       "    }\n",
       "\n",
       "    .dataframe tbody tr th {\n",
       "        vertical-align: top;\n",
       "    }\n",
       "\n",
       "    .dataframe thead th {\n",
       "        text-align: right;\n",
       "    }\n",
       "</style>\n",
       "<table border=\"1\" class=\"dataframe\">\n",
       "  <thead>\n",
       "    <tr style=\"text-align: right;\">\n",
       "      <th></th>\n",
       "      <th>1</th>\n",
       "      <th>2</th>\n",
       "      <th>3</th>\n",
       "      <th>6</th>\n",
       "      <th>7</th>\n",
       "      <th>8</th>\n",
       "      <th>9</th>\n",
       "      <th>10</th>\n",
       "      <th>12</th>\n",
       "      <th>13</th>\n",
       "      <th>...</th>\n",
       "      <th>21</th>\n",
       "      <th>22</th>\n",
       "      <th>23</th>\n",
       "      <th>24</th>\n",
       "      <th>25</th>\n",
       "      <th>26</th>\n",
       "      <th>27</th>\n",
       "      <th>28</th>\n",
       "      <th>31</th>\n",
       "      <th>32</th>\n",
       "    </tr>\n",
       "    <tr>\n",
       "      <th>Date</th>\n",
       "      <th></th>\n",
       "      <th></th>\n",
       "      <th></th>\n",
       "      <th></th>\n",
       "      <th></th>\n",
       "      <th></th>\n",
       "      <th></th>\n",
       "      <th></th>\n",
       "      <th></th>\n",
       "      <th></th>\n",
       "      <th></th>\n",
       "      <th></th>\n",
       "      <th></th>\n",
       "      <th></th>\n",
       "      <th></th>\n",
       "      <th></th>\n",
       "      <th></th>\n",
       "      <th></th>\n",
       "      <th></th>\n",
       "      <th></th>\n",
       "      <th></th>\n",
       "    </tr>\n",
       "  </thead>\n",
       "  <tbody>\n",
       "    <tr>\n",
       "      <th>2003-01-01</th>\n",
       "      <td>0.0</td>\n",
       "      <td>0.0</td>\n",
       "      <td>0.00</td>\n",
       "      <td>0.0</td>\n",
       "      <td>0.0</td>\n",
       "      <td>0.0</td>\n",
       "      <td>0.0</td>\n",
       "      <td>0.0</td>\n",
       "      <td>0.0</td>\n",
       "      <td>0.0</td>\n",
       "      <td>...</td>\n",
       "      <td>0.0</td>\n",
       "      <td>0.0</td>\n",
       "      <td>0.0</td>\n",
       "      <td>0.00</td>\n",
       "      <td>0.0</td>\n",
       "      <td>0.0</td>\n",
       "      <td>0.00</td>\n",
       "      <td>0.00</td>\n",
       "      <td>0.00</td>\n",
       "      <td>0.0</td>\n",
       "    </tr>\n",
       "    <tr>\n",
       "      <th>2003-01-02</th>\n",
       "      <td>0.0</td>\n",
       "      <td>0.0</td>\n",
       "      <td>0.00</td>\n",
       "      <td>0.0</td>\n",
       "      <td>0.0</td>\n",
       "      <td>0.0</td>\n",
       "      <td>0.0</td>\n",
       "      <td>0.0</td>\n",
       "      <td>0.0</td>\n",
       "      <td>0.0</td>\n",
       "      <td>...</td>\n",
       "      <td>0.0</td>\n",
       "      <td>0.0</td>\n",
       "      <td>0.0</td>\n",
       "      <td>0.00</td>\n",
       "      <td>0.0</td>\n",
       "      <td>0.0</td>\n",
       "      <td>0.00</td>\n",
       "      <td>0.00</td>\n",
       "      <td>0.00</td>\n",
       "      <td>0.0</td>\n",
       "    </tr>\n",
       "    <tr>\n",
       "      <th>2003-01-03</th>\n",
       "      <td>0.0</td>\n",
       "      <td>0.0</td>\n",
       "      <td>0.00</td>\n",
       "      <td>0.0</td>\n",
       "      <td>0.0</td>\n",
       "      <td>0.0</td>\n",
       "      <td>0.0</td>\n",
       "      <td>0.0</td>\n",
       "      <td>0.0</td>\n",
       "      <td>0.0</td>\n",
       "      <td>...</td>\n",
       "      <td>0.0</td>\n",
       "      <td>0.0</td>\n",
       "      <td>0.0</td>\n",
       "      <td>0.00</td>\n",
       "      <td>0.0</td>\n",
       "      <td>0.0</td>\n",
       "      <td>0.00</td>\n",
       "      <td>0.00</td>\n",
       "      <td>0.00</td>\n",
       "      <td>0.0</td>\n",
       "    </tr>\n",
       "    <tr>\n",
       "      <th>2003-01-04</th>\n",
       "      <td>0.0</td>\n",
       "      <td>0.0</td>\n",
       "      <td>0.00</td>\n",
       "      <td>0.0</td>\n",
       "      <td>0.0</td>\n",
       "      <td>0.0</td>\n",
       "      <td>0.0</td>\n",
       "      <td>0.0</td>\n",
       "      <td>0.0</td>\n",
       "      <td>0.0</td>\n",
       "      <td>...</td>\n",
       "      <td>0.0</td>\n",
       "      <td>0.0</td>\n",
       "      <td>0.0</td>\n",
       "      <td>0.00</td>\n",
       "      <td>0.0</td>\n",
       "      <td>0.0</td>\n",
       "      <td>0.00</td>\n",
       "      <td>0.00</td>\n",
       "      <td>0.00</td>\n",
       "      <td>0.0</td>\n",
       "    </tr>\n",
       "    <tr>\n",
       "      <th>2003-01-05</th>\n",
       "      <td>0.0</td>\n",
       "      <td>0.0</td>\n",
       "      <td>0.00</td>\n",
       "      <td>0.0</td>\n",
       "      <td>0.0</td>\n",
       "      <td>0.0</td>\n",
       "      <td>0.0</td>\n",
       "      <td>0.0</td>\n",
       "      <td>0.0</td>\n",
       "      <td>0.0</td>\n",
       "      <td>...</td>\n",
       "      <td>0.0</td>\n",
       "      <td>0.0</td>\n",
       "      <td>0.0</td>\n",
       "      <td>0.00</td>\n",
       "      <td>0.0</td>\n",
       "      <td>0.0</td>\n",
       "      <td>0.00</td>\n",
       "      <td>0.00</td>\n",
       "      <td>0.00</td>\n",
       "      <td>0.0</td>\n",
       "    </tr>\n",
       "    <tr>\n",
       "      <th>...</th>\n",
       "      <td>...</td>\n",
       "      <td>...</td>\n",
       "      <td>...</td>\n",
       "      <td>...</td>\n",
       "      <td>...</td>\n",
       "      <td>...</td>\n",
       "      <td>...</td>\n",
       "      <td>...</td>\n",
       "      <td>...</td>\n",
       "      <td>...</td>\n",
       "      <td>...</td>\n",
       "      <td>...</td>\n",
       "      <td>...</td>\n",
       "      <td>...</td>\n",
       "      <td>...</td>\n",
       "      <td>...</td>\n",
       "      <td>...</td>\n",
       "      <td>...</td>\n",
       "      <td>...</td>\n",
       "      <td>...</td>\n",
       "      <td>...</td>\n",
       "    </tr>\n",
       "    <tr>\n",
       "      <th>2023-08-09</th>\n",
       "      <td>0.0</td>\n",
       "      <td>0.2</td>\n",
       "      <td>0.48</td>\n",
       "      <td>0.0</td>\n",
       "      <td>0.0</td>\n",
       "      <td>0.0</td>\n",
       "      <td>0.2</td>\n",
       "      <td>0.0</td>\n",
       "      <td>0.0</td>\n",
       "      <td>0.0</td>\n",
       "      <td>...</td>\n",
       "      <td>1.2</td>\n",
       "      <td>0.0</td>\n",
       "      <td>0.0</td>\n",
       "      <td>1.41</td>\n",
       "      <td>0.5</td>\n",
       "      <td>0.0</td>\n",
       "      <td>1.22</td>\n",
       "      <td>5.22</td>\n",
       "      <td>2.12</td>\n",
       "      <td>0.5</td>\n",
       "    </tr>\n",
       "    <tr>\n",
       "      <th>2023-08-10</th>\n",
       "      <td>0.0</td>\n",
       "      <td>0.0</td>\n",
       "      <td>0.00</td>\n",
       "      <td>0.0</td>\n",
       "      <td>0.0</td>\n",
       "      <td>0.0</td>\n",
       "      <td>0.0</td>\n",
       "      <td>0.0</td>\n",
       "      <td>0.0</td>\n",
       "      <td>0.0</td>\n",
       "      <td>...</td>\n",
       "      <td>0.0</td>\n",
       "      <td>0.0</td>\n",
       "      <td>0.0</td>\n",
       "      <td>0.00</td>\n",
       "      <td>0.0</td>\n",
       "      <td>0.0</td>\n",
       "      <td>0.00</td>\n",
       "      <td>0.00</td>\n",
       "      <td>0.00</td>\n",
       "      <td>0.0</td>\n",
       "    </tr>\n",
       "    <tr>\n",
       "      <th>2023-08-11</th>\n",
       "      <td>0.0</td>\n",
       "      <td>0.0</td>\n",
       "      <td>0.00</td>\n",
       "      <td>0.0</td>\n",
       "      <td>0.0</td>\n",
       "      <td>0.0</td>\n",
       "      <td>0.0</td>\n",
       "      <td>0.0</td>\n",
       "      <td>0.0</td>\n",
       "      <td>0.0</td>\n",
       "      <td>...</td>\n",
       "      <td>0.0</td>\n",
       "      <td>0.0</td>\n",
       "      <td>0.0</td>\n",
       "      <td>0.00</td>\n",
       "      <td>0.0</td>\n",
       "      <td>0.0</td>\n",
       "      <td>0.00</td>\n",
       "      <td>0.00</td>\n",
       "      <td>0.00</td>\n",
       "      <td>0.0</td>\n",
       "    </tr>\n",
       "    <tr>\n",
       "      <th>2023-08-12</th>\n",
       "      <td>0.0</td>\n",
       "      <td>0.0</td>\n",
       "      <td>0.00</td>\n",
       "      <td>0.0</td>\n",
       "      <td>0.0</td>\n",
       "      <td>0.0</td>\n",
       "      <td>0.0</td>\n",
       "      <td>0.0</td>\n",
       "      <td>0.0</td>\n",
       "      <td>0.0</td>\n",
       "      <td>...</td>\n",
       "      <td>0.0</td>\n",
       "      <td>0.0</td>\n",
       "      <td>0.0</td>\n",
       "      <td>0.00</td>\n",
       "      <td>0.0</td>\n",
       "      <td>0.0</td>\n",
       "      <td>0.00</td>\n",
       "      <td>0.00</td>\n",
       "      <td>0.00</td>\n",
       "      <td>0.0</td>\n",
       "    </tr>\n",
       "    <tr>\n",
       "      <th>2023-08-13</th>\n",
       "      <td>0.0</td>\n",
       "      <td>0.0</td>\n",
       "      <td>0.00</td>\n",
       "      <td>0.0</td>\n",
       "      <td>0.0</td>\n",
       "      <td>0.0</td>\n",
       "      <td>0.0</td>\n",
       "      <td>0.0</td>\n",
       "      <td>0.0</td>\n",
       "      <td>0.0</td>\n",
       "      <td>...</td>\n",
       "      <td>0.0</td>\n",
       "      <td>0.0</td>\n",
       "      <td>0.0</td>\n",
       "      <td>0.00</td>\n",
       "      <td>0.0</td>\n",
       "      <td>0.0</td>\n",
       "      <td>0.00</td>\n",
       "      <td>0.00</td>\n",
       "      <td>0.00</td>\n",
       "      <td>0.0</td>\n",
       "    </tr>\n",
       "  </tbody>\n",
       "</table>\n",
       "<p>7526 rows × 27 columns</p>\n",
       "</div>"
      ],
      "text/plain": [
       "              1    2     3    6    7    8    9   10   12   13  ...   21   22  \\\n",
       "Date                                                           ...             \n",
       "2003-01-01  0.0  0.0  0.00  0.0  0.0  0.0  0.0  0.0  0.0  0.0  ...  0.0  0.0   \n",
       "2003-01-02  0.0  0.0  0.00  0.0  0.0  0.0  0.0  0.0  0.0  0.0  ...  0.0  0.0   \n",
       "2003-01-03  0.0  0.0  0.00  0.0  0.0  0.0  0.0  0.0  0.0  0.0  ...  0.0  0.0   \n",
       "2003-01-04  0.0  0.0  0.00  0.0  0.0  0.0  0.0  0.0  0.0  0.0  ...  0.0  0.0   \n",
       "2003-01-05  0.0  0.0  0.00  0.0  0.0  0.0  0.0  0.0  0.0  0.0  ...  0.0  0.0   \n",
       "...         ...  ...   ...  ...  ...  ...  ...  ...  ...  ...  ...  ...  ...   \n",
       "2023-08-09  0.0  0.2  0.48  0.0  0.0  0.0  0.2  0.0  0.0  0.0  ...  1.2  0.0   \n",
       "2023-08-10  0.0  0.0  0.00  0.0  0.0  0.0  0.0  0.0  0.0  0.0  ...  0.0  0.0   \n",
       "2023-08-11  0.0  0.0  0.00  0.0  0.0  0.0  0.0  0.0  0.0  0.0  ...  0.0  0.0   \n",
       "2023-08-12  0.0  0.0  0.00  0.0  0.0  0.0  0.0  0.0  0.0  0.0  ...  0.0  0.0   \n",
       "2023-08-13  0.0  0.0  0.00  0.0  0.0  0.0  0.0  0.0  0.0  0.0  ...  0.0  0.0   \n",
       "\n",
       "             23    24   25   26    27    28    31   32  \n",
       "Date                                                    \n",
       "2003-01-01  0.0  0.00  0.0  0.0  0.00  0.00  0.00  0.0  \n",
       "2003-01-02  0.0  0.00  0.0  0.0  0.00  0.00  0.00  0.0  \n",
       "2003-01-03  0.0  0.00  0.0  0.0  0.00  0.00  0.00  0.0  \n",
       "2003-01-04  0.0  0.00  0.0  0.0  0.00  0.00  0.00  0.0  \n",
       "2003-01-05  0.0  0.00  0.0  0.0  0.00  0.00  0.00  0.0  \n",
       "...         ...   ...  ...  ...   ...   ...   ...  ...  \n",
       "2023-08-09  0.0  1.41  0.5  0.0  1.22  5.22  2.12  0.5  \n",
       "2023-08-10  0.0  0.00  0.0  0.0  0.00  0.00  0.00  0.0  \n",
       "2023-08-11  0.0  0.00  0.0  0.0  0.00  0.00  0.00  0.0  \n",
       "2023-08-12  0.0  0.00  0.0  0.0  0.00  0.00  0.00  0.0  \n",
       "2023-08-13  0.0  0.00  0.0  0.0  0.00  0.00  0.00  0.0  \n",
       "\n",
       "[7526 rows x 27 columns]"
      ]
     },
     "execution_count": 8,
     "metadata": {},
     "output_type": "execute_result"
    }
   ],
   "source": [
    "precipitation_satellite"
   ]
  },
  {
   "cell_type": "markdown",
   "id": "de1f5926",
   "metadata": {},
   "source": [
    "Calculate annual precipitation"
   ]
  },
  {
   "cell_type": "code",
   "execution_count": 9,
   "id": "cf220da3",
   "metadata": {},
   "outputs": [],
   "source": [
    "data_annual = precipitation_satellite.resample('Y',label='right',closed='right').sum()"
   ]
  },
  {
   "cell_type": "markdown",
   "id": "181311c8",
   "metadata": {},
   "source": [
    "Plot average annual precipitation."
   ]
  },
  {
   "cell_type": "code",
   "execution_count": 11,
   "id": "d255b712",
   "metadata": {},
   "outputs": [
    {
     "data": {
      "image/png": "[encoded data removed]",
      "text/plain": [
       "<Figure size 1000x500 with 1 Axes>"
      ]
     },
     "metadata": {},
     "output_type": "display_data"
    }
   ],
   "source": [
    "fig, ax = plt.subplots(figsize=(10,5))\n",
    "# Assuming dataset is a pandas DataFrame with labeled columns\n",
    "data_annual.plot(kind='bar', ax=ax)\n",
    "# Adding labels for the legend\n",
    "ax.legend(title='Legend Title')\n",
    "# Adding a label to the y-axis\n",
    "plt.ylabel('Precipitation_satellite (mm)')\n",
    "# Adjusting the position of the legend\n",
    "plt.legend(loc='upper center', bbox_to_anchor=(0.5, -0.6), ncol=6)\n",
    "plt.show()"
   ]
  },
  {
   "cell_type": "markdown",
   "id": "dd41dc08",
   "metadata": {},
   "source": [
    "Calculate average annual precipitation for all pixels in the basin."
   ]
  },
  {
   "cell_type": "code",
   "execution_count": 12,
   "id": "423c5bf9",
   "metadata": {},
   "outputs": [
    {
     "data": {
      "text/plain": [
       "Date\n",
       "2003-12-31     646.573704\n",
       "2004-12-31     518.426667\n",
       "2005-12-31     647.289630\n",
       "2006-12-31     785.916296\n",
       "2007-12-31     688.204074\n",
       "2008-12-31     783.095185\n",
       "2009-12-31     757.777407\n",
       "2010-12-31    1350.764074\n",
       "2011-12-31    1214.637037\n",
       "2012-12-31     774.968518\n",
       "2013-12-31     703.155185\n",
       "2014-12-31     867.641481\n",
       "2015-12-31     411.308889\n",
       "2016-12-31     546.482593\n",
       "2017-12-31     896.134815\n",
       "2018-12-31     575.480741\n",
       "2019-12-31     961.138519\n",
       "2020-12-31     856.483704\n",
       "2021-12-31     816.882222\n",
       "2022-12-31    1086.663333\n",
       "2023-12-31     725.140741\n",
       "Freq: A-DEC, dtype: float64"
      ]
     },
     "execution_count": 12,
     "metadata": {},
     "output_type": "execute_result"
    }
   ],
   "source": [
    "data_annual_average =  data_annual.mean(axis=1)\n",
    "data_annual_average"
   ]
  },
  {
   "cell_type": "markdown",
   "id": "268a4c9d",
   "metadata": {},
   "source": [
    "Plot the average precipitation (all pixels)."
   ]
  },
  {
   "cell_type": "code",
   "execution_count": null,
   "id": "77108f4c",
   "metadata": {},
   "outputs": [],
   "source": [
    "fig, ax = plt.subplots(figsize=(20,5))\n",
    "# Assuming dataset is a pandas DataFrame with labeled columns\n",
    "data_annual_average.plot(kind='bar', ax=ax)\n",
    "# Adding labels for the legend\n",
    "ax.legend(title='Legend Title')\n",
    "# Adding a label to the y-axis\n",
    "plt.ylabel('Precipitation_satellite (mm)')\n",
    "# Adjusting the position of the legend\n",
    "plt.legend(loc='upper center', bbox_to_anchor=(0.5, -0.6), ncol=6)\n",
    "plt.show()"
   ]
  },
  {
   "cell_type": "markdown",
   "id": "f5566822",
   "metadata": {},
   "source": [
    "Calculate the average annual precipitation in the basin."
   ]
  },
  {
   "cell_type": "code",
   "execution_count": 13,
   "id": "158532d0",
   "metadata": {},
   "outputs": [
    {
     "data": {
      "text/plain": [
       "791.1507054652681"
      ]
     },
     "execution_count": 13,
     "metadata": {},
     "output_type": "execute_result"
    }
   ],
   "source": [
    "data_annual_average.mean()"
   ]
  },
  {
   "cell_type": "markdown",
   "id": "1a04b0b3",
   "metadata": {},
   "source": [
    "Calculate monthly precipitation."
   ]
  },
  {
   "cell_type": "code",
   "execution_count": 14,
   "id": "afdcc548",
   "metadata": {},
   "outputs": [
    {
     "data": {
      "text/html": [
       "<div>\n",
       "<style scoped>\n",
       "    .dataframe tbody tr th:only-of-type {\n",
       "        vertical-align: middle;\n",
       "    }\n",
       "\n",
       "    .dataframe tbody tr th {\n",
       "        vertical-align: top;\n",
       "    }\n",
       "\n",
       "    .dataframe thead th {\n",
       "        text-align: right;\n",
       "    }\n",
       "</style>\n",
       "<table border=\"1\" class=\"dataframe\">\n",
       "  <thead>\n",
       "    <tr style=\"text-align: right;\">\n",
       "      <th></th>\n",
       "      <th>1</th>\n",
       "      <th>2</th>\n",
       "      <th>3</th>\n",
       "      <th>6</th>\n",
       "      <th>7</th>\n",
       "      <th>8</th>\n",
       "      <th>9</th>\n",
       "      <th>10</th>\n",
       "      <th>12</th>\n",
       "      <th>13</th>\n",
       "      <th>...</th>\n",
       "      <th>21</th>\n",
       "      <th>22</th>\n",
       "      <th>23</th>\n",
       "      <th>24</th>\n",
       "      <th>25</th>\n",
       "      <th>26</th>\n",
       "      <th>27</th>\n",
       "      <th>28</th>\n",
       "      <th>31</th>\n",
       "      <th>32</th>\n",
       "    </tr>\n",
       "    <tr>\n",
       "      <th>Date</th>\n",
       "      <th></th>\n",
       "      <th></th>\n",
       "      <th></th>\n",
       "      <th></th>\n",
       "      <th></th>\n",
       "      <th></th>\n",
       "      <th></th>\n",
       "      <th></th>\n",
       "      <th></th>\n",
       "      <th></th>\n",
       "      <th></th>\n",
       "      <th></th>\n",
       "      <th></th>\n",
       "      <th></th>\n",
       "      <th></th>\n",
       "      <th></th>\n",
       "      <th></th>\n",
       "      <th></th>\n",
       "      <th></th>\n",
       "      <th></th>\n",
       "      <th></th>\n",
       "    </tr>\n",
       "  </thead>\n",
       "  <tbody>\n",
       "    <tr>\n",
       "      <th>2003-01-31</th>\n",
       "      <td>18.53</td>\n",
       "      <td>23.37</td>\n",
       "      <td>29.94</td>\n",
       "      <td>22.73</td>\n",
       "      <td>39.06</td>\n",
       "      <td>42.16</td>\n",
       "      <td>40.16</td>\n",
       "      <td>39.92</td>\n",
       "      <td>29.47</td>\n",
       "      <td>40.56</td>\n",
       "      <td>...</td>\n",
       "      <td>45.47</td>\n",
       "      <td>53.39</td>\n",
       "      <td>56.34</td>\n",
       "      <td>33.75</td>\n",
       "      <td>41.68</td>\n",
       "      <td>56.50</td>\n",
       "      <td>51.82</td>\n",
       "      <td>43.20</td>\n",
       "      <td>48.60</td>\n",
       "      <td>52.30</td>\n",
       "    </tr>\n",
       "    <tr>\n",
       "      <th>2003-02-28</th>\n",
       "      <td>75.35</td>\n",
       "      <td>76.53</td>\n",
       "      <td>40.15</td>\n",
       "      <td>41.76</td>\n",
       "      <td>50.23</td>\n",
       "      <td>51.24</td>\n",
       "      <td>51.58</td>\n",
       "      <td>51.47</td>\n",
       "      <td>39.63</td>\n",
       "      <td>40.90</td>\n",
       "      <td>...</td>\n",
       "      <td>55.21</td>\n",
       "      <td>46.67</td>\n",
       "      <td>38.47</td>\n",
       "      <td>29.85</td>\n",
       "      <td>33.75</td>\n",
       "      <td>36.01</td>\n",
       "      <td>54.97</td>\n",
       "      <td>42.35</td>\n",
       "      <td>41.17</td>\n",
       "      <td>49.25</td>\n",
       "    </tr>\n",
       "    <tr>\n",
       "      <th>2003-03-31</th>\n",
       "      <td>33.84</td>\n",
       "      <td>33.78</td>\n",
       "      <td>61.99</td>\n",
       "      <td>33.31</td>\n",
       "      <td>32.94</td>\n",
       "      <td>43.43</td>\n",
       "      <td>47.93</td>\n",
       "      <td>47.92</td>\n",
       "      <td>35.19</td>\n",
       "      <td>38.17</td>\n",
       "      <td>...</td>\n",
       "      <td>127.65</td>\n",
       "      <td>113.41</td>\n",
       "      <td>85.31</td>\n",
       "      <td>39.25</td>\n",
       "      <td>58.83</td>\n",
       "      <td>69.97</td>\n",
       "      <td>100.33</td>\n",
       "      <td>111.59</td>\n",
       "      <td>65.35</td>\n",
       "      <td>85.21</td>\n",
       "    </tr>\n",
       "    <tr>\n",
       "      <th>2003-04-30</th>\n",
       "      <td>67.83</td>\n",
       "      <td>39.61</td>\n",
       "      <td>36.54</td>\n",
       "      <td>116.87</td>\n",
       "      <td>111.30</td>\n",
       "      <td>71.06</td>\n",
       "      <td>55.90</td>\n",
       "      <td>97.56</td>\n",
       "      <td>57.83</td>\n",
       "      <td>77.65</td>\n",
       "      <td>...</td>\n",
       "      <td>96.13</td>\n",
       "      <td>138.09</td>\n",
       "      <td>81.70</td>\n",
       "      <td>70.13</td>\n",
       "      <td>94.21</td>\n",
       "      <td>92.85</td>\n",
       "      <td>60.37</td>\n",
       "      <td>117.50</td>\n",
       "      <td>90.72</td>\n",
       "      <td>143.74</td>\n",
       "    </tr>\n",
       "    <tr>\n",
       "      <th>2003-05-31</th>\n",
       "      <td>1.64</td>\n",
       "      <td>1.03</td>\n",
       "      <td>1.03</td>\n",
       "      <td>1.46</td>\n",
       "      <td>2.47</td>\n",
       "      <td>3.91</td>\n",
       "      <td>3.65</td>\n",
       "      <td>1.57</td>\n",
       "      <td>3.52</td>\n",
       "      <td>5.11</td>\n",
       "      <td>...</td>\n",
       "      <td>1.94</td>\n",
       "      <td>2.21</td>\n",
       "      <td>33.88</td>\n",
       "      <td>0.00</td>\n",
       "      <td>1.18</td>\n",
       "      <td>1.96</td>\n",
       "      <td>2.32</td>\n",
       "      <td>7.70</td>\n",
       "      <td>1.22</td>\n",
       "      <td>2.72</td>\n",
       "    </tr>\n",
       "    <tr>\n",
       "      <th>...</th>\n",
       "      <td>...</td>\n",
       "      <td>...</td>\n",
       "      <td>...</td>\n",
       "      <td>...</td>\n",
       "      <td>...</td>\n",
       "      <td>...</td>\n",
       "      <td>...</td>\n",
       "      <td>...</td>\n",
       "      <td>...</td>\n",
       "      <td>...</td>\n",
       "      <td>...</td>\n",
       "      <td>...</td>\n",
       "      <td>...</td>\n",
       "      <td>...</td>\n",
       "      <td>...</td>\n",
       "      <td>...</td>\n",
       "      <td>...</td>\n",
       "      <td>...</td>\n",
       "      <td>...</td>\n",
       "      <td>...</td>\n",
       "      <td>...</td>\n",
       "    </tr>\n",
       "    <tr>\n",
       "      <th>2023-04-30</th>\n",
       "      <td>282.20</td>\n",
       "      <td>300.62</td>\n",
       "      <td>318.64</td>\n",
       "      <td>317.19</td>\n",
       "      <td>328.45</td>\n",
       "      <td>308.91</td>\n",
       "      <td>289.28</td>\n",
       "      <td>270.67</td>\n",
       "      <td>312.74</td>\n",
       "      <td>321.06</td>\n",
       "      <td>...</td>\n",
       "      <td>272.43</td>\n",
       "      <td>255.13</td>\n",
       "      <td>300.12</td>\n",
       "      <td>279.92</td>\n",
       "      <td>244.27</td>\n",
       "      <td>247.67</td>\n",
       "      <td>285.49</td>\n",
       "      <td>250.60</td>\n",
       "      <td>245.79</td>\n",
       "      <td>238.41</td>\n",
       "    </tr>\n",
       "    <tr>\n",
       "      <th>2023-05-31</th>\n",
       "      <td>142.07</td>\n",
       "      <td>110.56</td>\n",
       "      <td>74.78</td>\n",
       "      <td>81.62</td>\n",
       "      <td>63.36</td>\n",
       "      <td>58.01</td>\n",
       "      <td>59.44</td>\n",
       "      <td>68.27</td>\n",
       "      <td>83.39</td>\n",
       "      <td>50.48</td>\n",
       "      <td>...</td>\n",
       "      <td>56.28</td>\n",
       "      <td>57.32</td>\n",
       "      <td>96.61</td>\n",
       "      <td>35.55</td>\n",
       "      <td>47.45</td>\n",
       "      <td>43.04</td>\n",
       "      <td>43.20</td>\n",
       "      <td>41.47</td>\n",
       "      <td>44.51</td>\n",
       "      <td>54.98</td>\n",
       "    </tr>\n",
       "    <tr>\n",
       "      <th>2023-06-30</th>\n",
       "      <td>13.84</td>\n",
       "      <td>8.62</td>\n",
       "      <td>7.92</td>\n",
       "      <td>7.50</td>\n",
       "      <td>8.57</td>\n",
       "      <td>13.41</td>\n",
       "      <td>7.89</td>\n",
       "      <td>7.35</td>\n",
       "      <td>5.23</td>\n",
       "      <td>5.58</td>\n",
       "      <td>...</td>\n",
       "      <td>4.95</td>\n",
       "      <td>9.65</td>\n",
       "      <td>3.56</td>\n",
       "      <td>4.03</td>\n",
       "      <td>2.21</td>\n",
       "      <td>4.31</td>\n",
       "      <td>9.20</td>\n",
       "      <td>5.95</td>\n",
       "      <td>6.88</td>\n",
       "      <td>21.07</td>\n",
       "    </tr>\n",
       "    <tr>\n",
       "      <th>2023-07-31</th>\n",
       "      <td>12.98</td>\n",
       "      <td>23.88</td>\n",
       "      <td>12.91</td>\n",
       "      <td>17.62</td>\n",
       "      <td>12.64</td>\n",
       "      <td>11.18</td>\n",
       "      <td>10.67</td>\n",
       "      <td>11.61</td>\n",
       "      <td>9.86</td>\n",
       "      <td>9.87</td>\n",
       "      <td>...</td>\n",
       "      <td>10.90</td>\n",
       "      <td>9.54</td>\n",
       "      <td>13.24</td>\n",
       "      <td>16.65</td>\n",
       "      <td>16.26</td>\n",
       "      <td>13.65</td>\n",
       "      <td>12.51</td>\n",
       "      <td>13.44</td>\n",
       "      <td>18.79</td>\n",
       "      <td>15.70</td>\n",
       "    </tr>\n",
       "    <tr>\n",
       "      <th>2023-08-31</th>\n",
       "      <td>0.00</td>\n",
       "      <td>0.20</td>\n",
       "      <td>0.48</td>\n",
       "      <td>0.00</td>\n",
       "      <td>0.00</td>\n",
       "      <td>0.00</td>\n",
       "      <td>0.20</td>\n",
       "      <td>0.00</td>\n",
       "      <td>0.00</td>\n",
       "      <td>0.00</td>\n",
       "      <td>...</td>\n",
       "      <td>1.20</td>\n",
       "      <td>0.00</td>\n",
       "      <td>0.00</td>\n",
       "      <td>1.41</td>\n",
       "      <td>0.50</td>\n",
       "      <td>0.00</td>\n",
       "      <td>1.22</td>\n",
       "      <td>5.22</td>\n",
       "      <td>2.12</td>\n",
       "      <td>0.50</td>\n",
       "    </tr>\n",
       "  </tbody>\n",
       "</table>\n",
       "<p>248 rows × 27 columns</p>\n",
       "</div>"
      ],
      "text/plain": [
       "                 1       2       3       6       7       8       9      10  \\\n",
       "Date                                                                         \n",
       "2003-01-31   18.53   23.37   29.94   22.73   39.06   42.16   40.16   39.92   \n",
       "2003-02-28   75.35   76.53   40.15   41.76   50.23   51.24   51.58   51.47   \n",
       "2003-03-31   33.84   33.78   61.99   33.31   32.94   43.43   47.93   47.92   \n",
       "2003-04-30   67.83   39.61   36.54  116.87  111.30   71.06   55.90   97.56   \n",
       "2003-05-31    1.64    1.03    1.03    1.46    2.47    3.91    3.65    1.57   \n",
       "...            ...     ...     ...     ...     ...     ...     ...     ...   \n",
       "2023-04-30  282.20  300.62  318.64  317.19  328.45  308.91  289.28  270.67   \n",
       "2023-05-31  142.07  110.56   74.78   81.62   63.36   58.01   59.44   68.27   \n",
       "2023-06-30   13.84    8.62    7.92    7.50    8.57   13.41    7.89    7.35   \n",
       "2023-07-31   12.98   23.88   12.91   17.62   12.64   11.18   10.67   11.61   \n",
       "2023-08-31    0.00    0.20    0.48    0.00    0.00    0.00    0.20    0.00   \n",
       "\n",
       "                12      13  ...      21      22      23      24      25  \\\n",
       "Date                        ...                                           \n",
       "2003-01-31   29.47   40.56  ...   45.47   53.39   56.34   33.75   41.68   \n",
       "2003-02-28   39.63   40.90  ...   55.21   46.67   38.47   29.85   33.75   \n",
       "2003-03-31   35.19   38.17  ...  127.65  113.41   85.31   39.25   58.83   \n",
       "2003-04-30   57.83   77.65  ...   96.13  138.09   81.70   70.13   94.21   \n",
       "2003-05-31    3.52    5.11  ...    1.94    2.21   33.88    0.00    1.18   \n",
       "...            ...     ...  ...     ...     ...     ...     ...     ...   \n",
       "2023-04-30  312.74  321.06  ...  272.43  255.13  300.12  279.92  244.27   \n",
       "2023-05-31   83.39   50.48  ...   56.28   57.32   96.61   35.55   47.45   \n",
       "2023-06-30    5.23    5.58  ...    4.95    9.65    3.56    4.03    2.21   \n",
       "2023-07-31    9.86    9.87  ...   10.90    9.54   13.24   16.65   16.26   \n",
       "2023-08-31    0.00    0.00  ...    1.20    0.00    0.00    1.41    0.50   \n",
       "\n",
       "                26      27      28      31      32  \n",
       "Date                                                \n",
       "2003-01-31   56.50   51.82   43.20   48.60   52.30  \n",
       "2003-02-28   36.01   54.97   42.35   41.17   49.25  \n",
       "2003-03-31   69.97  100.33  111.59   65.35   85.21  \n",
       "2003-04-30   92.85   60.37  117.50   90.72  143.74  \n",
       "2003-05-31    1.96    2.32    7.70    1.22    2.72  \n",
       "...            ...     ...     ...     ...     ...  \n",
       "2023-04-30  247.67  285.49  250.60  245.79  238.41  \n",
       "2023-05-31   43.04   43.20   41.47   44.51   54.98  \n",
       "2023-06-30    4.31    9.20    5.95    6.88   21.07  \n",
       "2023-07-31   13.65   12.51   13.44   18.79   15.70  \n",
       "2023-08-31    0.00    1.22    5.22    2.12    0.50  \n",
       "\n",
       "[248 rows x 27 columns]"
      ]
     },
     "execution_count": 14,
     "metadata": {},
     "output_type": "execute_result"
    }
   ],
   "source": [
    "data_monthly = precipitation_satellite.resample('M',label='right',closed='right').sum() \n",
    "data_monthly"
   ]
  },
  {
   "cell_type": "markdown",
   "id": "fc05667b",
   "metadata": {},
   "source": [
    "Calculate monthly precipitation."
   ]
  },
  {
   "cell_type": "code",
   "execution_count": 15,
   "id": "599bc0ab",
   "metadata": {},
   "outputs": [
    {
     "data": {
      "text/plain": [
       "Date\n",
       "2003-01-31     40.502593\n",
       "2003-02-28     45.911111\n",
       "2003-03-31     60.481111\n",
       "2003-04-30     84.432963\n",
       "2003-05-31      3.860370\n",
       "                 ...    \n",
       "2023-04-30    283.854074\n",
       "2023-05-31     64.770370\n",
       "2023-06-30      7.100000\n",
       "2023-07-31     13.341111\n",
       "2023-08-31      0.501852\n",
       "Freq: M, Length: 248, dtype: float64"
      ]
     },
     "execution_count": 15,
     "metadata": {},
     "output_type": "execute_result"
    }
   ],
   "source": [
    "data_monthly_mean_pixels =  data_monthly.mean(axis=1)\n",
    "data_monthly_mean_pixels"
   ]
  },
  {
   "cell_type": "markdown",
   "id": "fc48a367",
   "metadata": {},
   "source": [
    "Plot"
   ]
  },
  {
   "cell_type": "code",
   "execution_count": 16,
   "id": "59682b5c",
   "metadata": {},
   "outputs": [
    {
     "data": {
      "image/png": "[encoded data removed]",
      "text/plain": [
       "<Figure size 4000x500 with 1 Axes>"
      ]
     },
     "metadata": {},
     "output_type": "display_data"
    }
   ],
   "source": [
    "fig, ax = plt.subplots(figsize=(40,5))\n",
    "# Assuming dataset is a pandas DataFrame with labeled columns\n",
    "data_monthly_mean_pixels.plot(kind='bar', ax=ax)\n",
    "# Adding labels for the legend\n",
    "ax.legend(title='Legend Title')\n",
    "# Adding a label to the y-axis\n",
    "plt.ylabel('Precipitation_satellite (mm)')\n",
    "# Adjusting the position of the legend\n",
    "plt.legend(loc='upper center', bbox_to_anchor=(0.5, -0.6), ncol=6)\n",
    "plt.show()"
   ]
  },
  {
   "cell_type": "markdown",
   "id": "4698599c",
   "metadata": {},
   "source": [
    "Calculate average monthly precipitation (average of all pixels in the basin)."
   ]
  },
  {
   "cell_type": "code",
   "execution_count": 17,
   "id": "abe79312",
   "metadata": {},
   "outputs": [
    {
     "data": {
      "text/plain": [
       "Date\n",
       "1      70.852099\n",
       "2      99.124885\n",
       "3     142.750617\n",
       "4      78.946543\n",
       "5      44.431270\n",
       "6      28.550265\n",
       "7      18.388448\n",
       "8      18.638889\n",
       "9      43.499741\n",
       "10     95.832000\n",
       "11     87.352870\n",
       "12     77.256463\n",
       "dtype: float64"
      ]
     },
     "execution_count": 17,
     "metadata": {},
     "output_type": "execute_result"
    }
   ],
   "source": [
    "data_monthly_mean= data_monthly_mean_pixels.groupby(data_monthly_mean_pixels.index.month).mean()\n",
    "data_monthly_mean"
   ]
  },
  {
   "cell_type": "markdown",
   "id": "d9edc31a",
   "metadata": {},
   "source": [
    "Plot"
   ]
  },
  {
   "cell_type": "code",
   "execution_count": 18,
   "id": "71489e7f",
   "metadata": {},
   "outputs": [
    {
     "data": {
      "image/png": "[encoded data removed]",
      "text/plain": [
       "<Figure size 2000x500 with 1 Axes>"
      ]
     },
     "metadata": {},
     "output_type": "display_data"
    }
   ],
   "source": [
    "fig, ax = plt.subplots(figsize=(20,5))\n",
    "# Assuming dataset is a pandas DataFrame with labeled columns\n",
    "data_monthly_mean.plot(kind='bar', ax=ax)\n",
    "# Adding labels for the legend\n",
    "ax.legend(title='Legend Title')\n",
    "# Adding a label to the y-axis\n",
    "plt.ylabel('Precipitation_satellite (mm)')\n",
    "plt.show()"
   ]
  },
  {
   "cell_type": "markdown",
   "id": "663db72f",
   "metadata": {},
   "source": [
    "### Import in-situ precipitation"
   ]
  },
  {
   "cell_type": "markdown",
   "id": "9f74626f",
   "metadata": {},
   "source": [
    "Let's use three rain gauges installed within the catchment."
   ]
  },
  {
   "cell_type": "markdown",
   "id": "358feba1",
   "metadata": {},
   "source": [
    "#### For rain gauge 1\n",
    "Import and preprocess the data."
   ]
  },
  {
   "cell_type": "code",
   "execution_count": 39,
   "id": "ed797176",
   "metadata": {},
   "outputs": [
    {
     "data": {
      "text/html": [
       "<div>\n",
       "<style scoped>\n",
       "    .dataframe tbody tr th:only-of-type {\n",
       "        vertical-align: middle;\n",
       "    }\n",
       "\n",
       "    .dataframe tbody tr th {\n",
       "        vertical-align: top;\n",
       "    }\n",
       "\n",
       "    .dataframe thead th {\n",
       "        text-align: right;\n",
       "    }\n",
       "</style>\n",
       "<table border=\"1\" class=\"dataframe\">\n",
       "  <thead>\n",
       "    <tr style=\"text-align: right;\">\n",
       "      <th></th>\n",
       "      <th>Date_yy/mm/dd_hh:mm:ss</th>\n",
       "      <th>Pluviómetro_1</th>\n",
       "    </tr>\n",
       "  </thead>\n",
       "  <tbody>\n",
       "    <tr>\n",
       "      <th>0</th>\n",
       "      <td>2012-10-02 12:00:00</td>\n",
       "      <td>NaN</td>\n",
       "    </tr>\n",
       "    <tr>\n",
       "      <th>1</th>\n",
       "      <td>2012-10-02 13:00:00</td>\n",
       "      <td>0.0</td>\n",
       "    </tr>\n",
       "    <tr>\n",
       "      <th>2</th>\n",
       "      <td>2012-10-02 14:00:00</td>\n",
       "      <td>0.0</td>\n",
       "    </tr>\n",
       "    <tr>\n",
       "      <th>3</th>\n",
       "      <td>2012-10-02 15:00:00</td>\n",
       "      <td>0.0</td>\n",
       "    </tr>\n",
       "    <tr>\n",
       "      <th>4</th>\n",
       "      <td>2012-10-02 16:00:00</td>\n",
       "      <td>0.0</td>\n",
       "    </tr>\n",
       "    <tr>\n",
       "      <th>...</th>\n",
       "      <td>...</td>\n",
       "      <td>...</td>\n",
       "    </tr>\n",
       "    <tr>\n",
       "      <th>95638</th>\n",
       "      <td>2023-08-31 10:00:00</td>\n",
       "      <td>0.0</td>\n",
       "    </tr>\n",
       "    <tr>\n",
       "      <th>95639</th>\n",
       "      <td>2023-08-31 11:00:00</td>\n",
       "      <td>0.0</td>\n",
       "    </tr>\n",
       "    <tr>\n",
       "      <th>95640</th>\n",
       "      <td>2023-08-31 12:00:00</td>\n",
       "      <td>0.0</td>\n",
       "    </tr>\n",
       "    <tr>\n",
       "      <th>95641</th>\n",
       "      <td>2023-08-31 13:00:00</td>\n",
       "      <td>0.0</td>\n",
       "    </tr>\n",
       "    <tr>\n",
       "      <th>95642</th>\n",
       "      <td>2023-08-31 14:00:00</td>\n",
       "      <td>0.0</td>\n",
       "    </tr>\n",
       "  </tbody>\n",
       "</table>\n",
       "<p>95643 rows × 2 columns</p>\n",
       "</div>"
      ],
      "text/plain": [
       "      Date_yy/mm/dd_hh:mm:ss  Pluviómetro_1\n",
       "0        2012-10-02 12:00:00            NaN\n",
       "1        2012-10-02 13:00:00            0.0\n",
       "2        2012-10-02 14:00:00            0.0\n",
       "3        2012-10-02 15:00:00            0.0\n",
       "4        2012-10-02 16:00:00            0.0\n",
       "...                      ...            ...\n",
       "95638    2023-08-31 10:00:00            0.0\n",
       "95639    2023-08-31 11:00:00            0.0\n",
       "95640    2023-08-31 12:00:00            0.0\n",
       "95641    2023-08-31 13:00:00            0.0\n",
       "95642    2023-08-31 14:00:00            0.0\n",
       "\n",
       "[95643 rows x 2 columns]"
      ]
     },
     "execution_count": 39,
     "metadata": {},
     "output_type": "execute_result"
    }
   ],
   "source": [
    "folder_pcp_1 = folder+'Rain_gauge_1/'\n",
    "df_pcp_1= pd.read_table(folder_pcp_1+'Rain_gauge_1.csv', sep=',')\n",
    "df_pcp_1.rename(columns={'Texas_tip_corrected_mm':'Pluviómetro_1'},inplace=True)\n",
    "df_pcp_1.columns\n",
    "df_pcp_1"
   ]
  },
  {
   "cell_type": "markdown",
   "id": "24af0132",
   "metadata": {},
   "source": [
    "Operations to organize the information into a manageable dataframe."
   ]
  },
  {
   "cell_type": "code",
   "execution_count": 40,
   "id": "9c5cf6d5",
   "metadata": {},
   "outputs": [
    {
     "data": {
      "text/html": [
       "<div>\n",
       "<style scoped>\n",
       "    .dataframe tbody tr th:only-of-type {\n",
       "        vertical-align: middle;\n",
       "    }\n",
       "\n",
       "    .dataframe tbody tr th {\n",
       "        vertical-align: top;\n",
       "    }\n",
       "\n",
       "    .dataframe thead th {\n",
       "        text-align: right;\n",
       "    }\n",
       "</style>\n",
       "<table border=\"1\" class=\"dataframe\">\n",
       "  <thead>\n",
       "    <tr style=\"text-align: right;\">\n",
       "      <th></th>\n",
       "      <th>Pluviómetro_1</th>\n",
       "    </tr>\n",
       "    <tr>\n",
       "      <th>Date</th>\n",
       "      <th></th>\n",
       "    </tr>\n",
       "  </thead>\n",
       "  <tbody>\n",
       "    <tr>\n",
       "      <th>2012-10-02 12:00:00</th>\n",
       "      <td>NaN</td>\n",
       "    </tr>\n",
       "    <tr>\n",
       "      <th>2012-10-02 13:00:00</th>\n",
       "      <td>0.0</td>\n",
       "    </tr>\n",
       "    <tr>\n",
       "      <th>2012-10-02 14:00:00</th>\n",
       "      <td>0.0</td>\n",
       "    </tr>\n",
       "    <tr>\n",
       "      <th>2012-10-02 15:00:00</th>\n",
       "      <td>0.0</td>\n",
       "    </tr>\n",
       "    <tr>\n",
       "      <th>2012-10-02 16:00:00</th>\n",
       "      <td>0.0</td>\n",
       "    </tr>\n",
       "    <tr>\n",
       "      <th>...</th>\n",
       "      <td>...</td>\n",
       "    </tr>\n",
       "    <tr>\n",
       "      <th>2023-08-31 10:00:00</th>\n",
       "      <td>0.0</td>\n",
       "    </tr>\n",
       "    <tr>\n",
       "      <th>2023-08-31 11:00:00</th>\n",
       "      <td>0.0</td>\n",
       "    </tr>\n",
       "    <tr>\n",
       "      <th>2023-08-31 12:00:00</th>\n",
       "      <td>0.0</td>\n",
       "    </tr>\n",
       "    <tr>\n",
       "      <th>2023-08-31 13:00:00</th>\n",
       "      <td>0.0</td>\n",
       "    </tr>\n",
       "    <tr>\n",
       "      <th>2023-08-31 14:00:00</th>\n",
       "      <td>0.0</td>\n",
       "    </tr>\n",
       "  </tbody>\n",
       "</table>\n",
       "<p>95643 rows × 1 columns</p>\n",
       "</div>"
      ],
      "text/plain": [
       "                     Pluviómetro_1\n",
       "Date                              \n",
       "2012-10-02 12:00:00            NaN\n",
       "2012-10-02 13:00:00            0.0\n",
       "2012-10-02 14:00:00            0.0\n",
       "2012-10-02 15:00:00            0.0\n",
       "2012-10-02 16:00:00            0.0\n",
       "...                            ...\n",
       "2023-08-31 10:00:00            0.0\n",
       "2023-08-31 11:00:00            0.0\n",
       "2023-08-31 12:00:00            0.0\n",
       "2023-08-31 13:00:00            0.0\n",
       "2023-08-31 14:00:00            0.0\n",
       "\n",
       "[95643 rows x 1 columns]"
      ]
     },
     "execution_count": 40,
     "metadata": {},
     "output_type": "execute_result"
    }
   ],
   "source": [
    "# Rename the column 'Date_yy/mm/dd_hh:mm:ss' to 'Date'\n",
    "df_pcp_1.rename(columns={'Date_yy/mm/dd_hh:mm:ss': 'Date'}, inplace=True)\n",
    "# Convert the 'Date' column to datetime format\n",
    "df_pcp_1['Date'] = df_pcp_1['Date'].apply(lambda x: pd.to_datetime(x, dayfirst=True))\n",
    "# Set the 'Date' column as the index\n",
    "df_pcp_1.set_index('Date', inplace=True)\n",
    "df_pcp_1"
   ]
  },
  {
   "cell_type": "markdown",
   "id": "6d5c639a",
   "metadata": {},
   "source": [
    "Plot the year 2020 from the imported precipitation series."
   ]
  },
  {
   "cell_type": "code",
   "execution_count": 43,
   "id": "6b21deec",
   "metadata": {},
   "outputs": [
    {
     "data": {
      "image/png": "[encoded data removed]",
      "text/plain": [
       "<Figure size 1000x500 with 1 Axes>"
      ]
     },
     "metadata": {},
     "output_type": "display_data"
    }
   ],
   "source": [
    "fig, ax = plt.subplots(figsize=(10,5))\n",
    "# Assuming dataset is a pandas DataFrame with labeled columns\n",
    "df_pcp_1.loc['2020'].plot(ax=ax)\n",
    "# Adding labels for the legend\n",
    "ax.legend(title='Legend Title')\n",
    "# Adding a label to the y-axis\n",
    "plt.ylabel('Precipitation_in situ (mm)')\n",
    "# Adjusting the position of the legend\n",
    "plt.legend(loc='upper center', bbox_to_anchor=(0.5, -0.6), ncol=6)\n",
    "plt.show()"
   ]
  },
  {
   "cell_type": "markdown",
   "id": "f1f9ff66",
   "metadata": {},
   "source": [
    "Plot the accumulated precipitation for 2020 from the imported time series."
   ]
  },
  {
   "cell_type": "code",
   "execution_count": 46,
   "id": "c1af4791",
   "metadata": {},
   "outputs": [
    {
     "data": {
      "image/png": "[encoded data removed]",
      "text/plain": [
       "<Figure size 1000x500 with 1 Axes>"
      ]
     },
     "metadata": {},
     "output_type": "display_data"
    }
   ],
   "source": [
    "fig, ax = plt.subplots(figsize=(10,5))\n",
    "# Assuming dataset is a pandas DataFrame with labeled columns\n",
    "df_pcp_1.loc['2020'].cumsum().plot(ax=ax)\n",
    "# Adding labels for the legend\n",
    "ax.legend(title='Legend Title')\n",
    "# Adding a label to the y-axis\n",
    "plt.ylabel('Precipitation_satellite (mm)')\n",
    "# Adjusting the position of the legend\n",
    "plt.legend(loc='upper center', bbox_to_anchor=(0.5, -0.6), ncol=6)\n",
    "plt.show()"
   ]
  },
  {
   "cell_type": "markdown",
   "id": "85df75cf",
   "metadata": {},
   "source": [
    "#### For Rain Gauge 2\n",
    "\n",
    "Import and preprocess the data."
   ]
  },
  {
   "cell_type": "code",
   "execution_count": 61,
   "id": "670a4b09",
   "metadata": {},
   "outputs": [
    {
     "data": {
      "text/html": [
       "<div>\n",
       "<style scoped>\n",
       "    .dataframe tbody tr th:only-of-type {\n",
       "        vertical-align: middle;\n",
       "    }\n",
       "\n",
       "    .dataframe tbody tr th {\n",
       "        vertical-align: top;\n",
       "    }\n",
       "\n",
       "    .dataframe thead th {\n",
       "        text-align: right;\n",
       "    }\n",
       "</style>\n",
       "<table border=\"1\" class=\"dataframe\">\n",
       "  <thead>\n",
       "    <tr style=\"text-align: right;\">\n",
       "      <th></th>\n",
       "      <th>Date</th>\n",
       "      <th>Precipitation</th>\n",
       "    </tr>\n",
       "  </thead>\n",
       "  <tbody>\n",
       "    <tr>\n",
       "      <th>0</th>\n",
       "      <td>2013-03-07 17:00:00</td>\n",
       "      <td>0.000000</td>\n",
       "    </tr>\n",
       "    <tr>\n",
       "      <th>1</th>\n",
       "      <td>2013-03-07 18:00:00</td>\n",
       "      <td>0.000000</td>\n",
       "    </tr>\n",
       "    <tr>\n",
       "      <th>2</th>\n",
       "      <td>2013-03-07 19:00:00</td>\n",
       "      <td>0.000000</td>\n",
       "    </tr>\n",
       "    <tr>\n",
       "      <th>3</th>\n",
       "      <td>2013-03-07 20:00:00</td>\n",
       "      <td>0.000000</td>\n",
       "    </tr>\n",
       "    <tr>\n",
       "      <th>4</th>\n",
       "      <td>2013-03-07 21:00:00</td>\n",
       "      <td>0.000000</td>\n",
       "    </tr>\n",
       "    <tr>\n",
       "      <th>...</th>\n",
       "      <td>...</td>\n",
       "      <td>...</td>\n",
       "    </tr>\n",
       "    <tr>\n",
       "      <th>94125</th>\n",
       "      <td>2023-12-02 14:00:00</td>\n",
       "      <td>0.000000</td>\n",
       "    </tr>\n",
       "    <tr>\n",
       "      <th>94126</th>\n",
       "      <td>2023-12-02 15:00:00</td>\n",
       "      <td>0.000000</td>\n",
       "    </tr>\n",
       "    <tr>\n",
       "      <th>94127</th>\n",
       "      <td>2023-12-02 16:00:00</td>\n",
       "      <td>0.000000</td>\n",
       "    </tr>\n",
       "    <tr>\n",
       "      <th>94128</th>\n",
       "      <td>2023-12-02 17:00:00</td>\n",
       "      <td>0.000000</td>\n",
       "    </tr>\n",
       "    <tr>\n",
       "      <th>94129</th>\n",
       "      <td>2023-12-02 18:00:00</td>\n",
       "      <td>0.785619</td>\n",
       "    </tr>\n",
       "  </tbody>\n",
       "</table>\n",
       "<p>94130 rows × 2 columns</p>\n",
       "</div>"
      ],
      "text/plain": [
       "                      Date  Precipitation\n",
       "0      2013-03-07 17:00:00       0.000000\n",
       "1      2013-03-07 18:00:00       0.000000\n",
       "2      2013-03-07 19:00:00       0.000000\n",
       "3      2013-03-07 20:00:00       0.000000\n",
       "4      2013-03-07 21:00:00       0.000000\n",
       "...                    ...            ...\n",
       "94125  2023-12-02 14:00:00       0.000000\n",
       "94126  2023-12-02 15:00:00       0.000000\n",
       "94127  2023-12-02 16:00:00       0.000000\n",
       "94128  2023-12-02 17:00:00       0.000000\n",
       "94129  2023-12-02 18:00:00       0.785619\n",
       "\n",
       "[94130 rows x 2 columns]"
      ]
     },
     "execution_count": 61,
     "metadata": {},
     "output_type": "execute_result"
    }
   ],
   "source": [
    "folder_pcp_2 = folder+'Rain_gauge_2/'\n",
    "df_pcp_2= pd.read_table(folder_pcp_2+'Rain_gauge_2.csv', sep=',')\n",
    "df_pcp_2"
   ]
  },
  {
   "cell_type": "markdown",
   "id": "98f70661",
   "metadata": {},
   "source": [
    "Operaciones para crear un dataframe manejable"
   ]
  },
  {
   "cell_type": "code",
   "execution_count": 62,
   "id": "2873c748",
   "metadata": {},
   "outputs": [
    {
     "data": {
      "text/html": [
       "<div>\n",
       "<style scoped>\n",
       "    .dataframe tbody tr th:only-of-type {\n",
       "        vertical-align: middle;\n",
       "    }\n",
       "\n",
       "    .dataframe tbody tr th {\n",
       "        vertical-align: top;\n",
       "    }\n",
       "\n",
       "    .dataframe thead th {\n",
       "        text-align: right;\n",
       "    }\n",
       "</style>\n",
       "<table border=\"1\" class=\"dataframe\">\n",
       "  <thead>\n",
       "    <tr style=\"text-align: right;\">\n",
       "      <th></th>\n",
       "      <th>Pluviómetro_2</th>\n",
       "    </tr>\n",
       "    <tr>\n",
       "      <th>Date</th>\n",
       "      <th></th>\n",
       "    </tr>\n",
       "  </thead>\n",
       "  <tbody>\n",
       "    <tr>\n",
       "      <th>2013-03-07 17:00:00</th>\n",
       "      <td>0.000000</td>\n",
       "    </tr>\n",
       "    <tr>\n",
       "      <th>2013-03-07 18:00:00</th>\n",
       "      <td>0.000000</td>\n",
       "    </tr>\n",
       "    <tr>\n",
       "      <th>2013-03-07 19:00:00</th>\n",
       "      <td>0.000000</td>\n",
       "    </tr>\n",
       "    <tr>\n",
       "      <th>2013-03-07 20:00:00</th>\n",
       "      <td>0.000000</td>\n",
       "    </tr>\n",
       "    <tr>\n",
       "      <th>2013-03-07 21:00:00</th>\n",
       "      <td>0.000000</td>\n",
       "    </tr>\n",
       "    <tr>\n",
       "      <th>...</th>\n",
       "      <td>...</td>\n",
       "    </tr>\n",
       "    <tr>\n",
       "      <th>2023-12-02 14:00:00</th>\n",
       "      <td>0.000000</td>\n",
       "    </tr>\n",
       "    <tr>\n",
       "      <th>2023-12-02 15:00:00</th>\n",
       "      <td>0.000000</td>\n",
       "    </tr>\n",
       "    <tr>\n",
       "      <th>2023-12-02 16:00:00</th>\n",
       "      <td>0.000000</td>\n",
       "    </tr>\n",
       "    <tr>\n",
       "      <th>2023-12-02 17:00:00</th>\n",
       "      <td>0.000000</td>\n",
       "    </tr>\n",
       "    <tr>\n",
       "      <th>2023-12-02 18:00:00</th>\n",
       "      <td>0.785619</td>\n",
       "    </tr>\n",
       "  </tbody>\n",
       "</table>\n",
       "<p>94130 rows × 1 columns</p>\n",
       "</div>"
      ],
      "text/plain": [
       "                     Pluviómetro_2\n",
       "Date                              \n",
       "2013-03-07 17:00:00       0.000000\n",
       "2013-03-07 18:00:00       0.000000\n",
       "2013-03-07 19:00:00       0.000000\n",
       "2013-03-07 20:00:00       0.000000\n",
       "2013-03-07 21:00:00       0.000000\n",
       "...                            ...\n",
       "2023-12-02 14:00:00       0.000000\n",
       "2023-12-02 15:00:00       0.000000\n",
       "2023-12-02 16:00:00       0.000000\n",
       "2023-12-02 17:00:00       0.000000\n",
       "2023-12-02 18:00:00       0.785619\n",
       "\n",
       "[94130 rows x 1 columns]"
      ]
     },
     "execution_count": 62,
     "metadata": {},
     "output_type": "execute_result"
    }
   ],
   "source": [
    "df_pcp_2['Date'] = df_pcp_2.Date.apply(lambda x: pd.to_datetime(x,dayfirst=True))\n",
    "df_pcp_2.set_index(df_pcp_2['Date'],inplace=True)\n",
    "df_pcp_2.rename(columns={'Precipitation':'Pluviómetro_2'},inplace=True)\n",
    "df_pcp_2 = df_pcp_2.drop(labels='Date', axis=1)\n",
    "df_pcp_2"
   ]
  },
  {
   "cell_type": "markdown",
   "id": "5e2dd1e4",
   "metadata": {},
   "source": [
    "Plot the year 2020 from the imported series."
   ]
  },
  {
   "cell_type": "code",
   "execution_count": 64,
   "id": "e5c1ea79",
   "metadata": {},
   "outputs": [
    {
     "data": {
      "image/png": "[encoded data removed]",
      "text/plain": [
       "<Figure size 1000x500 with 1 Axes>"
      ]
     },
     "metadata": {},
     "output_type": "display_data"
    }
   ],
   "source": [
    "fig, ax = plt.subplots(figsize=(10,5))\n",
    "# Assuming dataset is a pandas DataFrame with labeled columns\n",
    "df_pcp_2.loc['2020'].plot(ax=ax)\n",
    "# Adding labels for the legend\n",
    "ax.legend(title='Legend Title')\n",
    "# Adding a label to the y-axis\n",
    "plt.ylabel('Precipitation_in situ (mm)')\n",
    "# Adjusting the position of the legend\n",
    "plt.legend(loc='upper center', bbox_to_anchor=(0.5, -0.6), ncol=6)\n",
    "plt.show()"
   ]
  },
  {
   "cell_type": "markdown",
   "id": "2d543a42",
   "metadata": {},
   "source": [
    "Plot the accumulated precipitation for the year 2020 from the imported series."
   ]
  },
  {
   "cell_type": "code",
   "execution_count": 67,
   "id": "ed87ddb0",
   "metadata": {},
   "outputs": [
    {
     "data": {
      "image/png": "[encoded data removed]",
      "text/plain": [
       "<Figure size 1000x500 with 1 Axes>"
      ]
     },
     "metadata": {},
     "output_type": "display_data"
    }
   ],
   "source": [
    "fig, ax = plt.subplots(figsize=(10,5))\n",
    "# Assuming dataset is a pandas DataFrame with labeled columns\n",
    "df_pcp_2.loc['2020'].cumsum().plot(ax=ax)\n",
    "# Adding labels for the legend\n",
    "ax.legend(title='Legend Title')\n",
    "# Adding a label to the y-axis\n",
    "plt.ylabel('Precipitation_satellite (mm)')\n",
    "# Adjusting the position of the legend\n",
    "plt.legend(loc='upper center', bbox_to_anchor=(0.5, -0.6), ncol=6)\n",
    "plt.show()"
   ]
  },
  {
   "cell_type": "markdown",
   "id": "9b5b01be",
   "metadata": {},
   "source": [
    "#### For rain gauge 3\n",
    "\n",
    "Import and preprocess the data."
   ]
  },
  {
   "cell_type": "code",
   "execution_count": 74,
   "id": "4fff3454",
   "metadata": {},
   "outputs": [
    {
     "data": {
      "text/html": [
       "<div>\n",
       "<style scoped>\n",
       "    .dataframe tbody tr th:only-of-type {\n",
       "        vertical-align: middle;\n",
       "    }\n",
       "\n",
       "    .dataframe tbody tr th {\n",
       "        vertical-align: top;\n",
       "    }\n",
       "\n",
       "    .dataframe thead th {\n",
       "        text-align: right;\n",
       "    }\n",
       "</style>\n",
       "<table border=\"1\" class=\"dataframe\">\n",
       "  <thead>\n",
       "    <tr style=\"text-align: right;\">\n",
       "      <th></th>\n",
       "      <th>Fecha</th>\n",
       "      <th>Precipitation</th>\n",
       "    </tr>\n",
       "  </thead>\n",
       "  <tbody>\n",
       "    <tr>\n",
       "      <th>0</th>\n",
       "      <td>2012-09-27 12:00:00</td>\n",
       "      <td>0.108980</td>\n",
       "    </tr>\n",
       "    <tr>\n",
       "      <th>1</th>\n",
       "      <td>2012-09-27 13:00:00</td>\n",
       "      <td>4.904100</td>\n",
       "    </tr>\n",
       "    <tr>\n",
       "      <th>2</th>\n",
       "      <td>2012-09-27 14:00:00</td>\n",
       "      <td>2.724500</td>\n",
       "    </tr>\n",
       "    <tr>\n",
       "      <th>3</th>\n",
       "      <td>2012-09-27 15:00:00</td>\n",
       "      <td>2.179600</td>\n",
       "    </tr>\n",
       "    <tr>\n",
       "      <th>4</th>\n",
       "      <td>2012-09-27 16:00:00</td>\n",
       "      <td>0.544900</td>\n",
       "    </tr>\n",
       "    <tr>\n",
       "      <th>...</th>\n",
       "      <td>...</td>\n",
       "      <td>...</td>\n",
       "    </tr>\n",
       "    <tr>\n",
       "      <th>97994</th>\n",
       "      <td>2023-12-02 14:00:00</td>\n",
       "      <td>0.000000</td>\n",
       "    </tr>\n",
       "    <tr>\n",
       "      <th>97995</th>\n",
       "      <td>2023-12-02 15:00:00</td>\n",
       "      <td>0.245533</td>\n",
       "    </tr>\n",
       "    <tr>\n",
       "      <th>97996</th>\n",
       "      <td>2023-12-02 16:00:00</td>\n",
       "      <td>0.000000</td>\n",
       "    </tr>\n",
       "    <tr>\n",
       "      <th>97997</th>\n",
       "      <td>2023-12-02 17:00:00</td>\n",
       "      <td>0.000000</td>\n",
       "    </tr>\n",
       "    <tr>\n",
       "      <th>97998</th>\n",
       "      <td>2023-12-02 18:00:00</td>\n",
       "      <td>0.491066</td>\n",
       "    </tr>\n",
       "  </tbody>\n",
       "</table>\n",
       "<p>97999 rows × 2 columns</p>\n",
       "</div>"
      ],
      "text/plain": [
       "                     Fecha  Precipitation\n",
       "0      2012-09-27 12:00:00       0.108980\n",
       "1      2012-09-27 13:00:00       4.904100\n",
       "2      2012-09-27 14:00:00       2.724500\n",
       "3      2012-09-27 15:00:00       2.179600\n",
       "4      2012-09-27 16:00:00       0.544900\n",
       "...                    ...            ...\n",
       "97994  2023-12-02 14:00:00       0.000000\n",
       "97995  2023-12-02 15:00:00       0.245533\n",
       "97996  2023-12-02 16:00:00       0.000000\n",
       "97997  2023-12-02 17:00:00       0.000000\n",
       "97998  2023-12-02 18:00:00       0.491066\n",
       "\n",
       "[97999 rows x 2 columns]"
      ]
     },
     "execution_count": 74,
     "metadata": {},
     "output_type": "execute_result"
    }
   ],
   "source": [
    "folder_pcp_3 = folder+'Rain_gauge_3/'\n",
    "df_pcp_3= pd.read_table(folder_pcp_3+'Rain_gauge_3.csv', sep=',')\n",
    "df_pcp_3"
   ]
  },
  {
   "cell_type": "markdown",
   "id": "4364bec1",
   "metadata": {},
   "source": [
    "Operations to create a manageable dataframe."
   ]
  },
  {
   "cell_type": "code",
   "execution_count": 75,
   "id": "1cc48890",
   "metadata": {},
   "outputs": [
    {
     "data": {
      "text/html": [
       "<div>\n",
       "<style scoped>\n",
       "    .dataframe tbody tr th:only-of-type {\n",
       "        vertical-align: middle;\n",
       "    }\n",
       "\n",
       "    .dataframe tbody tr th {\n",
       "        vertical-align: top;\n",
       "    }\n",
       "\n",
       "    .dataframe thead th {\n",
       "        text-align: right;\n",
       "    }\n",
       "</style>\n",
       "<table border=\"1\" class=\"dataframe\">\n",
       "  <thead>\n",
       "    <tr style=\"text-align: right;\">\n",
       "      <th></th>\n",
       "      <th>Pluviómetro_3</th>\n",
       "    </tr>\n",
       "    <tr>\n",
       "      <th>Fecha</th>\n",
       "      <th></th>\n",
       "    </tr>\n",
       "  </thead>\n",
       "  <tbody>\n",
       "    <tr>\n",
       "      <th>2012-09-27 12:00:00</th>\n",
       "      <td>0.108980</td>\n",
       "    </tr>\n",
       "    <tr>\n",
       "      <th>2012-09-27 13:00:00</th>\n",
       "      <td>4.904100</td>\n",
       "    </tr>\n",
       "    <tr>\n",
       "      <th>2012-09-27 14:00:00</th>\n",
       "      <td>2.724500</td>\n",
       "    </tr>\n",
       "    <tr>\n",
       "      <th>2012-09-27 15:00:00</th>\n",
       "      <td>2.179600</td>\n",
       "    </tr>\n",
       "    <tr>\n",
       "      <th>2012-09-27 16:00:00</th>\n",
       "      <td>0.544900</td>\n",
       "    </tr>\n",
       "    <tr>\n",
       "      <th>...</th>\n",
       "      <td>...</td>\n",
       "    </tr>\n",
       "    <tr>\n",
       "      <th>2023-12-02 14:00:00</th>\n",
       "      <td>0.000000</td>\n",
       "    </tr>\n",
       "    <tr>\n",
       "      <th>2023-12-02 15:00:00</th>\n",
       "      <td>0.245533</td>\n",
       "    </tr>\n",
       "    <tr>\n",
       "      <th>2023-12-02 16:00:00</th>\n",
       "      <td>0.000000</td>\n",
       "    </tr>\n",
       "    <tr>\n",
       "      <th>2023-12-02 17:00:00</th>\n",
       "      <td>0.000000</td>\n",
       "    </tr>\n",
       "    <tr>\n",
       "      <th>2023-12-02 18:00:00</th>\n",
       "      <td>0.491066</td>\n",
       "    </tr>\n",
       "  </tbody>\n",
       "</table>\n",
       "<p>97999 rows × 1 columns</p>\n",
       "</div>"
      ],
      "text/plain": [
       "                     Pluviómetro_3\n",
       "Fecha                             \n",
       "2012-09-27 12:00:00       0.108980\n",
       "2012-09-27 13:00:00       4.904100\n",
       "2012-09-27 14:00:00       2.724500\n",
       "2012-09-27 15:00:00       2.179600\n",
       "2012-09-27 16:00:00       0.544900\n",
       "...                            ...\n",
       "2023-12-02 14:00:00       0.000000\n",
       "2023-12-02 15:00:00       0.245533\n",
       "2023-12-02 16:00:00       0.000000\n",
       "2023-12-02 17:00:00       0.000000\n",
       "2023-12-02 18:00:00       0.491066\n",
       "\n",
       "[97999 rows x 1 columns]"
      ]
     },
     "execution_count": 75,
     "metadata": {},
     "output_type": "execute_result"
    }
   ],
   "source": [
    "df_pcp_3['Fecha'] = df_pcp_3.Fecha.apply(lambda x: pd.to_datetime(x,dayfirst=True))\n",
    "df_pcp_3.set_index(df_pcp_3['Fecha'],inplace=True)\n",
    "df_pcp_3 = df_pcp_3.drop(labels='Fecha', axis=1)\n",
    "df_pcp_3.rename(columns={'Precipitation':'Pluviómetro_3'},inplace=True)\n",
    "df_pcp_3"
   ]
  },
  {
   "cell_type": "markdown",
   "id": "77d012d8",
   "metadata": {},
   "source": [
    "Plot the precipitation for the year 2020."
   ]
  },
  {
   "cell_type": "code",
   "execution_count": 76,
   "id": "df650fea",
   "metadata": {},
   "outputs": [
    {
     "data": {
      "image/png": "[encoded data removed]",
      "text/plain": [
       "<Figure size 1000x500 with 1 Axes>"
      ]
     },
     "metadata": {},
     "output_type": "display_data"
    }
   ],
   "source": [
    "fig, ax = plt.subplots(figsize=(10,5))\n",
    "# Assuming dataset is a pandas DataFrame with labeled columns\n",
    "df_pcp_3.loc['2020'].plot(ax=ax)\n",
    "# Adding labels for the legend\n",
    "ax.legend(title='Legend Title')\n",
    "# Adding a label to the y-axis\n",
    "plt.ylabel('Precipitation_in situ (mm)')\n",
    "# Adjusting the position of the legend\n",
    "plt.legend(loc='upper center', bbox_to_anchor=(0.5, -0.6), ncol=6)\n",
    "plt.show()"
   ]
  },
  {
   "cell_type": "markdown",
   "id": "342ef0a7",
   "metadata": {},
   "source": [
    "Plot the accumulated precipitation for the year 2020."
   ]
  },
  {
   "cell_type": "code",
   "execution_count": 78,
   "id": "6a757f71",
   "metadata": {},
   "outputs": [
    {
     "data": {
      "image/png": "[encoded data removed]",
      "text/plain": [
       "<Figure size 1000x500 with 1 Axes>"
      ]
     },
     "metadata": {},
     "output_type": "display_data"
    }
   ],
   "source": [
    "fig, ax = plt.subplots(figsize=(10,5))\n",
    "# Assuming dataset is a pandas DataFrame with labeled columns\n",
    "df_pcp_3.loc['2020'].cumsum().plot(ax=ax)\n",
    "# Adding labels for the legend\n",
    "ax.legend(title='Legend Title')\n",
    "# Adding a label to the y-axis\n",
    "plt.ylabel('Precipitation_satellite (mm)')\n",
    "# Adjusting the position of the legend\n",
    "plt.legend(loc='upper center', bbox_to_anchor=(0.5, -0.6), ncol=6)\n",
    "plt.show()"
   ]
  },
  {
   "cell_type": "markdown",
   "id": "bab62747",
   "metadata": {},
   "source": [
    "#### Compare the in-situ precipitation"
   ]
  },
  {
   "cell_type": "markdown",
   "id": "3b1d1637",
   "metadata": {},
   "source": [
    "Resample the data from the 3 rain gauges to monthly scales."
   ]
  },
  {
   "cell_type": "code",
   "execution_count": 79,
   "id": "1d03db5f",
   "metadata": {},
   "outputs": [],
   "source": [
    "df_pcp_1_monthly = df_pcp_1.resample('M',label='right',closed='right').sum() \n",
    "df_pcp_1_monthly= df_pcp_1_monthly.groupby(df_pcp_1_monthly.index.month).mean()\n",
    "df_pcp_2_monthly = df_pcp_2.resample('M',label='right',closed='right').sum() \n",
    "df_pcp_2_monthly= df_pcp_2_monthly.groupby(df_pcp_2_monthly.index.month).mean()\n",
    "df_pcp_3_monthly = df_pcp_3.resample('M',label='right',closed='right').sum() \n",
    "df_pcp_3_monthly= df_pcp_3_monthly.groupby(df_pcp_3_monthly.index.month).mean()\n",
    "all_pcp_monthly = pd.concat([df_pcp_1_monthly, df_pcp_2_monthly, df_pcp_3_monthly], axis=1)"
   ]
  },
  {
   "cell_type": "markdown",
   "id": "9225f235",
   "metadata": {},
   "source": [
    "Plot"
   ]
  },
  {
   "cell_type": "code",
   "execution_count": 80,
   "id": "a27b08b3",
   "metadata": {},
   "outputs": [
    {
     "data": {
      "image/png": "[encoded data removed]",
      "text/plain": [
       "<Figure size 2000x500 with 1 Axes>"
      ]
     },
     "metadata": {},
     "output_type": "display_data"
    }
   ],
   "source": [
    "fig, ax = plt.subplots(figsize=(20,5))\n",
    "# Assuming dataset is a pandas DataFrame with labeled columns\n",
    "all_pcp_monthly.plot(kind='bar',ax=ax)\n",
    "# Adding labels for the legend\n",
    "ax.legend(title='Legend Title')\n",
    "# Adding a label to the y-axis\n",
    "plt.ylabel('Precipitation_in situ (mm)')\n",
    "# Adjusting the position of the legend\n",
    "plt.legend(loc='upper center', bbox_to_anchor=(0.5, -0.6), ncol=6)\n",
    "plt.show()"
   ]
  },
  {
   "cell_type": "markdown",
   "id": "2a67fb1e",
   "metadata": {},
   "source": [
    "## Import runoff data"
   ]
  },
  {
   "cell_type": "markdown",
   "id": "d59bddd9",
   "metadata": {},
   "source": [
    "Import and organize runoff data into a manageable dataframe"
   ]
  },
  {
   "cell_type": "code",
   "execution_count": 85,
   "id": "edac2779",
   "metadata": {
    "scrolled": true
   },
   "outputs": [
    {
     "data": {
      "text/html": [
       "<div>\n",
       "<style scoped>\n",
       "    .dataframe tbody tr th:only-of-type {\n",
       "        vertical-align: middle;\n",
       "    }\n",
       "\n",
       "    .dataframe tbody tr th {\n",
       "        vertical-align: top;\n",
       "    }\n",
       "\n",
       "    .dataframe thead th {\n",
       "        text-align: right;\n",
       "    }\n",
       "</style>\n",
       "<table border=\"1\" class=\"dataframe\">\n",
       "  <thead>\n",
       "    <tr style=\"text-align: right;\">\n",
       "      <th></th>\n",
       "      <th>Caudal (m3/s)</th>\n",
       "    </tr>\n",
       "    <tr>\n",
       "      <th>Fecha</th>\n",
       "      <th></th>\n",
       "    </tr>\n",
       "  </thead>\n",
       "  <tbody>\n",
       "    <tr>\n",
       "      <th>1997-07-17 20:00:00</th>\n",
       "      <td>5.756145</td>\n",
       "    </tr>\n",
       "    <tr>\n",
       "      <th>1997-07-17 21:00:00</th>\n",
       "      <td>5.756145</td>\n",
       "    </tr>\n",
       "    <tr>\n",
       "      <th>1997-07-17 22:00:00</th>\n",
       "      <td>5.756145</td>\n",
       "    </tr>\n",
       "    <tr>\n",
       "      <th>1997-07-17 23:00:00</th>\n",
       "      <td>5.977188</td>\n",
       "    </tr>\n",
       "    <tr>\n",
       "      <th>1997-07-18 00:00:00</th>\n",
       "      <td>5.756145</td>\n",
       "    </tr>\n",
       "    <tr>\n",
       "      <th>...</th>\n",
       "      <td>...</td>\n",
       "    </tr>\n",
       "    <tr>\n",
       "      <th>2021-07-05 06:59:00</th>\n",
       "      <td>0.738076</td>\n",
       "    </tr>\n",
       "    <tr>\n",
       "      <th>2021-07-05 07:59:00</th>\n",
       "      <td>0.738934</td>\n",
       "    </tr>\n",
       "    <tr>\n",
       "      <th>2021-07-05 08:59:00</th>\n",
       "      <td>0.736365</td>\n",
       "    </tr>\n",
       "    <tr>\n",
       "      <th>2021-07-05 09:59:00</th>\n",
       "      <td>0.729759</td>\n",
       "    </tr>\n",
       "    <tr>\n",
       "      <th>2021-07-05 10:59:00</th>\n",
       "      <td>0.753833</td>\n",
       "    </tr>\n",
       "  </tbody>\n",
       "</table>\n",
       "<p>209326 rows × 1 columns</p>\n",
       "</div>"
      ],
      "text/plain": [
       "                     Caudal (m3/s)\n",
       "Fecha                             \n",
       "1997-07-17 20:00:00       5.756145\n",
       "1997-07-17 21:00:00       5.756145\n",
       "1997-07-17 22:00:00       5.756145\n",
       "1997-07-17 23:00:00       5.977188\n",
       "1997-07-18 00:00:00       5.756145\n",
       "...                            ...\n",
       "2021-07-05 06:59:00       0.738076\n",
       "2021-07-05 07:59:00       0.738934\n",
       "2021-07-05 08:59:00       0.736365\n",
       "2021-07-05 09:59:00       0.729759\n",
       "2021-07-05 10:59:00       0.753833\n",
       "\n",
       "[209326 rows x 1 columns]"
      ]
     },
     "execution_count": 85,
     "metadata": {},
     "output_type": "execute_result"
    }
   ],
   "source": [
    "folder_runoff = folder+'Runoff_catchment_1/'\n",
    "df_runoff =  pd.read_excel(folder_runoff+'Runoff_catchment_1.xlsx')\n",
    "df_runoff['Fecha'] = df_runoff.Fecha.apply(lambda x: pd.to_datetime(x,dayfirst=True))\n",
    "df_runoff.set_index(df_runoff['Fecha'],inplace=True)\n",
    "df_runoff = df_runoff.drop(labels='Fecha', axis=1)\n",
    "df_runoff"
   ]
  },
  {
   "cell_type": "markdown",
   "id": "456ca367",
   "metadata": {},
   "source": [
    "Plot"
   ]
  },
  {
   "cell_type": "code",
   "execution_count": 87,
   "id": "3ff3879b",
   "metadata": {},
   "outputs": [
    {
     "data": {
      "image/png": "[encoded data removed]",
      "text/plain": [
       "<Figure size 1000x500 with 1 Axes>"
      ]
     },
     "metadata": {},
     "output_type": "display_data"
    }
   ],
   "source": [
    "fig, ax = plt.subplots(figsize=(10,5))\n",
    "# Assuming dataset is a pandas DataFrame with labeled columns\n",
    "df_runoff.plot(ax=ax)\n",
    "# Adding labels for the legend\n",
    "ax.legend(title='Legend Title')\n",
    "# Adding a label to the y-axis\n",
    "plt.ylabel('Caudal ($m^3/s$)')\n",
    "# Adjusting the position of the legend\n",
    "plt.legend()\n",
    "plt.show()\n"
   ]
  },
  {
   "cell_type": "markdown",
   "id": "6ada5a4f",
   "metadata": {},
   "source": [
    "## Unir los datos de precipitación (pluviómetros+satelitales) y caudal de la cuenca"
   ]
  },
  {
   "cell_type": "code",
   "execution_count": 89,
   "id": "37efa7ba",
   "metadata": {},
   "outputs": [
    {
     "data": {
      "text/html": [
       "<div>\n",
       "<style scoped>\n",
       "    .dataframe tbody tr th:only-of-type {\n",
       "        vertical-align: middle;\n",
       "    }\n",
       "\n",
       "    .dataframe tbody tr th {\n",
       "        vertical-align: top;\n",
       "    }\n",
       "\n",
       "    .dataframe thead th {\n",
       "        text-align: right;\n",
       "    }\n",
       "</style>\n",
       "<table border=\"1\" class=\"dataframe\">\n",
       "  <thead>\n",
       "    <tr style=\"text-align: right;\">\n",
       "      <th></th>\n",
       "      <th>Pluviómetro_1</th>\n",
       "      <th>Pluviómetro_2</th>\n",
       "      <th>Pluviómetro_3</th>\n",
       "      <th>1</th>\n",
       "      <th>2</th>\n",
       "      <th>3</th>\n",
       "      <th>6</th>\n",
       "      <th>7</th>\n",
       "      <th>8</th>\n",
       "      <th>9</th>\n",
       "      <th>...</th>\n",
       "      <th>22</th>\n",
       "      <th>23</th>\n",
       "      <th>24</th>\n",
       "      <th>25</th>\n",
       "      <th>26</th>\n",
       "      <th>27</th>\n",
       "      <th>28</th>\n",
       "      <th>31</th>\n",
       "      <th>32</th>\n",
       "      <th>Caudal (m3/s)</th>\n",
       "    </tr>\n",
       "  </thead>\n",
       "  <tbody>\n",
       "    <tr>\n",
       "      <th>1997-07-18</th>\n",
       "      <td>NaN</td>\n",
       "      <td>NaN</td>\n",
       "      <td>NaN</td>\n",
       "      <td>NaN</td>\n",
       "      <td>NaN</td>\n",
       "      <td>NaN</td>\n",
       "      <td>NaN</td>\n",
       "      <td>NaN</td>\n",
       "      <td>NaN</td>\n",
       "      <td>NaN</td>\n",
       "      <td>...</td>\n",
       "      <td>NaN</td>\n",
       "      <td>NaN</td>\n",
       "      <td>NaN</td>\n",
       "      <td>NaN</td>\n",
       "      <td>NaN</td>\n",
       "      <td>NaN</td>\n",
       "      <td>NaN</td>\n",
       "      <td>NaN</td>\n",
       "      <td>NaN</td>\n",
       "      <td>5.800354</td>\n",
       "    </tr>\n",
       "    <tr>\n",
       "      <th>1997-07-19</th>\n",
       "      <td>NaN</td>\n",
       "      <td>NaN</td>\n",
       "      <td>NaN</td>\n",
       "      <td>NaN</td>\n",
       "      <td>NaN</td>\n",
       "      <td>NaN</td>\n",
       "      <td>NaN</td>\n",
       "      <td>NaN</td>\n",
       "      <td>NaN</td>\n",
       "      <td>NaN</td>\n",
       "      <td>...</td>\n",
       "      <td>NaN</td>\n",
       "      <td>NaN</td>\n",
       "      <td>NaN</td>\n",
       "      <td>NaN</td>\n",
       "      <td>NaN</td>\n",
       "      <td>NaN</td>\n",
       "      <td>NaN</td>\n",
       "      <td>NaN</td>\n",
       "      <td>NaN</td>\n",
       "      <td>5.510110</td>\n",
       "    </tr>\n",
       "    <tr>\n",
       "      <th>1997-07-20</th>\n",
       "      <td>NaN</td>\n",
       "      <td>NaN</td>\n",
       "      <td>NaN</td>\n",
       "      <td>NaN</td>\n",
       "      <td>NaN</td>\n",
       "      <td>NaN</td>\n",
       "      <td>NaN</td>\n",
       "      <td>NaN</td>\n",
       "      <td>NaN</td>\n",
       "      <td>NaN</td>\n",
       "      <td>...</td>\n",
       "      <td>NaN</td>\n",
       "      <td>NaN</td>\n",
       "      <td>NaN</td>\n",
       "      <td>NaN</td>\n",
       "      <td>NaN</td>\n",
       "      <td>NaN</td>\n",
       "      <td>NaN</td>\n",
       "      <td>NaN</td>\n",
       "      <td>NaN</td>\n",
       "      <td>4.573900</td>\n",
       "    </tr>\n",
       "    <tr>\n",
       "      <th>1997-07-21</th>\n",
       "      <td>NaN</td>\n",
       "      <td>NaN</td>\n",
       "      <td>NaN</td>\n",
       "      <td>NaN</td>\n",
       "      <td>NaN</td>\n",
       "      <td>NaN</td>\n",
       "      <td>NaN</td>\n",
       "      <td>NaN</td>\n",
       "      <td>NaN</td>\n",
       "      <td>NaN</td>\n",
       "      <td>...</td>\n",
       "      <td>NaN</td>\n",
       "      <td>NaN</td>\n",
       "      <td>NaN</td>\n",
       "      <td>NaN</td>\n",
       "      <td>NaN</td>\n",
       "      <td>NaN</td>\n",
       "      <td>NaN</td>\n",
       "      <td>NaN</td>\n",
       "      <td>NaN</td>\n",
       "      <td>4.166181</td>\n",
       "    </tr>\n",
       "    <tr>\n",
       "      <th>1997-07-22</th>\n",
       "      <td>NaN</td>\n",
       "      <td>NaN</td>\n",
       "      <td>NaN</td>\n",
       "      <td>NaN</td>\n",
       "      <td>NaN</td>\n",
       "      <td>NaN</td>\n",
       "      <td>NaN</td>\n",
       "      <td>NaN</td>\n",
       "      <td>NaN</td>\n",
       "      <td>NaN</td>\n",
       "      <td>...</td>\n",
       "      <td>NaN</td>\n",
       "      <td>NaN</td>\n",
       "      <td>NaN</td>\n",
       "      <td>NaN</td>\n",
       "      <td>NaN</td>\n",
       "      <td>NaN</td>\n",
       "      <td>NaN</td>\n",
       "      <td>NaN</td>\n",
       "      <td>NaN</td>\n",
       "      <td>4.233679</td>\n",
       "    </tr>\n",
       "    <tr>\n",
       "      <th>...</th>\n",
       "      <td>...</td>\n",
       "      <td>...</td>\n",
       "      <td>...</td>\n",
       "      <td>...</td>\n",
       "      <td>...</td>\n",
       "      <td>...</td>\n",
       "      <td>...</td>\n",
       "      <td>...</td>\n",
       "      <td>...</td>\n",
       "      <td>...</td>\n",
       "      <td>...</td>\n",
       "      <td>...</td>\n",
       "      <td>...</td>\n",
       "      <td>...</td>\n",
       "      <td>...</td>\n",
       "      <td>...</td>\n",
       "      <td>...</td>\n",
       "      <td>...</td>\n",
       "      <td>...</td>\n",
       "      <td>...</td>\n",
       "      <td>...</td>\n",
       "    </tr>\n",
       "    <tr>\n",
       "      <th>2023-11-29</th>\n",
       "      <td>NaN</td>\n",
       "      <td>0.000000</td>\n",
       "      <td>0.000000</td>\n",
       "      <td>NaN</td>\n",
       "      <td>NaN</td>\n",
       "      <td>NaN</td>\n",
       "      <td>NaN</td>\n",
       "      <td>NaN</td>\n",
       "      <td>NaN</td>\n",
       "      <td>NaN</td>\n",
       "      <td>...</td>\n",
       "      <td>NaN</td>\n",
       "      <td>NaN</td>\n",
       "      <td>NaN</td>\n",
       "      <td>NaN</td>\n",
       "      <td>NaN</td>\n",
       "      <td>NaN</td>\n",
       "      <td>NaN</td>\n",
       "      <td>NaN</td>\n",
       "      <td>NaN</td>\n",
       "      <td>NaN</td>\n",
       "    </tr>\n",
       "    <tr>\n",
       "      <th>2023-11-30</th>\n",
       "      <td>NaN</td>\n",
       "      <td>0.000000</td>\n",
       "      <td>0.000000</td>\n",
       "      <td>NaN</td>\n",
       "      <td>NaN</td>\n",
       "      <td>NaN</td>\n",
       "      <td>NaN</td>\n",
       "      <td>NaN</td>\n",
       "      <td>NaN</td>\n",
       "      <td>NaN</td>\n",
       "      <td>...</td>\n",
       "      <td>NaN</td>\n",
       "      <td>NaN</td>\n",
       "      <td>NaN</td>\n",
       "      <td>NaN</td>\n",
       "      <td>NaN</td>\n",
       "      <td>NaN</td>\n",
       "      <td>NaN</td>\n",
       "      <td>NaN</td>\n",
       "      <td>NaN</td>\n",
       "      <td>NaN</td>\n",
       "    </tr>\n",
       "    <tr>\n",
       "      <th>2023-12-01</th>\n",
       "      <td>NaN</td>\n",
       "      <td>0.000000</td>\n",
       "      <td>0.000000</td>\n",
       "      <td>NaN</td>\n",
       "      <td>NaN</td>\n",
       "      <td>NaN</td>\n",
       "      <td>NaN</td>\n",
       "      <td>NaN</td>\n",
       "      <td>NaN</td>\n",
       "      <td>NaN</td>\n",
       "      <td>...</td>\n",
       "      <td>NaN</td>\n",
       "      <td>NaN</td>\n",
       "      <td>NaN</td>\n",
       "      <td>NaN</td>\n",
       "      <td>NaN</td>\n",
       "      <td>NaN</td>\n",
       "      <td>NaN</td>\n",
       "      <td>NaN</td>\n",
       "      <td>NaN</td>\n",
       "      <td>NaN</td>\n",
       "    </tr>\n",
       "    <tr>\n",
       "      <th>2023-12-02</th>\n",
       "      <td>NaN</td>\n",
       "      <td>0.000000</td>\n",
       "      <td>0.000000</td>\n",
       "      <td>NaN</td>\n",
       "      <td>NaN</td>\n",
       "      <td>NaN</td>\n",
       "      <td>NaN</td>\n",
       "      <td>NaN</td>\n",
       "      <td>NaN</td>\n",
       "      <td>NaN</td>\n",
       "      <td>...</td>\n",
       "      <td>NaN</td>\n",
       "      <td>NaN</td>\n",
       "      <td>NaN</td>\n",
       "      <td>NaN</td>\n",
       "      <td>NaN</td>\n",
       "      <td>NaN</td>\n",
       "      <td>NaN</td>\n",
       "      <td>NaN</td>\n",
       "      <td>NaN</td>\n",
       "      <td>NaN</td>\n",
       "    </tr>\n",
       "    <tr>\n",
       "      <th>2023-12-03</th>\n",
       "      <td>NaN</td>\n",
       "      <td>1.178429</td>\n",
       "      <td>1.473197</td>\n",
       "      <td>NaN</td>\n",
       "      <td>NaN</td>\n",
       "      <td>NaN</td>\n",
       "      <td>NaN</td>\n",
       "      <td>NaN</td>\n",
       "      <td>NaN</td>\n",
       "      <td>NaN</td>\n",
       "      <td>...</td>\n",
       "      <td>NaN</td>\n",
       "      <td>NaN</td>\n",
       "      <td>NaN</td>\n",
       "      <td>NaN</td>\n",
       "      <td>NaN</td>\n",
       "      <td>NaN</td>\n",
       "      <td>NaN</td>\n",
       "      <td>NaN</td>\n",
       "      <td>NaN</td>\n",
       "      <td>NaN</td>\n",
       "    </tr>\n",
       "  </tbody>\n",
       "</table>\n",
       "<p>9635 rows × 31 columns</p>\n",
       "</div>"
      ],
      "text/plain": [
       "            Pluviómetro_1  Pluviómetro_2  Pluviómetro_3   1   2   3   6   7  \\\n",
       "1997-07-18            NaN            NaN            NaN NaN NaN NaN NaN NaN   \n",
       "1997-07-19            NaN            NaN            NaN NaN NaN NaN NaN NaN   \n",
       "1997-07-20            NaN            NaN            NaN NaN NaN NaN NaN NaN   \n",
       "1997-07-21            NaN            NaN            NaN NaN NaN NaN NaN NaN   \n",
       "1997-07-22            NaN            NaN            NaN NaN NaN NaN NaN NaN   \n",
       "...                   ...            ...            ...  ..  ..  ..  ..  ..   \n",
       "2023-11-29            NaN       0.000000       0.000000 NaN NaN NaN NaN NaN   \n",
       "2023-11-30            NaN       0.000000       0.000000 NaN NaN NaN NaN NaN   \n",
       "2023-12-01            NaN       0.000000       0.000000 NaN NaN NaN NaN NaN   \n",
       "2023-12-02            NaN       0.000000       0.000000 NaN NaN NaN NaN NaN   \n",
       "2023-12-03            NaN       1.178429       1.473197 NaN NaN NaN NaN NaN   \n",
       "\n",
       "             8   9  ...  22  23  24  25  26  27  28  31  32  Caudal (m3/s)  \n",
       "1997-07-18 NaN NaN  ... NaN NaN NaN NaN NaN NaN NaN NaN NaN       5.800354  \n",
       "1997-07-19 NaN NaN  ... NaN NaN NaN NaN NaN NaN NaN NaN NaN       5.510110  \n",
       "1997-07-20 NaN NaN  ... NaN NaN NaN NaN NaN NaN NaN NaN NaN       4.573900  \n",
       "1997-07-21 NaN NaN  ... NaN NaN NaN NaN NaN NaN NaN NaN NaN       4.166181  \n",
       "1997-07-22 NaN NaN  ... NaN NaN NaN NaN NaN NaN NaN NaN NaN       4.233679  \n",
       "...         ..  ..  ...  ..  ..  ..  ..  ..  ..  ..  ..  ..            ...  \n",
       "2023-11-29 NaN NaN  ... NaN NaN NaN NaN NaN NaN NaN NaN NaN            NaN  \n",
       "2023-11-30 NaN NaN  ... NaN NaN NaN NaN NaN NaN NaN NaN NaN            NaN  \n",
       "2023-12-01 NaN NaN  ... NaN NaN NaN NaN NaN NaN NaN NaN NaN            NaN  \n",
       "2023-12-02 NaN NaN  ... NaN NaN NaN NaN NaN NaN NaN NaN NaN            NaN  \n",
       "2023-12-03 NaN NaN  ... NaN NaN NaN NaN NaN NaN NaN NaN NaN            NaN  \n",
       "\n",
       "[9635 rows x 31 columns]"
      ]
     },
     "execution_count": 89,
     "metadata": {},
     "output_type": "execute_result"
    }
   ],
   "source": [
    "df_pcp_1_daily = df_pcp_1.resample('D',label='right',closed='right').sum() \n",
    "df_pcp_2_daily = df_pcp_2.resample('D',label='right',closed='right').sum() \n",
    "df_pcp_3_daily = df_pcp_3.resample('D',label='right',closed='right').sum() \n",
    "df_runoff_daily = df_runoff.resample('D',label='right',closed='right').mean() \n",
    "all_data_daily = pd.concat([df_pcp_1_daily, df_pcp_2_daily, df_pcp_3_daily, precipitation_satellite, df_caudal_daily], axis=1)\n",
    "all_data_daily"
   ]
  },
  {
   "cell_type": "markdown",
   "id": "41b3e6a2",
   "metadata": {},
   "source": [
    "### Determinar periodos con datos concurrentes"
   ]
  },
  {
   "cell_type": "code",
   "execution_count": 90,
   "id": "8a2dd767",
   "metadata": {},
   "outputs": [
    {
     "data": {
      "image/png": "[encoded data removed]",
      "text/plain": [
       "<Figure size 1500x600 with 1 Axes>"
      ]
     },
     "metadata": {},
     "output_type": "display_data"
    }
   ],
   "source": [
    "concurrent_periods = all_data_daily.dropna().index\n",
    "\n",
    "# Create a figure and axis\n",
    "fig, ax = plt.subplots(figsize=(15, 6))\n",
    "\n",
    "# Loop through columns\n",
    "for i, col in enumerate(all_data_daily.columns):\n",
    "    # Get a boolean mask where data is not NaN for the current column\n",
    "    mask = ~all_data_daily[col].isna()\n",
    "    \n",
    "    # Get the indices of True values in the mask\n",
    "    indices = np.where(mask)[0]\n",
    "    \n",
    "    # Plot horizontal lines for continuity\n",
    "    ax.hlines(i, indices[0], indices[-1], colors='0.1', linewidth=5, label=col)\n",
    "\n",
    "# Set y-ticks and labels\n",
    "ax.set_yticks(range(len(all_data_daily.columns)))\n",
    "ax.set_yticklabels(all_data_daily.columns)\n",
    "\n",
    "# Set x-axis label\n",
    "ax.set_xlabel('Date')\n",
    "\n",
    "# Set the x-axis ticks to show years\n",
    "years = pd.to_datetime(all_data_daily.index).year\n",
    "unique_years = np.unique(years)\n",
    "ax.set_xticks(np.arange(len(all_data_daily.index), step=365))\n",
    "ax.set_xticklabels(unique_years,rotation=45)\n",
    "\n",
    "# Add legend\n",
    "ax.legend(loc='upper center', bbox_to_anchor=(0.5, -0.2), ncol=11)\n",
    "\n",
    "# Show the plot\n",
    "plt.show()\n"
   ]
  },
  {
   "cell_type": "markdown",
   "id": "fc21eafa",
   "metadata": {},
   "source": [
    "## Dividir datos en periodos de entrenamiento y prueba"
   ]
  },
  {
   "cell_type": "code",
   "execution_count": null,
   "id": "239e7537",
   "metadata": {},
   "outputs": [],
   "source": [
    "all_data_daily = all_data_daily[~(all_data_daily.isna().any(axis=1) | (all_data_daily.lt(0).any(axis=1)))]\n",
    "input_data_train = np.array(all_data_daily['2013':'2019'].iloc[:,:-1])\n",
    "input_data_test = np.array(all_data_daily['2020':'2021-06'].iloc[:,:-1])"
   ]
  },
  {
   "cell_type": "code",
   "execution_count": null,
   "id": "423cd98a",
   "metadata": {},
   "outputs": [],
   "source": [
    "input_data_train"
   ]
  },
  {
   "cell_type": "code",
   "execution_count": null,
   "id": "6616eafa",
   "metadata": {},
   "outputs": [],
   "source": [
    "output_data_train = np.reshape(np.array(all_data_daily['2013':'2019'].iloc[:,-1]),(all_data_daily['2013':'2019'].shape[0],1))\n",
    "output_data_test = np.reshape(np.array(all_data_daily['2020':'2021-06'].iloc[:,-1]),(all_data_daily['2020':'2021-06'].shape[0],1))"
   ]
  },
  {
   "cell_type": "code",
   "execution_count": null,
   "id": "707d9bb8",
   "metadata": {},
   "outputs": [],
   "source": [
    "output_data_train"
   ]
  },
  {
   "cell_type": "code",
   "execution_count": null,
   "id": "b5501952",
   "metadata": {},
   "outputs": [],
   "source": [
    "input_data_train_lags, output_data_train_lags= lagged_dataset(input_data_train, 3, output_data_train,15)"
   ]
  },
  {
   "cell_type": "code",
   "execution_count": null,
   "id": "c9c5bd9b",
   "metadata": {},
   "outputs": [],
   "source": [
    "input_data_train_lags"
   ]
  },
  {
   "cell_type": "code",
   "execution_count": null,
   "id": "ec645947",
   "metadata": {},
   "outputs": [],
   "source": [
    "output_data_train_lags"
   ]
  },
  {
   "cell_type": "code",
   "execution_count": null,
   "id": "16a37b0e",
   "metadata": {},
   "outputs": [],
   "source": [
    "input_data_test_lags, output_data_test_lags= lagged_dataset(input_data_test, 3, output_data_test,15)"
   ]
  },
  {
   "cell_type": "code",
   "execution_count": null,
   "id": "49e74788",
   "metadata": {},
   "outputs": [],
   "source": [
    "input_data_test_lags"
   ]
  },
  {
   "cell_type": "code",
   "execution_count": null,
   "id": "f42cf385",
   "metadata": {},
   "outputs": [],
   "source": [
    "output_data_test_lags"
   ]
  },
  {
   "cell_type": "markdown",
   "id": "bae96a3d",
   "metadata": {},
   "source": [
    "## Creación y entrenamiento de un modelo de Random Forest (no pronóstico)"
   ]
  },
  {
   "cell_type": "markdown",
   "id": "f2b78f49",
   "metadata": {},
   "source": [
    "### Definir hiperparámetros del modelo"
   ]
  },
  {
   "cell_type": "code",
   "execution_count": null,
   "id": "ad963f0f",
   "metadata": {},
   "outputs": [],
   "source": [
    "min_samples_splt=10\n",
    "min_samples_lf=4\n",
    "max_dpth=350\n",
    "n_trees=600\n",
    "max_ft='sqrt'                                             "
   ]
  },
  {
   "cell_type": "markdown",
   "id": "7dc8e865",
   "metadata": {},
   "source": [
    "### Definir el modelo"
   ]
  },
  {
   "cell_type": "code",
   "execution_count": null,
   "id": "23362103",
   "metadata": {},
   "outputs": [],
   "source": [
    "regr=RandomForestRegressor(bootstrap=True,min_samples_split=min_samples_splt,\n",
    "                               max_depth=max_dpth,max_features=max_ft,\n",
    "                               min_samples_leaf=min_samples_lf,\n",
    "                               n_estimators=n_trees,oob_score=True,n_jobs=-1,\n",
    "                               warm_start=True,random_state=22)"
   ]
  },
  {
   "cell_type": "markdown",
   "id": "ea50d345",
   "metadata": {},
   "source": [
    "### Entrenar el modelo"
   ]
  },
  {
   "cell_type": "code",
   "execution_count": null,
   "id": "ade3adfc",
   "metadata": {},
   "outputs": [],
   "source": [
    "regr=regr.fit(input_data_train_lags, output_data_train_lags)\n"
   ]
  },
  {
   "cell_type": "markdown",
   "id": "3a6bd88b",
   "metadata": {},
   "source": [
    "### Generar simulaciones para el periodo de entrenamiento"
   ]
  },
  {
   "cell_type": "code",
   "execution_count": null,
   "id": "403bbb8b",
   "metadata": {},
   "outputs": [],
   "source": [
    "simulations_data_train= regr.predict(input_data_train_lags)\n",
    "simulations_data_train= np.reshape(simulations_data_train, (-1, 1))\n",
    "simulations_data_train"
   ]
  },
  {
   "cell_type": "markdown",
   "id": "7bac04b9",
   "metadata": {},
   "source": [
    "### Generar simulaciones para el periodo de prueba\n"
   ]
  },
  {
   "cell_type": "code",
   "execution_count": null,
   "id": "edcaf0e3",
   "metadata": {},
   "outputs": [],
   "source": [
    "#Prediction on unseen data\n",
    "simulations_data_test= regr.predict(input_data_test_lags)\n",
    "simulations_data_test= np.reshape(simulations_data_test, (-1, 1))\n",
    "simulations_data_test"
   ]
  },
  {
   "cell_type": "markdown",
   "id": "edf59b53",
   "metadata": {},
   "source": [
    "### Evaluación del modelo\n",
    "\n",
    "\n",
    "Calcular los coeficientes de correlación de los periodos de entrenamiento y de prueba"
   ]
  },
  {
   "cell_type": "code",
   "execution_count": null,
   "id": "1eee0d34",
   "metadata": {},
   "outputs": [],
   "source": [
    "r2_test=regr.score(input_data_test_lags, output_data_test_lags)\n",
    "r2_train=regr.score(input_data_train_lags, output_data_train_lags)\n",
    "print(r2_train,r2_test)"
   ]
  },
  {
   "cell_type": "markdown",
   "id": "17bbbcc7",
   "metadata": {},
   "source": [
    "## Creación y entrenamiento de un modelo de Random Forest (pronóstico)"
   ]
  },
  {
   "cell_type": "markdown",
   "id": "d4e2609b",
   "metadata": {},
   "source": [
    "### Caso de pronóstico de 1 día"
   ]
  },
  {
   "cell_type": "code",
   "execution_count": null,
   "id": "c825a899",
   "metadata": {},
   "outputs": [],
   "source": [
    "ventana_pronostico = 1\n",
    "input_data_train_lags, output_data_train_lags= lagged_dataset_pron(input_data_train, 7, output_data_train,15, lead_time=ventana_pronostico)\n",
    "input_data_test_lags, output_data_test_lags= lagged_dataset_pron(input_data_test, 7, output_data_test,15, lead_time=ventana_pronostico)\n",
    "min_samples_splt=10\n",
    "min_samples_lf=4\n",
    "max_dpth=350\n",
    "n_trees=600\n",
    "max_ft='sqrt'                                             \n",
    "regr=RandomForestRegressor(bootstrap=True,min_samples_split=min_samples_splt,\n",
    "                               max_depth=max_dpth,max_features=max_ft,\n",
    "                               min_samples_leaf=min_samples_lf,\n",
    "                               n_estimators=n_trees,oob_score=True,n_jobs=-1,\n",
    "                               warm_start=True,random_state=42)\n",
    "regr=regr.fit(input_data_train_lags, output_data_train_lags)\n",
    "#Prediction on training data\n",
    "simulations_data_train= regr.predict(input_data_train_lags)\n",
    "simulations_data_train= np.reshape(simulations_data_train, (-1, 1))\n",
    "#Prediction on unseen data\n",
    "simulations_data_test= regr.predict(input_data_test_lags)\n",
    "simulations_data_test= np.reshape(simulations_data_test, (-1, 1))\n",
    "r2_test=regr.score(input_data_test_lags, output_data_test_lags)\n",
    "r2_train=regr.score(input_data_train_lags, output_data_train_lags)\n",
    "print(r2_train,r2_test)"
   ]
  },
  {
   "cell_type": "markdown",
   "id": "a4faead0",
   "metadata": {},
   "source": [
    "Los pronósticos en el periodo de prueba"
   ]
  },
  {
   "cell_type": "code",
   "execution_count": null,
   "id": "a7f3d4c4",
   "metadata": {},
   "outputs": [],
   "source": [
    "simulations_data_test"
   ]
  },
  {
   "cell_type": "markdown",
   "id": "5262ad4b",
   "metadata": {},
   "source": [
    "### Evaluación usando una combinación de métricas de eficiencia"
   ]
  },
  {
   "cell_type": "code",
   "execution_count": null,
   "id": "e9997523",
   "metadata": {},
   "outputs": [],
   "source": [
    "kge, rmse, pbias , r2 = calculate_hydro_metrics(simulations_data_test, output_data_test_lags)\n",
    "print(f\"RMSE: {rmse[0]:.4f}\")\n",
    "print(f\"PBias: {pbias[0]:.4f}\")\n",
    "print(f\"KGE: {kge[0]:.4f}\")\n",
    "print(f\"R2: {r2:.4f}\")"
   ]
  },
  {
   "cell_type": "markdown",
   "id": "63cdf224",
   "metadata": {},
   "source": [
    "### Evaluación a través de inspección visual"
   ]
  },
  {
   "cell_type": "markdown",
   "id": "b0dd0d7d",
   "metadata": {},
   "source": [
    "Pronósticos de caudal 1 día"
   ]
  },
  {
   "cell_type": "code",
   "execution_count": null,
   "id": "b541505d",
   "metadata": {},
   "outputs": [],
   "source": [
    "simulations_data_test = pd.DataFrame(simulations_data_test, columns=['Pronósticos'], index=all_data_daily['2019':'2021-06'].index[-len(simulations_data_test):])\n",
    "simulations_data_test"
   ]
  },
  {
   "cell_type": "markdown",
   "id": "a564c026",
   "metadata": {},
   "source": [
    "Y las observaciones de caudal"
   ]
  },
  {
   "cell_type": "code",
   "execution_count": null,
   "id": "72705ac0",
   "metadata": {},
   "outputs": [],
   "source": [
    "observations_data_test = pd.DataFrame(output_data_test_lags, columns=['Observaciones'], index=all_data_daily['2019':'2021-06'].index[-len(output_data_test_lags):])\n",
    "observations_data_test"
   ]
  },
  {
   "cell_type": "markdown",
   "id": "4d72102a",
   "metadata": {},
   "source": [
    "Juntar pronósticos y observaciones en un dataframe"
   ]
  },
  {
   "cell_type": "code",
   "execution_count": null,
   "id": "a9c5e0fa",
   "metadata": {},
   "outputs": [],
   "source": [
    "testing_period = pd.concat([simulations_data_test, observations_data_test], axis=1)"
   ]
  },
  {
   "cell_type": "code",
   "execution_count": null,
   "id": "e5ae60f6",
   "metadata": {},
   "outputs": [],
   "source": [
    "testing_period"
   ]
  },
  {
   "cell_type": "markdown",
   "id": "e1bd4499",
   "metadata": {},
   "source": [
    "Graficar (comparar) pronósticos y observaciones"
   ]
  },
  {
   "cell_type": "code",
   "execution_count": null,
   "id": "2d7d3511",
   "metadata": {},
   "outputs": [],
   "source": [
    "fig, ax= plt.subplots(figsize=(10, 5))\n",
    "\n",
    "# Assuming testing_period is a pandas DataFrame with labeled columns\n",
    "testing_period['Pronósticos'].plot(color='red', marker='o', linestyle='', markersize=2)\n",
    "testing_period['Observaciones'].plot( color='black', linestyle='-')\n",
    "# Adding labels for the legend\n",
    "plt.legend(title='Legend Title')\n",
    "\n",
    "# Adding a label to the y-axis\n",
    "plt.ylabel('Caudal ($m^3/s$)')\n",
    "\n",
    "# Adjusting the position of the legend\n",
    "plt.legend()\n",
    "\n",
    "plt.show()"
   ]
  },
  {
   "cell_type": "markdown",
   "id": "86d9500b",
   "metadata": {},
   "source": [
    "Gráfico de dispersión entre pronósticos y observaciones"
   ]
  },
  {
   "cell_type": "code",
   "execution_count": null,
   "id": "592c0d40",
   "metadata": {},
   "outputs": [],
   "source": [
    "\n",
    "# Assuming testing_period is a pandas DataFrame with labeled columns\n",
    "fig, ax = plt.subplots(figsize=(6, 6))\n",
    "# Scatter plot for Observaciones\n",
    "x = testing_period['Observaciones']\n",
    "y = testing_period['Pronósticos']\n",
    "sns.scatterplot(x=x, y=y, color='red', marker='o', s=30, label='Observaciones vs Pronósticos', ax=ax)\n",
    "# KDE plot for density\n",
    "# Assuming x and y are your data arrays\n",
    "# Concatenate x and y into a single array\n",
    "data = np.vstack((x, y)).T\n",
    "sns.kdeplot(x=x,y=y,cmap='magma', ax=ax, fill=False, thresh=0, levels=13, legend=False)\n",
    "# Add a bisector line (y = x)\n",
    "min_val = min(x.min(), y.min())\n",
    "max_val = max(x.max(), y.max())\n",
    "ax.plot([min_val, max_val], [min_val, max_val], color='blue', linestyle='--', label='Bisector Line')\n",
    "# Adding labels for the legend\n",
    "ax.legend(title='Legend Title')\n",
    "# Adding a label to the y-axis\n",
    "ax.set_ylabel('Caudal ($m^3/s$)')\n",
    "# Show the plot\n",
    "plt.show()\n",
    "\n"
   ]
  },
  {
   "cell_type": "markdown",
   "id": "28c527a2",
   "metadata": {},
   "source": [
    "## Incluir datos ENSO\n",
    "\n",
    "\n",
    "https://psl.noaa.gov/gcos_wgsp/Timeseries/"
   ]
  },
  {
   "cell_type": "markdown",
   "id": "4c2ed620",
   "metadata": {},
   "source": [
    "Importar datos de El Niño"
   ]
  },
  {
   "cell_type": "code",
   "execution_count": null,
   "id": "324f2665",
   "metadata": {},
   "outputs": [],
   "source": [
    "# Define the path to \n",
    "folder_nino12 = folder+'ENSO/nino12.long.anom.data.xlsx'\n",
    "folder_nino3 = folder+'ENSO/nino3.long.anom.data.xlsx'\n",
    "folder_nino34 = folder+'ENSO/nino34.long.anom.data.xlsx'\n"
   ]
  },
  {
   "cell_type": "code",
   "execution_count": null,
   "id": "c7adbb1d",
   "metadata": {},
   "outputs": [],
   "source": [
    "# Use tabula to extract tables\n",
    "nino12 =  pd.read_excel(folder_nino12)\n",
    "nino3 =  pd.read_excel(folder_nino3)\n",
    "nino34 =  pd.read_excel(folder_nino34)"
   ]
  },
  {
   "cell_type": "code",
   "execution_count": null,
   "id": "a3bef597",
   "metadata": {},
   "outputs": [],
   "source": [
    "# Melt the DataFrame to convert it to long format\n",
    "nino12_long = nino12.melt(id_vars=['Year'], var_name='Month', value_name='Data')\n",
    "# Replace '-99.99' values with NaN\n",
    "nino12_long['Data'] = nino12_long['Data'].replace(-99.99, np.nan)\n",
    "# Convert 'Year' and 'Month' to datetime format\n",
    "nino12_long['Date'] = pd.to_datetime(nino12_long['Year'].astype(str) + '-' + nino12_long['Month'], format='%Y-%B')\n",
    "# Set 'Date' as the index\n",
    "nino12_time_series = nino12_long.set_index('Date')[['Data']]\n",
    "# Display the resulting DataFrame\n",
    "nino12_time_series\n",
    "\n",
    "# Melt the DataFrame to convert it to long format\n",
    "nino3_long = nino3.melt(id_vars=['Year'], var_name='Month', value_name='Data')\n",
    "# Replace '-99.99' values with NaN\n",
    "nino3_long['Data'] = nino3_long['Data'].replace(-99.99, np.nan)\n",
    "# Convert 'Year' and 'Month' to datetime format\n",
    "nino3_long['Date'] = pd.to_datetime(nino3_long['Year'].astype(str) + '-' + nino3_long['Month'], format='%Y-%B')\n",
    "# Set 'Date' as the index\n",
    "nino3_time_series = nino3_long.set_index('Date')[['Data']]\n",
    "# Display the resulting DataFrame\n",
    "nino3_time_series\n",
    "\n",
    "# Melt the DataFrame to convert it to long format\n",
    "nino34_long = nino34.melt(id_vars=['Year'], var_name='Month', value_name='Data')\n",
    "# Replace '-99.99' values with NaN\n",
    "nino34_long['Data'] = nino34_long['Data'].replace(-99.99, np.nan)\n",
    "# Convert 'Year' and 'Month' to datetime format\n",
    "nino34_long['Date'] = pd.to_datetime(nino34_long['Year'].astype(str) + '-' + nino34_long['Month'], format='%Y-%B')\n",
    "# Set 'Date' as the index\n",
    "nino34_time_series = nino34_long.set_index('Date')[['Data']]\n",
    "# Display the resulting DataFrame\n",
    "nino34_time_series"
   ]
  },
  {
   "cell_type": "markdown",
   "id": "bca7c59e",
   "metadata": {},
   "source": [
    "Pasar de datos mensuales a diarios"
   ]
  },
  {
   "cell_type": "code",
   "execution_count": null,
   "id": "ce06c724",
   "metadata": {},
   "outputs": [],
   "source": [
    "nino12_df = nino12_time_series.resample('D').ffill()\n",
    "nino3_df = nino3_time_series.resample('D').ffill()\n",
    "nino34_df = nino34_time_series.resample('D').ffill()"
   ]
  },
  {
   "cell_type": "code",
   "execution_count": null,
   "id": "2d1aff46",
   "metadata": {},
   "outputs": [],
   "source": [
    "ENSO_daily = pd.concat([nino12_df,nino3_df,nino34_df], axis=1)\n",
    "ENSO_daily"
   ]
  },
  {
   "cell_type": "markdown",
   "id": "0286f86f",
   "metadata": {},
   "source": [
    "Juntar toda la información"
   ]
  },
  {
   "cell_type": "code",
   "execution_count": null,
   "id": "320d4e62",
   "metadata": {},
   "outputs": [],
   "source": [
    "all_data_daily_ENSO = pd.concat([all_data_daily, ENSO_daily], axis=1)\n",
    "all_data_daily_ENSO"
   ]
  },
  {
   "cell_type": "code",
   "execution_count": null,
   "id": "93021149",
   "metadata": {},
   "outputs": [],
   "source": [
    "all_data_daily_ENSO['2013']"
   ]
  },
  {
   "cell_type": "markdown",
   "id": "f89c56f8",
   "metadata": {},
   "source": [
    "Definir periodos de entrenamiento y prueba"
   ]
  },
  {
   "cell_type": "code",
   "execution_count": null,
   "id": "83fbce5e",
   "metadata": {},
   "outputs": [],
   "source": [
    "all_data_daily_ENSO = all_data_daily_ENSO[~(all_data_daily_ENSO.isna().any(axis=1))]\n",
    "all_data_daily_ENSO.shape\n",
    "inputs = all_data_daily_ENSO.drop(all_data_daily_ENSO.columns[-4], axis=1)\n",
    "input_data_train = np.array(inputs['2013':'2019'].iloc[:,:-1])\n",
    "input_data_test = np.array(inputs['2020':'2021-06'].iloc[:,:-1])\n",
    "output_data_train = np.reshape(np.array(all_data_daily_ENSO['2013':'2019'].iloc[:,-4]),(all_data_daily_ENSO['2013':'2019'].shape[0],1))\n",
    "output_data_test = np.reshape(np.array(all_data_daily_ENSO['2020':'2021-06'].iloc[:,-4]),(all_data_daily_ENSO['2020':'2021-06'].shape[0],1))"
   ]
  },
  {
   "cell_type": "code",
   "execution_count": null,
   "id": "6e2ea0c0",
   "metadata": {},
   "outputs": [],
   "source": [
    "input_data_train"
   ]
  },
  {
   "cell_type": "code",
   "execution_count": null,
   "id": "738d2ff8",
   "metadata": {},
   "outputs": [],
   "source": [
    "output_data_test"
   ]
  },
  {
   "cell_type": "markdown",
   "id": "16484369",
   "metadata": {},
   "source": [
    "Desarrollo de modelos de pronóstico a 1 día"
   ]
  },
  {
   "cell_type": "code",
   "execution_count": null,
   "id": "b971e030",
   "metadata": {},
   "outputs": [],
   "source": [
    "ventana_pronostico = 1\n",
    "input_data_train_lags, output_data_train_lags= lagged_dataset_pron(input_data_train, 3, output_data_train,15, lead_time=ventana_pronostico)\n",
    "input_data_test_lags, output_data_test_lags= lagged_dataset_pron(input_data_test, 3, output_data_test,15, lead_time=ventana_pronostico)\n",
    "min_samples_splt=10\n",
    "min_samples_lf=4\n",
    "max_dpth=350\n",
    "n_trees=600\n",
    "max_ft='sqrt'                                             \n",
    "regr=RandomForestRegressor(bootstrap=True,min_samples_split=min_samples_splt,\n",
    "                               max_depth=max_dpth,max_features=max_ft,\n",
    "                               min_samples_leaf=min_samples_lf,\n",
    "                               n_estimators=n_trees,oob_score=True,n_jobs=-1,\n",
    "                               warm_start=True,random_state=22)\n",
    "regr=regr.fit(input_data_train_lags, output_data_train_lags)\n",
    "#Prediction on training data\n",
    "simulations_data_train_ENSO= regr.predict(input_data_train_lags)\n",
    "simulations_data_train_ENSO= np.reshape(simulations_data_train_ENSO, (-1, 1))\n",
    "#Prediction on unseen data\n",
    "simulations_data_test_ENSO= regr.predict(input_data_test_lags)\n",
    "simulations_data_test_ENSO= np.reshape(simulations_data_test_ENSO, (-1, 1))\n",
    "r2_test=regr.score(input_data_test_lags, output_data_test_lags)\n",
    "r2_train=regr.score(input_data_train_lags, output_data_train_lags)\n",
    "print(r2_train,r2_test)"
   ]
  },
  {
   "cell_type": "markdown",
   "id": "4d7c6b18",
   "metadata": {},
   "source": [
    "### Evaluación con métricas de eficiencia"
   ]
  },
  {
   "cell_type": "code",
   "execution_count": null,
   "id": "54aec896",
   "metadata": {},
   "outputs": [],
   "source": [
    "kge, rmse, pbias , r2 = calculate_hydro_metrics(simulations_data_test_ENSO, output_data_test_lags)\n",
    "print(f\"RMSE: {rmse[0]:.4f}\")\n",
    "print(f\"PBias: {pbias[0]:.4f}\")\n",
    "print(f\"KGE: {kge[0]:.4f}\")\n",
    "print(f\"R2: {r2:.4f}\")"
   ]
  },
  {
   "cell_type": "markdown",
   "id": "e5719eb6",
   "metadata": {},
   "source": [
    "### Inspección visual"
   ]
  },
  {
   "cell_type": "code",
   "execution_count": null,
   "id": "90e9a93c",
   "metadata": {},
   "outputs": [],
   "source": [
    "simulations_data_test_ENSO = pd.DataFrame(simulations_data_test, columns=['Pronósticos'], index=all_data_daily['2019':'2021-06'].index[-len(simulations_data_test):])\n",
    "observations_data_test_ENSO = pd.DataFrame(output_data_test_lags, columns=['Observaciones'], index=all_data_daily['2019':'2021-06'].index[-len(output_data_test_lags):])\n",
    "testing_period_ENSO = pd.concat([simulations_data_test_ENSO, observations_data_test_ENSO], axis=1)\n",
    "fig, ax= plt.subplots(figsize=(20, 10))\n",
    "\n",
    "# Assuming testing_period is a pandas DataFrame with labeled columns\n",
    "testing_period_ENSO['Pronósticos'].plot(color='red', marker='o', linestyle='', markersize=2)\n",
    "testing_period_ENSO['Observaciones'].plot( color='black', linestyle='-')\n",
    "\n",
    "# Adding labels for the legend\n",
    "plt.legend(title='Legend Title')\n",
    "\n",
    "# Adding a label to the y-axis\n",
    "plt.ylabel('Caudal ($m^3/s$)')\n",
    "\n",
    "# Adjusting the position of the legend\n",
    "plt.legend()\n",
    "plt.show()"
   ]
  },
  {
   "cell_type": "code",
   "execution_count": null,
   "id": "c43a3597",
   "metadata": {},
   "outputs": [],
   "source": [
    "\n",
    "# Assuming testing_period is a pandas DataFrame with labeled columns\n",
    "fig, ax = plt.subplots(figsize=(6, 6))\n",
    "\n",
    "# Scatter plot for Observaciones\n",
    "x = testing_period_ENSO['Observaciones']\n",
    "y = testing_period_ENSO['Pronósticos']\n",
    "sns.scatterplot(x=x, y=y, color='red', marker='o', s=30, label='Observaciones vs Pronósticos', ax=ax)\n",
    "\n",
    "# KDE plot for density\n",
    "\n",
    "\n",
    "data = np.vstack((x, y)).T\n",
    "\n",
    "sns.kdeplot(x=x, y=y, cmap='magma', ax=ax, fill=False, thresh=0, levels=13, legend=False)\n",
    "\n",
    "# Add a bisector line (y = x)\n",
    "min_val = min(x.min(), y.min())\n",
    "max_val = max(x.max(), y.max())\n",
    "ax.plot([min_val, max_val], [min_val, max_val], color='blue', linestyle='--', label='Bisector Line')\n",
    "\n",
    "# Adding labels for the legend\n",
    "ax.legend(title='Legend Title')\n",
    "\n",
    "# Adding a label to the y-axis\n",
    "ax.set_ylabel('Caudal ($m^3/s$)')\n",
    "\n",
    "# Show the plot\n",
    "plt.show()\n"
   ]
  },
  {
   "cell_type": "markdown",
   "id": "252fee0b",
   "metadata": {},
   "source": [
    "## Hiperparametrización del modelo de pronóstico"
   ]
  },
  {
   "cell_type": "markdown",
   "id": "b90ad488",
   "metadata": {},
   "source": [
    "Definir dominio de búsqueda de hiperparámetros"
   ]
  },
  {
   "cell_type": "code",
   "execution_count": null,
   "id": "e44fb270",
   "metadata": {},
   "outputs": [],
   "source": [
    "# Define the parameter grid\n",
    "param_grid = {\n",
    "    'min_samples_split': [ 10, 20],\n",
    "    'min_samples_leaf': [2, 10],\n",
    "    'max_depth': [100, 300],\n",
    "    'n_estimators': [300, 500],\n",
    "    'max_features': ['sqrt','log2']\n",
    "}\n",
    "\n",
    "# Calculate the total number of combinations\n",
    "total_combinations = len(list(itertools.product(*param_grid.values())))\n",
    "\n",
    "total_combinations"
   ]
  },
  {
   "cell_type": "markdown",
   "id": "5ba6b2a3",
   "metadata": {},
   "source": [
    "Búsqueda de mejor combinación de hiperparámetros"
   ]
  },
  {
   "cell_type": "code",
   "execution_count": null,
   "id": "1f2a17f2",
   "metadata": {},
   "outputs": [],
   "source": [
    "# Create a GridSearchCV object\n",
    "grid_search = GridSearchCV(estimator=RandomForestRegressor(oob_score=True, n_jobs=-1, warm_start=True),\n",
    "                           param_grid=param_grid, cv=3, n_jobs=-1, scoring='r2')\n",
    "\n",
    "# Fit the GridSearchCV to your data\n",
    "grid_search.fit(input_data_train_lags, output_data_train_lags)\n",
    "\n",
    "# Get the best hyperparameters\n",
    "best_params = grid_search.best_params_\n",
    "best_model = grid_search.best_estimator_\n",
    "\n",
    "# Print the best hyperparameters\n",
    "print(\"Best Hyperparameters:\")\n",
    "print(best_params)\n"
   ]
  },
  {
   "cell_type": "markdown",
   "id": "7c23de2f",
   "metadata": {},
   "source": [
    "Una hiperparametrización más rigurosa"
   ]
  },
  {
   "cell_type": "code",
   "execution_count": null,
   "id": "43dceff9",
   "metadata": {},
   "outputs": [],
   "source": [
    "# Define the parameter grid\n",
    "param_grid = {\n",
    "    'min_samples_split': [5, 10, 20],\n",
    "    'min_samples_leaf': [2, 4, 8],\n",
    "    'max_depth': [100, 200, 350],\n",
    "    'n_estimators': [200, 300, 400, 500, 600],\n",
    "    'max_features': ['auto', 'sqrt','log2']\n",
    "}\n",
    "# Calculate the total number of combinations\n",
    "total_combinations = len(list(itertools.product(*param_grid.values())))\n",
    "\n",
    "total_combinations\n",
    "# Create a GridSearchCV object\n",
    "grid_search = GridSearchCV(estimator=RandomForestRegressor(oob_score=True, n_jobs=-1, warm_start=True),\n",
    "                           param_grid=param_grid, cv=3, n_jobs=-1, scoring='r2')\n",
    "\n",
    "# Fit the GridSearchCV to your data\n",
    "grid_search.fit(input_data_train_lags, output_data_train_lags)\n",
    "\n",
    "# Get the best hyperparameters\n",
    "best_params = grid_search.best_params_\n",
    "best_model = grid_search.best_estimator_\n",
    "\n",
    "# Print the best hyperparameters\n",
    "print(\"Best Hyperparameters:\")\n",
    "print(best_params)"
   ]
  },
  {
   "cell_type": "code",
   "execution_count": null,
   "id": "89af12c4",
   "metadata": {},
   "outputs": [],
   "source": [
    "best_model\n",
    "simulations_data_train_ENSO= best_model.predict(input_data_train_lags)\n",
    "simulations_data_train_ENSO= np.reshape(simulations_data_train_ENSO, (-1, 1))\n",
    "#Prediction on unseen data\n",
    "simulations_data_test_ENSO= best_model.predict(input_data_test_lags)\n",
    "simulations_data_test_ENSO= np.reshape(simulations_data_test_ENSO, (-1, 1))\n",
    "#Nash_Sutcliffe    \n",
    "r2_test=regr.score(input_data_test_lags, output_data_test_lags)\n",
    "r2_train=regr.score(input_data_train_lags, output_data_train_lags)\n",
    "print(r2_train,r2_test)"
   ]
  },
  {
   "cell_type": "code",
   "execution_count": null,
   "id": "51b85a22",
   "metadata": {},
   "outputs": [],
   "source": [
    "best_model\n"
   ]
  },
  {
   "cell_type": "code",
   "execution_count": null,
   "id": "d81fb23d",
   "metadata": {},
   "outputs": [],
   "source": [
    "ventana_pronostico = 1\n",
    "input_data_train_lags, output_data_train_lags= lagged_dataset_pron(input_data_train, 3, output_data_train,15, lead_time=ventana_pronostico)\n",
    "input_data_test_lags, output_data_test_lags= lagged_dataset_pron(input_data_test, 3, output_data_test,15, lead_time=ventana_pronostico)\n",
    "min_samples_splt=10\n",
    "min_samples_lf=2\n",
    "max_dpth=300\n",
    "n_trees=300\n",
    "max_ft='sqrt'                                             \n",
    "regr=RandomForestRegressor(bootstrap=True,min_samples_split=min_samples_splt,\n",
    "                               max_depth=max_dpth,max_features=max_ft,\n",
    "                               min_samples_leaf=min_samples_lf,\n",
    "                               n_estimators=n_trees,oob_score=True,n_jobs=-1,\n",
    "                               warm_start=True,random_state=22)\n",
    "regr=regr.fit(input_data_train_lags, output_data_train_lags)\n",
    "#Prediction on training data\n",
    "simulations_data_train_ENSO= regr.predict(input_data_train_lags)\n",
    "simulations_data_train_ENSO= np.reshape(simulations_data_train_ENSO, (-1, 1))\n",
    "#Prediction on unseen data\n",
    "simulations_data_test_ENSO= regr.predict(input_data_test_lags)\n",
    "simulations_data_test_ENSO= np.reshape(simulations_data_test_ENSO, (-1, 1))\n",
    "r2_test=regr.score(input_data_test_lags, output_data_test_lags)\n",
    "r2_train=regr.score(input_data_train_lags, output_data_train_lags)\n",
    "print(r2_train,r2_test)\n",
    "kge, rmse, pbias , r2 = calculate_hydro_metrics(simulations_data_test_ENSO, output_data_test_lags)\n",
    "print(f\"RMSE: {rmse[0]:.4f}\")\n",
    "print(f\"PBias: {pbias[0]:.4f}\")\n",
    "print(f\"KGE: {kge[0]:.4f}\")\n",
    "print(f\"R2: {r2:.4f}\")"
   ]
  },
  {
   "cell_type": "code",
   "execution_count": null,
   "id": "4e5a75af",
   "metadata": {},
   "outputs": [],
   "source": []
  },
  {
   "cell_type": "code",
   "execution_count": null,
   "id": "6e72df12",
   "metadata": {},
   "outputs": [],
   "source": []
  },
  {
   "cell_type": "code",
   "execution_count": null,
   "id": "266ca521",
   "metadata": {},
   "outputs": [],
   "source": []
  },
  {
   "cell_type": "code",
   "execution_count": null,
   "id": "ea6c0f90",
   "metadata": {},
   "outputs": [],
   "source": []
  },
  {
   "cell_type": "code",
   "execution_count": null,
   "id": "44848e29",
   "metadata": {},
   "outputs": [],
   "source": []
  }
 ],
 "metadata": {
  "kernelspec": {
   "display_name": "Python 3 (ipykernel)",
   "language": "python",
   "name": "python3"
  },
  "language_info": {
   "codemirror_mode": {
    "name": "ipython",
    "version": 3
   },
   "file_extension": ".py",
   "mimetype": "text/x-python",
   "name": "python",
   "nbconvert_exporter": "python",
   "pygments_lexer": "ipython3",
   "version": "3.7.16"
  }
 },
 "nbformat": 4,
 "nbformat_minor": 5
}
